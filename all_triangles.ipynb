{
 "cells": [
  {
   "cell_type": "markdown",
   "metadata": {},
   "source": [
    "`python3 -m pip install -U pandas plotly nbformat`\n",
    "\n",
    "`pip install \"https://github.com/DCMLab/wavescapes/archive/refs/heads/johannes.zip\"`"
   ]
  },
  {
   "cell_type": "code",
   "execution_count": 1,
   "metadata": {
    "scrolled": true
   },
   "outputs": [],
   "source": [
    "%reload_ext autoreload\n",
    "%autoreload 2\n",
    "import numpy as np\n",
    "from wavescapes import Wavescape, circular_hue, legend_decomposition\n",
    "\n",
    "from etl import get_dfts, get_mag_phase_mx, get_metadata, get_most_resonant, get_pcms, get_pcvs, test_dict_keys, \\\n",
    "  get_correlations, make_feature_vectors\n",
    "from utils import get_coeff, most_resonant2color, long2utm"
   ]
  },
  {
   "cell_type": "markdown",
   "metadata": {},
   "source": [
    "## Settings"
   ]
  },
  {
   "cell_type": "code",
   "execution_count": 2,
   "metadata": {},
   "outputs": [],
   "source": [
    "DEBUSSY_REPO = '.'\n",
    "DATA_FOLDER = '~/DATA/debussy_figures/data'\n",
    "#DATA_FOLDER = './data/data'\n",
    "EXAMPLE_FNAME = 'l000_etude'\n",
    "LONG_FORMAT = True"
   ]
  },
  {
   "cell_type": "markdown",
   "metadata": {},
   "source": [
    "## Loading metadata\n",
    "Metadata for all pieces contained in the dataset."
   ]
  },
  {
   "cell_type": "code",
   "execution_count": 3,
   "metadata": {},
   "outputs": [
    {
     "name": "stdout",
     "output_type": "stream",
     "text": [
      "Metadata for 82 files.\n"
     ]
    },
    {
     "data": {
      "text/plain": [
       "Index(['rel_paths', 'last_mc', 'last_mn', 'length_qb', 'length_qb_unfolded',\n",
       "       'all_notes_qb', 'n_onsets', 'TimeSig', 'KeySig', 'label_count',\n",
       "       'composer', 'workTitle', 'movementNumber', 'movementTitle',\n",
       "       'workNumber', 'poet', 'lyricist', 'arranger', 'copyright',\n",
       "       'creationDate', 'mscVersion', 'platform', 'source', 'translator',\n",
       "       'musescore', 'ambitus', 'comment', 'comments', 'composed_end',\n",
       "       'composed_start', 'originalFormat', 'pdf', 'staff_1_ambitus',\n",
       "       'staff_1_instrument', 'staff_2_ambitus', 'staff_2_instrument',\n",
       "       'staff_3_ambitus', 'staff_3_instrument', 'transcriber', 'typesetter',\n",
       "       'year', 'median_recording', 'qb_per_minute', 'sounding_notes_per_qb',\n",
       "       'sounding_notes_per_minute'],\n",
       "      dtype='object')"
      ]
     },
     "execution_count": 3,
     "metadata": {},
     "output_type": "execute_result"
    }
   ],
   "source": [
    "metadata = get_metadata(DEBUSSY_REPO)\n",
    "metadata.columns"
   ]
  },
  {
   "cell_type": "markdown",
   "metadata": {},
   "source": [
    "The column `year` contains composition years as the middle between beginning and end  of the composition span."
   ]
  },
  {
   "cell_type": "code",
   "execution_count": 4,
   "metadata": {},
   "outputs": [
    {
     "data": {
      "text/plain": [
       "fnames\n",
       "l000_etude                     1915.0\n",
       "l000_soirs                     1917.0\n",
       "l009_danse                     1880.0\n",
       "l066-01_arabesques_premiere    1888.0\n",
       "l066-02_arabesques_deuxieme    1891.0\n",
       "l067_mazurka                   1890.0\n",
       "l068_reverie                   1890.0\n",
       "l069_tarentelle                1890.0\n",
       "l070_ballade                   1890.0\n",
       "l071_valse                     1890.0\n",
       "Name: year, dtype: float64"
      ]
     },
     "execution_count": 4,
     "metadata": {},
     "output_type": "execute_result"
    }
   ],
   "source": [
    "metadata.year.head(10)"
   ]
  },
  {
   "cell_type": "markdown",
   "metadata": {},
   "source": [
    "Series `median_recording` contains median recording times in seconds, retrieved from the Spotify API. the Spotify API."
   ]
  },
  {
   "cell_type": "code",
   "execution_count": 5,
   "metadata": {},
   "outputs": [
    {
     "data": {
      "text/plain": [
       "fnames\n",
       "l000_etude                     272.5530\n",
       "l000_soirs                     145.8265\n",
       "l009_danse                     124.5995\n",
       "l066-01_arabesques_premiere    240.7780\n",
       "l066-02_arabesques_deuxieme    213.9330\n",
       "l067_mazurka                   175.9130\n",
       "l068_reverie                   265.4265\n",
       "l069_tarentelle                331.5290\n",
       "l070_ballade                   396.0200\n",
       "l071_valse                     221.4500\n",
       "Name: median_recording, dtype: float64"
      ]
     },
     "execution_count": 5,
     "metadata": {},
     "output_type": "execute_result"
    }
   ],
   "source": [
    "metadata.median_recording.head(10)"
   ]
  },
  {
   "cell_type": "markdown",
   "metadata": {},
   "source": [
    "Columns mirroring a piece's activity are currently:\n",
    "* `qb_per_minute`: the pieces' lengths (expressed as 'qb' = quarterbeats) normalized by the median recording times; a proxy for the tempo\n",
    "* `sounding_notes_per_minute`: the summed length of all notes normalized by the piece's duration (in minutes)\n",
    "* `sounding_notes_per_qb`: the summed length of all notes normalized by the piece's length (in qb)\n",
    "Other measures of activity could be, for example, 'onsets per beat/second' or 'distinct pitch classes per beat/second'."
   ]
  },
  {
   "cell_type": "markdown",
   "metadata": {},
   "source": [
    "## Loading Pitch Class Matrices\n",
    "An `{fname -> np.array}` dictionary where each `(NxNx12)` array contains the aggregated PCVs for all segments that make up a piece. The square matrices contain values only in the upper right triangle, with the lower left beneath the diagonal is filled with zeros. The values are arranged such that row 0 correponds to the original PCV, row 1 the aggregated PCVs for all segments of length = 2 quarter notes, etc. For getting the segment reaching from slice 3 to 5 (including), i.e. length 3, the coordinates are `(2, 5)` (think x = 'length - 1' and y = index of the last slice included). The following example shows the upper left 3x3 submatrix where the first three entries (which are PCVs of size 12) correspond to the first three PCVs above, the first three of the second row to their sums padded with a 0-PCV, and the first three of the third row corresponding to the sum of row 0, padded with another 0-PCV."
   ]
  },
  {
   "cell_type": "code",
   "execution_count": 6,
   "metadata": {},
   "outputs": [
    {
     "name": "stdout",
     "output_type": "stream",
     "text": [
      "Found matrices for all files listed in metadata.tsv.\n"
     ]
    },
    {
     "data": {
      "text/plain": [
       "(40470, 12)"
      ]
     },
     "execution_count": 6,
     "metadata": {},
     "output_type": "execute_result"
    }
   ],
   "source": [
    "pcms = get_pcms(DEBUSSY_REPO, long=LONG_FORMAT)\n",
    "test_dict_keys(pcms, metadata)\n",
    "pcms[EXAMPLE_FNAME].shape"
   ]
  },
  {
   "cell_type": "code",
   "execution_count": null,
   "metadata": {},
   "outputs": [],
   "source": []
  }
 ],
 "metadata": {
  "kernelspec": {
   "display_name": "integrator",
   "language": "python",
   "name": "integrator"
  },
  "language_info": {
   "codemirror_mode": {
    "name": "ipython",
    "version": 3
   },
   "file_extension": ".py",
   "mimetype": "text/x-python",
   "name": "python",
   "nbconvert_exporter": "python",
   "pygments_lexer": "ipython3",
   "version": "3.8.11"
  }
 },
 "nbformat": 4,
 "nbformat_minor": 4
}