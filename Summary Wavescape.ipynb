{
 "cells": [
  {
   "cell_type": "markdown",
   "metadata": {},
   "source": [
    "## Demo"
   ]
  },
  {
   "cell_type": "code",
   "execution_count": null,
   "metadata": {},
   "outputs": [],
   "source": [
    "from wavescapes import *\n",
    "from glob import glob\n",
    "import numpy as np\n",
    "import matplotlib.pyplot as plt\n",
    "#from utils import *\n",
    "import pandas as pd\n",
    "import json\n",
    "from scipy import ndimage"
   ]
  },
  {
   "cell_type": "code",
   "execution_count": null,
   "metadata": {},
   "outputs": [],
   "source": [
    "scores_muse = glob('./MS3/*.mscx') #to understand how to make musescores work"
   ]
  },
  {
   "cell_type": "code",
   "execution_count": null,
   "metadata": {},
   "outputs": [],
   "source": [
    "json_job = []\n",
    "\n",
    "for score in scores_muse:\n",
    "    json_job.append({\n",
    "    \"in\": score,\n",
    "    \"out\": './midi\\\\' + score.split('\\\\')[-1][:-5] + '.mid',\n",
    "  })\n",
    "\n",
    "#print(json_job)"
   ]
  },
  {
   "cell_type": "code",
   "execution_count": null,
   "metadata": {},
   "outputs": [],
   "source": [
    "print(glob('./*'))"
   ]
  },
  {
   "cell_type": "code",
   "execution_count": null,
   "metadata": {},
   "outputs": [],
   "source": [
    "import os\n",
    "if '.\\\\midi' not in glob('./*'):\n",
    "    print('making folder')\n",
    "    os.makedirs('midi')\n",
    "    "
   ]
  },
  {
   "cell_type": "code",
   "execution_count": null,
   "metadata": {},
   "outputs": [],
   "source": [
    "with open('json_job.json', 'w') as outfile:\n",
    "    json.dump(json_job, outfile)"
   ]
  },
  {
   "cell_type": "code",
   "execution_count": null,
   "metadata": {},
   "outputs": [],
   "source": [
    "! MuseScore3.exe -j json_job.json"
   ]
  },
  {
   "cell_type": "code",
   "execution_count": null,
   "metadata": {},
   "outputs": [],
   "source": [
    "data = pd.read_csv('./metadata.tsv', sep='\\t')\n",
    "data.head()"
   ]
  },
  {
   "cell_type": "code",
   "execution_count": null,
   "metadata": {},
   "outputs": [],
   "source": [
    "data.columns # to use later especially file name for merging, duration, key, composed start and composed end"
   ]
  },
  {
   "cell_type": "code",
   "execution_count": null,
   "metadata": {},
   "outputs": [],
   "source": [
    "scores = glob('./midi/*.mid')\n",
    "print(len(scores))"
   ]
  },
  {
   "cell_type": "code",
   "execution_count": null,
   "metadata": {},
   "outputs": [],
   "source": [
    "score_names = pd.Series(scores, index=[score.split('\\\\')[-1].split('.')[0] for score in scores], name='filepath')\n",
    "score_names.head()"
   ]
  },
  {
   "cell_type": "code",
   "execution_count": null,
   "metadata": {},
   "outputs": [],
   "source": [
    "data = data.merge(score_names, left_on='fnames', right_index=True)\n",
    "data.head()"
   ]
  },
  {
   "cell_type": "code",
   "execution_count": null,
   "metadata": {},
   "outputs": [],
   "source": [
    "from utils import *\n",
    "\n",
    "utm_max, utm_entropy, utm_argmax, utm = most_resonant(data['filepath'][1], aw_size=4)\n",
    "utm_max.shape"
   ]
  },
  {
   "cell_type": "code",
   "execution_count": null,
   "metadata": {},
   "outputs": [],
   "source": [
    "utm_max"
   ]
  },
  {
   "cell_type": "code",
   "execution_count": null,
   "metadata": {},
   "outputs": [],
   "source": [
    "utm_entropy"
   ]
  },
  {
   "cell_type": "code",
   "execution_count": null,
   "metadata": {},
   "outputs": [],
   "source": [
    "utm_sum = max_utm_to_ws_utm(utm_max, utm_argmax, utm, 'max')\n",
    "utm_sum = max_utm_to_ws_utm(utm_entropy, utm_argmax, utm, 'entropy')"
   ]
  },
  {
   "cell_type": "code",
   "execution_count": null,
   "metadata": {},
   "outputs": [],
   "source": [
    "x, y = center_of_mass_v(utm_max, utm)\n",
    "print(x, y)"
   ]
  },
  {
   "cell_type": "code",
   "execution_count": null,
   "metadata": {},
   "outputs": [],
   "source": [
    "Wavescape(utm_sum, 500).draw()\n",
    "plt.plot(x, y, marker=\"o\")\n",
    "print(data['fnames'][1])"
   ]
  },
  {
   "cell_type": "code",
   "execution_count": null,
   "metadata": {},
   "outputs": [],
   "source": [
    "for i in range(1,7):\n",
    "    x, y = center_of_mass_v(np.abs(utm[:,:,i]), utm)\n",
    "    print(x, y)\n"
   ]
  },
  {
   "cell_type": "code",
   "execution_count": null,
   "metadata": {},
   "outputs": [],
   "source": [
    "coeff_5 = complex_utm_to_ws_utm(utm, coeff=5)\n",
    "x, y = center_of_mass_v(np.abs(utm[:,:,5]), utm)\n",
    "Wavescape(coeff_5, 500).draw()\n",
    "plt.plot(x, y, marker=\"o\")\n",
    "print(x, y)\n",
    "print(data['fnames'][1])"
   ]
  },
  {
   "cell_type": "code",
   "execution_count": null,
   "metadata": {},
   "outputs": [],
   "source": [
    "all_wavescapes(data['filepath'][1], individual_width=500, aw_size=4)"
   ]
  },
  {
   "cell_type": "code",
   "execution_count": null,
   "metadata": {},
   "outputs": [],
   "source": [
    "if '.\\\\figures' not in glob('./*'):\n",
    "    print('making folder')\n",
    "    os.makedirs('figures')\n"
   ]
  },
  {
   "cell_type": "code",
   "execution_count": null,
   "metadata": {},
   "outputs": [],
   "source": [
    "import matplotlib.patches as mpatches\n",
    "patches = []\n",
    "for i in range(6):\n",
    "    patches.append(mpatches.Patch(color=np.array(circular_hue_revised(i))[:3]/255, label='Coefficient '+str(i+1)))\n",
    "        \n",
    "for score in data['filepath']:\n",
    "    print(str(score.split('\\\\')[-1].split('.')[0]))\n",
    "    try:\n",
    "        #all_wavescapes(score, individual_width=500, aw_size=4, aw_per_tick=1, tick_start=1)\n",
    "        utm_max, utm_entropy, utm_argmax, utm = most_resonant(score, aw_size=4)\n",
    "        utm_sum = max_utm_to_ws_utm(utm_max, utm_argmax, utm, 'max')\n",
    "        Wavescape(utm_sum, 500).draw()\n",
    "        plt.suptitle(str(score.split('\\\\')[-1].split('.')[0]) + '\\n', fontsize=14)\n",
    "        plt.legend(handles=patches)\n",
    "        plt.savefig('./figures/' + str(score.split('\\\\')[-1].split('.')[0]) + '.png')\n",
    "    except:\n",
    "        print('Not successful')"
   ]
  },
  {
   "cell_type": "code",
   "execution_count": null,
   "metadata": {},
   "outputs": [],
   "source": [
    "import matplotlib.patches as mpatches\n",
    "patches = []\n",
    "for i in range(6):\n",
    "    patches.append(mpatches.Patch(color=np.array(circular_hue_revised(i))[:3]/255, label='Coefficient '+str(i+1)))\n",
    "\n",
    "for score in data['filepath']:\n",
    "    print(str(score.split('\\\\')[-1].split('.')[0]))\n",
    "    try:\n",
    "        #all_wavescapes(score, individual_width=500, aw_size=4, aw_per_tick=1, tick_start=1)\n",
    "        utm_max,  utm_entropy, utm_argmax, utm = most_resonant(score, aw_size=4)\n",
    "        utm_sum = max_utm_to_ws_utm(utm_entropy, utm_argmax, utm, 'entropy')\n",
    "        Wavescape(utm_sum, 500).draw()\n",
    "        plt.suptitle('entropy - ' + str(score.split('\\\\')[-1].split('.')[0]) + '\\n', fontsize=14)\n",
    "        plt.legend(handles=patches)\n",
    "        plt.savefig('./figures/entropy_' + str(score.split('\\\\')[-1].split('.')[0]) + '.png')\n",
    "    except Exception as e:\n",
    "        print(e)"
   ]
  },
  {
   "cell_type": "code",
   "execution_count": null,
   "metadata": {},
   "outputs": [],
   "source": [
    "# legend\n",
    "import webcolors\n",
    "\n",
    "for angle in range(6):\n",
    "\n",
    "    value = np.array(circular_hue_revised(angle))[:3]\n",
    "    print('coefficient', angle+1, ':',  webcolors.rgb_to_name(value))"
   ]
  },
  {
   "cell_type": "code",
   "execution_count": null,
   "metadata": {},
   "outputs": [],
   "source": [
    "vcoms = []\n",
    "for it in data.iterrows():\n",
    "    print(it[1]['filepath'])\n",
    "    utm_max, utm_argmax, utm = most_resonant(it[1]['filepath'], aw_size=4)\n",
    "    vcoms.append(center_of_mass_v(utm_max, utm)[1])"
   ]
  },
  {
   "cell_type": "code",
   "execution_count": null,
   "metadata": {},
   "outputs": [],
   "source": [
    "data['VCOM'] = vcoms"
   ]
  },
  {
   "cell_type": "code",
   "execution_count": null,
   "metadata": {},
   "outputs": [],
   "source": [
    "plt.scatter(data['composed_start'], data['VCOM'])"
   ]
  },
  {
   "cell_type": "code",
   "execution_count": null,
   "metadata": {},
   "outputs": [],
   "source": [
    "plt.scatter(data['composed_end'], data['VCOM'])"
   ]
  },
  {
   "cell_type": "code",
   "execution_count": null,
   "metadata": {},
   "outputs": [],
   "source": [
    "from utils import *\n",
    "utm_max, utm_entropy, utm_argmax, utm = most_resonant(data['filepath'][1], aw_size=4)\n",
    "arr1 = produce_pitch_class_matrix_from_filename(data['filepath'][1], aw_size=4)\n",
    "\n",
    "arr1.shape"
   ]
  },
  {
   "cell_type": "code",
   "execution_count": null,
   "metadata": {},
   "outputs": [],
   "source": [
    "utm_tritone = pitch_class_matrix_to_tritone(arr1)\n"
   ]
  },
  {
   "cell_type": "code",
   "execution_count": null,
   "metadata": {},
   "outputs": [],
   "source": [
    "utm_tritone.shape\n",
    "utm_tritone = np.mean(utm_tritone, axis=2)\n",
    "utm_tritone[utm_tritone != 0.] = 1"
   ]
  },
  {
   "cell_type": "code",
   "execution_count": null,
   "metadata": {},
   "outputs": [],
   "source": [
    "utm_tritone.shape\n",
    "utm_tritone"
   ]
  },
  {
   "cell_type": "code",
   "execution_count": null,
   "metadata": {},
   "outputs": [],
   "source": [
    "arr1[0]"
   ]
  },
  {
   "cell_type": "code",
   "execution_count": null,
   "metadata": {},
   "outputs": [],
   "source": [
    "arr2 = np.roll(arr1, 6, axis=1)\n",
    "arr2[0]"
   ]
  },
  {
   "cell_type": "code",
   "execution_count": null,
   "metadata": {},
   "outputs": [],
   "source": [
    "tritone = arr1 * arr2\n",
    "tritone[4]"
   ]
  },
  {
   "cell_type": "code",
   "execution_count": null,
   "metadata": {},
   "outputs": [],
   "source": [
    "utm.shape"
   ]
  },
  {
   "cell_type": "code",
   "execution_count": null,
   "metadata": {},
   "outputs": [],
   "source": [
    "utm = np.concatenate((utm, utm_tritone.reshape((71,71,1))), axis=2)\n",
    "utm.shape"
   ]
  },
  {
   "cell_type": "code",
   "execution_count": null,
   "metadata": {},
   "outputs": [],
   "source": []
  }
 ],
 "metadata": {
  "interpreter": {
   "hash": "8e2673524e24647dcb01ed6037d323486da29d546bf954a37cc5c6513d25d62d"
  },
  "kernelspec": {
   "display_name": "ada",
   "language": "python",
   "name": "python3"
  },
  "language_info": {
   "codemirror_mode": {
    "name": "ipython",
    "version": 3
   },
   "file_extension": ".py",
   "mimetype": "text/x-python",
   "name": "python",
   "nbconvert_exporter": "python",
   "pygments_lexer": "ipython3",
   "version": "3.8.5"
  }
 },
 "nbformat": 4,
 "nbformat_minor": 4
}
