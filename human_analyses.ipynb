{
 "cells": [
  {
   "cell_type": "markdown",
   "metadata": {},
   "source": [
    "`python3 -m pip install -U pandas plotly nbformat`\n",
    "\n",
    "`pip install \"https://github.com/DCMLab/wavescapes/archive/refs/heads/johannes.zip\"`"
   ]
  },
  {
   "cell_type": "code",
   "execution_count": 1,
   "metadata": {
    "scrolled": true
   },
   "outputs": [],
   "source": [
    "%reload_ext autoreload\n",
    "%autoreload 2\n",
    "import numpy as np\n",
    "from wavescapes import normalize_dft\n",
    "\n",
    "from etl import display_wavescapes, get_human_analyses, get_metadata, get_pcms, test_dict_keys, make_feature_vectors\n",
    "from utils import max_pearsonr_by_rotation, pitch_class_matrix_to_tritone, get_from_to, get_all_from_to"
   ]
  },
  {
   "cell_type": "markdown",
   "metadata": {},
   "source": [
    "## Settings"
   ]
  },
  {
   "cell_type": "code",
   "execution_count": 2,
   "metadata": {},
   "outputs": [],
   "source": [
    "import os\n",
    "DEBUSSY_REPO = '.'\n",
    "DATA_FOLDER = '~/debussy_figures/data'\n",
    "#DATA_FOLDER = './data/data'\n",
    "WAVESCAPE_FOLDER = '~/debussy_figures/wavescapes'\n",
    "wavescape_folder = os.path.relpath(os.path.expanduser(WAVESCAPE_FOLDER), os.getcwd())\n",
    "EXAMPLE_FNAME = 'l108_morceau'\n",
    "LONG_FORMAT = True"
   ]
  },
  {
   "cell_type": "markdown",
   "metadata": {},
   "source": [
    "## Loading metadata\n",
    "Metadata for all pieces contained in the dataset."
   ]
  },
  {
   "cell_type": "code",
   "execution_count": 3,
   "metadata": {},
   "outputs": [
    {
     "name": "stdout",
     "output_type": "stream",
     "text": [
      "Metadata for 82 files.\n"
     ]
    },
    {
     "data": {
      "text/plain": "Index(['rel_paths', 'last_mc', 'last_mn', 'length_qb', 'length_qb_unfolded',\n       'all_notes_qb', 'n_onsets', 'TimeSig', 'KeySig', 'label_count',\n       'composer', 'workTitle', 'movementNumber', 'movementTitle',\n       'workNumber', 'poet', 'lyricist', 'arranger', 'copyright',\n       'creationDate', 'mscVersion', 'platform', 'source', 'translator',\n       'musescore', 'ambitus', 'comment', 'comments', 'composed_end',\n       'composed_start', 'originalFormat', 'pdf', 'staff_1_ambitus',\n       'staff_1_instrument', 'staff_2_ambitus', 'staff_2_instrument',\n       'staff_3_ambitus', 'staff_3_instrument', 'transcriber', 'typesetter',\n       'year', 'median_recording', 'qb_per_minute', 'sounding_notes_per_qb',\n       'sounding_notes_per_minute'],\n      dtype='object')"
     },
     "execution_count": 3,
     "metadata": {},
     "output_type": "execute_result"
    }
   ],
   "source": [
    "metadata = get_metadata(DEBUSSY_REPO)\n",
    "metadata.columns"
   ]
  },
  {
   "cell_type": "markdown",
   "metadata": {
    "pycharm": {
     "name": "#%% md\n"
    }
   },
   "source": [
    "## Loading precomputed summary wavescape\n",
    "\n",
    "Colour legend for most resonant coefficients:\n",
    "\n",
    "![legend](legend.png)"
   ]
  },
  {
   "cell_type": "code",
   "execution_count": 4,
   "outputs": [
    {
     "data": {
      "text/plain": "<IPython.core.display.HTML object>",
      "text/html": "<table><tr><td><img src='../debussy_figures/wavescapes/l108_morceau-0c-summary-by-mag.png' alt='coeff_1'/></td><td><img src='../debussy_figures/wavescapes/l108_morceau-0c-summary-by-ent.png' alt='coeff_2'/></td></tr></table>"
     },
     "metadata": {},
     "output_type": "display_data"
    }
   ],
   "source": [
    "display_wavescapes(wavescape_folder, EXAMPLE_FNAME, norm_method=4, summaries=True, rows=1)"
   ],
   "metadata": {
    "collapsed": false,
    "pycharm": {
     "name": "#%%\n"
    }
   }
  },
  {
   "cell_type": "markdown",
   "source": [
    "## Loading human analysis data"
   ],
   "metadata": {
    "collapsed": false
   }
  },
  {
   "cell_type": "code",
   "execution_count": 5,
   "outputs": [
    {
     "data": {
      "text/plain": "         L  mc_start mc_start_offset  mc_end mc_end_offset structure  \\\n244  75-03      35.0               0    37.0             0     modal   \n245  75-03      37.0               0    41.0             0    majmin   \n246  75-03      43.0               0    47.0             0     modal   \n247    108      11.0               0    15.0             0        wt   \n248    108      15.0               0    19.0             0        wt   \n\n     transposition comments source                fname from_qb  to_qb  \n244     Db aeolian      NaN     SL  l075-03_suite_clair   153.0  162.0  \n245          E maj      NaN     SL  l075-03_suite_clair   162.0  180.0  \n246  Ab mixolydian      NaN     SL  l075-03_suite_clair   189.0  207.0  \n247              0     pure     JH         l108_morceau    20.0   28.0  \n248              1     pure     JH         l108_morceau    28.0   36.0  ",
      "text/html": "<div>\n<style scoped>\n    .dataframe tbody tr th:only-of-type {\n        vertical-align: middle;\n    }\n\n    .dataframe tbody tr th {\n        vertical-align: top;\n    }\n\n    .dataframe thead th {\n        text-align: right;\n    }\n</style>\n<table border=\"1\" class=\"dataframe\">\n  <thead>\n    <tr style=\"text-align: right;\">\n      <th></th>\n      <th>L</th>\n      <th>mc_start</th>\n      <th>mc_start_offset</th>\n      <th>mc_end</th>\n      <th>mc_end_offset</th>\n      <th>structure</th>\n      <th>transposition</th>\n      <th>comments</th>\n      <th>source</th>\n      <th>fname</th>\n      <th>from_qb</th>\n      <th>to_qb</th>\n    </tr>\n  </thead>\n  <tbody>\n    <tr>\n      <th>244</th>\n      <td>75-03</td>\n      <td>35.0</td>\n      <td>0</td>\n      <td>37.0</td>\n      <td>0</td>\n      <td>modal</td>\n      <td>Db aeolian</td>\n      <td>NaN</td>\n      <td>SL</td>\n      <td>l075-03_suite_clair</td>\n      <td>153.0</td>\n      <td>162.0</td>\n    </tr>\n    <tr>\n      <th>245</th>\n      <td>75-03</td>\n      <td>37.0</td>\n      <td>0</td>\n      <td>41.0</td>\n      <td>0</td>\n      <td>majmin</td>\n      <td>E maj</td>\n      <td>NaN</td>\n      <td>SL</td>\n      <td>l075-03_suite_clair</td>\n      <td>162.0</td>\n      <td>180.0</td>\n    </tr>\n    <tr>\n      <th>246</th>\n      <td>75-03</td>\n      <td>43.0</td>\n      <td>0</td>\n      <td>47.0</td>\n      <td>0</td>\n      <td>modal</td>\n      <td>Ab mixolydian</td>\n      <td>NaN</td>\n      <td>SL</td>\n      <td>l075-03_suite_clair</td>\n      <td>189.0</td>\n      <td>207.0</td>\n    </tr>\n    <tr>\n      <th>247</th>\n      <td>108</td>\n      <td>11.0</td>\n      <td>0</td>\n      <td>15.0</td>\n      <td>0</td>\n      <td>wt</td>\n      <td>0</td>\n      <td>pure</td>\n      <td>JH</td>\n      <td>l108_morceau</td>\n      <td>20.0</td>\n      <td>28.0</td>\n    </tr>\n    <tr>\n      <th>248</th>\n      <td>108</td>\n      <td>15.0</td>\n      <td>0</td>\n      <td>19.0</td>\n      <td>0</td>\n      <td>wt</td>\n      <td>1</td>\n      <td>pure</td>\n      <td>JH</td>\n      <td>l108_morceau</td>\n      <td>28.0</td>\n      <td>36.0</td>\n    </tr>\n  </tbody>\n</table>\n</div>"
     },
     "execution_count": 5,
     "metadata": {},
     "output_type": "execute_result"
    }
   ],
   "source": [
    "analyses = get_human_analyses(DEBUSSY_REPO)\n",
    "analyses.tail()"
   ],
   "metadata": {
    "collapsed": false,
    "pycharm": {
     "name": "#%%\n"
    }
   }
  },
  {
   "cell_type": "markdown",
   "source": [
    "## Example for getting from quarterbeat (qb) indications to matrix indices\n",
    "EXAMPLE_FNAME = 'l108_morceau', mc_start = 15, mc_end = 19, --> `from_qb = 28`, `to_qb = 36`\n",
    "\n",
    "segment length = 8 --> `x = 7`\n",
    "\n",
    "last included qb = 35 --> `y = 35`"
   ],
   "metadata": {
    "collapsed": false
   }
  },
  {
   "cell_type": "code",
   "execution_count": 6,
   "outputs": [
    {
     "data": {
      "text/plain": "array([0.  , 4.75, 0.  , 6.25, 0.  , 6.  , 0.  , 2.25, 0.  , 4.5 , 0.  ,\n       3.75])"
     },
     "execution_count": 6,
     "metadata": {},
     "output_type": "execute_result"
    }
   ],
   "source": [
    "test = get_pcms(DEBUSSY_REPO, long=False)[EXAMPLE_FNAME]\n",
    "test[7, 35] # this is what we expect the function get_from_to() to return"
   ],
   "metadata": {
    "collapsed": false,
    "pycharm": {
     "name": "#%%\n"
    }
   }
  },
  {
   "cell_type": "code",
   "execution_count": 7,
   "outputs": [
    {
     "data": {
      "text/plain": "array([0.  , 4.75, 0.  , 6.25, 0.  , 6.  , 0.  , 2.25, 0.  , 4.5 , 0.  ,\n       3.75])"
     },
     "execution_count": 7,
     "metadata": {},
     "output_type": "execute_result"
    }
   ],
   "source": [
    "pcms = get_pcms(DEBUSSY_REPO, long=LONG_FORMAT)\n",
    "get_from_to(pcms[EXAMPLE_FNAME], 28, 36, long=LONG_FORMAT)"
   ],
   "metadata": {
    "collapsed": false,
    "pycharm": {
     "name": "#%%\n"
    }
   }
  },
  {
   "cell_type": "markdown",
   "source": [
    "Likewise, we can get the vectors for all triangles in a particular interval.\n",
    "\n",
    "For the given example, this long format result contains:\n",
    "\n",
    "* index 0-7: pitch class vectors for each quarter in mm. 15-19\n",
    "* index 8-14: 7 half note windows\n",
    "* 15-20: 6 windows of a dotted half note\n",
    "* 21-25: 5 whole note windows\n",
    "* 26-29: 4 windows of length 5 quarters\n",
    "* 30-32: 3 windows of a dotted whole note\n",
    "* 33-34: 2 windows of length 7 quarters\n",
    "* 35: top node (same as above)"
   ],
   "metadata": {
    "collapsed": false,
    "pycharm": {
     "name": "#%% md\n"
    }
   }
  },
  {
   "cell_type": "code",
   "execution_count": 8,
   "outputs": [
    {
     "data": {
      "text/plain": "array([[0.  , 0.75, 0.  , 0.  , 0.  , 0.  , 0.  , 0.  , 0.  , 1.5 , 0.  ,\n        0.75],\n       [0.  , 1.5 , 0.  , 0.75, 0.  , 0.  , 0.  , 0.  , 0.  , 0.  , 0.  ,\n        0.75],\n       [0.  , 0.  , 0.  , 1.5 , 0.  , 1.5 , 0.  , 0.  , 0.  , 0.  , 0.  ,\n        0.  ],\n       [0.  , 1.  , 0.  , 1.  , 0.  , 2.25, 0.  , 0.75, 0.  , 1.5 , 0.  ,\n        0.  ],\n       [0.  , 0.  , 0.  , 0.  , 0.  , 0.75, 0.  , 1.5 , 0.  , 0.  , 0.  ,\n        0.75],\n       [0.  , 0.  , 0.  , 1.5 , 0.  , 0.75, 0.  , 0.  , 0.  , 0.75, 0.  ,\n        0.  ],\n       [0.  , 0.75, 0.  , 0.75, 0.  , 0.75, 0.  , 0.  , 0.  , 0.  , 0.  ,\n        0.75],\n       [0.  , 0.75, 0.  , 0.75, 0.  , 0.  , 0.  , 0.  , 0.  , 0.75, 0.  ,\n        0.75],\n       [0.  , 2.25, 0.  , 0.75, 0.  , 0.  , 0.  , 0.  , 0.  , 1.5 , 0.  ,\n        1.5 ],\n       [0.  , 1.5 , 0.  , 2.25, 0.  , 1.5 , 0.  , 0.  , 0.  , 0.  , 0.  ,\n        0.75],\n       [0.  , 1.  , 0.  , 2.5 , 0.  , 3.75, 0.  , 0.75, 0.  , 1.5 , 0.  ,\n        0.  ],\n       [0.  , 1.  , 0.  , 1.  , 0.  , 3.  , 0.  , 2.25, 0.  , 1.5 , 0.  ,\n        0.75],\n       [0.  , 0.  , 0.  , 1.5 , 0.  , 1.5 , 0.  , 1.5 , 0.  , 0.75, 0.  ,\n        0.75],\n       [0.  , 0.75, 0.  , 2.25, 0.  , 1.5 , 0.  , 0.  , 0.  , 0.75, 0.  ,\n        0.75],\n       [0.  , 1.5 , 0.  , 1.5 , 0.  , 0.75, 0.  , 0.  , 0.  , 0.75, 0.  ,\n        1.5 ],\n       [0.  , 2.25, 0.  , 2.25, 0.  , 1.5 , 0.  , 0.  , 0.  , 1.5 , 0.  ,\n        1.5 ],\n       [0.  , 2.5 , 0.  , 3.25, 0.  , 3.75, 0.  , 0.75, 0.  , 1.5 , 0.  ,\n        0.75],\n       [0.  , 1.  , 0.  , 2.5 , 0.  , 4.5 , 0.  , 2.25, 0.  , 1.5 , 0.  ,\n        0.75],\n       [0.  , 1.  , 0.  , 2.5 , 0.  , 3.75, 0.  , 2.25, 0.  , 2.25, 0.  ,\n        0.75],\n       [0.  , 0.75, 0.  , 2.25, 0.  , 2.25, 0.  , 1.5 , 0.  , 0.75, 0.  ,\n        1.5 ],\n       [0.  , 1.5 , 0.  , 3.  , 0.  , 1.5 , 0.  , 0.  , 0.  , 1.5 , 0.  ,\n        1.5 ],\n       [0.  , 3.25, 0.  , 3.25, 0.  , 3.75, 0.  , 0.75, 0.  , 3.  , 0.  ,\n        1.5 ],\n       [0.  , 2.5 , 0.  , 3.25, 0.  , 4.5 , 0.  , 2.25, 0.  , 1.5 , 0.  ,\n        1.5 ],\n       [0.  , 1.  , 0.  , 4.  , 0.  , 5.25, 0.  , 2.25, 0.  , 2.25, 0.  ,\n        0.75],\n       [0.  , 1.75, 0.  , 3.25, 0.  , 4.5 , 0.  , 2.25, 0.  , 2.25, 0.  ,\n        1.5 ],\n       [0.  , 1.5 , 0.  , 3.  , 0.  , 2.25, 0.  , 1.5 , 0.  , 1.5 , 0.  ,\n        2.25],\n       [0.  , 3.25, 0.  , 3.25, 0.  , 4.5 , 0.  , 2.25, 0.  , 3.  , 0.  ,\n        2.25],\n       [0.  , 2.5 , 0.  , 4.75, 0.  , 5.25, 0.  , 2.25, 0.  , 2.25, 0.  ,\n        1.5 ],\n       [0.  , 1.75, 0.  , 4.75, 0.  , 6.  , 0.  , 2.25, 0.  , 2.25, 0.  ,\n        1.5 ],\n       [0.  , 2.5 , 0.  , 4.  , 0.  , 4.5 , 0.  , 2.25, 0.  , 3.  , 0.  ,\n        2.25],\n       [0.  , 3.25, 0.  , 4.75, 0.  , 5.25, 0.  , 2.25, 0.  , 3.75, 0.  ,\n        2.25],\n       [0.  , 3.25, 0.  , 5.5 , 0.  , 6.  , 0.  , 2.25, 0.  , 2.25, 0.  ,\n        2.25],\n       [0.  , 2.5 , 0.  , 5.5 , 0.  , 6.  , 0.  , 2.25, 0.  , 3.  , 0.  ,\n        2.25],\n       [0.  , 4.  , 0.  , 5.5 , 0.  , 6.  , 0.  , 2.25, 0.  , 3.75, 0.  ,\n        3.  ],\n       [0.  , 4.  , 0.  , 6.25, 0.  , 6.  , 0.  , 2.25, 0.  , 3.  , 0.  ,\n        3.  ],\n       [0.  , 4.75, 0.  , 6.25, 0.  , 6.  , 0.  , 2.25, 0.  , 4.5 , 0.  ,\n        3.75]])"
     },
     "execution_count": 8,
     "metadata": {},
     "output_type": "execute_result"
    }
   ],
   "source": [
    "get_all_from_to(pcms[EXAMPLE_FNAME], 28, 36, long=LONG_FORMAT)"
   ],
   "metadata": {
    "collapsed": false,
    "pycharm": {
     "name": "#%%\n"
    }
   }
  },
  {
   "cell_type": "markdown",
   "source": [
    "# Creating 9-fold vectors for prototypes\n",
    "\n",
    "* 6 normalized DFT magnitudes\n",
    "* maximal correlation with major profile from Mozart piano sonatas\n",
    "* maximal correlation with minor profile from Mozart piano sonatas\n",
    "* tritone detector"
   ],
   "metadata": {
    "collapsed": false
   }
  },
  {
   "cell_type": "code",
   "execution_count": 9,
   "outputs": [
    {
     "data": {
      "text/plain": "array([[1, 0, 1, 0, 1, 0, 0, 1, 0, 1, 0, 0]])"
     },
     "execution_count": 9,
     "metadata": {},
     "output_type": "execute_result"
    }
   ],
   "source": [
    "def pcs2array(pcs):\n",
    "    \"\"\"Pass a collection of pitch classes between 0-11 to get a (1, 12) pitch class matrix,\n",
    "    where the first row is a pitch class vector in which every present PC is 1.\"\"\"\n",
    "    pcs = set(pcs)\n",
    "    assert all(0 <= i <= 11 for i in pcs), \"pitch classes need to be within [0, 11]\"\n",
    "    result = [int(i in pcs) for i in range(12)]\n",
    "    return np.array([result])\n",
    "\n",
    "\n",
    "pentatonic_pcm = pcs2array([0,2,4,7,9])\n",
    "pentatonic_pcm"
   ],
   "metadata": {
    "collapsed": false,
    "pycharm": {
     "name": "#%%\n"
    }
   }
  },
  {
   "cell_type": "code",
   "execution_count": 10,
   "outputs": [
    {
     "data": {
      "text/plain": "array([[0.05358984, 0.2       , 0.2       , 0.4       , 0.74641016,\n        0.2       , 0.75965026, 0.6264067 , 0.        ]])"
     },
     "execution_count": 10,
     "metadata": {},
     "output_type": "execute_result"
    }
   ],
   "source": [
    "norm_params = ('0c', True)\n",
    "\n",
    "def make_ninefold(pcm, norm_params):\n",
    "    \"\"\"Pass a (n, 12) pitch class matrix to get the corresponding 9-fold vectors for each row.\"\"\"\n",
    "    how, indulge_prototypes = norm_params\n",
    "    dft_coeffs = np.fft.fft(pcm)[..., :7]\n",
    "    norm_mag_phase = normalize_dft(dft_coeffs, how=how, indulge_prototypes=indulge_prototypes)\n",
    "    mags = norm_mag_phase[...,0]\n",
    "    result = np.column_stack([\n",
    "        mags,\n",
    "        max_pearsonr_by_rotation(pcm, 'mozart_major'),\n",
    "        max_pearsonr_by_rotation(pcm, 'mozart_minor'),\n",
    "        pitch_class_matrix_to_tritone(pcm)\n",
    "    ])\n",
    "    return result\n",
    "\n",
    "\n",
    "make_ninefold(pentatonic_pcm, norm_params)"
   ],
   "metadata": {
    "collapsed": false,
    "pycharm": {
     "name": "#%%\n"
    }
   }
  },
  {
   "cell_type": "code",
   "execution_count": 11,
   "outputs": [
    {
     "data": {
      "text/plain": "array([[1, 0, 1, 0, 1, 0, 1, 0, 1, 0, 1, 0]])"
     },
     "execution_count": 11,
     "metadata": {},
     "output_type": "execute_result"
    }
   ],
   "source": [
    "wholetone_pcm = pcs2array([0,2,4,6,8,10])\n",
    "wholetone_pcm"
   ],
   "metadata": {
    "collapsed": false,
    "pycharm": {
     "name": "#%%\n"
    }
   }
  },
  {
   "cell_type": "code",
   "execution_count": 12,
   "outputs": [
    {
     "data": {
      "text/plain": "array([[0.00000000e+00, 3.70074342e-17, 0.00000000e+00, 0.00000000e+00,\n        0.00000000e+00, 1.00000000e+00, 1.03515767e-02, 1.49650089e-01,\n        2.88675135e-01]])"
     },
     "execution_count": 12,
     "metadata": {},
     "output_type": "execute_result"
    }
   ],
   "source": [
    "make_ninefold(wholetone_pcm, norm_params)"
   ],
   "metadata": {
    "collapsed": false,
    "pycharm": {
     "name": "#%%\n"
    }
   }
  },
  {
   "cell_type": "code",
   "execution_count": 13,
   "outputs": [
    {
     "data": {
      "text/plain": "array([[0.03827846, 0.14285714, 0.14285714, 0.14285714, 0.53315012,\n        0.14285714, 0.84626241, 0.67922096, 0.14285714]])"
     },
     "execution_count": 13,
     "metadata": {},
     "output_type": "execute_result"
    }
   ],
   "source": [
    "major_pcm = pcs2array([0,2,4,5,7,9,11])\n",
    "make_ninefold(major_pcm, norm_params)"
   ],
   "metadata": {
    "collapsed": false,
    "pycharm": {
     "name": "#%%\n"
    }
   }
  },
  {
   "cell_type": "markdown",
   "source": [
    "## Loading pickled 9-fold vectors\n",
    "\n",
    "Then we can analyse a human annotation by comparing the 9-fold vectors for all comprised triangles with each of the prototypical 9-fold vectors."
   ],
   "metadata": {
    "collapsed": false
   }
  },
  {
   "cell_type": "code",
   "execution_count": 14,
   "outputs": [
    {
     "name": "stdout",
     "output_type": "stream",
     "text": [
      "Found matrices for all files listed in metadata.tsv.\n"
     ]
    },
    {
     "data": {
      "text/plain": "(1431, 9)"
     },
     "execution_count": 14,
     "metadata": {},
     "output_type": "execute_result"
    }
   ],
   "source": [
    "norm_params = ('0c', True)\n",
    "ninefold_dict = make_feature_vectors(DATA_FOLDER, norm_params=norm_params, long=LONG_FORMAT)\n",
    "test_dict_keys(ninefold_dict, metadata)\n",
    "ninefold_dict[EXAMPLE_FNAME].shape"
   ],
   "metadata": {
    "collapsed": false,
    "pycharm": {
     "name": "#%%\n"
    }
   }
  },
  {
   "cell_type": "code",
   "execution_count": 15,
   "outputs": [
    {
     "data": {
      "text/plain": "array([[ 0.6830127 ,  0.25      ,  0.5       ,  0.25      ,  0.6830127 ,\n         1.        ,  0.60942677,  0.50470706,  0.        ],\n       [ 0.75      ,  0.25      ,  0.        ,  0.25      ,  0.75      ,\n         1.        ,  0.52412408,  0.46427977,  0.        ],\n       [ 0.8660254 ,  0.5       ,  0.        ,  1.        ,  0.8660254 ,\n         1.        ,  0.51633132,  0.53355565,  0.        ],\n       [ 0.29738657,  0.11538462,  0.46153846,  0.19230769,  0.29738657,\n         1.        ,  0.37694134,  0.53938713,  1.67705098],\n       [ 0.5       ,  0.5       ,  0.5       ,  1.        ,  0.5       ,\n         1.        ,  0.53485075,  0.5779131 ,  0.5625    ],\n       [ 0.4330127 ,  0.75      ,  0.        ,  1.        ,  0.4330127 ,\n         1.        ,  0.38425076,  0.3640446 ,  1.125     ],\n       [ 0.4330127 ,  0.25      ,  0.        ,  0.25      ,  0.4330127 ,\n         1.        ,  0.37573639,  0.36064395,  0.5625    ],\n       [ 0.4330127 ,  0.25      ,  0.        ,  0.25      ,  0.4330127 ,\n         1.        ,  0.37573639,  0.36064395,  0.5625    ],\n       [ 0.5580127 ,  0.125     ,  0.25      ,  0.25      ,  0.5580127 ,\n         1.        ,  0.45423171,  0.57709518,  1.125     ],\n       [ 0.59150635,  0.125     ,  0.        ,  0.25      ,  0.59150635,\n         1.        ,  0.41926017,  0.44354311,  1.125     ],\n       [ 0.46474353,  0.23684211,  0.31578947,  0.44736842,  0.46474353,\n         1.        ,  0.4785597 ,  0.58723675,  3.82426464],\n       [ 0.31906199,  0.13157895,  0.15789474,  0.21052632,  0.31906199,\n         1.        ,  0.38196717,  0.34582629,  3.51781182],\n       [ 0.34150635,  0.125     ,  0.25      ,  0.25      ,  0.34150635,\n         1.        ,  0.37773808,  0.4968505 ,  1.59099026],\n       [ 0.375     ,  0.375     ,  0.        ,  0.625     ,  0.375     ,\n         1.        ,  0.30687467,  0.41704056,  2.02812259],\n       [ 0.375     ,  0.125     ,  0.        ,  0.25      ,  0.375     ,\n         1.        ,  0.37314857,  0.39557853,  1.59099026],\n       [ 0.31100423,  0.16666667,  0.16666667,  0.25      ,  0.31100423,\n         1.        ,  0.26144053,  0.33794889,  4.05624518],\n       [ 0.35320508,  0.12      ,  0.24      ,  0.22      ,  0.35320508,\n         1.        ,  0.34693841,  0.55205385,  5.93223451],\n       [ 0.39464102,  0.16      ,  0.12      ,  0.22      ,  0.39464102,\n         1.        ,  0.43260121,  0.4522099 ,  5.52409495],\n       [ 0.31856406,  0.12      ,  0.12      ,  0.22      ,  0.31856406,\n         1.        ,  0.38020126,  0.38899287,  6.67931742],\n       [ 0.2276709 ,  0.16666667,  0.16666667,  0.25      ,  0.2276709 ,\n         1.        ,  0.28521634,  0.36177557,  3.9375    ],\n       [ 0.28867513,  0.33333333,  0.        ,  0.5       ,  0.28867513,\n         1.        ,  0.2399712 ,  0.38031496,  5.03115295],\n       [ 0.17309759,  0.14516129,  0.29032258,  0.22580645,  0.17309759,\n         1.        ,  0.25245782,  0.4687979 , 11.51714076],\n       [ 0.27187752,  0.08064516,  0.09677419,  0.08064516,  0.27187752,\n         1.        ,  0.29069434,  0.44373817, 10.04832076],\n       [ 0.39458228,  0.19354839,  0.09677419,  0.37096774,  0.39458228,\n         1.        ,  0.44752065,  0.45959318, 10.07801599],\n       [ 0.24942099,  0.12903226,  0.09677419,  0.22580645,  0.24942099,\n         1.        ,  0.33380279,  0.41518926, 10.70229239],\n       [ 0.125     ,  0.125     ,  0.125     ,  0.25      ,  0.125     ,\n         1.        ,  0.15625754,  0.31598181,  7.13732487],\n       [ 0.11703046,  0.06756757,  0.16216216,  0.10810811,  0.11703046,\n         1.        ,  0.18218696,  0.38553016, 15.84458208],\n       [ 0.29800755,  0.12162162,  0.08108108,  0.22972973,  0.29800755,\n         1.        ,  0.33270865,  0.45384632, 14.41800632],\n       [ 0.3494109 ,  0.18918919,  0.08108108,  0.35135135,  0.3494109 ,\n         1.        ,  0.40176356,  0.46851661, 14.51642389],\n       [ 0.157571  ,  0.12162162,  0.08108108,  0.22972973,  0.157571  ,\n         1.        ,  0.23876373,  0.3675386 , 16.67801697],\n       [ 0.16112101,  0.13953488,  0.13953488,  0.23255814,  0.16112101,\n         1.        ,  0.24104732,  0.40685063, 22.58966509],\n       [ 0.29130882,  0.12790698,  0.06976744,  0.23255814,  0.29130882,\n         1.        ,  0.29583907,  0.45266356, 19.71961666],\n       [ 0.2564251 ,  0.1744186 ,  0.06976744,  0.3372093 ,  0.2564251 ,\n         1.        ,  0.32572289,  0.43197361, 22.04859689],\n       [ 0.18020667,  0.12244898,  0.12244898,  0.23469388,  0.18020667,\n         1.        ,  0.21809633,  0.41212501, 28.81649918],\n       [ 0.24143116,  0.12244898,  0.06122449,  0.23469388,  0.24143116,\n         1.        ,  0.22827176,  0.41199164, 27.50568123],\n       [ 0.15210955,  0.13636364,  0.10909091,  0.23636364,  0.15210955,\n         1.        ,  0.16464647,  0.37088508, 37.56977883]])"
     },
     "execution_count": 15,
     "metadata": {},
     "output_type": "execute_result"
    }
   ],
   "source": [
    "get_all_from_to(ninefold_dict[EXAMPLE_FNAME], 28, 36, LONG_FORMAT)"
   ],
   "metadata": {
    "collapsed": false,
    "pycharm": {
     "name": "#%%\n"
    }
   }
  },
  {
   "cell_type": "code",
   "execution_count": 15,
   "outputs": [],
   "source": [],
   "metadata": {
    "collapsed": false,
    "pycharm": {
     "name": "#%%\n"
    }
   }
  }
 ],
 "metadata": {
  "kernelspec": {
   "name": "integrator",
   "language": "python",
   "display_name": "integrator"
  },
  "language_info": {
   "codemirror_mode": {
    "name": "ipython",
    "version": 3
   },
   "file_extension": ".py",
   "mimetype": "text/x-python",
   "name": "python",
   "nbconvert_exporter": "python",
   "pygments_lexer": "ipython3",
   "version": "3.8.5"
  }
 },
 "nbformat": 4,
 "nbformat_minor": 4
}