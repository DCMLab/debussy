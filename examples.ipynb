{
 "cells": [
  {
   "cell_type": "markdown",
   "metadata": {},
   "source": [
    "`python3 -m pip install -U pandas plotly nbformat networkx`\n",
    "\n",
    "`pip install \"https://github.com/DCMLab/wavescapes/archive/refs/heads/johannes.zip\"`"
   ]
  },
  {
   "cell_type": "code",
   "execution_count": 1,
   "metadata": {
    "scrolled": true
   },
   "outputs": [],
   "source": [
    "%reload_ext autoreload\n",
    "%autoreload 2\n",
    "import numpy as np\n",
    "from wavescapes import Wavescape, circular_hue\n",
    "\n",
    "from etl import get_dfts, get_human_analyses, get_mag_phase_mx, get_metadata, get_most_resonant, get_pcms, get_pcvs, test_dict_keys, \\\n",
    "  get_correlations, make_feature_vectors\n",
    "from utils import get_coeff, most_resonant2color, long2utm"
   ]
  },
  {
   "cell_type": "markdown",
   "metadata": {},
   "source": [
    "## Settings"
   ]
  },
  {
   "cell_type": "code",
   "execution_count": 2,
   "metadata": {},
   "outputs": [],
   "source": [
    "DEBUSSY_REPO = '.'\n",
    "DATA_FOLDER = '~/DATA/debussy_figures/data'\n",
    "#DATA_FOLDER = './data'\n",
    "EXAMPLE_FNAME = 'l123-08_preludes_ondine'\n",
    "LONG_FORMAT = True"
   ]
  },
  {
   "cell_type": "markdown",
   "metadata": {},
   "source": [
    "## Loading metadata\n",
    "Metadata for all pieces contained in the dataset."
   ]
  },
  {
   "cell_type": "code",
   "execution_count": 3,
   "metadata": {},
   "outputs": [
    {
     "name": "stdout",
     "output_type": "stream",
     "text": [
      "Metadata for 82 files.\n"
     ]
    },
    {
     "data": {
      "text/plain": [
       "Index(['rel_paths', 'last_mc', 'last_mn', 'length_qb', 'length_qb_unfolded',\n",
       "       'all_notes_qb', 'n_onsets', 'TimeSig', 'KeySig', 'label_count',\n",
       "       'composer', 'workTitle', 'movementNumber', 'movementTitle',\n",
       "       'workNumber', 'poet', 'lyricist', 'arranger', 'copyright',\n",
       "       'creationDate', 'mscVersion', 'platform', 'source', 'translator',\n",
       "       'musescore', 'ambitus', 'comment', 'comments', 'composed_end',\n",
       "       'composed_start', 'originalFormat', 'pdf', 'staff_1_ambitus',\n",
       "       'staff_1_instrument', 'staff_2_ambitus', 'staff_2_instrument',\n",
       "       'staff_3_ambitus', 'staff_3_instrument', 'transcriber', 'typesetter',\n",
       "       'year', 'median_recording', 'qb_per_minute', 'sounding_notes_per_qb',\n",
       "       'sounding_notes_per_minute'],\n",
       "      dtype='object')"
      ]
     },
     "execution_count": 3,
     "metadata": {},
     "output_type": "execute_result"
    }
   ],
   "source": [
    "metadata = get_metadata(DEBUSSY_REPO)\n",
    "metadata.columns"
   ]
  },
  {
   "cell_type": "markdown",
   "metadata": {},
   "source": [
    "The column `year` contains composition years as the middle between beginning and end  of the composition span."
   ]
  },
  {
   "cell_type": "code",
   "execution_count": 4,
   "metadata": {},
   "outputs": [
    {
     "data": {
      "text/plain": [
       "fnames\n",
       "l000_etude                     1915.0\n",
       "l000_soirs                     1917.0\n",
       "l009_danse                     1880.0\n",
       "l066-01_arabesques_premiere    1888.0\n",
       "l066-02_arabesques_deuxieme    1891.0\n",
       "l067_mazurka                   1890.0\n",
       "l068_reverie                   1890.0\n",
       "l069_tarentelle                1890.0\n",
       "l070_ballade                   1890.0\n",
       "l071_valse                     1890.0\n",
       "Name: year, dtype: float64"
      ]
     },
     "execution_count": 4,
     "metadata": {},
     "output_type": "execute_result"
    }
   ],
   "source": [
    "metadata.year.head(10)"
   ]
  },
  {
   "cell_type": "markdown",
   "metadata": {},
   "source": [
    "Series `median_recording` contains median recording times in seconds, retrieved from the Spotify API. the Spotify API."
   ]
  },
  {
   "cell_type": "code",
   "execution_count": 5,
   "metadata": {},
   "outputs": [
    {
     "data": {
      "text/plain": [
       "fnames\n",
       "l000_etude                     272.5530\n",
       "l000_soirs                     145.8265\n",
       "l009_danse                     124.5995\n",
       "l066-01_arabesques_premiere    240.7780\n",
       "l066-02_arabesques_deuxieme    213.9330\n",
       "l067_mazurka                   175.9130\n",
       "l068_reverie                   265.4265\n",
       "l069_tarentelle                331.5290\n",
       "l070_ballade                   396.0200\n",
       "l071_valse                     221.4500\n",
       "Name: median_recording, dtype: float64"
      ]
     },
     "execution_count": 5,
     "metadata": {},
     "output_type": "execute_result"
    }
   ],
   "source": [
    "metadata.median_recording.head(10)"
   ]
  },
  {
   "cell_type": "markdown",
   "metadata": {},
   "source": [
    "Columns mirroring a piece's activity are currently:\n",
    "* `qb_per_minute`: the pieces' lengths (expressed as 'qb' = quarterbeats) normalized by the median recording times; a proxy for the tempo\n",
    "* `sounding_notes_per_minute`: the summed length of all notes normalized by the piece's duration (in minutes)\n",
    "* `sounding_notes_per_qb`: the summed length of all notes normalized by the piece's length (in qb)\n",
    "Other measures of activity could be, for example, 'onsets per beat/second' or 'distinct pitch classes per beat/second'."
   ]
  },
  {
   "cell_type": "markdown",
   "metadata": {
    "pycharm": {
     "name": "#%% md\n"
    }
   },
   "source": [
    "## Loading human analysis data"
   ]
  },
  {
   "cell_type": "code",
   "execution_count": 6,
   "metadata": {},
   "outputs": [
    {
     "data": {
      "text/html": [
       "<div>\n",
       "<style scoped>\n",
       "    .dataframe tbody tr th:only-of-type {\n",
       "        vertical-align: middle;\n",
       "    }\n",
       "\n",
       "    .dataframe tbody tr th {\n",
       "        vertical-align: top;\n",
       "    }\n",
       "\n",
       "    .dataframe thead th {\n",
       "        text-align: right;\n",
       "    }\n",
       "</style>\n",
       "<table border=\"1\" class=\"dataframe\">\n",
       "  <thead>\n",
       "    <tr style=\"text-align: right;\">\n",
       "      <th></th>\n",
       "      <th>L</th>\n",
       "      <th>mc_start</th>\n",
       "      <th>mc_start_offset</th>\n",
       "      <th>mc_end</th>\n",
       "      <th>mc_end_offset</th>\n",
       "      <th>structure</th>\n",
       "      <th>transposition</th>\n",
       "      <th>comments</th>\n",
       "      <th>source</th>\n",
       "      <th>fname</th>\n",
       "      <th>from_qb</th>\n",
       "      <th>to_qb</th>\n",
       "    </tr>\n",
       "  </thead>\n",
       "  <tbody>\n",
       "    <tr>\n",
       "      <th>0</th>\n",
       "      <td>70</td>\n",
       "      <td>4.0</td>\n",
       "      <td>0</td>\n",
       "      <td>6.0</td>\n",
       "      <td>0</td>\n",
       "      <td>octa</td>\n",
       "      <td>1,2</td>\n",
       "      <td>NaN</td>\n",
       "      <td>Forte</td>\n",
       "      <td>l070_ballade</td>\n",
       "      <td>12.0</td>\n",
       "      <td>20.0</td>\n",
       "    </tr>\n",
       "    <tr>\n",
       "      <th>1</th>\n",
       "      <td>70</td>\n",
       "      <td>35.0</td>\n",
       "      <td>0</td>\n",
       "      <td>37.0</td>\n",
       "      <td>0</td>\n",
       "      <td>octa</td>\n",
       "      <td>1,2</td>\n",
       "      <td>Eb odd note</td>\n",
       "      <td>Forte</td>\n",
       "      <td>l070_ballade</td>\n",
       "      <td>136.0</td>\n",
       "      <td>144.0</td>\n",
       "    </tr>\n",
       "    <tr>\n",
       "      <th>2</th>\n",
       "      <td>106</td>\n",
       "      <td>7.0</td>\n",
       "      <td>0</td>\n",
       "      <td>10.0</td>\n",
       "      <td>0</td>\n",
       "      <td>acoustic</td>\n",
       "      <td>A acoustic</td>\n",
       "      <td>NaN</td>\n",
       "      <td>Tymoczko</td>\n",
       "      <td>l106_isle</td>\n",
       "      <td>24.0</td>\n",
       "      <td>36.0</td>\n",
       "    </tr>\n",
       "    <tr>\n",
       "      <th>3</th>\n",
       "      <td>106</td>\n",
       "      <td>15.0</td>\n",
       "      <td>0</td>\n",
       "      <td>21.0</td>\n",
       "      <td>0</td>\n",
       "      <td>acoustic</td>\n",
       "      <td>A acoustic</td>\n",
       "      <td>NaN</td>\n",
       "      <td>Tymoczko</td>\n",
       "      <td>l106_isle</td>\n",
       "      <td>56.0</td>\n",
       "      <td>80.0</td>\n",
       "    </tr>\n",
       "    <tr>\n",
       "      <th>4</th>\n",
       "      <td>106</td>\n",
       "      <td>64.0</td>\n",
       "      <td>0</td>\n",
       "      <td>67.0</td>\n",
       "      <td>0</td>\n",
       "      <td>acoustic</td>\n",
       "      <td>A acoustic</td>\n",
       "      <td>NaN</td>\n",
       "      <td>Tymoczko</td>\n",
       "      <td>l106_isle</td>\n",
       "      <td>162.0</td>\n",
       "      <td>174.125</td>\n",
       "    </tr>\n",
       "  </tbody>\n",
       "</table>\n",
       "</div>"
      ],
      "text/plain": [
       "     L  mc_start mc_start_offset  mc_end mc_end_offset structure  \\\n",
       "0   70       4.0               0     6.0             0      octa   \n",
       "1   70      35.0               0    37.0             0      octa   \n",
       "2  106       7.0               0    10.0             0  acoustic   \n",
       "3  106      15.0               0    21.0             0  acoustic   \n",
       "4  106      64.0               0    67.0             0  acoustic   \n",
       "\n",
       "  transposition     comments    source         fname from_qb    to_qb  \n",
       "0           1,2          NaN     Forte  l070_ballade    12.0     20.0  \n",
       "1           1,2  Eb odd note     Forte  l070_ballade   136.0    144.0  \n",
       "2    A acoustic          NaN  Tymoczko     l106_isle    24.0     36.0  \n",
       "3    A acoustic          NaN  Tymoczko     l106_isle    56.0     80.0  \n",
       "4    A acoustic          NaN  Tymoczko     l106_isle   162.0  174.125  "
      ]
     },
     "execution_count": 6,
     "metadata": {},
     "output_type": "execute_result"
    }
   ],
   "source": [
    "analyses = get_human_analyses(DEBUSSY_REPO)\n",
    "analyses.head()"
   ]
  },
  {
   "cell_type": "markdown",
   "metadata": {},
   "source": [
    "## Loading Pitch Class Vectors (PCVs)\n",
    "An `{fname -> pd.DataFrame}` dictionary where each `(NX12)` DataFrame contains the absolute durations (expressed in quarter nots) of the 12 chromatic pitch classes for the `N` slices of length = 1 quarter note that make up the piece `fname`. The IntervalIndex reflects each slice's position in the piece. Set `pandas` to False to retrieve NumPy arrays without the IntervalIndex and column names."
   ]
  },
  {
   "cell_type": "code",
   "execution_count": 7,
   "metadata": {},
   "outputs": [
    {
     "name": "stdout",
     "output_type": "stream",
     "text": [
      "Found matrices for all files listed in metadata.tsv.\n"
     ]
    },
    {
     "data": {
      "text/html": [
       "<div>\n",
       "<style scoped>\n",
       "    .dataframe tbody tr th:only-of-type {\n",
       "        vertical-align: middle;\n",
       "    }\n",
       "\n",
       "    .dataframe tbody tr th {\n",
       "        vertical-align: top;\n",
       "    }\n",
       "\n",
       "    .dataframe thead th {\n",
       "        text-align: right;\n",
       "    }\n",
       "</style>\n",
       "<table border=\"1\" class=\"dataframe\">\n",
       "  <thead>\n",
       "    <tr style=\"text-align: right;\">\n",
       "      <th></th>\n",
       "      <th>0</th>\n",
       "      <th>1</th>\n",
       "      <th>2</th>\n",
       "      <th>3</th>\n",
       "      <th>4</th>\n",
       "      <th>5</th>\n",
       "      <th>6</th>\n",
       "      <th>7</th>\n",
       "      <th>8</th>\n",
       "      <th>9</th>\n",
       "      <th>10</th>\n",
       "      <th>11</th>\n",
       "    </tr>\n",
       "    <tr>\n",
       "      <th>iv</th>\n",
       "      <th></th>\n",
       "      <th></th>\n",
       "      <th></th>\n",
       "      <th></th>\n",
       "      <th></th>\n",
       "      <th></th>\n",
       "      <th></th>\n",
       "      <th></th>\n",
       "      <th></th>\n",
       "      <th></th>\n",
       "      <th></th>\n",
       "      <th></th>\n",
       "    </tr>\n",
       "  </thead>\n",
       "  <tbody>\n",
       "    <tr>\n",
       "      <th>[0.0, 1.0)</th>\n",
       "      <td>0.0</td>\n",
       "      <td>1.0</td>\n",
       "      <td>0.0</td>\n",
       "      <td>0.0</td>\n",
       "      <td>0.0</td>\n",
       "      <td>0.0</td>\n",
       "      <td>0.0</td>\n",
       "      <td>0.5</td>\n",
       "      <td>0.0</td>\n",
       "      <td>0.5</td>\n",
       "      <td>0.5</td>\n",
       "      <td>0.0</td>\n",
       "    </tr>\n",
       "    <tr>\n",
       "      <th>[1.0, 2.0)</th>\n",
       "      <td>0.0</td>\n",
       "      <td>2.0</td>\n",
       "      <td>0.0</td>\n",
       "      <td>0.0</td>\n",
       "      <td>0.0</td>\n",
       "      <td>1.0</td>\n",
       "      <td>0.0</td>\n",
       "      <td>0.0</td>\n",
       "      <td>0.0</td>\n",
       "      <td>0.0</td>\n",
       "      <td>0.0</td>\n",
       "      <td>0.0</td>\n",
       "    </tr>\n",
       "    <tr>\n",
       "      <th>[2.0, 3.0)</th>\n",
       "      <td>0.0</td>\n",
       "      <td>1.5</td>\n",
       "      <td>0.0</td>\n",
       "      <td>0.0</td>\n",
       "      <td>0.0</td>\n",
       "      <td>0.0</td>\n",
       "      <td>0.0</td>\n",
       "      <td>0.5</td>\n",
       "      <td>0.0</td>\n",
       "      <td>0.5</td>\n",
       "      <td>0.5</td>\n",
       "      <td>0.0</td>\n",
       "    </tr>\n",
       "    <tr>\n",
       "      <th>[3.0, 4.0)</th>\n",
       "      <td>0.0</td>\n",
       "      <td>1.0</td>\n",
       "      <td>0.0</td>\n",
       "      <td>0.0</td>\n",
       "      <td>0.0</td>\n",
       "      <td>0.0</td>\n",
       "      <td>0.0</td>\n",
       "      <td>0.5</td>\n",
       "      <td>0.0</td>\n",
       "      <td>0.5</td>\n",
       "      <td>0.0</td>\n",
       "      <td>0.5</td>\n",
       "    </tr>\n",
       "    <tr>\n",
       "      <th>[4.0, 5.0)</th>\n",
       "      <td>0.0</td>\n",
       "      <td>2.0</td>\n",
       "      <td>0.0</td>\n",
       "      <td>0.0</td>\n",
       "      <td>0.0</td>\n",
       "      <td>0.0</td>\n",
       "      <td>1.0</td>\n",
       "      <td>0.0</td>\n",
       "      <td>0.0</td>\n",
       "      <td>0.0</td>\n",
       "      <td>0.0</td>\n",
       "      <td>0.0</td>\n",
       "    </tr>\n",
       "  </tbody>\n",
       "</table>\n",
       "</div>"
      ],
      "text/plain": [
       "              0    1    2    3    4    5    6    7    8    9   10   11\n",
       "iv                                                                    \n",
       "[0.0, 1.0)  0.0  1.0  0.0  0.0  0.0  0.0  0.0  0.5  0.0  0.5  0.5  0.0\n",
       "[1.0, 2.0)  0.0  2.0  0.0  0.0  0.0  1.0  0.0  0.0  0.0  0.0  0.0  0.0\n",
       "[2.0, 3.0)  0.0  1.5  0.0  0.0  0.0  0.0  0.0  0.5  0.0  0.5  0.5  0.0\n",
       "[3.0, 4.0)  0.0  1.0  0.0  0.0  0.0  0.0  0.0  0.5  0.0  0.5  0.0  0.5\n",
       "[4.0, 5.0)  0.0  2.0  0.0  0.0  0.0  0.0  1.0  0.0  0.0  0.0  0.0  0.0"
      ]
     },
     "execution_count": 7,
     "metadata": {},
     "output_type": "execute_result"
    }
   ],
   "source": [
    "pcvs = get_pcvs(DEBUSSY_REPO, pandas=True)\n",
    "test_dict_keys(pcvs, metadata)\n",
    "pcvs[EXAMPLE_FNAME].head(5)"
   ]
  },
  {
   "cell_type": "markdown",
   "metadata": {},
   "source": [
    "## Loading Pitch Class Matrices\n",
    "An `{fname -> np.array}` dictionary where each `(NxNx12)` array contains the aggregated PCVs for all segments that make up a piece. The square matrices contain values only in the upper right triangle, with the lower left beneath the diagonal is filled with zeros. The values are arranged such that row 0 correponds to the original PCV, row 1 the aggregated PCVs for all segments of length = 2 quarter notes, etc. For getting the segment reaching from slice 3 to 5 (including), i.e. length 3, the coordinates are `(2, 5)` (think x = 'length - 1' and y = index of the last slice included). The following example shows the upper left 3x3 submatrix where the first three entries (which are PCVs of size 12) correspond to the first three PCVs above, the first three of the second row to their sums padded with a 0-PCV, and the first three of the third row corresponding to the sum of row 0, padded with another 0-PCV."
   ]
  },
  {
   "cell_type": "code",
   "execution_count": 8,
   "metadata": {},
   "outputs": [
    {
     "name": "stdout",
     "output_type": "stream",
     "text": [
      "Found matrices for all files listed in metadata.tsv.\n"
     ]
    },
    {
     "data": {
      "text/plain": [
       "(24976, 12)"
      ]
     },
     "execution_count": 8,
     "metadata": {},
     "output_type": "execute_result"
    }
   ],
   "source": [
    "pcms = get_pcms(DEBUSSY_REPO, long=LONG_FORMAT)\n",
    "test_dict_keys(pcms, metadata)\n",
    "pcms[EXAMPLE_FNAME].shape"
   ]
  },
  {
   "cell_type": "markdown",
   "metadata": {},
   "source": [
    "## Loading Discrete Fourier Transforms\n",
    "`{fname -> np.array}` containing `(NxNx7)` complex matrices. For instance, here's the first element, a size 7 complex vector with DFT coefficients 0 through 6:"
   ]
  },
  {
   "cell_type": "code",
   "execution_count": 9,
   "metadata": {},
   "outputs": [
    {
     "name": "stdout",
     "output_type": "stream",
     "text": [
      "Found matrices for all files listed in metadata.tsv.\n"
     ]
    },
    {
     "data": {
      "text/plain": [
       "(24976, 7)"
      ]
     },
     "execution_count": 9,
     "metadata": {},
     "output_type": "execute_result"
    }
   ],
   "source": [
    "dfts = get_dfts(DEBUSSY_REPO, long=LONG_FORMAT)\n",
    "test_dict_keys(dfts, metadata)\n",
    "dfts[EXAMPLE_FNAME].shape"
   ]
  },
  {
   "cell_type": "markdown",
   "metadata": {},
   "source": [
    "You can view the 7 complex numbers as magnitude-phase pairs"
   ]
  },
  {
   "cell_type": "code",
   "execution_count": 10,
   "metadata": {},
   "outputs": [
    {
     "data": {
      "text/plain": [
       "array([[ 2.5 ,  0.  ],\n",
       "       [ 0.97,  0.79],\n",
       "       [ 0.87, -1.57],\n",
       "       [ 1.12, -2.03],\n",
       "       [ 1.8 , -1.85],\n",
       "       [ 0.26, -2.36],\n",
       "       [ 1.5 ,  3.14]])"
      ]
     },
     "execution_count": 10,
     "metadata": {},
     "output_type": "execute_result"
    }
   ],
   "source": [
    "get_coeff(dfts[EXAMPLE_FNAME], 0, 0)"
   ]
  },
  {
   "cell_type": "markdown",
   "metadata": {},
   "source": [
    "or even as strings where the numbers are rounded and angles are shown in degrees:"
   ]
  },
  {
   "cell_type": "code",
   "execution_count": 11,
   "metadata": {},
   "outputs": [
    {
     "data": {
      "text/plain": [
       "array([['2.5+0°'],\n",
       "       ['0.97+315°'],\n",
       "       ['0.87+90°'],\n",
       "       ['1.12+117°'],\n",
       "       ['1.8+106°'],\n",
       "       ['0.26+135°'],\n",
       "       ['1.5+180°']], dtype='<U9')"
      ]
     },
     "execution_count": 11,
     "metadata": {},
     "output_type": "execute_result"
    }
   ],
   "source": [
    "get_coeff(dfts[EXAMPLE_FNAME], 0, 0, deg=True)"
   ]
  },
  {
   "cell_type": "markdown",
   "metadata": {},
   "source": [
    "## Loading magnitude-phase matrices\n",
    "`{fname -> np.array}` where each of the `(NxNx6x2)` matrices contains the 6 relevant DFT coefficients converted into magnitude-phase pairs where the magnitudes have undergone at least one normalization, i.e. are all within [0,1]. The files have been pre-computed and are loaded from g-zipped pickled matrices.\n",
    "\n",
    "The parameter `norm_params` can be one or several `(how, indulge)` pairs where `indulge` is a boolean and `how ∈ {'0c', 'post_norm', 'max_weighted', 'max'}`."
   ]
  },
  {
   "cell_type": "code",
   "execution_count": 12,
   "metadata": {},
   "outputs": [
    {
     "name": "stdout",
     "output_type": "stream",
     "text": [
      "Found matrices for all files listed in metadata.tsv.\n"
     ]
    },
    {
     "data": {
      "text/plain": [
       "(24976, 6, 2)"
      ]
     },
     "execution_count": 12,
     "metadata": {},
     "output_type": "execute_result"
    }
   ],
   "source": [
    "norm_params = ('0c', True)\n",
    "mag_phase_mx_dict = get_mag_phase_mx(DATA_FOLDER, norm_params=norm_params, long=LONG_FORMAT)\n",
    "test_dict_keys(mag_phase_mx_dict, metadata)\n",
    "mag_phase_mx_dict[EXAMPLE_FNAME].shape\n"
   ]
  },
  {
   "cell_type": "code",
   "execution_count": 13,
   "metadata": {
    "pycharm": {
     "name": "#%%\n"
    }
   },
   "outputs": [
    {
     "data": {
      "text/plain": [
       "(24976, 1)"
      ]
     },
     "execution_count": 13,
     "metadata": {},
     "output_type": "execute_result"
    }
   ],
   "source": [
    "mpm = mag_phase_mx_dict[EXAMPLE_FNAME]\n",
    "colors = circular_hue(mpm[...,1,:], output_rgba=True, ignore_phase=True)\n",
    "colors.shape"
   ]
  },
  {
   "cell_type": "code",
   "execution_count": 14,
   "metadata": {
    "pycharm": {
     "name": "#%%\n"
    }
   },
   "outputs": [
    {
     "data": {
      "text/plain": [
       "(223, 223)"
      ]
     },
     "execution_count": 14,
     "metadata": {},
     "output_type": "execute_result"
    }
   ],
   "source": [
    "circular_hue(long2utm(mpm[..., 1, :])).shape"
   ]
  },
  {
   "cell_type": "code",
   "execution_count": 15,
   "metadata": {
    "pycharm": {
     "name": "#%%\n"
    }
   },
   "outputs": [
    {
     "data": {
      "text/plain": [
       "(223, 223)"
      ]
     },
     "execution_count": 15,
     "metadata": {},
     "output_type": "execute_result"
    }
   ],
   "source": [
    "long2utm(colors)[...,0].shape"
   ]
  },
  {
   "cell_type": "markdown",
   "metadata": {
    "pycharm": {
     "name": "#%% md\n"
    }
   },
   "source": [
    "Note that the phases (2nd column) are the same that we inspected above via `get_coeff()` whereas the magnitudes are now normalized by the first (now absent) coefficient 0."
   ]
  },
  {
   "cell_type": "code",
   "execution_count": 16,
   "metadata": {},
   "outputs": [
    {
     "data": {
      "text/plain": [
       "array([[ 0.4       ,  0.78539816],\n",
       "       [ 0.4       , -1.57079633],\n",
       "       [ 0.6       , -2.03444394],\n",
       "       [ 1.        , -1.85183123],\n",
       "       [ 0.10717968, -2.35619449],\n",
       "       [ 0.6       ,  3.14159265]])"
      ]
     },
     "execution_count": 16,
     "metadata": {},
     "output_type": "execute_result"
    }
   ],
   "source": [
    "mag_phase_mx_dict[EXAMPLE_FNAME][0]"
   ]
  },
  {
   "cell_type": "markdown",
   "metadata": {},
   "source": [
    "## Loading most resonant DFT coefficients\n",
    "This cell depends on the previously loaded magnitude-phase matrices, i.e. a conscious choice of a normalization method has been made above.\n",
    "\n",
    "`get_most_resonant` returns three `{fname -> nd.array}` dictionaries where for each piece, the three `(NxN)` matrices correspond to\n",
    "\n",
    "1. the index between 0 and 5 of the most resonant of the six DFT coefficient 1 through 6\n",
    "2. its magnitude\n",
    "3. the inverse entropy of the 6 magnitudes"
   ]
  },
  {
   "cell_type": "code",
   "execution_count": 17,
   "metadata": {},
   "outputs": [
    {
     "name": "stderr",
     "output_type": "stream",
     "text": [
      "/home/hentsche/miniconda3/lib/python3.9/site-packages/scipy/stats/_entropy.py:77: RuntimeWarning: invalid value encountered in true_divide\n",
      "  pk = 1.0*pk / np.sum(pk, axis=axis, keepdims=True)\n"
     ]
    },
    {
     "data": {
      "text/plain": [
       "array([[3.        , 1.        , 0.21324779],\n",
       "       [2.        , 1.        , 0.04483897],\n",
       "       [3.        , 1.        , 0.11747646]])"
      ]
     },
     "execution_count": 17,
     "metadata": {},
     "output_type": "execute_result"
    }
   ],
   "source": [
    "max_coeffs, max_mags, inv_entropies = get_most_resonant(mag_phase_mx_dict, )\n",
    "np.column_stack((max_coeffs[EXAMPLE_FNAME][:3],\n",
    "max_mags[EXAMPLE_FNAME][:3],\n",
    "inv_entropies[EXAMPLE_FNAME][:3]))"
   ]
  },
  {
   "cell_type": "markdown",
   "metadata": {},
   "source": [
    "## Loading major, minor, and tritone correlations\n",
    "\n",
    "This cell loads pickled matrices. To re-compute correlations from pitch-class matrices, use `get_maj_min_coeffs()` for major and minor correlations and `get_ttms()` for tritone-ness matrices."
   ]
  },
  {
   "cell_type": "code",
   "execution_count": 18,
   "metadata": {},
   "outputs": [
    {
     "name": "stdout",
     "output_type": "stream",
     "text": [
      "Found matrices for all files listed in metadata.tsv.\n"
     ]
    },
    {
     "data": {
      "text/plain": [
       "(24976, 3)"
      ]
     },
     "execution_count": 18,
     "metadata": {},
     "output_type": "execute_result"
    }
   ],
   "source": [
    "correl_dict = get_correlations(DATA_FOLDER, long=LONG_FORMAT)\n",
    "test_dict_keys(correl_dict, metadata)\n",
    "correl_dict[EXAMPLE_FNAME].shape"
   ]
  },
  {
   "cell_type": "markdown",
   "metadata": {
    "pycharm": {
     "name": "#%% md\n"
    }
   },
   "source": [
    "## Loading pickled 9-fold vectors\n",
    "\n",
    "The function is a shortcut for\n",
    "* loading a particular kind of pickled normalized magnitude-phase-matrices\n",
    "* loading pickled tritone, major, and minor coefficients\n",
    "* concatenating them toegther"
   ]
  },
  {
   "cell_type": "code",
   "execution_count": 19,
   "metadata": {
    "pycharm": {
     "name": "#%%\n"
    }
   },
   "outputs": [
    {
     "name": "stdout",
     "output_type": "stream",
     "text": [
      "Found matrices for all files listed in metadata.tsv.\n"
     ]
    },
    {
     "data": {
      "text/plain": [
       "(24976, 9)"
      ]
     },
     "execution_count": 19,
     "metadata": {},
     "output_type": "execute_result"
    }
   ],
   "source": [
    "norm_params = ('0c', True)\n",
    "ninefold_dict = make_feature_vectors(DATA_FOLDER, norm_params=norm_params, long=LONG_FORMAT)\n",
    "test_dict_keys(ninefold_dict, metadata)\n",
    "ninefold_dict[EXAMPLE_FNAME].shape"
   ]
  },
  {
   "cell_type": "markdown",
   "metadata": {},
   "source": [
    "## Minimal example for drawing a wavescape"
   ]
  },
  {
   "cell_type": "code",
   "execution_count": 20,
   "metadata": {},
   "outputs": [],
   "source": [
    "#metadata.index.unique()"
   ]
  },
  {
   "cell_type": "code",
   "execution_count": 21,
   "metadata": {},
   "outputs": [],
   "source": [
    "examples_ambiguous = ['l123-08_preludes_ondine', 'l110-01_images_reflets']\n",
    "examples_plain = ['l075-03_suite_clair', 'l066-01_arabesques_premiere']"
   ]
  },
  {
   "cell_type": "code",
   "execution_count": 25,
   "metadata": {},
   "outputs": [
    {
     "name": "stdout",
     "output_type": "stream",
     "text": [
      "(223, 223, 6)\n",
      "(190, 190, 6)\n"
     ]
    }
   ],
   "source": [
    "import matplotlib.pyplot as plt\n",
    "\n",
    "for EXAMPLE_FNAME in examples_ambiguous:\n",
    "    wv_cols = circular_hue(mag_phase_mx_dict[EXAMPLE_FNAME])\n",
    "    if LONG_FORMAT:\n",
    "        wv_cols = long2utm(wv_cols)\n",
    "    length = wv_cols.shape[0]\n",
    "    width = 500 if length <= 250 else 2 * length\n",
    "    print(wv_cols.shape)\n",
    "    for coeff in range(6):\n",
    "        ws = Wavescape(wv_cols[...,coeff], width=width)\n",
    "        ws.draw()\n",
    "        plt.suptitle(f\"{EXAMPLE_FNAME}: c{coeff+1}\", fontsize=14)\n",
    "        #plt.legend(handles=patches)\n",
    "        plt.savefig('./figures/' + f\"{EXAMPLE_FNAME}-c{coeff+1}\")\n",
    "        plt.close()\n",
    "        "
   ]
  },
  {
   "cell_type": "markdown",
   "metadata": {},
   "source": [
    "## Drawing summary wavescapes and their associated color legend\n",
    "\n",
    "Colour legend for most resonant coefficients:\n",
    "\n",
    "![legend](legend.png)"
   ]
  },
  {
   "cell_type": "code",
   "execution_count": 26,
   "metadata": {
    "pycharm": {
     "name": "#%%\n"
    }
   },
   "outputs": [],
   "source": [
    "for EXAMPLE_FNAME in examples_ambiguous+examples_plain:\n",
    "    max_coeff, max_mag, inv_entropy = max_coeffs[EXAMPLE_FNAME], max_mags[EXAMPLE_FNAME], inv_entropies[EXAMPLE_FNAME]\n",
    "    if LONG_FORMAT:\n",
    "        max_coeff, max_mag, inv_entropy = long2utm(max_coeff), long2utm(max_mag), long2utm(inv_entropy)\n",
    "    draw_settings = dict(label_size=5, aw_per_tick=10, tick_factor=10, tight_layout=False)\n",
    "    length = max_coeff.shape[0]\n",
    "    width = 500 if length <= 250 else 2 * length\n",
    "    summary_by_max = most_resonant2color(max_coeff, max_mag)\n",
    "    ws = Wavescape(summary_by_max, width=width)\n",
    "    ws.draw(label=f\"Summary wavescape for {EXAMPLE_FNAME}\\nOpacity = magnitude of the most resonant\", **draw_settings)\n",
    "    plt.savefig('./figures/' + str(EXAMPLE_FNAME + '_summary_wavescape_mg') + '.png')\n",
    "    plt.close()\n",
    "    "
   ]
  },
  {
   "cell_type": "code",
   "execution_count": 27,
   "metadata": {},
   "outputs": [],
   "source": [
    "for EXAMPLE_FNAME in examples_ambiguous+examples_plain:\n",
    "    max_coeff, max_mag, inv_entropy = max_coeffs[EXAMPLE_FNAME], max_mags[EXAMPLE_FNAME], inv_entropies[EXAMPLE_FNAME]\n",
    "    if LONG_FORMAT:\n",
    "        max_coeff, max_mag, inv_entropy = long2utm(max_coeff), long2utm(max_mag), long2utm(inv_entropy)\n",
    "    draw_settings = dict(label_size=5, aw_per_tick=10, tick_factor=10, tight_layout=False)\n",
    "    length = max_coeff.shape[0]\n",
    "    width = 500 if length <= 250 else 2 * length\n",
    "    summary_by_ent = most_resonant2color(max_coeff, inv_entropy)\n",
    "    ws = Wavescape(summary_by_ent, width=width)\n",
    "    ws.draw(label=f\"Summary wavescape for {EXAMPLE_FNAME}\\nOpacity = inverse entropy of the 6 coeffs\", **draw_settings)\n",
    "    plt.savefig('./figures/' + str(EXAMPLE_FNAME + '_summary_wavescape_ent') + '.png')\n",
    "    plt.close()\n",
    "    "
   ]
  },
  {
   "cell_type": "code",
   "execution_count": null,
   "metadata": {},
   "outputs": [],
   "source": []
  }
 ],
 "metadata": {
  "interpreter": {
   "hash": "8e2673524e24647dcb01ed6037d323486da29d546bf954a37cc5c6513d25d62d"
  },
  "kernelspec": {
   "display_name": "base",
   "language": "python",
   "name": "base"
  },
  "language_info": {
   "codemirror_mode": {
    "name": "ipython",
    "version": 3
   },
   "file_extension": ".py",
   "mimetype": "text/x-python",
   "name": "python",
   "nbconvert_exporter": "python",
   "pygments_lexer": "ipython3",
   "version": "3.9.12"
  }
 },
 "nbformat": 4,
 "nbformat_minor": 4
}
