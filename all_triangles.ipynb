{
 "cells": [
  {
   "cell_type": "markdown",
   "metadata": {},
   "source": [
    "`python3 -m pip install -U pandas plotly nbformat`\n",
    "\n",
    "`pip install \"https://github.com/DCMLab/wavescapes/archive/refs/heads/johannes.zip\"`"
   ]
  },
  {
   "cell_type": "code",
   "execution_count": 1,
   "metadata": {
    "scrolled": true
   },
   "outputs": [],
   "source": [
    "import pandas as pd\n",
    "%reload_ext autoreload\n",
    "%autoreload 2\n",
    "import pandas as pd\n",
    "from itertools import repeat\n",
    "from etl import get_metadata, test_dict_keys, make_feature_vectors\n",
    "from utils import longn2squaren"
   ]
  },
  {
   "cell_type": "markdown",
   "metadata": {},
   "source": [
    "## Settings"
   ]
  },
  {
   "cell_type": "code",
   "execution_count": 2,
   "metadata": {},
   "outputs": [],
   "source": [
    "DEBUSSY_REPO = '.'\n",
    "DATA_FOLDER = '~/DATA/debussy_figures/data'\n",
    "#DATA_FOLDER = './data/data'\n",
    "EXAMPLE_FNAME = 'l000_etude'\n",
    "LONG_FORMAT = True"
   ]
  },
  {
   "cell_type": "markdown",
   "metadata": {},
   "source": [
    "## Loading metadata\n",
    "Metadata for all pieces contained in the dataset."
   ]
  },
  {
   "cell_type": "code",
   "execution_count": 3,
   "metadata": {},
   "outputs": [
    {
     "name": "stdout",
     "output_type": "stream",
     "text": [
      "Metadata for 82 files.\n"
     ]
    },
    {
     "data": {
      "text/plain": "Index(['rel_paths', 'last_mc', 'last_mn', 'length_qb', 'length_qb_unfolded',\n       'all_notes_qb', 'n_onsets', 'TimeSig', 'KeySig', 'label_count',\n       'composer', 'workTitle', 'movementNumber', 'movementTitle',\n       'workNumber', 'poet', 'lyricist', 'arranger', 'copyright',\n       'creationDate', 'mscVersion', 'platform', 'source', 'translator',\n       'musescore', 'ambitus', 'comment', 'comments', 'composed_end',\n       'composed_start', 'originalFormat', 'pdf', 'staff_1_ambitus',\n       'staff_1_instrument', 'staff_2_ambitus', 'staff_2_instrument',\n       'staff_3_ambitus', 'staff_3_instrument', 'transcriber', 'typesetter',\n       'year', 'median_recording', 'qb_per_minute', 'sounding_notes_per_qb',\n       'sounding_notes_per_minute'],\n      dtype='object')"
     },
     "execution_count": 3,
     "metadata": {},
     "output_type": "execute_result"
    }
   ],
   "source": [
    "metadata = get_metadata(DEBUSSY_REPO)\n",
    "metadata.columns"
   ]
  },
  {
   "cell_type": "markdown",
   "metadata": {},
   "source": [
    "The column `year` contains composition years as the middle between beginning and end  of the composition span."
   ]
  },
  {
   "cell_type": "code",
   "execution_count": 4,
   "metadata": {},
   "outputs": [
    {
     "data": {
      "text/plain": "fnames\nl000_etude                     1915.0\nl000_soirs                     1917.0\nl009_danse                     1880.0\nl066-01_arabesques_premiere    1888.0\nl066-02_arabesques_deuxieme    1891.0\nl067_mazurka                   1890.0\nl068_reverie                   1890.0\nl069_tarentelle                1890.0\nl070_ballade                   1890.0\nl071_valse                     1890.0\nName: year, dtype: float64"
     },
     "execution_count": 4,
     "metadata": {},
     "output_type": "execute_result"
    }
   ],
   "source": [
    "metadata.year.head(10)"
   ]
  },
  {
   "cell_type": "markdown",
   "metadata": {},
   "source": [
    "Series `median_recording` contains median recording times in seconds, retrieved from the Spotify API. the Spotify API."
   ]
  },
  {
   "cell_type": "code",
   "execution_count": 5,
   "metadata": {},
   "outputs": [
    {
     "data": {
      "text/plain": "fnames\nl000_etude                     272.5530\nl000_soirs                     145.8265\nl009_danse                     124.5995\nl066-01_arabesques_premiere    240.7780\nl066-02_arabesques_deuxieme    213.9330\nl067_mazurka                   175.9130\nl068_reverie                   265.4265\nl069_tarentelle                331.5290\nl070_ballade                   396.0200\nl071_valse                     221.4500\nName: median_recording, dtype: float64"
     },
     "execution_count": 5,
     "metadata": {},
     "output_type": "execute_result"
    }
   ],
   "source": [
    "metadata.median_recording.head(10)"
   ]
  },
  {
   "cell_type": "markdown",
   "metadata": {},
   "source": [
    "Columns mirroring a piece's activity are currently:\n",
    "* `qb_per_minute`: the pieces' lengths (expressed as 'qb' = quarterbeats) normalized by the median recording times; a proxy for the tempo\n",
    "* `sounding_notes_per_minute`: the summed length of all notes normalized by the piece's duration (in minutes)\n",
    "* `sounding_notes_per_qb`: the summed length of all notes normalized by the piece's length (in qb)\n",
    "Other measures of activity could be, for example, 'onsets per beat/second' or 'distinct pitch classes per beat/second'."
   ]
  },
  {
   "cell_type": "markdown",
   "metadata": {},
   "source": [
    "## Loading pickled 9-fold vectors\n",
    "\n",
    "The function is a shortcut for\n",
    "* loading a particular kind of pickled normalized magnitude-phase-matrices\n",
    "* loading pickled tritone, major, and minor coefficients\n",
    "* concatenating them toegther"
   ]
  },
  {
   "cell_type": "code",
   "execution_count": 6,
   "metadata": {},
   "outputs": [
    {
     "name": "stdout",
     "output_type": "stream",
     "text": [
      "Found matrices for all files listed in metadata.tsv.\n",
      "Maximum number of nodes per wavescape: 653796. Length of bottom row: 1143\n"
     ]
    }
   ],
   "source": [
    "norm_params = ('0c', True)\n",
    "ninefold_dict = make_feature_vectors(DATA_FOLDER, norm_params=norm_params, long=LONG_FORMAT)\n",
    "test_dict_keys(ninefold_dict, metadata)\n",
    "longest = max(a.shape for a in ninefold_dict.values())[0]\n",
    "print(f\"Maximum number of nodes per wavescape: {longest}. Length of bottom row: {longn2squaren(longest)}\")"
   ]
  },
  {
   "cell_type": "markdown",
   "source": [
    "## Creating the meta index\n",
    "\n",
    "Since the feature vectors are already in long format, we just need to concatenate them. In order to create a meta index for the ~4.8 million triangles, we assign IDs 0..81 to the\n",
    "82 pieces in the (lexicographical) order in which they are listed in the metadata.tsv. In order to make the IDs robust to later changes in the scores' lengths, we have index 0 for every piece begin with meta index `ID * 1,000,000`. For example, index 3 of the last piece corresponds to meta index `81000003`. From the metaindex we get back to (ID, ix) via `divmod(81000003, 1000000) => (81, 3)`."
   ],
   "metadata": {
    "collapsed": false,
    "pycharm": {
     "name": "#%% md\n"
    }
   }
  },
  {
   "cell_type": "code",
   "execution_count": 7,
   "outputs": [
    {
     "name": "stdout",
     "output_type": "stream",
     "text": [
      "ID 0 corresponds to 'l000_etude' with length = 284 quarters and duration = 272.553 seconds.\n"
     ]
    }
   ],
   "source": [
    "id2fname = dict(enumerate(metadata.index))\n",
    "id2lengths = {id: (longn2squaren(ninefold_dict[fname].shape[0]), duration)\n",
    "  for id, (fname, duration) in enumerate(metadata[['median_recording']].itertuples(name=None))\n",
    "}\n",
    "print(f\"ID 0 corresponds to '{id2fname[0]}' with length = {id2lengths[0][0]} quarters and duration = {id2lengths[0][1]} seconds.\")"
   ],
   "metadata": {
    "collapsed": false,
    "pycharm": {
     "name": "#%%\n"
    }
   }
  },
  {
   "cell_type": "markdown",
   "source": [
    "The DataFrame `meta_index` has the meta index as index and the metadata for each corresponding triangle:\n",
    "* `abs_length`: triangles length in quarters\n",
    "* `abs_start`: index of the triangles left-most node\n",
    "* `rel_length`, `rel_start`: the same values divided by the wavescape's width\n",
    "* `duration`: the triangle's absolute duration in seconds, based on the median of several commercial recordings"
   ],
   "metadata": {
    "collapsed": false,
    "pycharm": {
     "name": "#%% md\n"
    }
   }
  },
  {
   "cell_type": "code",
   "execution_count": 8,
   "outputs": [
    {
     "data": {
      "text/plain": "            abs_length  abs_start  rel_length  rel_start    duration\nmeta_index                                                          \n0                    1          0    0.003521   0.000000    0.959694\n1                    1          1    0.003521   0.003521    0.959694\n2                    1          2    0.003521   0.007042    0.959694\n3                    1          3    0.003521   0.010563    0.959694\n4                    1          4    0.003521   0.014085    0.959694\n...                ...        ...         ...        ...         ...\n81003398            80          1    0.975610   0.012195  130.705366\n81003399            80          2    0.975610   0.024390  130.705366\n81003400            81          0    0.987805   0.000000  132.339183\n81003401            81          1    0.987805   0.012195  132.339183\n81003402            82          0    1.000000   0.000000  133.973000\n\n[4776597 rows x 5 columns]",
      "text/html": "<div>\n<style scoped>\n    .dataframe tbody tr th:only-of-type {\n        vertical-align: middle;\n    }\n\n    .dataframe tbody tr th {\n        vertical-align: top;\n    }\n\n    .dataframe thead th {\n        text-align: right;\n    }\n</style>\n<table border=\"1\" class=\"dataframe\">\n  <thead>\n    <tr style=\"text-align: right;\">\n      <th></th>\n      <th>abs_length</th>\n      <th>abs_start</th>\n      <th>rel_length</th>\n      <th>rel_start</th>\n      <th>duration</th>\n    </tr>\n    <tr>\n      <th>meta_index</th>\n      <th></th>\n      <th></th>\n      <th></th>\n      <th></th>\n      <th></th>\n    </tr>\n  </thead>\n  <tbody>\n    <tr>\n      <th>0</th>\n      <td>1</td>\n      <td>0</td>\n      <td>0.003521</td>\n      <td>0.000000</td>\n      <td>0.959694</td>\n    </tr>\n    <tr>\n      <th>1</th>\n      <td>1</td>\n      <td>1</td>\n      <td>0.003521</td>\n      <td>0.003521</td>\n      <td>0.959694</td>\n    </tr>\n    <tr>\n      <th>2</th>\n      <td>1</td>\n      <td>2</td>\n      <td>0.003521</td>\n      <td>0.007042</td>\n      <td>0.959694</td>\n    </tr>\n    <tr>\n      <th>3</th>\n      <td>1</td>\n      <td>3</td>\n      <td>0.003521</td>\n      <td>0.010563</td>\n      <td>0.959694</td>\n    </tr>\n    <tr>\n      <th>4</th>\n      <td>1</td>\n      <td>4</td>\n      <td>0.003521</td>\n      <td>0.014085</td>\n      <td>0.959694</td>\n    </tr>\n    <tr>\n      <th>...</th>\n      <td>...</td>\n      <td>...</td>\n      <td>...</td>\n      <td>...</td>\n      <td>...</td>\n    </tr>\n    <tr>\n      <th>81003398</th>\n      <td>80</td>\n      <td>1</td>\n      <td>0.975610</td>\n      <td>0.012195</td>\n      <td>130.705366</td>\n    </tr>\n    <tr>\n      <th>81003399</th>\n      <td>80</td>\n      <td>2</td>\n      <td>0.975610</td>\n      <td>0.024390</td>\n      <td>130.705366</td>\n    </tr>\n    <tr>\n      <th>81003400</th>\n      <td>81</td>\n      <td>0</td>\n      <td>0.987805</td>\n      <td>0.000000</td>\n      <td>132.339183</td>\n    </tr>\n    <tr>\n      <th>81003401</th>\n      <td>81</td>\n      <td>1</td>\n      <td>0.987805</td>\n      <td>0.012195</td>\n      <td>132.339183</td>\n    </tr>\n    <tr>\n      <th>81003402</th>\n      <td>82</td>\n      <td>0</td>\n      <td>1.000000</td>\n      <td>0.000000</td>\n      <td>133.973000</td>\n    </tr>\n  </tbody>\n</table>\n<p>4776597 rows × 5 columns</p>\n</div>"
     },
     "execution_count": 8,
     "metadata": {},
     "output_type": "execute_result"
    }
   ],
   "source": [
    "def make_meta_ix(id, square_n, duration=None):\n",
    "    result = pd.DataFrame(\n",
    "                  [length_start\n",
    "                   for length, elements in enumerate(range(square_n,0,-1), 1)\n",
    "                   for length_start in zip(repeat(length), range(elements))],\n",
    "                  columns=['abs_length', 'abs_start'])\n",
    "    relative = result / square_n\n",
    "    relative.columns = ['rel_length', 'rel_start']\n",
    "    result = pd.concat([result, relative], axis=1)\n",
    "    if duration is not None:\n",
    "        duration_col = result.rel_length * duration\n",
    "        result = pd.concat([result, duration_col.rename('duration')], axis=1)\n",
    "    result.index += id * 1000000\n",
    "    result.index.name = 'meta_index'\n",
    "    return result\n",
    "\n",
    "meta_index = pd.concat([make_meta_ix(id, square_n, duration) for id, (square_n, duration) in id2lengths.items()])\n",
    "meta_index"
   ],
   "metadata": {
    "collapsed": false,
    "pycharm": {
     "name": "#%%\n"
    }
   }
  },
  {
   "cell_type": "markdown",
   "source": [
    "The following function concatenates any of the `{piece -> array}` dictionaries returned by the various `etl.get...` functions so that the result comes with the metaindex."
   ],
   "metadata": {
    "collapsed": false,
    "pycharm": {
     "name": "#%% md\n"
    }
   }
  },
  {
   "cell_type": "code",
   "execution_count": 9,
   "outputs": [
    {
     "data": {
      "text/plain": "                 0         1         2         3         4         5  \\\n0         0.538214  0.749750  0.833167  0.749750  0.871881  0.666334   \n1         0.444424  0.499500  0.666334  1.000000  0.772102  0.332667   \n2         0.410684  0.166667  0.333333  1.000000  0.744017  0.333333   \n3         0.410684  0.166667  0.333333  1.000000  0.744017  0.333333   \n4         0.444424  0.499500  0.666334  1.000000  0.772102  0.332667   \n...            ...       ...       ...       ...       ...       ...   \n81003398  0.009570  0.271610  0.211400  0.135730  0.455970  0.154236   \n81003399  0.015069  0.275625  0.215225  0.133001  0.456563  0.151566   \n81003400  0.008954  0.269911  0.210078  0.141136  0.457083  0.153272   \n81003401  0.012880  0.278424  0.218777  0.143814  0.461059  0.149676   \n81003402  0.012800  0.276698  0.217421  0.149120  0.462130  0.148748   \n\n                 6         7            8  \n0         0.687347  0.595144     0.000000  \n1         0.670297  0.536056     0.000000  \n2         0.618338  0.463767     0.000000  \n3         0.618338  0.463767     0.000000  \n4         0.670297  0.536056     0.000000  \n...            ...       ...          ...  \n81003398  0.728100  0.850491  1475.255769  \n81003399  0.726680  0.853887  1459.809939  \n81003400  0.730862  0.848490  1491.908615  \n81003401  0.731822  0.852843  1491.407261  \n81003402  0.734513  0.850887  1508.082906  \n\n[4776597 rows x 9 columns]",
      "text/html": "<div>\n<style scoped>\n    .dataframe tbody tr th:only-of-type {\n        vertical-align: middle;\n    }\n\n    .dataframe tbody tr th {\n        vertical-align: top;\n    }\n\n    .dataframe thead th {\n        text-align: right;\n    }\n</style>\n<table border=\"1\" class=\"dataframe\">\n  <thead>\n    <tr style=\"text-align: right;\">\n      <th></th>\n      <th>0</th>\n      <th>1</th>\n      <th>2</th>\n      <th>3</th>\n      <th>4</th>\n      <th>5</th>\n      <th>6</th>\n      <th>7</th>\n      <th>8</th>\n    </tr>\n  </thead>\n  <tbody>\n    <tr>\n      <th>0</th>\n      <td>0.538214</td>\n      <td>0.749750</td>\n      <td>0.833167</td>\n      <td>0.749750</td>\n      <td>0.871881</td>\n      <td>0.666334</td>\n      <td>0.687347</td>\n      <td>0.595144</td>\n      <td>0.000000</td>\n    </tr>\n    <tr>\n      <th>1</th>\n      <td>0.444424</td>\n      <td>0.499500</td>\n      <td>0.666334</td>\n      <td>1.000000</td>\n      <td>0.772102</td>\n      <td>0.332667</td>\n      <td>0.670297</td>\n      <td>0.536056</td>\n      <td>0.000000</td>\n    </tr>\n    <tr>\n      <th>2</th>\n      <td>0.410684</td>\n      <td>0.166667</td>\n      <td>0.333333</td>\n      <td>1.000000</td>\n      <td>0.744017</td>\n      <td>0.333333</td>\n      <td>0.618338</td>\n      <td>0.463767</td>\n      <td>0.000000</td>\n    </tr>\n    <tr>\n      <th>3</th>\n      <td>0.410684</td>\n      <td>0.166667</td>\n      <td>0.333333</td>\n      <td>1.000000</td>\n      <td>0.744017</td>\n      <td>0.333333</td>\n      <td>0.618338</td>\n      <td>0.463767</td>\n      <td>0.000000</td>\n    </tr>\n    <tr>\n      <th>4</th>\n      <td>0.444424</td>\n      <td>0.499500</td>\n      <td>0.666334</td>\n      <td>1.000000</td>\n      <td>0.772102</td>\n      <td>0.332667</td>\n      <td>0.670297</td>\n      <td>0.536056</td>\n      <td>0.000000</td>\n    </tr>\n    <tr>\n      <th>...</th>\n      <td>...</td>\n      <td>...</td>\n      <td>...</td>\n      <td>...</td>\n      <td>...</td>\n      <td>...</td>\n      <td>...</td>\n      <td>...</td>\n      <td>...</td>\n    </tr>\n    <tr>\n      <th>81003398</th>\n      <td>0.009570</td>\n      <td>0.271610</td>\n      <td>0.211400</td>\n      <td>0.135730</td>\n      <td>0.455970</td>\n      <td>0.154236</td>\n      <td>0.728100</td>\n      <td>0.850491</td>\n      <td>1475.255769</td>\n    </tr>\n    <tr>\n      <th>81003399</th>\n      <td>0.015069</td>\n      <td>0.275625</td>\n      <td>0.215225</td>\n      <td>0.133001</td>\n      <td>0.456563</td>\n      <td>0.151566</td>\n      <td>0.726680</td>\n      <td>0.853887</td>\n      <td>1459.809939</td>\n    </tr>\n    <tr>\n      <th>81003400</th>\n      <td>0.008954</td>\n      <td>0.269911</td>\n      <td>0.210078</td>\n      <td>0.141136</td>\n      <td>0.457083</td>\n      <td>0.153272</td>\n      <td>0.730862</td>\n      <td>0.848490</td>\n      <td>1491.908615</td>\n    </tr>\n    <tr>\n      <th>81003401</th>\n      <td>0.012880</td>\n      <td>0.278424</td>\n      <td>0.218777</td>\n      <td>0.143814</td>\n      <td>0.461059</td>\n      <td>0.149676</td>\n      <td>0.731822</td>\n      <td>0.852843</td>\n      <td>1491.407261</td>\n    </tr>\n    <tr>\n      <th>81003402</th>\n      <td>0.012800</td>\n      <td>0.276698</td>\n      <td>0.217421</td>\n      <td>0.149120</td>\n      <td>0.462130</td>\n      <td>0.148748</td>\n      <td>0.734513</td>\n      <td>0.850887</td>\n      <td>1508.082906</td>\n    </tr>\n  </tbody>\n</table>\n<p>4776597 rows × 9 columns</p>\n</div>"
     },
     "execution_count": 9,
     "metadata": {},
     "output_type": "execute_result"
    }
   ],
   "source": [
    "def meta_concat(piece_dict):\n",
    "    return pd.concat([\n",
    "        pd.DataFrame(piece_dict[fname], index=[id*1000000 + i for i in range(piece_dict[fname].shape[0])])\n",
    "        for id, fname in enumerate(metadata.index)\n",
    "    ])\n",
    "\n",
    "concatenated_features = meta_concat(ninefold_dict)\n",
    "concatenated_features"
   ],
   "metadata": {
    "collapsed": false,
    "pycharm": {
     "name": "#%%\n"
    }
   }
  }
 ],
 "metadata": {
  "kernelspec": {
   "name": "integrator",
   "language": "python",
   "display_name": "integrator"
  },
  "language_info": {
   "codemirror_mode": {
    "name": "ipython",
    "version": 3
   },
   "file_extension": ".py",
   "mimetype": "text/x-python",
   "name": "python",
   "nbconvert_exporter": "python",
   "pygments_lexer": "ipython3",
   "version": "3.8.11"
  }
 },
 "nbformat": 4,
 "nbformat_minor": 4
}