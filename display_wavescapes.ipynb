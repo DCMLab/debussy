{
 "cells": [
  {
   "cell_type": "markdown",
   "metadata": {},
   "source": [
    "`python3 -m pip install -U pandas plotly nbformat networkx`\n",
    "\n",
    "`pip install \"https://github.com/DCMLab/wavescapes/archive/refs/heads/johannes.zip\"`"
   ]
  },
  {
   "cell_type": "code",
   "execution_count": 1,
   "metadata": {
    "scrolled": true
   },
   "outputs": [],
   "source": [
    "%reload_ext autoreload\n",
    "%autoreload 2\n",
    "import os\n",
    "\n",
    "from etl import display_wavescapes, get_metadata"
   ]
  },
  {
   "cell_type": "markdown",
   "metadata": {},
   "source": [
    "## Settings\n",
    "The images can only be displayed if the Jupyter server can \"see\" the directory printed below the cell below and it won't throw a warning if it doesn't (except in the log). If you don't see any images below although you sure have set the correct `WAVESCAPE_FOLDER`, you probably need to start the Jupyter server from another directory as it cannot see \"higher\" than its own root. For example, if your wavescapes live on (Windows) drive D: you need to start the server on that drive."
   ]
  },
  {
   "cell_type": "code",
   "execution_count": 2,
   "metadata": {},
   "outputs": [
    {
     "name": "stdout",
     "output_type": "stream",
     "text": [
      "../DATA/debussy_figures/wavescapes\n"
     ]
    }
   ],
   "source": [
    "DEBUSSY_REPO = '.'\n",
    "WAVESCAPE_FOLDER = '~/DATA/debussy_figures/wavescapes'\n",
    "# turning folder into relative path\n",
    "wavescape_folder = os.path.relpath(os.path.expanduser(WAVESCAPE_FOLDER), os.getcwd())\n",
    "print(wavescape_folder)"
   ]
  },
  {
   "cell_type": "markdown",
   "metadata": {},
   "source": [
    "For reference: The mapping from integers to normalization methods is\n",
    "\n",
    "```python\n",
    "{0: ('0c', False),\n",
    " 1: ('post_norm', False),\n",
    " 2: ('max_weighted', False),\n",
    " 3: ('max', False),\n",
    " 4: ('0c', True),\n",
    " 5: ('post_norm', True),\n",
    " 6: ('max_weighted', True),\n",
    " 7: ('max', True)}\n",
    "```\n",
    "\n",
    "## Loading metadata\n",
    "All available files: Select a string and copy it into the next cell."
   ]
  },
  {
   "cell_type": "code",
   "execution_count": 3,
   "metadata": {},
   "outputs": [
    {
     "name": "stdout",
     "output_type": "stream",
     "text": [
      "Metadata for 68 files.\n"
     ]
    },
    {
     "data": {
      "text/plain": [
       "['l000_etude',\n",
       " 'l000_soirs',\n",
       " 'l009_danse',\n",
       " 'l066-01_arabesques_premiere',\n",
       " 'l066-02_arabesques_deuxieme',\n",
       " 'l067_mazurka',\n",
       " 'l068_reverie',\n",
       " 'l069_tarentelle',\n",
       " 'l070_ballade',\n",
       " 'l071_valse',\n",
       " 'l082_nocturne',\n",
       " 'l087-01_images_lent',\n",
       " 'l087-02_images_souvenir',\n",
       " 'l087-03_images_quelques',\n",
       " 'l095-01_pour_prelude',\n",
       " 'l095-02_pour_sarabande',\n",
       " 'l095-03_pour_toccata',\n",
       " 'l099_cahier',\n",
       " 'l100-01_estampes_pagode',\n",
       " 'l100-02_estampes_soiree',\n",
       " 'l100-03_estampes_jardins',\n",
       " 'l105_masques',\n",
       " 'l106_isle',\n",
       " 'l108_morceau',\n",
       " 'l110-01_images_reflets',\n",
       " 'l110-02_images_hommage',\n",
       " 'l110-03_images_mouvement',\n",
       " 'l111-01_images_cloches',\n",
       " 'l111-02_images_lune',\n",
       " 'l111-03_images_poissons',\n",
       " 'l113-01_childrens_doctor',\n",
       " 'l113-02_childrens_jimbos',\n",
       " 'l113-03_childrens_serenade',\n",
       " 'l113-05_childrens_golliwoggs',\n",
       " 'l113-05_childrens_little',\n",
       " 'l114_petit',\n",
       " 'l115_hommage',\n",
       " 'l117-02_preludes_voiles',\n",
       " 'l117-03_preludes_vent',\n",
       " 'l117-04_preludes_sons',\n",
       " 'l117-05_preludes_collines',\n",
       " 'l117-06_preludes_pas',\n",
       " 'l117-07_preludes_ce',\n",
       " 'l117-08_preludes_fille',\n",
       " 'l117-09_preludes_serenade',\n",
       " 'l117-10_preludes_cathedrale',\n",
       " 'l117-11_preludes_danse',\n",
       " 'l117-12_preludes_minstrels',\n",
       " 'l121_plus',\n",
       " 'l123-01_preludes_brouillards',\n",
       " 'l123-02_preludes_feuilles',\n",
       " 'l123-03_preludes_puerta',\n",
       " 'l123-04_preludes_fees',\n",
       " 'l123-05_preludes_bruyeres',\n",
       " 'l123-06_preludes_general',\n",
       " 'l123-07_preludes_terrasse',\n",
       " 'l123-08_preludes_ondine',\n",
       " 'l123-09_preludes_hommage',\n",
       " 'l123-10_preludes_canope',\n",
       " 'l123-11_preludes_tierces',\n",
       " 'l123-12_preludes_feux',\n",
       " 'l132_berceuse',\n",
       " 'l133_page',\n",
       " 'l136-01_etudes_cinq',\n",
       " 'l136-06_etudes_huit',\n",
       " 'l136-11_etudes_arpeges',\n",
       " 'l136-12_etudes_accords',\n",
       " 'l138_elegie']"
      ]
     },
     "execution_count": 3,
     "metadata": {},
     "output_type": "execute_result"
    }
   ],
   "source": [
    "metadata = get_metadata(DEBUSSY_REPO)\n",
    "metadata.index.to_list()"
   ]
  },
  {
   "cell_type": "code",
   "execution_count": 4,
   "metadata": {},
   "outputs": [],
   "source": [
    "SELECTED = 'l108_morceau'"
   ]
  },
  {
   "cell_type": "markdown",
   "metadata": {},
   "source": [
    "# Coloured\n",
    "\n",
    "### Standard"
   ]
  },
  {
   "cell_type": "code",
   "execution_count": 5,
   "metadata": {},
   "outputs": [
    {
     "data": {
      "text/html": [
       "<table><tr><td><img src='../DATA/debussy_figures/wavescapes/l108_morceau-c1-0c.png' alt='coeff_1'/></td><td><img src='../DATA/debussy_figures/wavescapes/l108_morceau-c2-0c.png' alt='coeff_2'/></td><td><img src='../DATA/debussy_figures/wavescapes/l108_morceau-c3-0c.png' alt='coeff_3'/></td></tr><tr><td><img src='../DATA/debussy_figures/wavescapes/l108_morceau-c4-0c.png' alt='coeff_4'/></td><td><img src='../DATA/debussy_figures/wavescapes/l108_morceau-c5-0c.png' alt='coeff_5'/></td><td><img src='../DATA/debussy_figures/wavescapes/l108_morceau-c6-0c.png' alt='coeff_6'/></td></tr></table>"
      ],
      "text/plain": [
       "<IPython.core.display.HTML object>"
      ]
     },
     "metadata": {},
     "output_type": "display_data"
    }
   ],
   "source": [
    "display_wavescapes(wavescape_folder, SELECTED, norm_method=0)"
   ]
  },
  {
   "cell_type": "markdown",
   "metadata": {},
   "source": [
    "### Indulge prototypes"
   ]
  },
  {
   "cell_type": "code",
   "execution_count": 6,
   "metadata": {},
   "outputs": [
    {
     "data": {
      "text/html": [
       "<table><tr><td><img src='../DATA/debussy_figures/wavescapes/l108_morceau-c1-0c+indulge.png' alt='coeff_1'/></td><td><img src='../DATA/debussy_figures/wavescapes/l108_morceau-c2-0c+indulge.png' alt='coeff_2'/></td><td><img src='../DATA/debussy_figures/wavescapes/l108_morceau-c3-0c+indulge.png' alt='coeff_3'/></td></tr><tr><td><img src='../DATA/debussy_figures/wavescapes/l108_morceau-c4-0c+indulge.png' alt='coeff_4'/></td><td><img src='../DATA/debussy_figures/wavescapes/l108_morceau-c5-0c+indulge.png' alt='coeff_5'/></td><td><img src='../DATA/debussy_figures/wavescapes/l108_morceau-c6-0c.png' alt='coeff_6'/></td></tr></table>"
      ],
      "text/plain": [
       "<IPython.core.display.HTML object>"
      ]
     },
     "metadata": {},
     "output_type": "display_data"
    }
   ],
   "source": [
    "display_wavescapes(wavescape_folder, SELECTED, norm_method=4)"
   ]
  },
  {
   "cell_type": "markdown",
   "metadata": {},
   "source": [
    "# Grey\n",
    "\n",
    "Showing only magnitudes\n",
    "\n",
    "### Standard"
   ]
  },
  {
   "cell_type": "code",
   "execution_count": 7,
   "metadata": {},
   "outputs": [
    {
     "data": {
      "text/html": [
       "<table><tr><td><img src='../DATA/debussy_figures/wavescapes/l108_morceau-c1-0c-grey.png' alt='coeff_1'/></td><td><img src='../DATA/debussy_figures/wavescapes/l108_morceau-c2-0c-grey.png' alt='coeff_2'/></td><td><img src='../DATA/debussy_figures/wavescapes/l108_morceau-c3-0c-grey.png' alt='coeff_3'/></td></tr><tr><td><img src='../DATA/debussy_figures/wavescapes/l108_morceau-c4-0c-grey.png' alt='coeff_4'/></td><td><img src='../DATA/debussy_figures/wavescapes/l108_morceau-c5-0c-grey.png' alt='coeff_5'/></td><td><img src='../DATA/debussy_figures/wavescapes/l108_morceau-c6-0c-grey.png' alt='coeff_6'/></td></tr></table>"
      ],
      "text/plain": [
       "<IPython.core.display.HTML object>"
      ]
     },
     "metadata": {},
     "output_type": "display_data"
    }
   ],
   "source": [
    "display_wavescapes(wavescape_folder, SELECTED, norm_method=0, grey=True)"
   ]
  },
  {
   "cell_type": "markdown",
   "metadata": {},
   "source": [
    "### Indulge prototypes"
   ]
  },
  {
   "cell_type": "code",
   "execution_count": 8,
   "metadata": {},
   "outputs": [
    {
     "data": {
      "text/html": [
       "<table><tr><td><img src='../DATA/debussy_figures/wavescapes/l108_morceau-c1-0c+indulge-grey.png' alt='coeff_1'/></td><td><img src='../DATA/debussy_figures/wavescapes/l108_morceau-c2-0c+indulge-grey.png' alt='coeff_2'/></td><td><img src='../DATA/debussy_figures/wavescapes/l108_morceau-c3-0c+indulge-grey.png' alt='coeff_3'/></td></tr><tr><td><img src='../DATA/debussy_figures/wavescapes/l108_morceau-c4-0c+indulge-grey.png' alt='coeff_4'/></td><td><img src='../DATA/debussy_figures/wavescapes/l108_morceau-c5-0c+indulge-grey.png' alt='coeff_5'/></td><td><img src='../DATA/debussy_figures/wavescapes/l108_morceau-c6-0c-grey.png' alt='coeff_6'/></td></tr></table>"
      ],
      "text/plain": [
       "<IPython.core.display.HTML object>"
      ]
     },
     "metadata": {},
     "output_type": "display_data"
    }
   ],
   "source": [
    "display_wavescapes(wavescape_folder, SELECTED, norm_method=4, grey=True)"
   ]
  },
  {
   "cell_type": "markdown",
   "metadata": {},
   "source": [
    "# Summary wavescapes\n",
    "Colour legend for most resonant coefficients:\n",
    "\n",
    "![legend](legend.png)\n",
    "\n",
    "### Standard"
   ]
  },
  {
   "cell_type": "code",
   "execution_count": 9,
   "metadata": {},
   "outputs": [
    {
     "data": {
      "text/html": [
       "<table><tr><td><img src='../DATA/debussy_figures/wavescapes/l108_morceau-0c-summary-by-mag.png' alt='coeff_1'/></td><td><img src='../DATA/debussy_figures/wavescapes/l108_morceau-0c-summary-by-ent.png' alt='coeff_2'/></td></tr></table>"
      ],
      "text/plain": [
       "<IPython.core.display.HTML object>"
      ]
     },
     "metadata": {},
     "output_type": "display_data"
    }
   ],
   "source": [
    "display_wavescapes(wavescape_folder, SELECTED, norm_method=0, summaries=True, rows=1)"
   ]
  },
  {
   "cell_type": "markdown",
   "metadata": {},
   "source": [
    "### Indulge prototypes"
   ]
  },
  {
   "cell_type": "code",
   "execution_count": 10,
   "metadata": {},
   "outputs": [
    {
     "data": {
      "text/html": [
       "<table><tr><td><img src='../DATA/debussy_figures/wavescapes/l108_morceau-0c-summary-by-mag.png' alt='coeff_1'/></td><td><img src='../DATA/debussy_figures/wavescapes/l108_morceau-0c-summary-by-ent.png' alt='coeff_2'/></td></tr></table>"
      ],
      "text/plain": [
       "<IPython.core.display.HTML object>"
      ]
     },
     "metadata": {},
     "output_type": "display_data"
    }
   ],
   "source": [
    "display_wavescapes(wavescape_folder, SELECTED, norm_method=4, summaries=True, rows=1)"
   ]
  }
 ],
 "metadata": {
  "kernelspec": {
   "display_name": "integrator",
   "language": "python",
   "name": "integrator"
  },
  "language_info": {
   "codemirror_mode": {
    "name": "ipython",
    "version": 3
   },
   "file_extension": ".py",
   "mimetype": "text/x-python",
   "name": "python",
   "nbconvert_exporter": "python",
   "pygments_lexer": "ipython3",
   "version": "3.8.11"
  }
 },
 "nbformat": 4,
 "nbformat_minor": 4
}