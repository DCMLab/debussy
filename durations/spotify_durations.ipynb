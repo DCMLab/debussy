{
 "cells": [
  {
   "cell_type": "code",
   "execution_count": 1,
   "metadata": {},
   "outputs": [],
   "source": [
    "import os, re, json\n",
    "from unidecode import unidecode\n",
    "import spotipy\n",
    "from spotipy.oauth2 import SpotifyClientCredentials\n",
    "import pandas as pd\n",
    "pd.set_option('display.max_rows', 500)\n",
    "pd.set_option('display.max_columns', 500)\n",
    "PIANO_SOLO_TSV = '220214_debussy_piano_solo.tsv'\n",
    "SEARCH_JSON = 'spotify_search_results.json'\n",
    "RESULT_JSON = 'spotify_tracks_data.json'"
   ]
  },
  {
   "cell_type": "code",
   "execution_count": 2,
   "metadata": {},
   "outputs": [
    {
     "data": {
      "text/html": [
       "<div>\n",
       "<style scoped>\n",
       "    .dataframe tbody tr th:only-of-type {\n",
       "        vertical-align: middle;\n",
       "    }\n",
       "\n",
       "    .dataframe tbody tr th {\n",
       "        vertical-align: top;\n",
       "    }\n",
       "\n",
       "    .dataframe thead th {\n",
       "        text-align: right;\n",
       "    }\n",
       "</style>\n",
       "<table border=\"1\" class=\"dataframe\">\n",
       "  <thead>\n",
       "    <tr style=\"text-align: right;\">\n",
       "      <th></th>\n",
       "      <th>lesure</th>\n",
       "      <th>mvt</th>\n",
       "      <th>key</th>\n",
       "      <th>year</th>\n",
       "      <th>title</th>\n",
       "      <th>availability</th>\n",
       "      <th>comments</th>\n",
       "      <th>pdf</th>\n",
       "      <th>source</th>\n",
       "    </tr>\n",
       "  </thead>\n",
       "  <tbody>\n",
       "    <tr>\n",
       "      <th>0</th>\n",
       "      <td>9</td>\n",
       "      <td>&lt;NA&gt;</td>\n",
       "      <td>009</td>\n",
       "      <td>1880</td>\n",
       "      <td>Danse bohémienne</td>\n",
       "      <td>True</td>\n",
       "      <td>to check</td>\n",
       "      <td>NaN</td>\n",
       "      <td>https://musescore.com/yazen23434/danse-boh-mie...</td>\n",
       "    </tr>\n",
       "    <tr>\n",
       "      <th>1</th>\n",
       "      <td>&lt;NA&gt;</td>\n",
       "      <td>&lt;NA&gt;</td>\n",
       "      <td>intermede</td>\n",
       "      <td>1880</td>\n",
       "      <td>Intermède</td>\n",
       "      <td>False</td>\n",
       "      <td>NaN</td>\n",
       "      <td>NaN</td>\n",
       "      <td>NaN</td>\n",
       "    </tr>\n",
       "    <tr>\n",
       "      <th>2</th>\n",
       "      <td>66</td>\n",
       "      <td>1</td>\n",
       "      <td>066-1</td>\n",
       "      <td>1888</td>\n",
       "      <td>Arabesque I: Andantino con moto in E Major</td>\n",
       "      <td>True</td>\n",
       "      <td>NaN</td>\n",
       "      <td>https://imslp.org/wiki/Special:ReverseLookup/2821</td>\n",
       "      <td>https://musescore.com/hmscomp/debussy-premiere...</td>\n",
       "    </tr>\n",
       "    <tr>\n",
       "      <th>3</th>\n",
       "      <td>67</td>\n",
       "      <td>&lt;NA&gt;</td>\n",
       "      <td>067</td>\n",
       "      <td>1890</td>\n",
       "      <td>Mazurka</td>\n",
       "      <td>True</td>\n",
       "      <td>several errors</td>\n",
       "      <td>NaN</td>\n",
       "      <td>https://musescore.com/user/4887176/scores/5699433</td>\n",
       "    </tr>\n",
       "    <tr>\n",
       "      <th>4</th>\n",
       "      <td>68</td>\n",
       "      <td>&lt;NA&gt;</td>\n",
       "      <td>068</td>\n",
       "      <td>1890</td>\n",
       "      <td>Rêverie</td>\n",
       "      <td>True</td>\n",
       "      <td>NaN</td>\n",
       "      <td>NaN</td>\n",
       "      <td>https://musescore.com/hmscomp/r-verie-claude-d...</td>\n",
       "    </tr>\n",
       "    <tr>\n",
       "      <th>5</th>\n",
       "      <td>69</td>\n",
       "      <td>&lt;NA&gt;</td>\n",
       "      <td>069</td>\n",
       "      <td>1890</td>\n",
       "      <td>Tarentelle styrienne</td>\n",
       "      <td>True</td>\n",
       "      <td>NaN</td>\n",
       "      <td>NaN</td>\n",
       "      <td>https://musescore.com/user/56409/scores/263276...</td>\n",
       "    </tr>\n",
       "    <tr>\n",
       "      <th>6</th>\n",
       "      <td>70</td>\n",
       "      <td>&lt;NA&gt;</td>\n",
       "      <td>070</td>\n",
       "      <td>1890</td>\n",
       "      <td>Ballade slave</td>\n",
       "      <td>True</td>\n",
       "      <td>NaN</td>\n",
       "      <td>NaN</td>\n",
       "      <td>https://musescore.com/user/3797871/scores/5825949</td>\n",
       "    </tr>\n",
       "    <tr>\n",
       "      <th>7</th>\n",
       "      <td>71</td>\n",
       "      <td>&lt;NA&gt;</td>\n",
       "      <td>071</td>\n",
       "      <td>1890</td>\n",
       "      <td>Valse romantique</td>\n",
       "      <td>True</td>\n",
       "      <td>few notes to fix</td>\n",
       "      <td>NaN</td>\n",
       "      <td>https://musescore.com/user/4887176/scores/5696...</td>\n",
       "    </tr>\n",
       "    <tr>\n",
       "      <th>8</th>\n",
       "      <td>75</td>\n",
       "      <td>1</td>\n",
       "      <td>075-1</td>\n",
       "      <td>1890-1905</td>\n",
       "      <td>Prélude</td>\n",
       "      <td>True</td>\n",
       "      <td>NaN</td>\n",
       "      <td>NaN</td>\n",
       "      <td>https://musescore.com/user/85337/scores/615026...</td>\n",
       "    </tr>\n",
       "    <tr>\n",
       "      <th>9</th>\n",
       "      <td>75</td>\n",
       "      <td>2</td>\n",
       "      <td>075-2</td>\n",
       "      <td>1890-1905</td>\n",
       "      <td>Menuet</td>\n",
       "      <td>True</td>\n",
       "      <td>few notes to fix(free version)</td>\n",
       "      <td>NaN</td>\n",
       "      <td>https://musescore.com/user/85337/scores/614817...</td>\n",
       "    </tr>\n",
       "  </tbody>\n",
       "</table>\n",
       "</div>"
      ],
      "text/plain": [
       "   lesure   mvt        key       year  \\\n",
       "0       9  <NA>        009       1880   \n",
       "1    <NA>  <NA>  intermede       1880   \n",
       "2      66     1      066-1       1888   \n",
       "3      67  <NA>        067       1890   \n",
       "4      68  <NA>        068       1890   \n",
       "5      69  <NA>        069       1890   \n",
       "6      70  <NA>        070       1890   \n",
       "7      71  <NA>        071       1890   \n",
       "8      75     1      075-1  1890-1905   \n",
       "9      75     2      075-2  1890-1905   \n",
       "\n",
       "                                        title  availability  \\\n",
       "0                            Danse bohémienne          True   \n",
       "1                                   Intermède         False   \n",
       "2  Arabesque I: Andantino con moto in E Major          True   \n",
       "3                                     Mazurka          True   \n",
       "4                                     Rêverie          True   \n",
       "5                        Tarentelle styrienne          True   \n",
       "6                               Ballade slave          True   \n",
       "7                            Valse romantique          True   \n",
       "8                                     Prélude          True   \n",
       "9                                      Menuet          True   \n",
       "\n",
       "                         comments  \\\n",
       "0                        to check   \n",
       "1                             NaN   \n",
       "2                             NaN   \n",
       "3                  several errors   \n",
       "4                             NaN   \n",
       "5                             NaN   \n",
       "6                             NaN   \n",
       "7                few notes to fix   \n",
       "8                             NaN   \n",
       "9  few notes to fix(free version)   \n",
       "\n",
       "                                                 pdf  \\\n",
       "0                                                NaN   \n",
       "1                                                NaN   \n",
       "2  https://imslp.org/wiki/Special:ReverseLookup/2821   \n",
       "3                                                NaN   \n",
       "4                                                NaN   \n",
       "5                                                NaN   \n",
       "6                                                NaN   \n",
       "7                                                NaN   \n",
       "8                                                NaN   \n",
       "9                                                NaN   \n",
       "\n",
       "                                              source  \n",
       "0  https://musescore.com/yazen23434/danse-boh-mie...  \n",
       "1                                                NaN  \n",
       "2  https://musescore.com/hmscomp/debussy-premiere...  \n",
       "3  https://musescore.com/user/4887176/scores/5699433  \n",
       "4  https://musescore.com/hmscomp/r-verie-claude-d...  \n",
       "5  https://musescore.com/user/56409/scores/263276...  \n",
       "6  https://musescore.com/user/3797871/scores/5825949  \n",
       "7  https://musescore.com/user/4887176/scores/5696...  \n",
       "8  https://musescore.com/user/85337/scores/615026...  \n",
       "9  https://musescore.com/user/85337/scores/614817...  "
      ]
     },
     "execution_count": 2,
     "metadata": {},
     "output_type": "execute_result"
    }
   ],
   "source": [
    "def make_keys(lesure_col, mvt_col):\n",
    "    lesure_format =  '{:03d}'.format\n",
    "    mvt_format =  '{:02d}'.format\n",
    "    isna = lesure_col.isna()\n",
    "    lesure_col = lesure_col.apply(lesure_format)\n",
    "    mvt_col = mvt_col.copy()\n",
    "    mvt_col[mvt_col.notna()] = mvt_col.apply(mvt_format)\n",
    "    key = lesure_col + ('-' + mvt_col.astype('string')).fillna('')\n",
    "    key = key.where(~isna, pd.NA)\n",
    "    return key\n",
    "    \n",
    "client_credentials_manager = SpotifyClientCredentials('5ee5f9cba29f454fabd7bb5316eff69e','0ebdedebbfd74122b9ab666ad6f346eb')\n",
    "sp = spotipy.Spotify(client_credentials_manager=client_credentials_manager)\n",
    "pieces = pd.read_csv(PIANO_SOLO_TSV, sep='\\t')\n",
    "pieces = pieces[pieces.title.notna()]\n",
    "lesure_regex = r\"^L ?(?P<lesure>\\d{1,3})(?:\\/(?P<mvt>\\d{1,2}))?$\"\n",
    "pieces = pd.concat([pieces.L.str.extract(lesure_regex, expand=True).astype('Int64'), pieces.drop(columns='L')], axis=1)\n",
    "key_col = make_keys(pieces.lesure, pieces.mvt)\n",
    "key_col.loc[key_col.isna()] = pieces.title.str.lower().apply(unidecode)\n",
    "pieces.insert(2, 'key', key_col)\n",
    "pieces.head(10)"
   ]
  },
  {
   "cell_type": "code",
   "execution_count": 3,
   "metadata": {},
   "outputs": [
    {
     "name": "stdout",
     "output_type": "stream",
     "text": [
      "009: query string 'debussy Danse bohemienne 9'\n",
      "intermede: query string 'debussy Intermede'\n",
      "066-1: query string 'debussy Arabesque I: Andantino con moto in E Major 66'\n",
      "067: query string 'debussy Mazurka 67'\n",
      "068: query string 'debussy Reverie 68'\n",
      "069: query string 'debussy Tarentelle styrienne 69'\n",
      "070: query string 'debussy Ballade slave 70'\n",
      "071: query string 'debussy Valse romantique 71'\n",
      "075-1: query string 'debussy Prelude 75'\n",
      "075-2: query string 'debussy Menuet 75'\n",
      "075-3: query string 'debussy Clair de lune 75'\n",
      "075-4: query string 'debussy Passepied 75'\n",
      "066-2: query string 'debussy Arabesque II: Allegretto scherzando in G Major 66'\n",
      "082: query string 'debussy Nocturne 82'\n",
      "087-1: query string 'debussy Lent, doux et melancolique 87'\n",
      "087-2: query string 'debussy Souvenir du Louvre 87'\n",
      "087-3: query string 'debussy Quelques aspects de 'Nous n'irons plus au bois\" 87'\n",
      "095-2: query string 'debussy Sarabande 95'\n",
      "095-1: query string 'debussy Prelude 95'\n",
      "095-3: query string 'debussy Toccata 95'\n",
      "099: query string 'debussy D'un cahier d'esquisses 99'\n",
      "100-1: query string 'debussy Pagode 100'\n",
      "100-2: query string 'debussy La soiree dans Grenade 100'\n",
      "100-3: query string 'debussy Jardins sous la pluie 100'\n",
      "105: query string 'debussy Masques 105'\n",
      "106: query string 'debussy L'isle joyeuse 106'\n",
      "108: query string 'debussy Morceau de concours 108'\n",
      "110-1: query string 'debussy Reflets dans l'eau 110'\n",
      "110-2: query string 'debussy Hommage a Rameau 110'\n",
      "110-3: query string 'debussy Mouvement 110'\n",
      "113-1: query string 'debussy Doctor Gradus ad Parnassum 113'\n",
      "113-2: query string 'debussy Jimbo's Lullaby 113'\n",
      "113-3: query string 'debussy Serenade for the Doll 113'\n",
      "113-4: query string 'debussy The Snow Is Dancing 113'\n",
      "113-5: query string 'debussy The Little Shepherd 113'\n",
      "113-6: query string 'debussy Golliwogg's Cakewalk 113'\n",
      "111-1: query string 'debussy Cloches a travers les feuilles 111'\n",
      "111-2: query string 'debussy Et la lune descend sur le temple qui fut 111'\n",
      "111-3: query string 'debussy Poissons d'or 111'\n",
      "114: query string 'debussy Le petit negre 114'\n",
      "115: query string 'debussy Hommage a Joseph Haydn 115'\n",
      "117-1: query string 'debussy Danseuses de Delphes 117'\n",
      "117-10: query string 'debussy La cathedrale engloutie 117'\n",
      "117-2: query string 'debussy Voiles 117'\n",
      "117-3: query string 'debussy Le vent dans la plaine 117'\n",
      "117-5: query string 'debussy Les collines d'Anacapri 117'\n",
      "117-6: query string 'debussy Des pas sur la neige 117'\n",
      "117-7: query string 'debussy Ce qu'a vu le vent d'ouest 117'\n",
      "117-9: query string 'debussy La serenade interrompue 117'\n",
      "117-11: query string 'debussy La danse de Puck 117'\n",
      "117-12: query string 'debussy Minstrels 117'\n",
      "117-4: query string 'debussy Les sons et les parfums tournent dans l'air du soir 117'\n",
      "117-8: query string 'debussy La fille aux cheveux de lin 117'\n",
      "121: query string 'debussy La plus que lente 121'\n",
      "123-1: query string 'debussy Brouillards 123'\n",
      "123-2: query string 'debussy Feuilles mortes 123'\n",
      "123-3: query string 'debussy La Puerta del Vino 123'\n",
      "123-4: query string 'debussy Les fees sont d'exquises danseuses 123'\n",
      "123-5: query string 'debussy Bruyeres 123'\n",
      "123-6: query string 'debussy General Lavine, eccentric 123'\n",
      "123-7: query string 'debussy La terrasse des audiences du clair de lune 123'\n",
      "123-8: query string 'debussy Ondine 123'\n",
      "123-9: query string 'debussy Hommage a Samuel Pickwick 123'\n",
      "123-10: query string 'debussy Canope 123'\n",
      "123-11: query string 'debussy Les tierces alternees 123'\n",
      "123-12: query string 'debussy Feux d'artifice 123'\n",
      "la boite a joujoux: query string 'debussy La boite a joujoux'\n",
      "131-1: query string 'debussy Pour invoquer Pan, dieu du vent d'ete 131'\n",
      "131-2: query string 'debussy Pour un tombeau sans nom 131'\n",
      "131-3: query string 'debussy Pour que la nuit soit propice 131'\n",
      "131-4: query string 'debussy Pour la danseuse aux crotales 131'\n",
      "131-5: query string 'debussy Pour l'Egyptienne 131'\n",
      "131-6: query string 'debussy Pour remercier la pluie au matin 131'\n",
      "132: query string 'debussy Berceuse heroique 132'\n",
      "etude retrouvee: query string 'debussy Etude retrouvee'\n",
      "133: query string 'debussy Page d'album 133'\n",
      "136-1: query string 'debussy Pour les cinq doigts d'apres monsieur Czerny 136'\n",
      "136-2: query string 'debussy Pour les tierces 136'\n",
      "136-3: query string 'debussy Pour les quartes 136'\n",
      "136-4: query string 'debussy Pour les sixtes 136'\n",
      "136-5: query string 'debussy Pour les octaves 136'\n",
      "136-6: query string 'debussy Pour les huit doigts 136'\n",
      "136-7: query string 'debussy Pour les degres chromatiques 136'\n",
      "136-8: query string 'debussy Pour les agrements 136'\n",
      "136-9: query string 'debussy Pour les notes repetees 136'\n",
      "136-10: query string 'debussy Pour les sonorites opposees 136'\n",
      "136-11: query string 'debussy Pour les arpeges composes 136'\n",
      "136-12: query string 'debussy Pour les accords 136'\n",
      "138: query string 'debussy Elegie 138'\n",
      "les soirs illumines par l'ardeur du charbon: query string 'debussy Les Soirs illumines par l'ardeur du charbon'\n",
      "Search results stored as spotify_search_results.json\n"
     ]
    }
   ],
   "source": [
    "if os.path.isfile(SEARCH_JSON):\n",
    "    with open(SEARCH_JSON, 'r', encoding='utf-8') as f:\n",
    "        searches = json.load(f)\n",
    "        print(\"Loaded search results from \" + SEARCH_JSON)\n",
    "else:\n",
    "    searches = {}\n",
    "    for key, lesure, title in pieces[['key', 'lesure', 'title']].itertuples(index=False):\n",
    "        query = f\"debussy {unidecode(title)}\"\n",
    "        if not pd.isnull(lesure):\n",
    "            query += f\" {lesure}\"\n",
    "        print(f\"{key}: query string '{query}'\")\n",
    "        searches[key] = sp.search(query, limit=50, type='track')\n",
    "    with open(SEARCH_JSON, 'w', encoding='utf-8') as f:\n",
    "        json.dump(searches, f)\n",
    "        print(\"Search results stored as \" + SEARCH_JSON)"
   ]
  },
  {
   "cell_type": "code",
   "execution_count": 4,
   "metadata": {},
   "outputs": [
    {
     "data": {
      "text/plain": [
       "{'123-9': 2}"
      ]
     },
     "execution_count": 4,
     "metadata": {},
     "output_type": "execute_result"
    }
   ],
   "source": [
    "{key: len(search['tracks']['items']) for key, search in searches.items() if len(search['tracks']['items']) < 5}"
   ]
  },
  {
   "cell_type": "markdown",
   "metadata": {},
   "source": [
    "### Obtaining dict structure \n",
    "leisure -> [{artist, id, duration_ms, release_date}]"
   ]
  },
  {
   "cell_type": "code",
   "execution_count": 5,
   "metadata": {},
   "outputs": [
    {
     "name": "stdout",
     "output_type": "stream",
     "text": [
      "intermede: track[0] has more than 1 artist: ['Michael Barenboim', 'Daniel Barenboim'], skipping\n",
      "intermede: track[1] has more than 1 artist: ['Rafał Blechacz', 'Bomsori'], skipping\n",
      "intermede: track[2] has more than 1 artist: ['Michael Barenboim', 'Daniel Barenboim'], skipping\n",
      "intermede: track[3] has more than 1 artist: ['Michael Barenboim', 'Daniel Barenboim'], skipping\n",
      "intermede: track[4] has more than 1 artist: ['David Oistrakh', 'Frida Bauer'], skipping\n",
      "intermede: track[5] has more than 1 artist: ['Rafal Blechacz', 'Bomsori'], skipping\n",
      "intermede: track[6] has more than 1 artist: ['David Oistrakh', 'Frida Bauer'], skipping\n",
      "intermede: track[7] has more than 1 artist: ['Augustin Dumay', 'Maria João Pires'], skipping\n",
      "intermede: track[8] has more than 1 artist: ['Rafał Blechacz', 'Bomsori'], skipping\n",
      "intermede: track[9] has more than 1 artist: ['Augustin Dumay', 'Maria João Pires'], skipping\n",
      "intermede: track[10] has more than 1 artist: ['Martha Argerich', 'Dora Schwarzberg'], skipping\n",
      "intermede: track[12] has more than 1 artist: ['Itzhak Perlman', 'Vladimir Ashkenazy'], skipping\n",
      "intermede: track[13] has more than 1 artist: ['Michael Barenboim', 'Daniel Barenboim'], skipping\n",
      "intermede: track[14] has more than 1 artist: ['David Oistrakh', 'Frida Bauer'], skipping\n",
      "intermede: track[15] has more than 1 artist: ['David Oistrakh', 'Frida Bauer'], skipping\n",
      "intermede: track[16] has more than 1 artist: ['Chee-Yun', 'Akira Eguchi'], skipping\n",
      "intermede: track[17] has more than 1 artist: ['Clara Bonaldi', 'Sylvaine Billier'], skipping\n",
      "intermede: track[18] has more than 1 artist: ['David Oistrakh', 'Frida Bauer'], skipping\n",
      "intermede: track[19] has more than 1 artist: ['Augustin Dumay', 'Maria João Pires'], skipping\n",
      "intermede: track[20] has more than 1 artist: ['Jane Christée Gehringer', 'Yuri Petrov'], skipping\n",
      "intermede: track[21] has more than 1 artist: ['Joshua Bell', 'Jean-Yves Thibaudet'], skipping\n",
      "intermede: track[22] has more than 1 artist: ['Kristóf Baráti', 'Klára Würtz'], skipping\n",
      "intermede: track[23] has more than 1 artist: ['Michael Barenboim', 'Daniel Barenboim'], skipping\n",
      "intermede: track[24] has more than 1 artist: ['Rafał Blechacz', 'Bomsori'], skipping\n",
      "intermede: track[25] has more than 1 artist: ['Rafał Blechacz', 'Bomsori'], skipping\n",
      "intermede: track[26] has more than 1 artist: ['David Oistrakh', 'Frida Bauer'], skipping\n",
      "intermede: track[27] has more than 1 artist: ['Isabelle Faust', 'Alexander Melnikov'], skipping\n",
      "intermede: track[28] has more than 1 artist: ['Federico Guglielmo', 'Jolanda Violante'], skipping\n",
      "intermede: track[29] has more than 1 artist: ['James Ehnes', 'Andrew Armstrong'], skipping\n",
      "intermede: track[30] has more than 1 artist: ['Shlomo Mintz', 'Yefim Bronfman'], skipping\n",
      "intermede: track[32] has more than 1 artist: ['David Oistrakh', 'Frida Bauer'], skipping\n",
      "intermede: track[33] has more than 1 artist: ['Janine Jansen', 'Itamar Golan'], skipping\n",
      "intermede: track[34] has more than 1 artist: ['Sveinung Bjelland', 'Anders Kjellberg Nilsson'], skipping\n",
      "intermede: track[36] has more than 1 artist: ['Aldo Ciccolini', 'Renato Donà'], skipping\n",
      "intermede: track[37] has more than 1 artist: ['Pelin Halkacı Akın', 'İris Şentürker'], skipping\n",
      "intermede: track[41] has more than 1 artist: ['Jacques Thibaud', 'Alfred Cortot'], skipping\n",
      "intermede: track[46] has more than 1 artist: ['Ginette Neveu', 'Jean Neveu'], skipping\n",
      "intermede: track[47] has more than 1 artist: ['Hye Jin Kim', 'Ieva Jokubaviciute'], skipping\n",
      "intermede: track[49] has more than 1 artist: ['Josip Klima', 'Vladimir Krpan'], skipping\n",
      "067: track[33] doesn't come with artist's name, skipping\n",
      "068: track[0] has more than 1 artist: ['Second Storey', 'Appleblim'], skipping\n",
      "068: track[13] has more than 1 artist: ['Julian Lloyd Webber', 'Royal Philharmonic Orchestra', 'James Judd'], skipping\n",
      "068: track[15] has more than 1 artist: ['Julian Lloyd Webber', 'Royal Philharmonic Orchestra', 'James Judd'], skipping\n",
      "068: track[17] has more than 1 artist: ['Julian Lloyd Webber', 'Royal Philharmonic Orchestra', 'James Judd'], skipping\n",
      "068: track[21] has more than 1 artist: ['Daniel Hope', 'Zürcher Kammerorchester'], skipping\n",
      "068: track[23] has more than 1 artist: ['Daniel Hope', 'Zürcher Kammerorchester'], skipping\n",
      "068: track[24] has more than 1 artist: ['Julian Lloyd Webber', 'Royal Philharmonic Orchestra', 'James Judd'], skipping\n",
      "068: track[29] has more than 1 artist: ['Daniel Hope', 'Zürcher Kammerorchester'], skipping\n",
      "068: track[30] has more than 1 artist: ['Julian Lloyd Webber', 'Royal Philharmonic Orchestra', 'James Judd'], skipping\n",
      "068: track[36] has more than 1 artist: ['Daniel Hope', 'Zürcher Kammerorchester'], skipping\n",
      "068: track[43] has more than 1 artist: ['Luigi Puxeddu', 'Jolanda Violante'], skipping\n",
      "068: track[46] has more than 1 artist: ['Philadelphia Orchestra', 'Eugene Ormandy'], skipping\n",
      "068: track[48] has more than 1 artist: ['Julian Lloyd Webber', 'Royal Philharmonic Orchestra', 'James Judd'], skipping\n",
      "070: track[34] has more than 1 artist: ['Alexander Scriabin', 'Aleksandr Scriabin Aleksandr Scriabin', '숙면 테라피'], skipping\n",
      "070: track[41] doesn't come with artist's name, skipping\n",
      "070: track[43] doesn't come with artist's name, skipping\n",
      "070: track[49] has more than 1 artist: ['Orchestre Baroque d’Avignon', 'Lois de Crilhon'], skipping\n",
      "071: track[38] doesn't come with artist's name, skipping\n",
      "071: track[41] doesn't come with artist's name, skipping\n",
      "071: track[49] has more than 1 artist: ['Emilie Gastaud', 'André Dussolier'], skipping\n",
      "075-1: track[30] has more than 1 artist: ['Andre Caplet', 'Gustave Cloez', 'Orchestre National De Lyon', 'Jun Markl'], skipping\n",
      "075-2: track[21] doesn't come with artist's name, skipping\n",
      "075-2: track[23] has more than 1 artist: ['Andre Caplet', 'Gustave Cloez', 'Orchestre National De Lyon', 'Jun Markl'], skipping\n",
      "075-3: track[21] has more than 1 artist: ['Mischa Maisky', 'Daria Hovora'], skipping\n",
      "075-3: track[22] has more than 1 artist: ['Julian Lloyd Webber', 'Royal Philharmonic Orchestra', 'Nicholas Cleobury'], skipping\n",
      "075-3: track[23] has more than 1 artist: ['Julian Lloyd Webber', 'Royal Philharmonic Orchestra', 'Nicholas Cleobury'], skipping\n",
      "075-3: track[24] has more than 1 artist: ['Orchestre de la Suisse Romande', 'Ernest Ansermet'], skipping\n",
      "075-3: track[25] has more than 1 artist: ['Orchestre de la Suisse Romande', 'Ernest Ansermet'], skipping\n",
      "075-3: track[41] has more than 1 artist: ['Janine Jansen', 'Itamar Golan'], skipping\n",
      "075-3: track[42] has more than 1 artist: ['Janine Jansen', 'Itamar Golan'], skipping\n",
      "075-3: track[43] has more than 1 artist: ['Janine Jansen', 'Itamar Golan'], skipping\n",
      "075-3: track[44] has more than 1 artist: ['Anne-Sophie Mutter', 'Lambert Orkis'], skipping\n",
      "075-3: track[45] has more than 1 artist: ['Mischa Maisky', 'Daria Hovora'], skipping\n",
      "075-3: track[46] has more than 1 artist: ['Mischa Maisky', 'Daria Hovora'], skipping\n",
      "075-4: track[31] has more than 1 artist: ['Andre Caplet', 'Gustave Cloez', 'Orchestre National De Lyon', 'Jun Markl'], skipping\n",
      "066-2: track[5] has more than 1 artist: ['Danica Binx', 'Gerard Tahaud'], skipping\n",
      "082: track[37] doesn't come with artist's name, skipping\n",
      "082: track[45] doesn't come with artist's name, skipping\n",
      "087-1: track[26] doesn't come with artist's name, skipping\n",
      "087-2: track[20] doesn't come with artist's name, skipping\n",
      "087-3: track[18] doesn't come with artist's name, skipping\n",
      "087-3: track[45] doesn't come with artist's name, skipping\n",
      "099: track[21] doesn't come with artist's name, skipping\n",
      "100-1: track[42] has more than 1 artist: ['City Of Birmingham Symphony Orchestra', 'Sir Simon Rattle'], skipping\n",
      "113-1: track[11] has more than 1 artist: ['Orchestre Symphonique de Montréal', 'Charles Dutoit'], skipping\n",
      "113-1: track[12] has more than 1 artist: ['Orchestre national des Pays de la Loire', 'Pascal Rophé'], skipping\n",
      "113-1: track[19] has more than 1 artist: ['Orchestre symphonique de Montréal', 'Charles Dutoit'], skipping\n",
      "113-1: track[26] has more than 1 artist: ['Orchestre symphonique de Montréal', 'Charles Dutoit'], skipping\n",
      "113-1: track[33] has more than 1 artist: ['Orchestre Symphonique de Montréal', 'Charles Dutoit'], skipping\n",
      "113-1: track[38] has more than 1 artist: ['Orchestre Symphonique de Montréal', 'Charles Dutoit'], skipping\n",
      "113-1: track[39] has more than 1 artist: ['Orchestre Symphonique de Montréal', 'Charles Dutoit'], skipping\n",
      "113-1: track[40] has more than 1 artist: ['Orchestre Symphonique De Québec', 'Yoav Talmi'], skipping\n",
      "113-2: track[6] has more than 1 artist: ['Orchestre national des Pays de la Loire', 'Pascal Rophé'], skipping\n",
      "113-2: track[25] has more than 1 artist: ['Ernitine Stoop', 'Nieuw Sinfonietta Amsterdam'], skipping\n",
      "113-2: track[46] has more than 1 artist: ['Jacopo Taddei', 'Luca Ciammarughi'], skipping\n",
      "113-3: track[14] has more than 1 artist: ['Orchestre national des Pays de la Loire', 'Pascal Rophé'], skipping\n",
      "113-4: track[15] has more than 1 artist: ['Orchestre symphonique de Montréal', 'Charles Dutoit'], skipping\n",
      "113-4: track[16] has more than 1 artist: ['Orchestre Symphonique de Montréal', 'Charles Dutoit'], skipping\n",
      "113-4: track[17] has more than 1 artist: ['Orchestre national des Pays de la Loire', 'Pascal Rophé'], skipping\n",
      "113-4: track[23] has more than 1 artist: ['Orchestre Symphonique de Montréal', 'Charles Dutoit'], skipping\n",
      "113-5: track[3] has more than 1 artist: ['Theodore Baskin', 'Orchestre Symphonique de Montréal', 'Charles Dutoit'], skipping\n",
      "113-5: track[11] has more than 1 artist: ['Orchestre national des Pays de la Loire', 'Pascal Rophé'], skipping\n",
      "113-6: track[14] has more than 1 artist: ['Jascha Heifetz', 'Emanuel Bay'], skipping\n",
      "113-6: track[17] has more than 1 artist: ['Ernitine Stoop', 'Nieuw Sinfonietta Amsterdam'], skipping\n",
      "114: track[1] has more than 1 artist: ['James Galway', 'Marisa Robles'], skipping\n",
      "114: track[2] has more than 1 artist: ['Jean-Claude Bouveresse', 'Théodore Paraskivesco'], skipping\n",
      "114: track[6] has more than 1 artist: ['Jean-Claude Bouveresse', 'Théodore Paraskivesco'], skipping\n",
      "114: track[46] doesn't come with artist's name, skipping\n",
      "115: track[3] doesn't come with artist's name, skipping\n",
      "117-10: track[17] has more than 1 artist: ['Raphaela Gromes', 'Julian Riem', 'Arcis Saxophon Quartett'], skipping\n",
      "117-10: track[35] has more than 1 artist: ['Colin Matthews', 'Hallé', 'Sir Mark Elder'], skipping\n",
      "117-10: track[46] has more than 1 artist: ['New Philharmonia Orchestra', 'Leopold Stokowski'], skipping\n",
      "117-5: track[48] doesn't come with artist's name, skipping\n",
      "117-5: track[49] doesn't come with artist's name, skipping\n",
      "117-7: track[28] has more than 1 artist: ['Colin Matthews', 'Hallé', 'Sir Mark Elder'], skipping\n",
      "117-7: track[29] has more than 1 artist: ['Colin Matthews', 'Hallé', 'Sir Mark Elder'], skipping\n",
      "117-12: track[25] has more than 1 artist: ['Mischa Maisky', 'Martha Argerich'], skipping\n",
      "117-12: track[46] has more than 1 artist: ['Mischa Maisky', 'Martha Argerich'], skipping\n",
      "117-8: track[11] has more than 1 artist: ['Albrecht Mayer', 'Academy of St. Martin in the Fields', 'Mathias Mönius'], skipping\n",
      "117-8: track[12] has more than 1 artist: ['Albrecht Mayer', 'Academy of St. Martin in the Fields', 'Mathias Mönius'], skipping\n",
      "117-8: track[13] has more than 1 artist: ['Albrecht Mayer', 'Academy of St. Martin in the Fields', 'Mathias Mönius'], skipping\n",
      "121: track[9] has more than 1 artist: ['Henryk Szeryng', 'Charles Reiner'], skipping\n",
      "121: track[10] has more than 1 artist: ['Henryk Szeryng', 'Charles Reiner'], skipping\n",
      "121: track[11] has more than 1 artist: ['Henryk Szeryng', 'Charles Reiner'], skipping\n",
      "121: track[14] has more than 1 artist: ['Timothy Hutchins', 'Janet Creaser Hutchins'], skipping\n",
      "121: track[15] has more than 1 artist: ['Timothy Hutchins', 'Janet Creaser Hutchins'], skipping\n",
      "121: track[22] has more than 1 artist: ['Henryk Szeryng', 'Charles Reiner'], skipping\n",
      "121: track[23] has more than 1 artist: ['San Francisco Symphony', 'Michael Tilson Thomas'], skipping\n",
      "121: track[24] has more than 1 artist: ['Henryk Szeryng', 'Charles Reiner'], skipping\n",
      "121: track[26] has more than 1 artist: ['Mischa Maisky', 'Martha Argerich'], skipping\n",
      "121: track[32] has more than 1 artist: ['Timothy Hutchins', 'Janet Creaser Hutchins'], skipping\n",
      "121: track[33] has more than 1 artist: ['San Francisco Symphony', 'Michael Tilson Thomas'], skipping\n",
      "121: track[37] has more than 1 artist: ['Kerson Leong', 'Philip Chiu'], skipping\n",
      "121: track[39] has more than 1 artist: ['Timothy Hutchins', 'Janet Creaser Hutchins'], skipping\n",
      "121: track[41] has more than 1 artist: ['Henryk Szeryng', 'Charles Reiner'], skipping\n",
      "121: track[42] has more than 1 artist: ['Henryk Szeryng', 'Charles Reiner'], skipping\n",
      "121: track[46] has more than 1 artist: ['Mischa Maisky', 'Martha Argerich'], skipping\n",
      "123-9: track[0] doesn't come with artist's name, skipping\n",
      "la boite a joujoux: track[0] has more than 1 artist: ['Orchestre Symphonique de Montréal', 'Charles Dutoit'], skipping\n",
      "la boite a joujoux: track[1] has more than 1 artist: ['Orchestre Symphonique de Montréal', 'Charles Dutoit'], skipping\n",
      "la boite a joujoux: track[2] has more than 1 artist: ['Orchestre Symphonique de Montréal', 'Charles Dutoit'], skipping\n",
      "la boite a joujoux: track[3] has more than 1 artist: ['Orchestre national des Pays de la Loire', 'Pascal Rophé'], skipping\n",
      "la boite a joujoux: track[4] has more than 1 artist: ['Orchestre Symphonique de Montréal', 'Charles Dutoit'], skipping\n",
      "la boite a joujoux: track[5] has more than 1 artist: ['Orchestre national des Pays de la Loire', 'Pascal Rophé'], skipping\n",
      "la boite a joujoux: track[6] has more than 1 artist: ['Orchestre Symphonique de Montréal', 'Charles Dutoit'], skipping\n",
      "la boite a joujoux: track[7] has more than 1 artist: ['Orchestre national des Pays de la Loire', 'Pascal Rophé'], skipping\n",
      "la boite a joujoux: track[8] has more than 1 artist: ['Orchestre Symphonique de Montréal', 'Charles Dutoit'], skipping\n",
      "la boite a joujoux: track[9] has more than 1 artist: ['Orchestre national des Pays de la Loire', 'Pascal Rophé'], skipping\n",
      "la boite a joujoux: track[10] has more than 1 artist: ['Orchestre Symphonique de Montréal', 'Charles Dutoit'], skipping\n",
      "la boite a joujoux: track[11] has more than 1 artist: ['Orchestre national des Pays de la Loire', 'Pascal Rophé'], skipping\n",
      "la boite a joujoux: track[12] has more than 1 artist: ['Orchestre symphonique de Montréal', 'Charles Dutoit'], skipping\n",
      "la boite a joujoux: track[13] has more than 1 artist: ['Orchestre national des Pays de la Loire', 'Pascal Rophé'], skipping\n",
      "la boite a joujoux: track[14] has more than 1 artist: ['Orchestre Symphonique de Montréal', 'Charles Dutoit'], skipping\n",
      "la boite a joujoux: track[15] has more than 1 artist: ['Orchestre Symphonique de Montréal', 'Charles Dutoit'], skipping\n",
      "la boite a joujoux: track[16] has more than 1 artist: ['Orchestre Symphonique de Montréal', 'Charles Dutoit'], skipping\n",
      "la boite a joujoux: track[17] has more than 1 artist: ['Orchestre symphonique de Montréal', 'Charles Dutoit'], skipping\n",
      "la boite a joujoux: track[18] has more than 1 artist: ['Orchestre Symphonique de Montréal', 'Charles Dutoit'], skipping\n",
      "la boite a joujoux: track[19] has more than 1 artist: ['Orchestre Symphonique de Montréal', 'Charles Dutoit'], skipping\n",
      "la boite a joujoux: track[20] has more than 1 artist: ['London Symphony Orchestra', 'Michael Tilson Thomas'], skipping\n",
      "la boite a joujoux: track[21] has more than 1 artist: ['London Symphony Orchestra', 'Michael Tilson Thomas'], skipping\n",
      "la boite a joujoux: track[22] has more than 1 artist: ['London Symphony Orchestra', 'Michael Tilson Thomas'], skipping\n",
      "la boite a joujoux: track[23] has more than 1 artist: ['Orchestre symphonique de Montréal', 'Charles Dutoit'], skipping\n",
      "la boite a joujoux: track[24] has more than 1 artist: ['MDR Leipzig Radio Chorus', 'Leipzig Radio Symphony Orchestra', 'Max Pommer'], skipping\n",
      "la boite a joujoux: track[25] has more than 1 artist: ['Orchestre Symphonique de Montréal', 'Charles Dutoit'], skipping\n",
      "la boite a joujoux: track[26] has more than 1 artist: ['Orchestre symphonique de Montréal', 'Charles Dutoit'], skipping\n",
      "la boite a joujoux: track[27] has more than 1 artist: ['Orchestre symphonique de Montréal', 'Charles Dutoit'], skipping\n",
      "la boite a joujoux: track[28] has more than 1 artist: ['Orchestre symphonique de Montréal', 'Charles Dutoit'], skipping\n",
      "la boite a joujoux: track[29] has more than 1 artist: ['Orchestre Symphonique de Montréal', 'Charles Dutoit'], skipping\n",
      "la boite a joujoux: track[30] has more than 1 artist: ['Orchestre Symphonique de Montréal', 'Charles Dutoit'], skipping\n",
      "la boite a joujoux: track[31] has more than 1 artist: ['London Symphony Orchestra', 'Michael Tilson Thomas'], skipping\n",
      "la boite a joujoux: track[32] has more than 1 artist: ['Orchestre Symphonique de Montréal', 'Charles Dutoit'], skipping\n",
      "la boite a joujoux: track[33] has more than 1 artist: ['Orchestre Symphonique de Montréal', 'Charles Dutoit'], skipping\n",
      "la boite a joujoux: track[34] has more than 1 artist: ['Orchestre Symphonique de Montréal', 'Charles Dutoit'], skipping\n",
      "la boite a joujoux: track[35] has more than 1 artist: ['Orchestre Symphonique de Montréal', 'Charles Dutoit'], skipping\n",
      "la boite a joujoux: track[36] has more than 1 artist: ['Orchestre Symphonique de Montréal', 'Charles Dutoit'], skipping\n",
      "la boite a joujoux: track[37] has more than 1 artist: ['London Symphony Orchestra', 'Michael Tilson Thomas'], skipping\n",
      "la boite a joujoux: track[38] has more than 1 artist: ['Orchestre Symphonique de Montréal', 'Charles Dutoit'], skipping\n",
      "la boite a joujoux: track[39] has more than 1 artist: ['Orchestre Symphonique de Montréal', 'Charles Dutoit'], skipping\n",
      "la boite a joujoux: track[40] has more than 1 artist: ['Orchestre Symphonique de Montréal', 'Charles Dutoit'], skipping\n",
      "la boite a joujoux: track[41] has more than 1 artist: ['Orchestre Symphonique de Montréal', 'Charles Dutoit'], skipping\n",
      "la boite a joujoux: track[42] has more than 1 artist: ['Andre Caplet', 'Gustave Cloez', 'Leipzig Radio Symphony Orchestra', 'Max Pommer'], skipping\n",
      "la boite a joujoux: track[43] has more than 1 artist: ['London Symphony Orchestra', 'Michael Tilson Thomas'], skipping\n",
      "la boite a joujoux: track[44] has more than 1 artist: ['Orchestre Symphonique de Montréal', 'Charles Dutoit'], skipping\n",
      "la boite a joujoux: track[45] has more than 1 artist: ['Orchestre Symphonique de Montréal', 'Charles Dutoit'], skipping\n",
      "la boite a joujoux: track[46] has more than 1 artist: ['Orchestre Symphonique de Montréal', 'Charles Dutoit'], skipping\n",
      "la boite a joujoux: track[47] has more than 1 artist: ['Orchestre Symphonique de Montréal', 'Charles Dutoit'], skipping\n",
      "la boite a joujoux: track[48] has more than 1 artist: ['Orchestre Symphonique de Montréal', 'Charles Dutoit'], skipping\n",
      "131-1: track[0] has more than 1 artist: ['Aloys Kontarsky', 'Alfons Kontarsky'], skipping\n",
      "131-1: track[1] has more than 1 artist: ['Aloys Kontarsky', 'Alfons Kontarsky'], skipping\n",
      "131-1: track[2] has more than 1 artist: ['Aloys Kontarsky', 'Alfons Kontarsky'], skipping\n",
      "131-1: track[3] has more than 1 artist: ['Werner Haas', 'Noël Lee'], skipping\n",
      "131-1: track[4] has more than 1 artist: ['Ernest Ansermet', 'Orchestre de la Suisse Romande', 'Kazuki Yamada'], skipping\n",
      "131-1: track[5] has more than 1 artist: ['Aloys Kontarsky', 'Alfons Kontarsky'], skipping\n",
      "131-1: track[6] has more than 1 artist: ['Arthur Gold', 'Robert Fizdale'], skipping\n",
      "131-1: track[9] has more than 1 artist: ['Luxembourg Philharmonic Orchestra', 'Gustavo Gimeno'], skipping\n",
      "131-1: track[10] has more than 1 artist: ['Jean-François Paillard', 'Orchestre de chambre Jean-François Paillard'], skipping\n",
      "131-1: track[11] has more than 1 artist: ['Aloys Kontarsky', 'Alfons Kontarsky'], skipping\n",
      "131-1: track[13] has more than 1 artist: ['Aloys Kontarsky', 'Alfons Kontarsky'], skipping\n",
      "131-1: track[14] has more than 1 artist: ['Aloys Kontarsky', 'Alfons Kontarsky'], skipping\n",
      "131-1: track[15] has more than 1 artist: ['Aloys Kontarsky', 'Alfons Kontarsky'], skipping\n",
      "131-1: track[17] has more than 1 artist: ['Orchestre de la Suisse Romande', 'Ernest Ansermet'], skipping\n",
      "131-1: track[18] has more than 1 artist: ['Jean-Claude Bouveresse', 'Théodore Paraskivesco'], skipping\n",
      "131-1: track[19] has more than 1 artist: ['Gaby Casadesus', 'Robert Casadesus'], skipping\n",
      "131-1: track[22] has more than 1 artist: ['Aloys Kontarsky', 'Alfons Kontarsky'], skipping\n",
      "131-1: track[24] has more than 1 artist: ['Aloys Kontarsky', 'Alfons Kontarsky'], skipping\n",
      "131-1: track[25] has more than 1 artist: ['Aloys Kontarsky', 'Alfons Kontarsky'], skipping\n",
      "131-1: track[27] has more than 1 artist: ['Aloys Kontarsky', 'Alfons Kontarsky'], skipping\n",
      "131-1: track[28] has more than 1 artist: ['Aloys Kontarsky', 'Alfons Kontarsky'], skipping\n",
      "131-1: track[29] has more than 1 artist: ['Aloys Kontarsky', 'Alfons Kontarsky'], skipping\n",
      "131-1: track[30] has more than 1 artist: ['Aloys Kontarsky', 'Alfons Kontarsky'], skipping\n",
      "131-1: track[31] has more than 1 artist: ['Aloys Kontarsky', 'Alfons Kontarsky'], skipping\n",
      "131-1: track[32] has more than 1 artist: ['Josef Dichler', 'Grete Dichlerová'], skipping\n",
      "131-1: track[33] has more than 1 artist: ['Aloys Kontarsky', 'Alfons Kontarsky'], skipping\n",
      "131-1: track[36] has more than 1 artist: ['Aloys Kontarsky', 'Alfons Kontarsky'], skipping\n",
      "131-1: track[37] has more than 1 artist: ['Aloys Kontarsky', 'Alfons Kontarsky'], skipping\n",
      "131-1: track[38] has more than 1 artist: ['Aloys Kontarsky', 'Alfons Kontarsky'], skipping\n",
      "131-1: track[41] has more than 1 artist: ['Arthur Gold', 'Robert Fizdale'], skipping\n",
      "131-1: track[42] has more than 1 artist: ['Aloys Kontarsky', 'Alfons Kontarsky'], skipping\n",
      "131-1: track[43] has more than 1 artist: ['Aloys Kontarsky', 'Alfons Kontarsky'], skipping\n",
      "131-1: track[45] has more than 1 artist: ['Beatriz Klien', 'Walter Klien'], skipping\n",
      "131-1: track[46] has more than 1 artist: ['Aloys Kontarsky', 'Alfons Kontarsky'], skipping\n",
      "131-1: track[47] has more than 1 artist: ['Aloys Kontarsky', 'Alfons Kontarsky'], skipping\n",
      "131-1: track[48] has more than 1 artist: ['Aloys Kontarsky', 'Alfons Kontarsky'], skipping\n",
      "131-1: track[49] has more than 1 artist: ['Aloys Kontarsky', 'Alfons Kontarsky'], skipping\n",
      "131-2: track[0] has more than 1 artist: ['Aloys Kontarsky', 'Alfons Kontarsky'], skipping\n",
      "131-2: track[1] has more than 1 artist: ['Orchestre de la Suisse Romande', 'Ernest Ansermet'], skipping\n",
      "131-2: track[2] has more than 1 artist: ['Orchestre de la Suisse Romande', 'Ernest Ansermet'], skipping\n",
      "131-2: track[3] has more than 1 artist: ['Aloys Kontarsky', 'Alfons Kontarsky'], skipping\n",
      "131-2: track[4] has more than 1 artist: ['Aloys Kontarsky', 'Alfons Kontarsky'], skipping\n",
      "131-2: track[5] has more than 1 artist: ['Orchestre de la Suisse Romande', 'Ernest Ansermet'], skipping\n",
      "131-2: track[6] has more than 1 artist: ['Arthur Gold', 'Robert Fizdale'], skipping\n",
      "131-2: track[7] has more than 1 artist: ['Orchestre de la Suisse Romande', 'Ernest Ansermet'], skipping\n",
      "131-2: track[8] has more than 1 artist: ['Orchestre de la Suisse Romande', 'Ernest Ansermet'], skipping\n",
      "131-2: track[9] has more than 1 artist: ['Jean-François Paillard', 'Orchestre de chambre Jean-François Paillard'], skipping\n",
      "131-2: track[10] has more than 1 artist: ['Orchestre de la Suisse Romande', 'Ernest Ansermet'], skipping\n",
      "131-2: track[11] has more than 1 artist: ['Orchestre de la Suisse Romande', 'Ernest Ansermet'], skipping\n",
      "131-2: track[12] has more than 1 artist: ['Orchestre de la Suisse Romande', 'Ernest Ansermet'], skipping\n",
      "131-2: track[13] has more than 1 artist: ['Orchestre de la Suisse Romande', 'Ernest Ansermet'], skipping\n",
      "131-2: track[14] has more than 1 artist: ['Orchestre de la Suisse Romande', 'Ernest Ansermet'], skipping\n",
      "131-2: track[15] has more than 1 artist: ['Orchestre de la Suisse Romande', 'Ernest Ansermet'], skipping\n",
      "131-2: track[16] has more than 1 artist: ['Orchestre de la Suisse Romande', 'Ernest Ansermet'], skipping\n",
      "131-2: track[17] has more than 1 artist: ['Orchestre de la Suisse Romande', 'Ernest Ansermet'], skipping\n",
      "131-2: track[18] has more than 1 artist: ['Orchestre de la Suisse Romande', 'Ernest Ansermet'], skipping\n",
      "131-2: track[19] has more than 1 artist: ['Orchestre de la Suisse Romande', 'Ernest Ansermet'], skipping\n",
      "131-2: track[20] has more than 1 artist: ['Orchestre de la Suisse Romande', 'Ernest Ansermet'], skipping\n",
      "131-2: track[21] has more than 1 artist: ['Orchestre de la Suisse Romande', 'Ernest Ansermet'], skipping\n",
      "131-2: track[22] has more than 1 artist: ['Orchestre de la Suisse Romande', 'Ernest Ansermet'], skipping\n",
      "131-2: track[23] has more than 1 artist: ['Orchestre de la Suisse Romande', 'Ernest Ansermet'], skipping\n",
      "131-2: track[24] has more than 1 artist: ['Orchestre de la Suisse Romande', 'Ernest Ansermet'], skipping\n",
      "131-2: track[25] has more than 1 artist: ['Orchestre de la Suisse Romande', 'Ernest Ansermet'], skipping\n",
      "131-2: track[26] has more than 1 artist: ['Orchestre de la Suisse Romande', 'Ernest Ansermet'], skipping\n",
      "131-2: track[27] has more than 1 artist: ['Orchestre de la Suisse Romande', 'Ernest Ansermet'], skipping\n",
      "131-2: track[28] has more than 1 artist: ['Orchestre de la Suisse Romande', 'Ernest Ansermet'], skipping\n",
      "131-2: track[29] has more than 1 artist: ['Orchestre de la Suisse Romande', 'Ernest Ansermet'], skipping\n",
      "131-2: track[30] has more than 1 artist: ['Orchestre de la Suisse Romande', 'Ernest Ansermet'], skipping\n",
      "131-2: track[31] has more than 1 artist: ['Orchestre de la Suisse Romande', 'Ernest Ansermet'], skipping\n",
      "131-2: track[32] has more than 1 artist: ['Orchestre de la Suisse Romande', 'Ernest Ansermet'], skipping\n",
      "131-2: track[33] has more than 1 artist: ['Orchestre de la Suisse Romande', 'Ernest Ansermet'], skipping\n",
      "131-2: track[34] has more than 1 artist: ['Josef Dichler', 'Grete Dichlerová'], skipping\n",
      "131-2: track[35] has more than 1 artist: ['Orchestre de la Suisse Romande', 'Ernest Ansermet'], skipping\n",
      "131-2: track[36] has more than 1 artist: ['Orchestre de la Suisse Romande', 'Ernest Ansermet'], skipping\n",
      "131-2: track[37] has more than 1 artist: ['Orchestre de la Suisse Romande', 'Ernest Ansermet'], skipping\n",
      "131-2: track[38] has more than 1 artist: ['Jean-Claude Bouveresse', 'Théodore Paraskivesco'], skipping\n",
      "131-2: track[39] has more than 1 artist: ['Orchestre de la Suisse Romande', 'Ernest Ansermet'], skipping\n",
      "131-2: track[40] has more than 1 artist: ['Orchestre de la Suisse Romande', 'Ernest Ansermet'], skipping\n",
      "131-2: track[41] has more than 1 artist: ['Orchestre de la Suisse Romande', 'Ernest Ansermet'], skipping\n",
      "131-2: track[42] has more than 1 artist: ['Orchestre de la Suisse Romande', 'Ernest Ansermet'], skipping\n",
      "131-2: track[43] has more than 1 artist: ['Orchestre de la Suisse Romande', 'Ernest Ansermet'], skipping\n",
      "131-2: track[44] has more than 1 artist: ['Orchestre de la Suisse Romande', 'Ernest Ansermet'], skipping\n",
      "131-2: track[45] has more than 1 artist: ['Orchestre de la Suisse Romande', 'Ernest Ansermet'], skipping\n",
      "131-2: track[46] has more than 1 artist: ['Orchestre de la Suisse Romande', 'Ernest Ansermet'], skipping\n",
      "131-2: track[47] has more than 1 artist: ['Orchestre de la Suisse Romande', 'Ernest Ansermet'], skipping\n",
      "131-2: track[48] has more than 1 artist: ['Orchestre de la Suisse Romande', 'Ernest Ansermet'], skipping\n",
      "131-2: track[49] has more than 1 artist: ['Aloys Kontarsky', 'Alfons Kontarsky'], skipping\n",
      "131-3: track[0] has more than 1 artist: ['Aloys Kontarsky', 'Alfons Kontarsky'], skipping\n",
      "131-3: track[1] has more than 1 artist: ['Aloys Kontarsky', 'Alfons Kontarsky'], skipping\n",
      "131-3: track[2] has more than 1 artist: ['Aloys Kontarsky', 'Alfons Kontarsky'], skipping\n",
      "131-3: track[3] has more than 1 artist: ['Werner Haas', 'Noël Lee'], skipping\n",
      "131-3: track[4] has more than 1 artist: ['Werner Haas', 'Noel Lee'], skipping\n",
      "131-3: track[5] has more than 1 artist: ['Werner Haas', 'Noel Lee'], skipping\n",
      "131-3: track[6] has more than 1 artist: ['Werner Haas', 'Noel Lee'], skipping\n",
      "131-3: track[7] has more than 1 artist: ['Werner Haas', 'Noel Lee'], skipping\n",
      "131-3: track[8] has more than 1 artist: ['Werner Haas', 'Noël Lee'], skipping\n",
      "131-3: track[9] has more than 1 artist: ['Arthur Gold', 'Robert Fizdale'], skipping\n",
      "131-3: track[11] has more than 1 artist: ['Werner Haas', 'Noël Lee'], skipping\n",
      "131-3: track[12] has more than 1 artist: ['Werner Haas', 'Noël Lee'], skipping\n",
      "131-3: track[13] has more than 1 artist: ['Aloys Kontarsky', 'Alfons Kontarsky'], skipping\n",
      "131-3: track[14] has more than 1 artist: ['Werner Haas', 'Noël Lee'], skipping\n",
      "131-3: track[15] has more than 1 artist: ['Jean-François Paillard', 'Orchestre de chambre Jean-François Paillard'], skipping\n",
      "131-3: track[16] has more than 1 artist: ['Josef Dichler', 'Grete Dichlerová'], skipping\n",
      "131-3: track[17] has more than 1 artist: ['Orchestre de la Suisse Romande', 'Ernest Ansermet'], skipping\n",
      "131-3: track[18] has more than 1 artist: ['Aloys Kontarsky', 'Alfons Kontarsky'], skipping\n",
      "131-3: track[19] has more than 1 artist: ['Aloys Kontarsky', 'Alfons Kontarsky'], skipping\n",
      "131-3: track[20] has more than 1 artist: ['Aloys Kontarsky', 'Alfons Kontarsky'], skipping\n",
      "131-3: track[21] has more than 1 artist: ['Aloys Kontarsky', 'Alfons Kontarsky'], skipping\n",
      "131-3: track[22] has more than 1 artist: ['Rudolf Escher', 'Netherlands Radio Chamber Orchestra', 'Ed Spanjaard'], skipping\n",
      "131-3: track[23] has more than 1 artist: ['Aloys Kontarsky', 'Alfons Kontarsky'], skipping\n",
      "131-3: track[24] has more than 1 artist: ['Aloys Kontarsky', 'Alfons Kontarsky'], skipping\n",
      "131-3: track[25] has more than 1 artist: ['Aloys Kontarsky', 'Alfons Kontarsky'], skipping\n",
      "131-3: track[26] has more than 1 artist: ['Beatriz Klien', 'Walter Klien'], skipping\n",
      "131-3: track[28] has more than 1 artist: ['Aloys Kontarsky', 'Alfons Kontarsky'], skipping\n",
      "131-3: track[29] has more than 1 artist: ['Aloys Kontarsky', 'Alfons Kontarsky'], skipping\n",
      "131-3: track[30] has more than 1 artist: ['Aloys Kontarsky', 'Alfons Kontarsky'], skipping\n",
      "131-3: track[31] has more than 1 artist: ['Aloys Kontarsky', 'Alfons Kontarsky'], skipping\n",
      "131-3: track[32] has more than 1 artist: ['Aloys Kontarsky', 'Alfons Kontarsky'], skipping\n",
      "131-3: track[33] has more than 1 artist: ['Filippo Farinelli', \"Raffaele D'Aniello\"], skipping\n",
      "131-3: track[35] has more than 1 artist: ['Aloys Kontarsky', 'Alfons Kontarsky'], skipping\n",
      "131-3: track[36] has more than 1 artist: ['Arthur Gold', 'Robert Fizdale'], skipping\n",
      "131-3: track[37] has more than 1 artist: ['Aloys Kontarsky', 'Alfons Kontarsky'], skipping\n",
      "131-3: track[38] has more than 1 artist: ['Aloys Kontarsky', 'Alfons Kontarsky'], skipping\n",
      "131-3: track[39] has more than 1 artist: ['Aloys Kontarsky', 'Alfons Kontarsky'], skipping\n",
      "131-3: track[40] has more than 1 artist: ['Aloys Kontarsky', 'Alfons Kontarsky'], skipping\n",
      "131-3: track[41] has more than 1 artist: ['Aloys Kontarsky', 'Alfons Kontarsky'], skipping\n",
      "131-3: track[42] has more than 1 artist: ['Aloys Kontarsky', 'Alfons Kontarsky'], skipping\n",
      "131-3: track[43] has more than 1 artist: ['Aloys Kontarsky', 'Alfons Kontarsky'], skipping\n",
      "131-3: track[44] has more than 1 artist: ['Aloys Kontarsky', 'Alfons Kontarsky'], skipping\n",
      "131-3: track[45] has more than 1 artist: ['Aloys Kontarsky', 'Alfons Kontarsky'], skipping\n",
      "131-3: track[46] has more than 1 artist: ['Aloys Kontarsky', 'Alfons Kontarsky'], skipping\n",
      "131-3: track[47] has more than 1 artist: ['Gaby Casadesus', 'Robert Casadesus'], skipping\n",
      "131-3: track[48] has more than 1 artist: ['Aloys Kontarsky', 'Alfons Kontarsky'], skipping\n",
      "131-3: track[49] has more than 1 artist: ['Aloys Kontarsky', 'Alfons Kontarsky'], skipping\n",
      "131-4: track[0] has more than 1 artist: ['Aloys Kontarsky', 'Alfons Kontarsky'], skipping\n",
      "131-4: track[1] has more than 1 artist: ['Orchestre de la Suisse Romande', 'Ernest Ansermet'], skipping\n",
      "131-4: track[2] has more than 1 artist: ['Orchestre de la Suisse Romande', 'Ernest Ansermet'], skipping\n",
      "131-4: track[3] has more than 1 artist: ['Aloys Kontarsky', 'Alfons Kontarsky'], skipping\n",
      "131-4: track[4] has more than 1 artist: ['Aloys Kontarsky', 'Alfons Kontarsky'], skipping\n",
      "131-4: track[5] has more than 1 artist: ['Aloys Kontarsky', 'Alfons Kontarsky'], skipping\n",
      "131-4: track[6] has more than 1 artist: ['Werner Haas', 'Noël Lee'], skipping\n",
      "131-4: track[7] has more than 1 artist: ['Orchestre de la Suisse Romande', 'Ernest Ansermet'], skipping\n",
      "131-4: track[8] has more than 1 artist: ['Arthur Gold', 'Robert Fizdale'], skipping\n",
      "131-4: track[9] has more than 1 artist: ['Orchestre de la Suisse Romande', 'Ernest Ansermet'], skipping\n",
      "131-4: track[10] has more than 1 artist: ['Orchestre de la Suisse Romande', 'Ernest Ansermet'], skipping\n",
      "131-4: track[11] has more than 1 artist: ['Aloys Kontarsky', 'Alfons Kontarsky'], skipping\n",
      "131-4: track[12] has more than 1 artist: ['Aloys Kontarsky', 'Alfons Kontarsky'], skipping\n",
      "131-4: track[14] has more than 1 artist: ['Orchestre de la Suisse Romande', 'Ernest Ansermet'], skipping\n",
      "131-4: track[15] has more than 1 artist: ['Orchestre de la Suisse Romande', 'Ernest Ansermet'], skipping\n",
      "131-4: track[16] has more than 1 artist: ['Orchestre de la Suisse Romande', 'Ernest Ansermet'], skipping\n",
      "131-4: track[17] has more than 1 artist: ['Orchestre de la Suisse Romande', 'Ernest Ansermet'], skipping\n",
      "131-4: track[18] has more than 1 artist: ['Aloys Kontarsky', 'Alfons Kontarsky'], skipping\n",
      "131-4: track[19] has more than 1 artist: ['Aloys Kontarsky', 'Alfons Kontarsky'], skipping\n",
      "131-4: track[20] has more than 1 artist: ['Anne Queffélec', 'Gaspard Dehaene'], skipping\n",
      "131-4: track[21] has more than 1 artist: ['Aloys Kontarsky', 'Alfons Kontarsky'], skipping\n",
      "131-4: track[22] has more than 1 artist: ['Aloys Kontarsky', 'Alfons Kontarsky'], skipping\n",
      "131-4: track[23] has more than 1 artist: ['Aloys Kontarsky', 'Alfons Kontarsky'], skipping\n",
      "131-4: track[24] has more than 1 artist: ['Jean-François Paillard', 'Orchestre de chambre Jean-François Paillard'], skipping\n",
      "131-4: track[25] has more than 1 artist: ['Aloys Kontarsky', 'Alfons Kontarsky'], skipping\n",
      "131-4: track[26] has more than 1 artist: ['Orchestre de la Suisse Romande', 'Ernest Ansermet'], skipping\n",
      "131-4: track[27] has more than 1 artist: ['Orchestre de la Suisse Romande', 'Ernest Ansermet'], skipping\n",
      "131-4: track[28] has more than 1 artist: ['Orchestre de la Suisse Romande', 'Ernest Ansermet'], skipping\n",
      "131-4: track[29] has more than 1 artist: ['Orchestre de la Suisse Romande', 'Ernest Ansermet'], skipping\n",
      "131-4: track[30] has more than 1 artist: ['Orchestre de la Suisse Romande', 'Ernest Ansermet'], skipping\n",
      "131-4: track[31] has more than 1 artist: ['Orchestre de la Suisse Romande', 'Ernest Ansermet'], skipping\n",
      "131-4: track[32] has more than 1 artist: ['Orchestre de la Suisse Romande', 'Ernest Ansermet'], skipping\n",
      "131-4: track[33] has more than 1 artist: ['Orchestre de la Suisse Romande', 'Ernest Ansermet'], skipping\n",
      "131-4: track[34] has more than 1 artist: ['Orchestre de la Suisse Romande', 'Ernest Ansermet'], skipping\n",
      "131-4: track[35] has more than 1 artist: ['Orchestre de la Suisse Romande', 'Ernest Ansermet'], skipping\n",
      "131-4: track[36] has more than 1 artist: ['Orchestre de la Suisse Romande', 'Ernest Ansermet'], skipping\n",
      "131-4: track[37] has more than 1 artist: ['Orchestre de la Suisse Romande', 'Ernest Ansermet'], skipping\n",
      "131-4: track[38] has more than 1 artist: ['Orchestre de la Suisse Romande', 'Ernest Ansermet'], skipping\n",
      "131-4: track[39] has more than 1 artist: ['Orchestre de la Suisse Romande', 'Ernest Ansermet'], skipping\n",
      "131-4: track[40] has more than 1 artist: ['Orchestre de la Suisse Romande', 'Ernest Ansermet'], skipping\n",
      "131-4: track[41] has more than 1 artist: ['Orchestre de la Suisse Romande', 'Ernest Ansermet'], skipping\n",
      "131-4: track[42] has more than 1 artist: ['Orchestre de la Suisse Romande', 'Ernest Ansermet'], skipping\n",
      "131-4: track[43] has more than 1 artist: ['Orchestre de la Suisse Romande', 'Ernest Ansermet'], skipping\n",
      "131-4: track[44] has more than 1 artist: ['Orchestre de la Suisse Romande', 'Ernest Ansermet'], skipping\n",
      "131-4: track[45] has more than 1 artist: ['Orchestre de la Suisse Romande', 'Ernest Ansermet'], skipping\n",
      "131-4: track[46] has more than 1 artist: ['Orchestre de la Suisse Romande', 'Ernest Ansermet'], skipping\n",
      "131-4: track[47] has more than 1 artist: ['Orchestre de la Suisse Romande', 'Ernest Ansermet'], skipping\n",
      "131-4: track[48] has more than 1 artist: ['Orchestre de la Suisse Romande', 'Ernest Ansermet'], skipping\n",
      "131-4: track[49] has more than 1 artist: ['Orchestre de la Suisse Romande', 'Ernest Ansermet'], skipping\n",
      "131-5: track[0] has more than 1 artist: ['Aloys Kontarsky', 'Alfons Kontarsky'], skipping\n",
      "131-5: track[1] has more than 1 artist: ['Aloys Kontarsky', 'Alfons Kontarsky'], skipping\n",
      "131-5: track[2] has more than 1 artist: ['Aloys Kontarsky', 'Alfons Kontarsky'], skipping\n",
      "131-5: track[3] has more than 1 artist: ['Werner Haas', 'Noël Lee'], skipping\n",
      "131-5: track[4] has more than 1 artist: ['Aloys Kontarsky', 'Alfons Kontarsky'], skipping\n",
      "131-5: track[5] has more than 1 artist: ['Arthur Gold', 'Robert Fizdale'], skipping\n",
      "131-5: track[7] has more than 1 artist: ['Aloys Kontarsky', 'Alfons Kontarsky'], skipping\n",
      "131-5: track[8] has more than 1 artist: ['Jean-François Paillard', 'Orchestre de chambre Jean-François Paillard'], skipping\n",
      "131-5: track[21] has more than 1 artist: ['Orchestre de la Suisse Romande', 'Ernest Ansermet'], skipping\n",
      "131-5: track[22] has more than 1 artist: ['Josef Dichler', 'Grete Dichlerová'], skipping\n",
      "131-5: track[23] has more than 1 artist: ['Jean-Claude Bouveresse', 'Théodore Paraskivesco'], skipping\n",
      "131-5: track[24] has more than 1 artist: ['Aloys Kontarsky', 'Alfons Kontarsky'], skipping\n",
      "131-5: track[25] has more than 1 artist: ['Aloys Kontarsky', 'Alfons Kontarsky'], skipping\n",
      "131-5: track[26] has more than 1 artist: ['Aloys Kontarsky', 'Alfons Kontarsky'], skipping\n",
      "131-5: track[27] has more than 1 artist: ['Aloys Kontarsky', 'Alfons Kontarsky'], skipping\n",
      "131-5: track[28] has more than 1 artist: ['Armin Jordan', 'Basler Sinfonie Orchester'], skipping\n",
      "131-5: track[29] has more than 1 artist: ['Katia Labèque', 'Marielle Labèque'], skipping\n",
      "131-5: track[31] has more than 1 artist: ['Aloys Kontarsky', 'Alfons Kontarsky'], skipping\n",
      "131-5: track[33] has more than 1 artist: ['Aloys Kontarsky', 'Alfons Kontarsky'], skipping\n",
      "131-5: track[34] has more than 1 artist: ['Aloys Kontarsky', 'Alfons Kontarsky'], skipping\n",
      "131-5: track[35] has more than 1 artist: ['Aloys Kontarsky', 'Alfons Kontarsky'], skipping\n",
      "131-5: track[36] has more than 1 artist: ['Aloys Kontarsky', 'Alfons Kontarsky'], skipping\n",
      "131-5: track[37] has more than 1 artist: ['Aloys Kontarsky', 'Alfons Kontarsky'], skipping\n",
      "131-5: track[38] has more than 1 artist: ['Aloys Kontarsky', 'Alfons Kontarsky'], skipping\n",
      "131-5: track[40] has more than 1 artist: ['Aloys Kontarsky', 'Alfons Kontarsky'], skipping\n",
      "131-5: track[41] has more than 1 artist: ['Aloys Kontarsky', 'Alfons Kontarsky'], skipping\n",
      "131-5: track[42] has more than 1 artist: ['Robert Casadesus', 'Gaby Casadesus'], skipping\n",
      "131-5: track[43] has more than 1 artist: ['Aloys Kontarsky', 'Alfons Kontarsky'], skipping\n",
      "131-5: track[45] has more than 1 artist: ['Aloys Kontarsky', 'Alfons Kontarsky'], skipping\n",
      "131-5: track[48] has more than 1 artist: ['Aloys Kontarsky', 'Alfons Kontarsky'], skipping\n",
      "131-5: track[49] has more than 1 artist: ['Aloys Kontarsky', 'Alfons Kontarsky'], skipping\n",
      "131-6: track[0] has more than 1 artist: ['Aloys Kontarsky', 'Alfons Kontarsky'], skipping\n",
      "131-6: track[1] has more than 1 artist: ['Aloys Kontarsky', 'Alfons Kontarsky'], skipping\n",
      "131-6: track[2] has more than 1 artist: ['Aloys Kontarsky', 'Alfons Kontarsky'], skipping\n",
      "131-6: track[3] has more than 1 artist: ['Aloys Kontarsky', 'Alfons Kontarsky'], skipping\n",
      "131-6: track[4] has more than 1 artist: ['Arthur Gold', 'Robert Fizdale'], skipping\n",
      "131-6: track[5] has more than 1 artist: ['Aloys Kontarsky', 'Alfons Kontarsky'], skipping\n",
      "131-6: track[6] has more than 1 artist: ['Aloys Kontarsky', 'Alfons Kontarsky'], skipping\n",
      "131-6: track[7] has more than 1 artist: ['Aloys Kontarsky', 'Alfons Kontarsky'], skipping\n",
      "131-6: track[8] has more than 1 artist: ['Aloys Kontarsky', 'Alfons Kontarsky'], skipping\n",
      "131-6: track[9] has more than 1 artist: ['Aloys Kontarsky', 'Alfons Kontarsky'], skipping\n",
      "131-6: track[10] has more than 1 artist: ['Jean-François Paillard', 'Orchestre de chambre Jean-François Paillard'], skipping\n",
      "131-6: track[11] has more than 1 artist: ['Aloys Kontarsky', 'Alfons Kontarsky'], skipping\n",
      "131-6: track[12] has more than 1 artist: ['Orchestre de la Suisse Romande', 'Ernest Ansermet'], skipping\n",
      "131-6: track[13] has more than 1 artist: ['Josef Dichler', 'Grete Dichlerová'], skipping\n",
      "131-6: track[14] has more than 1 artist: ['Aloys Kontarsky', 'Alfons Kontarsky'], skipping\n",
      "131-6: track[15] has more than 1 artist: ['Aloys Kontarsky', 'Alfons Kontarsky'], skipping\n",
      "131-6: track[16] has more than 1 artist: ['Aloys Kontarsky', 'Alfons Kontarsky'], skipping\n",
      "131-6: track[17] has more than 1 artist: ['Aloys Kontarsky', 'Alfons Kontarsky'], skipping\n",
      "131-6: track[18] has more than 1 artist: ['Aloys Kontarsky', 'Alfons Kontarsky'], skipping\n",
      "131-6: track[19] has more than 1 artist: ['Aloys Kontarsky', 'Alfons Kontarsky'], skipping\n",
      "131-6: track[20] has more than 1 artist: ['Aloys Kontarsky', 'Alfons Kontarsky'], skipping\n",
      "131-6: track[21] has more than 1 artist: ['Aloys Kontarsky', 'Alfons Kontarsky'], skipping\n",
      "131-6: track[22] has more than 1 artist: ['Aloys Kontarsky', 'Alfons Kontarsky'], skipping\n",
      "131-6: track[23] has more than 1 artist: ['Aloys Kontarsky', 'Alfons Kontarsky'], skipping\n",
      "131-6: track[24] has more than 1 artist: ['Aloys Kontarsky', 'Alfons Kontarsky'], skipping\n",
      "131-6: track[25] has more than 1 artist: ['Beatriz Klien', 'Walter Klien'], skipping\n",
      "131-6: track[26] has more than 1 artist: ['Aloys Kontarsky', 'Alfons Kontarsky'], skipping\n",
      "131-6: track[27] has more than 1 artist: ['Aloys Kontarsky', 'Alfons Kontarsky'], skipping\n",
      "131-6: track[28] has more than 1 artist: ['Aloys Kontarsky', 'Alfons Kontarsky'], skipping\n",
      "131-6: track[29] has more than 1 artist: ['Aloys Kontarsky', 'Alfons Kontarsky'], skipping\n",
      "131-6: track[30] has more than 1 artist: ['Aloys Kontarsky', 'Alfons Kontarsky'], skipping\n",
      "131-6: track[31] has more than 1 artist: ['Aloys Kontarsky', 'Alfons Kontarsky'], skipping\n",
      "131-6: track[32] has more than 1 artist: ['Aloys Kontarsky', 'Alfons Kontarsky'], skipping\n",
      "131-6: track[33] has more than 1 artist: ['Aloys Kontarsky', 'Alfons Kontarsky'], skipping\n",
      "131-6: track[34] has more than 1 artist: ['Aloys Kontarsky', 'Alfons Kontarsky'], skipping\n",
      "131-6: track[35] has more than 1 artist: ['Aloys Kontarsky', 'Alfons Kontarsky'], skipping\n",
      "131-6: track[36] has more than 1 artist: ['Aloys Kontarsky', 'Alfons Kontarsky'], skipping\n",
      "131-6: track[37] has more than 1 artist: ['Aloys Kontarsky', 'Alfons Kontarsky'], skipping\n",
      "131-6: track[38] has more than 1 artist: ['Arthur Gold', 'Robert Fizdale'], skipping\n",
      "131-6: track[39] has more than 1 artist: ['Katia Labèque', 'Marielle Labèque'], skipping\n",
      "131-6: track[40] has more than 1 artist: ['Aloys Kontarsky', 'Alfons Kontarsky'], skipping\n",
      "131-6: track[41] has more than 1 artist: ['Aloys Kontarsky', 'Alfons Kontarsky'], skipping\n",
      "131-6: track[43] has more than 1 artist: ['Aloys Kontarsky', 'Alfons Kontarsky'], skipping\n",
      "131-6: track[44] has more than 1 artist: ['Aloys Kontarsky', 'Alfons Kontarsky'], skipping\n",
      "131-6: track[45] has more than 1 artist: ['Aloys Kontarsky', 'Alfons Kontarsky'], skipping\n",
      "131-6: track[46] has more than 1 artist: ['Aloys Kontarsky', 'Alfons Kontarsky'], skipping\n",
      "131-6: track[47] has more than 1 artist: ['Filippo Farinelli', \"Raffaele D'Aniello\"], skipping\n",
      "131-6: track[48] has more than 1 artist: ['Aloys Kontarsky', 'Alfons Kontarsky'], skipping\n",
      "131-6: track[49] has more than 1 artist: ['Aloys Kontarsky', 'Alfons Kontarsky'], skipping\n",
      "132: track[2] has more than 1 artist: ['Orchestre National De Lyon', 'Jun Markl'], skipping\n",
      "132: track[3] has more than 1 artist: ['Jean Martinon', \"Orchestre National de l'O.R.T.F.\"], skipping\n",
      "132: track[5] has more than 1 artist: ['Concertgebouworkest', 'Eduard van Beinum'], skipping\n",
      "132: track[7] has more than 1 artist: ['Concertgebouworkest', 'Eduard van Beinum'], skipping\n",
      "132: track[8] has more than 1 artist: ['Concertgebouworkest', 'Eduard van Beinum'], skipping\n",
      "132: track[9] has more than 1 artist: ['Concertgebouworkest', 'Eduard van Beinum'], skipping\n",
      "132: track[12] has more than 1 artist: ['Concertgebouworkest', 'Eduard van Beinum'], skipping\n",
      "132: track[20] has more than 1 artist: ['Orchestra Of Radio Luxembourg', 'Louis de Froment'], skipping\n",
      "132: track[37] has more than 1 artist: ['Orchestra Of Radio Luxembourg', 'Louis de Froment'], skipping\n",
      "les soirs illumines par l'ardeur du charbon: track[2] has more than 1 artist: ['Colin Matthews', 'Hallé', 'Sir Mark Elder'], skipping\n"
     ]
    },
    {
     "data": {
      "text/plain": [
       "[{'name': 'Préludes, Livre II, L. 123: No. 9, Hommage à Samuel Pickwick esq. P.P.M.P.C.',\n",
       "  'artist': 'Jérome Granjon',\n",
       "  'id': '4ag3EZtqO8MiMWlo5vKIKQ',\n",
       "  'duration_ms': 154932,\n",
       "  'release_date': '2011'}]"
      ]
     },
     "execution_count": 5,
     "metadata": {},
     "output_type": "execute_result"
    }
   ],
   "source": [
    "pieces_data = {}\n",
    "for key, search_results in searches.items():\n",
    "    tracks = search_results['tracks']['items']\n",
    "    if not tracks: print(f'{\"missing tracks for \"}{key}')\n",
    "    search_tracks = []    \n",
    "    already_found = []\n",
    "    for (idx, track) in enumerate(tracks):\n",
    "        artists = [artist['name'] for artist in track['artists'] if 'debussy' not in artist['name'].lower()]\n",
    "        n_artists = len(artists)\n",
    "        if n_artists == 0:\n",
    "            print(f\"{key}: track[{idx}] doesn't come with artist's name, skipping\")\n",
    "            continue\n",
    "        if n_artists > 1:\n",
    "            print(f\"{key}: track[{idx}] has more than 1 artist: {artists}, skipping\")\n",
    "            continue\n",
    "        artist = artists[0]\n",
    "        duration_ms = track['duration_ms']\n",
    "        id_tuple = (artist, duration_ms)\n",
    "        if id_tuple in already_found:\n",
    "            continue\n",
    "        already_found.append(id_tuple)\n",
    "        name = track['name']\n",
    "        id = track['id']\n",
    "        release_date = track['album']['release_date']        \n",
    "        \n",
    "        track_info = {\n",
    "            'name' : name,\n",
    "            'artist' : artist,\n",
    "            'id' : id,\n",
    "            'duration_ms' : duration_ms, \n",
    "            'release_date' : release_date  \n",
    "        }\n",
    "        search_tracks.append(track_info)\n",
    "    pieces_data[key] = search_tracks\n",
    "pieces_data['123-9']"
   ]
  },
  {
   "cell_type": "markdown",
   "metadata": {},
   "source": [
    "### Output track names to exclude wrong ones"
   ]
  },
  {
   "cell_type": "code",
   "execution_count": 6,
   "metadata": {},
   "outputs": [
    {
     "data": {
      "text/plain": [
       "{('009',\n",
       "  'Danse bohémienne'): [(0,\n",
       "   ('Danse bohémienne, L.9', 'Gordon Fergus-Thompson')), (1,\n",
       "   ('Danse bohémienne, L. 9', 'Werner Haas')), (2,\n",
       "   ('Danse bohémienne, L. 9, CD 4', 'Jean-Efflam Bavouzet')), (3,\n",
       "   ('Debussy: Danse bohémienne, CD 4, L. 9', 'Aldo Ciccolini')), (4,\n",
       "   ('Danse Bohémienne, L.9', 'Jean-Yves Thibaudet')), (5,\n",
       "   ('Danse bohémienne, L. 9', 'Bruno Canino')), (6,\n",
       "   ('Danse Bohémienne, L. 9', 'John Paul Jalwan')), (7,\n",
       "   ('Debussy: Danse bohémienne, CD 4, L. 9', 'Walter Gieseking')), (8,\n",
       "   ('Debussy: Danse bohémienne, CD 4, L. 9', 'Walter Gieseking')), (9,\n",
       "   ('Debussy: Danse bohémienne, CD 4, L. 9', 'Aldo Ciccolini')), (10,\n",
       "   ('Debussy: Danse bohémienne, CD 4, L. 9', 'Monique Haas')), (11,\n",
       "   ('Claude Debussy: Danse bohémienne, L 9 (1880)',\n",
       "    'Jean-Pierre Armengaud')), (12,\n",
       "   ('Danse Bohémienne, L.9', 'Jean-Yves Thibaudet')), (13,\n",
       "   ('Danse bohémienne, L.9', 'Jean-Louis Haguenauer')), (14,\n",
       "   ('Danse Bohémienne, L. 9', 'Daniel Ericourt')), (15,\n",
       "   ('Danse bohémienne, L 9', 'Martino Tirimo')), (16,\n",
       "   ('Danse bohémienne, L. 9', 'Jean Boguet')), (17,\n",
       "   ('Danse bohémienne, L. 9', 'Martin Jones')), (18,\n",
       "   ('Danse Bohémienne, L.9', 'Jean-Yves Thibaudet')), (19,\n",
       "   ('Danse bohémienne, L 9', 'Lucy Parham')), (20,\n",
       "   ('Danse bohémienne, L. 9', 'Philippe Cassard')), (21,\n",
       "   ('Danse bohémienne, L. 9', 'Christopher Devine'))],\n",
       " ('intermede',\n",
       "  'Intermède'): [(0,\n",
       "   ('Debussy: Violin Sonata in G Minor, L. 148: II. Intermède - Fantasque et léger',\n",
       "    'Bertrand Chamayou')), (1,\n",
       "   ('Violin Sonata in G Minor, L. 140 : II. Intermède. Fantasque et léger',\n",
       "    'John Paul Jalwan')), (2,\n",
       "   ('C. Debussy: Sonata for Violin and Piano: Intermede', 'Hyman Bress')), (3,\n",
       "   ('Debussy: Violin Sonata in G Minor, L. 148: II. Intermède',\n",
       "    'Yehudi Menuhin')), (4,\n",
       "   ('Debussy: Violin Sonata in G Minor, L. 148: II. Intermède',\n",
       "    'Yehudi Menuhin')), (5, ('Intermède', 'Noriko Ogawa')), (6,\n",
       "   ('Debussy - Sonata for Violin and Piano in G minor: II. Intermède,',\n",
       "    \"Rachel Kolly d'Alba\")), (7,\n",
       "   ('Debussy: Violin Sonata in G Minor, L. 148: II. Intermède - Fantasque et léger',\n",
       "    'Christian Ferras'))],\n",
       " ('066-1',\n",
       "  'Arabesque I: Andantino con moto in E Major'): [(0,\n",
       "   ('2 Arabesques, L. 66: I. Andantino con moto in E Major',\n",
       "    'Hélène Grimaud')), (1,\n",
       "   ('Deux arabesques, L. 66: No. 1, Andantino con moto in E Major',\n",
       "    'Peter Schmalfuss')), (2,\n",
       "   ('2 Arabesques, L. 66: No. 1, Andantino con moto in E Major',\n",
       "    'Axel Gillison')), (3,\n",
       "   ('2 Arabesques, L. 66: I. Andantino con moto in E Major',\n",
       "    'Hélène Grimaud')), (4,\n",
       "   ('Debussy : Deux Arabesques No.1 In E Major L.66 - Andantino Con Moto - Sea Version',\n",
       "    'Lullaby')), (5,\n",
       "   ('Deux Arabesques, L. 66: I. Andantino con moto in E Major',\n",
       "    'Aldo Ciccolini')), (6,\n",
       "   ('Debussy : Deux Arabesques No.1 In E Major L.66 - Andantino Con Moto',\n",
       "    'Classic Tale')), (7,\n",
       "   ('Arabesque I in E Major, L. 66: Andantino con moto',\n",
       "    'Mariangela Vacatello')), (8,\n",
       "   ('Debussy : Deux Arabesques No.1 In E Major L.66 - Andantino Con Moto',\n",
       "    'Prental Story')), (9,\n",
       "   ('Debussy : Deux Arabesques No.1 In E Major L.66 - Andantino Con Moto',\n",
       "    'Lullaby')), (10,\n",
       "   ('Debussy : Deux Arabesques No.1 In E Major L.66 - Andantino Con Moto',\n",
       "    'Classic')), (11,\n",
       "   ('Debussy : 2 Arabesques No.1 In E Major L.66 - Andantino Con Moto',\n",
       "    'Bebepop'))],\n",
       " ('067', 'Mazurka'): [(0, ('Mazurka, L. 67', 'Walter Gieseking')),\n",
       "  (1, ('Mazurka, L. 67', 'Matteo Fossi')),\n",
       "  (2, ('Mazurka, L. 67, CD 75', 'Jean-Efflam Bavouzet')),\n",
       "  (3, ('Mazurka, L.67', 'Jean-Yves Thibaudet')),\n",
       "  (4, ('Mazurka, L. 67', 'John Paul Jalwan')),\n",
       "  (5, ('Debussy: Mazurka, CD 75, L. 67', 'Aldo Ciccolini')),\n",
       "  (6, ('Debussy: Mazurka, CD 75, L. 67', 'Walter Gieseking')),\n",
       "  (7, ('Debussy: Mazurka, CD 75, L. 67', 'Monique Haas')),\n",
       "  (8, ('Debussy: Mazurka, CD 75, L. 67', 'Aldo Ciccolini')),\n",
       "  (9, ('Mazurka, L.67', 'Jean-Yves Thibaudet')),\n",
       "  (10, ('Mazurka, L. 67', 'Peter Frankl')),\n",
       "  (11, ('Mazurka, L.67', 'Jacques Février')),\n",
       "  (12, ('Mazurka, L. 67', 'Daniel Ericourt')),\n",
       "  (13, ('Mazurka, L. 67', 'Jean-Louis Haguenauer')),\n",
       "  (14, ('Mazurka (L. 67)', 'Zoltán Kocsis')),\n",
       "  (15, ('Mazurka, L. 67', 'Jonas Vitaud')),\n",
       "  (16, ('Mazurka, L 67', 'Martino Tirimo')),\n",
       "  (17, ('Mazurka, L. 67', 'Peter Frankl')),\n",
       "  (18, ('Mazurka, L. 67', 'Daniel Ericourt')),\n",
       "  (19, ('Mazurka, L. 67', 'Martin Jones')),\n",
       "  (20, ('Mazurka, L. 67', 'Bennett Lerner')),\n",
       "  (21, ('Mazurka, L. 67', 'Marius-François Gaillard'))],\n",
       " ('068', 'Rêverie'): [(0, ('Rêverie, L. 68: Rêverie', 'Jean-Yves Thibaudet')),\n",
       "  (1, ('Rêverie, L. 68: Rêverie', 'Jean-Yves Thibaudet')),\n",
       "  (2, ('Rêverie, L. 68', 'Werner Haas')),\n",
       "  (3, ('Rêverie, L. 68', 'Hélène Grimaud')),\n",
       "  (4, ('Rêverie, L. 68', 'Alice Sara Ott')),\n",
       "  (5, ('Rêverie, L. 68', 'Menahem Pressler')),\n",
       "  (6, ('Rêverie, L. 68', 'Aldo Ciccolini')),\n",
       "  (7, ('Rêverie, L. 68', 'Samson François')),\n",
       "  (8, ('Rêverie, L. 68', 'Lang Lang')),\n",
       "  (9, ('Rêverie, L. 68', 'Axel Gillison')),\n",
       "  (10, ('Debussy: Rêverie, CD 76, L. 68', 'Shani Diluka')),\n",
       "  (11, ('Reverie, L. 68', 'Rogerio Tutti')),\n",
       "  (12, ('Rêverie, L. 68', 'Kathryn Stott')),\n",
       "  (13, ('Rêverie, L. 68', 'Zoltán Kocsis')),\n",
       "  (14, ('Rêverie, L. 68', 'Werner Haas')),\n",
       "  (15, ('Rêverie, L. 68', 'François-Joël Thiollier')),\n",
       "  (16, ('Rêverie, L. 68', 'Axel Gillison')),\n",
       "  (17, ('Rêverie, L. 68', 'Jonny Southard')),\n",
       "  (18, ('Debussy: Rêverie, CD 76, L. 68', 'Aldo Ciccolini')),\n",
       "  (19, ('Rêverie, L. 68: Reverie', 'Larissa Dedova')),\n",
       "  (20, ('Rêverie, L.68', 'Pascal Rogé')),\n",
       "  (21, ('Rêverie, L. 68', 'Zoltán Kocsis'))],\n",
       " ('069',\n",
       "  'Tarentelle styrienne'): [(0,\n",
       "   ('Debussy: Tarentelle styrienne, CD 77, L. 69', 'Aldo Ciccolini')), (1,\n",
       "   ('Danse, L. 69 \"Tarentelle styrienne\"', 'Monique Haas')), (2,\n",
       "   ('Danse, L. 69 \"Tarentelle Styrienne\"', 'Philippe Cassard')), (3,\n",
       "   ('Danse, L. 69 \"Tarentelle et Styrienne\" - Arr. Gabriel Philippot for Brass Quintet',\n",
       "    'Local Brass Quintet')), (4,\n",
       "   ('Danse, \"Tarentelle Styrienne\", L 69', 'Noriko Ogawa'))],\n",
       " ('070', 'Ballade slave'): [(0, ('Ballade slave (L. 70)', 'Werner Haas')),\n",
       "  (1, ('Debussy: Ballade slave, CD 78, L. 70', 'Aldo Ciccolini')),\n",
       "  (2, ('Ballade slave, L. 70', 'Roberto Cominati')),\n",
       "  (3, ('Ballade slave, L. 70', 'Eliane Rodrigues')),\n",
       "  (4, ('Ballade Slave, L. 70', 'Christopher Devine')),\n",
       "  (5, ('Ballade slave, L. 70', 'Jacques Février')),\n",
       "  (6, ('Debussy: Ballade slave, CD 78, L. 70', 'Walter Gieseking')),\n",
       "  (7, ('Debussy: Ballade slave, CD 78, L. 70', 'Aldo Ciccolini')),\n",
       "  (8, ('Debussy: Ballade slave, CD 78, L. 70', 'Monique Haas')),\n",
       "  (9, ('Debussy: Ballade slave, CD 78, L. 70', 'Walter Gieseking')),\n",
       "  (10, ('Ballade, L. 70 \"Ballade slave\"', 'Noël Lee')),\n",
       "  (11, ('Ballade slave (Ballade), L 70', 'Martino Tirimo')),\n",
       "  (12, ('Ballade slave L. 70', 'Krystian Wojno')),\n",
       "  (13, ('Ballade slave, L.70', 'Hans Henkemans')),\n",
       "  (14, ('Ballade slave (L. 70)', 'Zoltán Kocsis')),\n",
       "  (15, ('Ballade slave, L.70', 'Gordon Fergus-Thompson')),\n",
       "  (16, ('Ballade Slave L 70', 'Classic Hertz')),\n",
       "  (17, ('Ballade (Slave), L 70 (1890)', 'Jean-Pierre Armengaud')),\n",
       "  (18,\n",
       "   ('Ballade slave L. 70: No. 1 in C Major, Andantino con moto',\n",
       "    'Orchestre d’Astarac')),\n",
       "  (19, ('Debussy: Ballade Slave L.70', '태교 마을')),\n",
       "  (20, ('Debussy: Ballade Slave L.70', 'Dimanche FR')),\n",
       "  (21, ('Debussy: Ballade Slave L.70', '숙면 테라피')),\n",
       "  (22, ('Debussy: Ballade Slave L.70', '태교 마을')),\n",
       "  (23, ('Ballade slave (Ballade), L. 70', 'David Ezra Okonsar')),\n",
       "  (24, ('Ballade slave, L. 70', 'Jörg Demus')),\n",
       "  (25, ('Ballade slave, L. 70', 'Clide Molta')),\n",
       "  (26, ('Ballade slave, L. 70', 'Bernard Schwindler')),\n",
       "  (27, ('Ballade slave, L. 70', 'Pablo Maisky')),\n",
       "  (28, ('Ballade slave, L. 70', 'Jörg Demus')),\n",
       "  (29, ('Ballade Slave, L.70', 'Johann Hula')),\n",
       "  (30, ('Ballade slave, L. 70 (Harp Version)', 'Wladimir Holek')),\n",
       "  (31, ('Ballade Slave, L.70 (Harp Version)', 'Wladimir Holek')),\n",
       "  (32, ('Ballade Slave, L. 70 (Harp Version)', 'Mischa Calas'))],\n",
       " ('071', 'Valse romantique'): [(0, ('Valse romantique, L. 71', 'Werner Haas')),\n",
       "  (1, ('Valse romantique, L. 71', 'Daniel Ericourt')),\n",
       "  (2, ('Debussy: Valse romantique, CD 79, L. 71', 'Aldo Ciccolini')),\n",
       "  (3, ('Valse romantique, L. 71', 'Matteo Fossi')),\n",
       "  (4, ('Debussy: Valse romantique, CD 79, L. 71', 'Aldo Ciccolini')),\n",
       "  (5, ('Valse romantique, L. 71', 'Daniel Ericourt')),\n",
       "  (6, ('Valse romantique, L. 71', 'Colette Maze')),\n",
       "  (7, ('Valse romantique, L. 71', 'Isabel Mourao')),\n",
       "  (8, ('Valse romantique, L. 71', 'Jacopo Salvatori')),\n",
       "  (9, ('Valse romantique, L.71', 'Jacques Février')),\n",
       "  (10, ('Valse romantique, L. 71', 'Christopher Devine')),\n",
       "  (11, ('Valse romantique, L.71', 'Roberto Cominati')),\n",
       "  (12,\n",
       "   ('Valse romantique, L. 71 (Transcr. Y. Kondonassis)',\n",
       "    'Yolanda Kondonassis')),\n",
       "  (13, ('Valse romantique, L. 71', 'Jean-Yves Thibaudet')),\n",
       "  (14, ('Valse romantique, L. 71', 'Jean-Yves Thibaudet')),\n",
       "  (15, ('Debussy: Valse romantique, CD 79, L. 71', 'Walter Gieseking')),\n",
       "  (16, ('Debussy: Valse romantique, CD 79, L. 71', 'Aldo Ciccolini')),\n",
       "  (17, ('Debussy: Valse romantique, CD 79, L. 71', 'Walter Gieseking')),\n",
       "  (18, ('Debussy: Valse romantique, CD 79, L. 71', 'Monique Haas')),\n",
       "  (19, ('Valse romantique, L. 71', 'Noriko Ogawa')),\n",
       "  (20,\n",
       "   ('Debussy / Transcr. Laskine: Valse romantique, CD. 79, L. 71',\n",
       "    'Marielle Nordmann')),\n",
       "  (21, ('Valse romantique, L.71', 'Jacques Février')),\n",
       "  (22, ('Valse romantique (L. 71)', 'Zoltán Kocsis')),\n",
       "  (23, ('Valse romantique, L. 71', 'Cecilia Kudo')),\n",
       "  (24, ('Valse romantique, L. 71', 'Jean-Yves Thibaudet'))],\n",
       " ('075-1',\n",
       "  'Prélude'): [(0,\n",
       "   ('Suite bergamasque, L. 75: I. Prélude', 'Alice Sara Ott')), (1,\n",
       "   ('Suite bergamasque, L. 75: I. Prélude', 'Seong-Jin Cho')), (2,\n",
       "   ('Suite Bergamasque, L. 75: I. Prélude', 'Axel Gillison')), (3,\n",
       "   ('Suite bergamasque, L.75: 1. Prélude', 'Werner Haas')), (4,\n",
       "   ('Suite bergamasque, L. 75: I. Prélude', 'Peter Schmalfuss')), (5,\n",
       "   ('Suite bergamasque, L.75: 1. Prélude', 'Pascal Rogé')), (6,\n",
       "   ('Suite bergamasque, L. 75: 1. Prélude', 'Jean-Yves Thibaudet')), (7,\n",
       "   ('Suite Bergamasque, L. 75: I. Prélude', 'Axel Gillison')), (8,\n",
       "   ('Suite bergamasque, L.75: 3. Clair de lune', 'Tamás Vásáry')), (9,\n",
       "   ('Suite Bergamasque, L. 75: I. Prélude', 'Matteo Fossi')), (10,\n",
       "   ('Suite bergamasque, L. 75: 1. Prélude', 'Zoltán Kocsis')), (11,\n",
       "   ('Suite Bergamasque, L. 75, CD 82: Suite bergamasque, L. 75, CD 82: I. Prélude',\n",
       "    'Jean-Efflam Bavouzet')), (12,\n",
       "   ('Suite bergamasque, L. 75: I. Prelude', 'Michael Korstick')), (13,\n",
       "   ('Suite bergamasque, L. 75: I. Prélude', 'Alexis Weissenberg')), (14,\n",
       "   ('Suite bergamasque, L. 75: 3. Clair de lune',\n",
       "    'Vanessa Benelli Mosell')), (15,\n",
       "   ('Suite bergamasque, L. 75: I. Prelude', 'François-Joël Thiollier')), (16,\n",
       "   ('Suite bergamasque, L.75: 1. Prélude', 'Werner Haas')), (17,\n",
       "   ('Suite bergamasque, L.75: 3. Clair de lune', 'Nelson Freire')), (18,\n",
       "   ('Suite bergamasque, L. 75: 1. Prélude', 'Jean-Yves Thibaudet')), (19,\n",
       "   ('Suite bergamasque, L. 75: 1. Prélude', 'Jacques Février')), (20,\n",
       "   ('Suite bergamasque, L. 75: I. Prélude', 'Alexis Weissenberg')), (21,\n",
       "   ('Suite bergamasque, L. 75: Prélude', 'Alexis Weissenberg')), (22,\n",
       "   ('Suite bergamasque, L. 75: 1. Prélude', 'Zoltán Kocsis')), (23,\n",
       "   ('Suite bergamasque, L. 75: I. Prélude', 'Takahiro Yoshikawa')), (24,\n",
       "   ('Suite bergamasque, L. 75: 1. Prélude', 'Roberto Cominati')), (25,\n",
       "   ('Suite bergamasque, L. 75: I. Prélude', 'Antonio Pompa-Baldi')), (26,\n",
       "   ('Suite bergamasque, L. 75: I. Prélude', 'Peter Schmalfuss')), (27,\n",
       "   ('Suite bergamasque, L. 75: I. Prélude', 'Christopher Devine')), (28,\n",
       "   ('Suite bergamasque, L. 75: I. Prélude', 'Jean Boguet')), (29,\n",
       "   ('Suite bergamasque, L.75: 1. Prélude', 'Tamás Vásáry')), (30,\n",
       "   ('Suite bergamasque, L. 75: I. Prelude', 'Jacopo Salvatori')), (31,\n",
       "   ('Suite bergamasque, L. 75: I. Prelude', 'Jean-Efflam Bavouzet'))],\n",
       " ('075-2',\n",
       "  'Menuet'): [(0,\n",
       "   ('Suite bergamasque, L. 75: II. Menuet', 'Alexis Weissenberg')), (1,\n",
       "   ('Suite bergamasque, L. 75: II. Menuet', 'Seong-Jin Cho')), (2,\n",
       "   ('Suite bergamasque, L. 75: II. Menuet', 'Alice Sara Ott')), (3,\n",
       "   ('Suite bergamasque, L.75: 2. Menuet', 'Werner Haas')), (4,\n",
       "   ('Suite bergamasque, L. 75: II. Menuet', 'Peter Schmalfuss')), (5,\n",
       "   ('Suite bergamasque, L.75: 2. Menuet', 'Pascal Rogé')), (6,\n",
       "   ('Suite Bergamasque, L. 75: II. Menuet', 'Matteo Fossi')), (7,\n",
       "   ('Suite Bergamasque, L. 75, CD 82: Suite bergamasque, L. 75, CD 82: II. Menuet',\n",
       "    'Jean-Efflam Bavouzet')), (8,\n",
       "   ('Suite bergamasque, L. 75: II. Menuet', 'Michael Korstick')), (9,\n",
       "   ('Suite bergamasque, L.75: 2. Menuet', 'Werner Haas')), (10,\n",
       "   ('Suite bergamasque, L. 75: II. Menuet', 'François-Joël Thiollier')), (11,\n",
       "   ('Suite bergamasque, L. 75: II. Menuet', 'Alexis Weissenberg')), (12,\n",
       "   ('Suite bergamasque, L. 75: 2. Menuet', 'Zoltán Kocsis')), (13,\n",
       "   ('Suite bergamasque, L. 75: 2. Menuet', 'Roberto Cominati')), (14,\n",
       "   ('Suite bergamasque, L. 75: 2. Menuet', 'Jean-Yves Thibaudet')), (15,\n",
       "   ('Suite bergamasque, L. 75: II. Menuet', 'Antonio Pompa-Baldi')), (16,\n",
       "   ('Suite bergamasque, L. 75: II. Menuet', 'Peter Schmalfuss')), (17,\n",
       "   ('Suite bergamasque, L.75: 2. Menuet', 'Claudio Arrau')), (18,\n",
       "   ('Suite bergamasque, L. 75: II. Menuet', 'Christopher Devine')), (19,\n",
       "   ('Suite bergamasque, L. 75: 2. Menuet', 'Jacques Février')), (20,\n",
       "   ('Suite bergamasque, L. 75: II. Menuet', 'Jean-Efflam Bavouzet')), (21,\n",
       "   ('Debussy - Suite Bergamasque L. 75 II Menuet',\n",
       "    'Classy Interpretations Lovers')), (22,\n",
       "   ('Debussy - Suite Bergamasque L. 75 II Menuet',\n",
       "    'Classically Positive Project')), (23,\n",
       "   ('Claude Debussy - Suite bergamasque L. 75 2nd Menuet',\n",
       "    'Loving Melodies Project')), (24,\n",
       "   ('Debussy: Suite bergamasque, CD 82, L. 75: II. Menuet',\n",
       "    'Cecile Ousset')), (25,\n",
       "   ('Debussy: Suite bergamasque, CD 82, L. 75: II. Menuet',\n",
       "    'Walter Gieseking')), (26,\n",
       "   ('Debussy: Suite bergamasque, CD 82, L. 75: II. Menuet',\n",
       "    'Monique Haas')), (27,\n",
       "   ('Debussy: Suite bergamasque, CD 82, L. 75: II. Menuet',\n",
       "    'Aldo Ciccolini')), (28,\n",
       "   ('Debussy: Suite bergamasque, CD 82, L. 75: II. Menuet',\n",
       "    'Samson François'))],\n",
       " ('075-3',\n",
       "  'Clair de lune'): [(0,\n",
       "   ('Suite bergamasque, L. 75: III. Clair de lune', 'Alice Sara Ott')), (1,\n",
       "   ('Suite bergamasque, L.75: 3. Clair de lune', 'Tamás Vásáry')), (2,\n",
       "   ('Suite bergamasque, L. 75: III. Clair de lune', 'Hélène Grimaud')), (3,\n",
       "   ('Suite bergamasque, L. 75: III. Clair de lune', 'Seong-Jin Cho')), (4,\n",
       "   ('Suite bergamasque, L. 75: 3. Clair de lune', 'Daniel Barenboim')), (5,\n",
       "   ('Suite bergamasque, L. 75: III. Clair de lune', 'Menahem Pressler')), (6,\n",
       "   ('Suite bergamasque, L. 75: III. Clair de lune', 'Alexis Weissenberg')), (7,\n",
       "   ('Suite bergamasque, L.75: 3. Clair de lune', 'Werner Haas')), (8,\n",
       "   ('Suite Bergamasque, L. 75: III. Clair de lune', 'Moura Lympany')), (9,\n",
       "   ('Suite bergamasque, L. 75: III. Clair de lune', 'Finghin Collins')), (10,\n",
       "   ('Suite bergamasque, L. 75: III. Clair de lune', 'Henrik Måwe')), (11,\n",
       "   ('Suite bergamasque, L. 75: III. Clair de lune', 'Moura Lympany')), (12,\n",
       "   ('Suite Bergamasque, L. 75: III. Clair de lune', 'Peter Schmalfuss')), (13,\n",
       "   ('Suite bergamasque, L. 75: III. Clair de lune', 'Moura Lympany')), (14,\n",
       "   ('Suite bergamasque, L. 75: III. Clair de Lune', 'Misha Goldstein')), (15,\n",
       "   ('Suite bergamasque, L. 75: III. Clair de lune', 'Daniel Barenboim')), (16,\n",
       "   ('Suite bergamasque, L. 75: III. Clair de lune', 'Lang Lang')), (17,\n",
       "   ('Suite Bergamasque, L. 75: III. Clair de lune', 'Axel Gillison')), (18,\n",
       "   ('Suite bergamasque, L. 75: Clair de lune', 'Alexis Weissenberg')), (19,\n",
       "   ('Suite Bergamasque, L. 75: III. Clair de lune', 'Khatia Buniatishvili'))],\n",
       " ('075-4',\n",
       "  'Passepied'): [(0,\n",
       "   ('Suite bergamasque, L. 75: IV. Passepied', 'Alexis Weissenberg')), (1,\n",
       "   ('Suite bergamasque, L. 75: IV. Passepied', 'Alice Sara Ott')), (2,\n",
       "   ('Suite bergamasque, L. 75: IV. Passepied', 'Seong-Jin Cho')), (3,\n",
       "   ('Suite bergamasque, L.75: 4. Passepied', 'Werner Haas')), (4,\n",
       "   ('Suite bergamasque, L. 75: IV. Passepied', 'Peter Schmalfuss')), (5,\n",
       "   ('Suite Bergamasque, L. 75: Passepied', 'Martin Jones')), (6,\n",
       "   ('Suite Bergamasque, L. 75, CD 82: Suite bergamasque, L. 75, CD 82: IV. Passepied',\n",
       "    'Jean-Efflam Bavouzet')), (7,\n",
       "   ('Suite bergamasque, L. 75: 4. Passepied', 'Zoltán Kocsis')), (8,\n",
       "   ('Suite bergamasque, L.75: 4. Passepied', 'Pascal Rogé')), (9,\n",
       "   ('Suite bergamasque, L.75: 4. Passepied', 'Werner Haas')), (10,\n",
       "   ('Suite Bergamasque, L. 75: IV. Passepied', 'Matteo Fossi')), (11,\n",
       "   ('Suite bergamasque, L. 75: IV. Passepied', 'Michael Korstick')), (12,\n",
       "   ('Suite bergamasque, L. 75: 4. Passepied', 'Zoltán Kocsis')), (13,\n",
       "   ('Suite bergamasque, L. 75: IV. Passepied',\n",
       "    'François-Joël Thiollier')), (14,\n",
       "   ('Suite bergamasque, L. 75: IV. Passepied', 'Takahiro Yoshikawa')), (15,\n",
       "   ('Suite bergamasque, L. 75: IV. Passepied', 'Jean-Efflam Bavouzet')), (16,\n",
       "   ('Debussy: Suite bergamasque, CD 82, L. 75: IV. Passepied',\n",
       "    'Cecile Ousset')), (17,\n",
       "   ('Debussy: Suite bergamasque, CD 82, L. 75: IV. Passepied',\n",
       "    'Walter Gieseking')), (18,\n",
       "   ('Suite bergamasque, L. 75: IV. Passepied', 'Alexis Weissenberg')), (19,\n",
       "   ('Suite bergamasque, L. 75: 4. Passepied', 'Zoltán Kocsis')), (20,\n",
       "   ('Suite bergamasque, L. 75: IV. Passepied', 'Antonio Pompa-Baldi')), (21,\n",
       "   ('Suite bergamasque, L. 75: 4. Passepied', 'Jean-Yves Thibaudet')), (22,\n",
       "   ('Suite bergamasque, L. 75: IV. Passepied', 'Peter Schmalfuss'))],\n",
       " ('066-2',\n",
       "  'Arabesque II: Allegretto scherzando in G Major'): [(0,\n",
       "   ('Arabesque II in G Major, L. 66: Allegretto scherzando',\n",
       "    'Mariangela Vacatello')), (1,\n",
       "   ('Deux arabesques, L. 66: II. Allegretto scherzando in G Major',\n",
       "    'Monique Haas')), (2,\n",
       "   ('Deux arabesques in G Major, L. 66: II. Allegretto scherzando',\n",
       "    'Peter Schmalfuss')), (3,\n",
       "   ('Deux Arabesques in G Major, L.66: II. Allegretto scherzando',\n",
       "    'Carol Robinson'))],\n",
       " ('082',\n",
       "  'Nocturne'): [(0,\n",
       "   ('Nocturne in D-Flat Major, L. 82', 'Alessandra Ammara')), (1,\n",
       "   ('Nocturne (L. 82)', 'Werner Haas')), (2,\n",
       "   ('Nocturne, L. 82', 'Michael Korstick')), (3,\n",
       "   ('Nocturne, L. 82', 'Walter Gieseking')), (4,\n",
       "   ('Nocturne, L. 82, CD 89', 'Jean-Efflam Bavouzet')), (5,\n",
       "   ('Nocturne (L. 82)', 'Zoltán Kocsis')), (6,\n",
       "   ('Nocturne in D-Flat Major, L. 82', 'Bart Van Oort')), (7,\n",
       "   ('Nocturne, L. 82', 'Jean-Yves Thibaudet')), (8,\n",
       "   ('Nocturne, L. 82', 'Jean-Yves Thibaudet')), (9,\n",
       "   ('Nocturne, L. 82', 'Jacques Février')), (10,\n",
       "   ('Debussy: Nocturne, CD 89, L. 82', 'Walter Gieseking')), (11,\n",
       "   ('Debussy: Nocturne, CD 89, L. 82', 'Monique Haas')), (12,\n",
       "   ('Debussy: Nocturne, CD 89, L. 82', 'Aldo Ciccolini')), (13,\n",
       "   ('Debussy: Nocturne, CD 89, L. 82', 'Aldo Ciccolini')), (14,\n",
       "   ('Nocturne, L. 82: Nocturne', 'Marie-Catherine Girod')), (15,\n",
       "   ('Nocturne, L. 82', 'Jean-Yves Thibaudet')), (16,\n",
       "   ('Nocturne, L. 82', 'Roberto Cominati')), (17,\n",
       "   ('Nocturne, L.82', 'Jean-Louis Haguenauer')), (18,\n",
       "   ('Nocturne, L. 82', 'Daniel Ericourt')), (19,\n",
       "   ('Nocturne, L. 82', 'Daniel Ericourt'))],\n",
       " ('087-1',\n",
       "  'Lent, doux et mélancolique'): [(0,\n",
       "   ('Images oubliées, L. 87: 1. Lent (mélancolique et doux)',\n",
       "    'Philippe Cassard')), (1,\n",
       "   ('Images Oubliées, L. 87: I. Lent: Mélancolique et doux',\n",
       "    'Noriko Ogawa')), (2,\n",
       "   ('Images oubliées, L. 87: 1. Lent (mélancolique et doux)',\n",
       "    'Zoltán Kocsis')), (3,\n",
       "   ('Debussy: Images oubliées, L. 87: Lent (mélancolique et doux)',\n",
       "    'Jean-Yves Thibaudet')), (4,\n",
       "   ('Images oubliées, L. 87: 1. Lent (mélancolique et doux)',\n",
       "    'Zoltán Kocsis')), (5,\n",
       "   ('Images oubliées, L. 87: 1. Lent (mélancolique et doux)',\n",
       "    'Zoltán Kocsis')), (6,\n",
       "   ('Images oubliées, L. 87: 1. Lent (mélancolique et doux)',\n",
       "    'Zoltán Kocsis')), (7,\n",
       "   ('Images oubliées, L. 87: No. 1, Lent (Mélancolique et doux)',\n",
       "    'Dennis Lee')), (8,\n",
       "   ('Images inédites, L. 87: I. Lent, doux et mélancolique',\n",
       "    'Alain Planès')), (9,\n",
       "   ('Images oubliées, L. 87: Lent (mélancolique et doux)',\n",
       "    'Gordon Fergus-Thompson')), (10,\n",
       "   ('Images oubliées, L. 87: 1. Lent (mélancolique et doux)',\n",
       "    'Zoltán Kocsis')), (11,\n",
       "   ('Images oubliées, L. 87: I. Lent (melancolique et doux)',\n",
       "    'Michael Korstick')), (12,\n",
       "   ('Images oubliées, L. 87: I. Lent (Mélancolique et doux)',\n",
       "    'Jacopo Salvatori')), (13,\n",
       "   ('Images inédites, L. 87: I. Lent (mélancolique et doux)',\n",
       "    'Georges Pludermacher')), (14,\n",
       "   ('Images oubliées, L. 87: 1. Lent (mélancolique et doux)',\n",
       "    'Zoltán Kocsis')), (15,\n",
       "   ('Images oubliées, L. 87: I. Lent (Mélancolique et doux)',\n",
       "    'Hubert Rutkowksi'))],\n",
       " ('087-2',\n",
       "  'Souvenir du Louvre'): [(0,\n",
       "   ('Images oubliées, L. 87: 2. Souvenirs du Louvre', 'Philippe Cassard')), (1,\n",
       "   ('Images oubliées, L. 87: 2. Souvenir du Louvre (Sarabande)',\n",
       "    'Zoltán Kocsis')), (2,\n",
       "   ('Debussy: Images oubliées, L. 87: 2. Souvenir du Louvre (Sarabande)',\n",
       "    'Zoltán Kocsis')), (3,\n",
       "   ('Images oubliées, L. 87: 2. Souvenir du Louvre (Sarabande)',\n",
       "    'Zoltán Kocsis')), (4,\n",
       "   ('Images oubliées, L. 87: 2. Souvenir du Louvre (Sarabande)',\n",
       "    'Zoltán Kocsis')), (5,\n",
       "   ('Images oubliées, L. 87: No. 2, Souvenir du Louvre', 'Dennis Lee')), (6,\n",
       "   ('Images Oubliées, L. 87: II. Souvenir du Louvre', 'Noriko Ogawa')), (7,\n",
       "   ('Images oubliées, L. 87: II. Souvenir du Louvre', 'Jacopo Salvatori')), (8,\n",
       "   ('Images inédites, L. 87: II. Souvenir du Louvre', 'Alain Planès')), (9,\n",
       "   ('Images inédites, L. 87: II. Souvenir du Louvre',\n",
       "    'Georges Pludermacher')), (10,\n",
       "   ('Images oubliées, L. 87: II. Souvenir du Louvre', 'Josefa Schmidt')), (11,\n",
       "   ('Images oubliées, L. 87: II. Souvenir du Louvre',\n",
       "    'Christopher Devine')), (12,\n",
       "   ('Images oubliées, L. 87: 2. Souvenir du Louvre (Sarabande)',\n",
       "    'Zoltán Kocsis')), (13,\n",
       "   ('Images oubliées, L. 87: No. 2, Souvenir du Louvre',\n",
       "    'Bertrand Giraud')), (14,\n",
       "   ('Images oubliées, L. 87: No. 2, Souvenir du Louvre', 'Bennett Lerner'))],\n",
       " ('087-3',\n",
       "  'Quelques aspects de \\'Nous n\\'irons plus au bois\"'): [(0,\n",
       "   ('Images oubliées, L. 87: No. 3, Quelques aspects de \"Nous n\\'irons plus au bois\"',\n",
       "    'Dennis Lee')), (1,\n",
       "   ('Debussy: Images oubliées, CD 94, L. 87: III. Quelques aspects de \"Nous n\\'irons plus au bois\" parce qu\\'il fait un temps insupportable',\n",
       "    'Aldo Ciccolini')), (2,\n",
       "   (\"Images oubliées, L. 87: III. Quelques aspects de nous n'irons plus au bois\",\n",
       "    'Martin Jacoby')), (3,\n",
       "   ('Images oubliées, L. 87: 3. Quelques aspects de \"Nous n\\'irons plus au bois parce qu\\'il fait un temps insupportable',\n",
       "    'Zoltán Kocsis')), (4,\n",
       "   ('Images oubliées, L. 87: Quelques aspects de \"Nous n\\'irons plus au bois parce qu\\'il fait un temps insupportable',\n",
       "    'Jean-Yves Thibaudet')), (5,\n",
       "   ('Images oubliées, L. 87: III. Quelques aspects de \"Nous n\\'irons plus au bois\"',\n",
       "    'Alain Planès')), (6,\n",
       "   ('Images oubliées, L. 87: II. Quelques aspects de \"Nous n\\'irons plus au bois\"',\n",
       "    'Hubert Rutkowksi')), (7,\n",
       "   (\"Images oubliées, L. 87: III. Quelques aspects de nous n'irons plus au bois\",\n",
       "    'Michael Korstick')), (8,\n",
       "   (\"Images oubliées, L. 87: III. Quelques aspects de nous n'irons plus au bois\",\n",
       "    'Christopher Devine')), (9,\n",
       "   (\"Images oubliées, L. 87: III. Quelques aspects de nous n'irons plus au bois\",\n",
       "    'Jacopo Salvatori')), (10,\n",
       "   (\"Images oubliées, L. 87: No. 3, Quelques aspects de nous n'irons plus au bois\",\n",
       "    'Claudio Constantini')), (11,\n",
       "   ('Images oubliées, L. 87: No. 3, Quelques aspects de \"Nous n\\'irons plus au bois\"',\n",
       "    'Bennett Lerner')), (12,\n",
       "   ('Debussy: Images oubliées, CD 94, L. 87: No. 3, Quelques aspects de \"Nous n\\'irons plus au bois\" parce qu\\'il fait un temps insupportable',\n",
       "    'Aldo Ciccolini')), (13,\n",
       "   (\"Images oubliées, L. 87, CD 94: III. Quelques aspects de nous d'irons plus au bois\",\n",
       "    'Jean-Efflam Bavouzet')), (14,\n",
       "   ('Images oubliées, L. 87: 3. Quelques aspects de \"Nous n\\'irons plus au bois parce qu\\'il fait un temps insupportable',\n",
       "    'Zoltán Kocsis')), (15,\n",
       "   ('Images oubliées, L. 87: 3. Quelques aspects de \"Nous n\\'irons plus au bois\" parce qu\\'il fait un temps insupportable',\n",
       "    'Philippe Cassard')), (16,\n",
       "   ('Images oubliées, L. 87: 3. Quelques aspects de \"Nous n\\'irons plus au bois parce qu\\'il fait un temps insupportable',\n",
       "    'Zoltán Kocsis')), (17,\n",
       "   ('Images inédites, L. 87: III. Quelques aspects de \"Nous n\\'irons plus au bois\" parce qu\\'il fait un temps épouvantable',\n",
       "    'Alain Planès')), (18,\n",
       "   ('Images oubliées, L. 87: 3. Quelques aspects de \"Nous n\\'irons plus au bois\" parce qu\\'il fait un temps insupportable',\n",
       "    'Philippe Cassard')), (19,\n",
       "   ('Images Oubliées, L. 87: III. Quelques aspects de \"nous n\\'irons plus au bois\" parce qu\\'il fait un temps insupportable',\n",
       "    'Noriko Ogawa')), (20,\n",
       "   ('Images oubliées, L. 87: 3. Quelques aspects de \"Nous n\\'irons plus au bois parce qu\\'il fait un temps insupportable',\n",
       "    'Zoltán Kocsis')), (21,\n",
       "   ('Images oubliées, L. 87: 3. Quelques aspects de \"Nous n\\'irons plus au bois parce qu\\'il fait un temps insupportable',\n",
       "    'Zoltán Kocsis')), (22,\n",
       "   ('Images inédites, L. 87: III. Quelques aspects de \"Nous n\\'irons plus au bois\" parce qu\\'il fait un temps épouvantable',\n",
       "    'Georges Pludermacher')), (23,\n",
       "   (\"Images oubliées, L. 87: III. Quelques aspects de « Nous n'irons plus au bois » parce qu'il fait un temps insupportable\",\n",
       "    'Romain David')), (24,\n",
       "   (\"Images oubliées, L. 87: Images oubliées, L. 87: III. Quelques aspects de Nous n'irons plus au bois parce qu'il fait un temps insupportable\",\n",
       "    'Jonas Vitaud')), (25,\n",
       "   (\"Images oubliées in D-Flat Major, L. 87: No. 3, Quelques aspects de Nous n'irons plus au bois parce qu’il fait un temps insupportable\",\n",
       "    'Noël Lee')), (26,\n",
       "   ('Images oubliées, L. 87: III. Quelques aspects de \"Nous n\\'irons plus au bois\" parce qu\\'il fait un temps insupportable',\n",
       "    'Josefa Schmidt')), (27,\n",
       "   ('Images oubliées, L. 87: No. 3, Quelques aspects de \"Nous n\\'irons plus au bois\" parce qu’il fait un temps insupportable',\n",
       "    'Bertrand Giraud')), (28,\n",
       "   (\"Images Oubliées, L. 87: Quelques Aspects De 'nous N'Irons Plus Au Bois'\",\n",
       "    'Jeanne Golan')), (29,\n",
       "   ('Images oubliées, L. 87: III. Quelques aspects de \"Nous n\\'irons plus au bois\"',\n",
       "    'David Ezra Okonsar')), (30,\n",
       "   ('Images (Oubliées), L. 87: III. Quelques aspects de \"Nous n\\'irons plus au bois\"',\n",
       "    'Victoria Lamberti'))],\n",
       " ('095-2',\n",
       "  'Sarabande'): [(0,\n",
       "   ('Pour le piano, L. 95: 2. Sarabande', 'Lilya Zilberstein')), (1,\n",
       "   ('Pour le piano, L. 95: II. Sarabande', 'Víkingur Ólafsson')), (2,\n",
       "   ('Pour le piano, L. 95: II. Sarabande', 'Rafał Blechacz')), (3,\n",
       "   ('Pour le piano, L. 95: II. Sarabande', 'Rafal Blechacz')), (4,\n",
       "   ('Pour le Piano, L. 95: II. Sarabande', 'Axel Gillison')), (5,\n",
       "   ('Pour le piano, L. 95: 2. Sarabande', 'Werner Haas')), (6,\n",
       "   ('Pour le piano, L. 95: 2. Sarabande', 'Zoltán Kocsis')), (7,\n",
       "   ('Pour le Piano, L. 95: II. Sarabande', 'Noriko Ogawa')), (8,\n",
       "   ('Pour le piano, L. 95: 2. Sarabande', 'Claudio Arrau')), (9,\n",
       "   ('Pour le piano, L. 95: 2. Sarabande', 'Pascal Rogé')), (10,\n",
       "   ('Pour le Piano, L. 95: II. Sarabande', 'Axel Gillison')), (11,\n",
       "   ('Pour le piano, L. 95: II. Sarabande', 'Michael Korstick')), (12,\n",
       "   ('Pour le piano, L. 95: 2. Sarabande', 'Zoltán Kocsis')), (13,\n",
       "   ('Pour le piano, L. 95: II. Sarabande', 'Víkingur Ólafsson')), (14,\n",
       "   ('Pour le piano, L. 95: 2. Sarabande', 'Jean-Yves Thibaudet')), (15,\n",
       "   ('Pour le piano, L. 95: 2. Sarabande', 'Lilya Zilberstein')), (16,\n",
       "   ('Pour le piano, L. 95: 2. Sarabande', 'Zoltán Kocsis')), (17,\n",
       "   ('Pour le piano, L. 95: II. Sarabande', 'Matteo Fossi')), (18,\n",
       "   ('Pour le Piano, L. 95: II. Sarabande', 'Axel Gillison')), (19,\n",
       "   ('Debussy: Pour le Piano, CD 95, L. 95: II. Sarabande',\n",
       "    'Jean-Bernard Pommier')), (20,\n",
       "   ('Pour le piano, L. 95: II. Sarabande', 'Rafał Blechacz')), (21,\n",
       "   ('Pour le Piano, L. 95: II. Sarabande', 'Cecile Ousset')), (22,\n",
       "   ('Pour le piano, L. 95: 2. Sarabande', 'Roberto Cominati')), (23,\n",
       "   ('Pour le piano, L. 95: 2. Sarabande', 'Jean-Yves Thibaudet'))],\n",
       " ('095-1',\n",
       "  'Prélude'): [(0,\n",
       "   ('Pour le piano, L. 95: 1. Prélude', 'Jean-Yves Thibaudet')), (1,\n",
       "   ('Pour le Piano, L. 95: I. Prélude', 'Noriko Ogawa')), (2,\n",
       "   ('Pour le piano, L. 95: 1. Prélude', 'Pascal Rogé')), (3,\n",
       "   ('Pour le piano, L. 95: I. Prélude', 'Víkingur Ólafsson')), (4,\n",
       "   ('Pour le piano, L. 95: I. Prélude', 'Matteo Fossi')), (5,\n",
       "   ('Pour le piano, L. 95: 1. Prélude', 'Jean-Yves Thibaudet')), (6,\n",
       "   ('Pour le piano, L. 95: I. Prelude', 'Michael Korstick')), (7,\n",
       "   ('Pour le piano, L. 95, CD 95: I. Prélude', 'Jean-Efflam Bavouzet')), (8,\n",
       "   ('Pour le piano, L. 95: I. Prélude', 'Víkingur Ólafsson')), (9,\n",
       "   ('Pour le Piano, L. 95: I. Prelude', 'Cecile Ousset')), (10,\n",
       "   ('Pour le piano, L. 95: I. Prélude', 'Jacopo Salvatori')), (11,\n",
       "   ('Pour le piano, L. 95: 1. Prélude', 'Lilya Zilberstein')), (12,\n",
       "   ('Debussy: Pour le piano, CD 95, L. 95: I. Prélude',\n",
       "    'Aldo Ciccolini')), (13,\n",
       "   ('Debussy: Pour le Piano, CD 95, L. 95: I. Prélude', 'Monique Haas')), (14,\n",
       "   ('Debussy: Pour le Piano, CD 95, L. 95: I. Prélude',\n",
       "    'Walter Gieseking')), (15,\n",
       "   ('Debussy: Pour le Piano, CD 95, L. 95: I. Prélude',\n",
       "    'Jean-Bernard Pommier')), (16,\n",
       "   ('Debussy: Pour le Piano, CD 95, L. 95: I. Prélude', 'Kun-Woo Paik')), (17,\n",
       "   ('Debussy: Pour le Piano, CD 95, L. 95: I. Prélude',\n",
       "    'Samson François')), (18,\n",
       "   ('Debussy: Pour le piano, CD 95, L. 95: I. Prélude',\n",
       "    'Samson François')), (19,\n",
       "   ('Debussy: Pour le Piano, CD 95, L. 95: I. Prélude',\n",
       "    'Samson François')), (20,\n",
       "   ('Debussy: Pour le Piano, CD 95, L. 95: I. Prélude',\n",
       "    'Samson François')), (21,\n",
       "   ('Debussy: Pour le Piano, CD 95, L. 95: II. Sarabande',\n",
       "    'Samson François')), (22,\n",
       "   ('Debussy: Pour le Piano, CD 95, L. 95: III. Toccata',\n",
       "    'Samson François')), (23,\n",
       "   ('Pour le piano, L. 95: I. Prélude', 'Rafał Blechacz')), (24,\n",
       "   ('Pour le piano, L. 95: I. Prélude', 'Rafał Blechacz')), (25,\n",
       "   ('Pour le piano, L. 95: 1. Prélude', 'Gina Bachauer')), (26,\n",
       "   ('Pour Le Piano, Suite L 95: I. Prélude: Assez Animé Et Très Rythmé (Debussy)',\n",
       "    'Jean-Pierre Armengaud')), (27,\n",
       "   ('Pour le piano, L. 95: I. Prélude', 'Stany David Lasry')), (28,\n",
       "   ('Pour le piano, L. 95: I. Prélude', 'Eliane Rodrigues'))],\n",
       " ('095-3',\n",
       "  'Toccata'): [(0, ('Pour le piano, L. 95: III. Toccata', 'Monique Haas')), (1,\n",
       "   ('Pour le piano, L. 95: 3. Toccata', 'Pascal Rogé')), (2,\n",
       "   ('Pour le piano, L. 95: III. Toccata', 'Matteo Fossi')), (3,\n",
       "   ('Pour le piano, L. 95: III. Toccata', 'Víkingur Ólafsson')), (4,\n",
       "   ('Pour le piano, L. 95: III. Toccata', 'Michael Korstick')), (5,\n",
       "   ('Pour le piano, L. 95: 3. Toccata', 'Jean-Yves Thibaudet')), (6,\n",
       "   ('Pour le piano, L. 95: 3. Toccata', 'Roberto Cominati')), (7,\n",
       "   ('Pour le Piano, L. 95: III. Toccata', 'Cecile Ousset')), (8,\n",
       "   ('Pour le piano, L. 95: 3. Toccata', 'Jean-Yves Thibaudet')), (9,\n",
       "   ('Pour le piano, L. 95: 3. Toccata', 'Werner Haas')), (10,\n",
       "   ('Pour le piano, L. 95: 3. Toccata', 'Lilya Zilberstein')), (11,\n",
       "   ('Debussy: Pour le Piano, CD 95, L. 95: III. Toccata',\n",
       "    'Samson François')), (12,\n",
       "   ('Debussy: Pour le Piano, CD 95, L. 95: III. Toccata',\n",
       "    'Aldo Ciccolini')), (13,\n",
       "   ('Debussy: Pour le Piano, CD 95, L. 95: III. Toccata',\n",
       "    'Jean-Bernard Pommier')), (14,\n",
       "   ('Debussy: Pour le Piano, CD 95, L. 95: III. Toccata',\n",
       "    'Kun-Woo Paik')), (15,\n",
       "   ('Debussy: Pour le Piano, CD 95, L. 95: III. Toccata',\n",
       "    'Monique Haas')), (16,\n",
       "   ('Debussy: Pour le piano, CD 95, L. 95: III. Toccata',\n",
       "    'Samson François')), (17,\n",
       "   ('Debussy: Pour le Piano, CD 95, L. 95: III. Toccata',\n",
       "    'Samson François')), (18,\n",
       "   ('Debussy: Pour le piano, CD 95, L. 95: III. Toccata',\n",
       "    'Aldo Ciccolini')), (19,\n",
       "   ('Debussy: Pour le Piano, CD 95, L. 95: III. Toccata',\n",
       "    'Walter Gieseking')), (20,\n",
       "   ('Debussy: Pour le Piano, CD 95, L. 95: III. Toccata',\n",
       "    'Samson François')), (21,\n",
       "   ('Pour Le Piano, Suite L 95: III. Toccata: Vif (Debussy)',\n",
       "    'Jean-Pierre Armengaud')), (22,\n",
       "   ('Pour le piano, L. 95: 3. Toccata', 'Zoltán Kocsis')), (23,\n",
       "   ('Pour le piano, L. 95: 3. Toccata', 'Zoltán Kocsis')), (24,\n",
       "   ('Pour le piano, L. 95: 3. Toccata', 'Gina Bachauer')), (25,\n",
       "   ('Pour le piano, L. 95: III. Toccata', 'Víkingur Ólafsson')), (26,\n",
       "   ('Pour le piano, L. 95: III. Toccata', 'Rafał Blechacz')), (27,\n",
       "   ('Pour le piano, L. 95: III. Toccata', 'Rafał Blechacz')), (28,\n",
       "   ('Pour le piano, L. 95, CD 95: III. Toccata', 'Jean-Efflam Bavouzet')), (29,\n",
       "   ('Pour le piano, L. 95: Toccata', 'David Bismuth')), (30,\n",
       "   ('Pour le piano, L.95: Toccata', 'Roger Press'))],\n",
       " ('099',\n",
       "  \"D'un cahier d'esquisses\"): [(0,\n",
       "   (\"D'un cahier d'esquisses, L.99\", 'Nelson Freire')), (1,\n",
       "   (\"D'un cahier d'esquisses en Ré Bémol Majeur, L. 99\", 'Matteo Fossi')), (2,\n",
       "   (\"D'un cahier d'esquisses, L. 99 (Remastered 2021) [Live]\",\n",
       "    'Sergio Fiorentino')), (3,\n",
       "   (\"D'un cahier d'esquisses, L. 99\", 'Zoltán Kocsis')), (4,\n",
       "   (\"D'un cahier d'esquisses, L. 99\", 'Jacopo Salvatori')), (5,\n",
       "   (\"D'un cahier d'esquisses, L.99\", 'Jean-Yves Thibaudet')), (6,\n",
       "   (\"D'un cahier d'esquisses, L.99\", 'Jean-Yves Thibaudet')), (7,\n",
       "   (\"Debussy: D'un cahier d'esquisses, CD 112, L. 99 - Remasterisé en 2009\",\n",
       "    'Aldo Ciccolini')), (8,\n",
       "   (\"Debussy: D'un cahier d'esquisses, CD 112, L. 99\",\n",
       "    'Walter Gieseking')), (9,\n",
       "   (\"Debussy: D'un cahier d'esquisses, CD 112, L. 99\", 'Monique Haas')), (10,\n",
       "   (\"Debussy: D'un cahier d'esquisses, CD 112, L. 99\", 'Monique Haas')), (11,\n",
       "   (\"D'un cahier d'esquisses, L. 99\", 'Bennett Lerner')), (12,\n",
       "   (\"D'un cahier d'esquisses, L. 99\", 'Noël Lee')), (13,\n",
       "   (\"D'un cahier d'esquisses, L. 99\", 'Jacques Février')), (14,\n",
       "   (\"D'un cahier d'esquisses, L. 99\", 'Zoltán Kocsis')), (15,\n",
       "   (\"D'un cahier d'esquisses, L. 99\", 'Peter Frankl')), (16,\n",
       "   (\"D'un cahier d'esquisses, L 99\", 'Martino Tirimo')), (17,\n",
       "   (\"D'un cahier d'esquisses, L. 99\", 'Noriko Ogawa')), (18,\n",
       "   (\"D'un cahier d'esquisses, L. 99\", 'Zoltán Kocsis')), (19,\n",
       "   (\"D'un cahier d'esquisses, L.99\", 'Gordon Fergus-Thompson')), (20,\n",
       "   (\"D'un cahier d'esquisses, L. 99\", 'Zoltán Kocsis')), (21,\n",
       "   (\"D'un cahier d'esquisses, L. 99\", 'Gilles Vonsattel')), (22,\n",
       "   (\"… d'un cahier d'esquisses, L. 99\", 'Alain Planès')), (23,\n",
       "   (\"D'un cahier d'esquisses, L. 99\", 'Jean Boguet')), (24,\n",
       "   (\"D'un cahier d'esquisses, L. 99\", 'Michael Korstick')), (25,\n",
       "   (\"D'un cahier d'esquisses, L. 99\", 'Jacob Greenberg')), (26,\n",
       "   (\"D'un cahier d'esquisses, L. 99\", 'Hal Freedman')), (27,\n",
       "   (\"D'un cahier d'esquisses, L.99\", 'Hans Henkemans')), (28,\n",
       "   (\"D'un cahier d'esquisses, L. 99\", 'Martin Jones')), (29,\n",
       "   (\"D'un cahier d'esquisses, L. 99\", 'Peter Frankl'))],\n",
       " ('100-1',\n",
       "  'Pagode'): [(0, ('Estampes, L. 100: 1. Pagodes', 'Jean-Yves Thibaudet')), (1,\n",
       "   ('Estampes, L. 100: 1. Pagodes', 'Daniel Barenboim')), (2,\n",
       "   ('Estampes, L. 100: I. Pagodes', 'Rafał Blechacz')), (3,\n",
       "   ('Estampes, L. 100: 1. Pagodes', 'Zoltán Kocsis')), (4,\n",
       "   ('Estampes, L. 100: 1. Pagodes', 'Philippe Cassard')), (5,\n",
       "   ('Estampes, L. 100: I. Pagodes', 'Cecile Ousset')), (6,\n",
       "   ('Estampes, L. 100: 1. Pagodes', 'Jean-Yves Thibaudet')), (7,\n",
       "   ('Estampes, L. 100: No. 1. Pagodes', 'Michael Korstick')), (8,\n",
       "   ('Estampes, L. 100: 1. Pagodes', 'Pascal Rogé')), (9,\n",
       "   ('Estampes, L. 100: 1. Pagodes', 'Claudio Arrau')), (10,\n",
       "   ('Estampes, L. 100: 1. Pagodes', 'Jean-Yves Thibaudet')), (11,\n",
       "   ('Estampes, L. 100: I. Pagodes', 'Matteo Fossi')), (12,\n",
       "   ('Estampes, L. 100: No. 1, Pagodes (Remastered 2021) [Live]',\n",
       "    'Sergio Fiorentino')), (13,\n",
       "   ('Estampes, L. 100: 1. Pagodes', 'Alexis Weissenberg')), (14,\n",
       "   ('Debussy: Estampes, CD 108, L. 100: No. 1, Pagodes',\n",
       "    'Aldo Ciccolini')), (15,\n",
       "   ('Estampes, L. 100: 1. Pagodes', 'Zoltán Kocsis')), (16,\n",
       "   ('Estampes, L. 100: I. Pagodes', 'Jacopo Salvatori')), (17,\n",
       "   ('Debussy: Estampes, CD 108, L. 100: No. 1, Pagodes', 'Youri Egorov')), (18,\n",
       "   ('Estampes, L. 100: No. 1, Pagodes', 'Dennis Lee')), (19,\n",
       "   ('Debussy: Estampes, CD 108, L. 100: No. 1, Pagodes',\n",
       "    'Jean-Bernard Pommier')), (20,\n",
       "   ('Estampes, L 100 - Pagodes', 'Adagio Quartet')), (21,\n",
       "   ('Estampes, L. 100: I. Pagodes', 'Christopher Devine')), (22,\n",
       "   ('Estampes, L. 100: 1. Pagodes', 'Lilya Zilberstein'))],\n",
       " ('100-2',\n",
       "  'La soirée dans Grenade'): [(0,\n",
       "   ('Estampes, L. 100: 2. La soirée dans Grenade', 'Daniel Barenboim')), (1,\n",
       "   ('Estampes, L. 100: 2. La soirée dans Grenade', 'Philippe Cassard')), (2,\n",
       "   ('Estampes, L. 100: II. La soirée dans Grenade', 'Matteo Fossi')), (3,\n",
       "   ('Estampes, L. 100: No. 2. La soiree dans Grenade (Evening in Granada)',\n",
       "    'Michael Korstick')), (4,\n",
       "   ('Estampes, L. 100: No. 2, La soirée dans Grenade (Remastered 2021) [Live]',\n",
       "    'Sergio Fiorentino')), (5,\n",
       "   ('Estampes, L. 100: II. La soirée dans Grenade', 'Jacopo Salvatori')), (6,\n",
       "   ('Estampes, L. 100: No. 2, La soirée dans Grenade',\n",
       "    'Jorge Federico Osorio')), (7,\n",
       "   ('Estampes, L. 100: II. La soirée dans Grenade', 'Christopher Devine')), (8,\n",
       "   ('Debussy: Estampes, CD 108, L. 100: No. 2, La soirée dans Grenade',\n",
       "    'Aldo Ciccolini')), (9,\n",
       "   ('Estampes, L. 100: No. 2, La soirée dans Grenade',\n",
       "    'François-Joël Thiollier')), (10,\n",
       "   ('Estampes, L. 100: No. 2, La soirée dans Grenade', 'Dennis Lee')), (11,\n",
       "   ('Estampes, L. 100: 2. Soirée dans Grenade', 'Sviatoslav Richter')), (12,\n",
       "   ('Estampes, L. 100: 2. La soirée dans Grenade', 'Simon Ghraichy')), (13,\n",
       "   ('Estampes, L. 100: II. La soirée dans Grenade', 'Noriko Ogawa')), (14,\n",
       "   ('Estampes, L. 100: II. La soirée dans Grenade', 'Stany David Lasry')), (15,\n",
       "   ('Estampes, L. 100: II. La soirée dans Grenade',\n",
       "    'Jean-Bernard Pommier')), (16,\n",
       "   ('Estampes, L. 100: II. La soirée dans Grenade', 'Alexandra Neumann')), (17,\n",
       "   ('Estampes, L. 100: II. La soirée dans Grenade', 'Alain Planès')), (18,\n",
       "   ('Estampes, L. 100: 2. La soirée dans Grenade', 'Roberto Cominati'))],\n",
       " ('100-3',\n",
       "  'Jardins sous la pluie'): [(0,\n",
       "   ('Estampes, L. 100: 3. Jardins sous la pluie', 'Alexis Weissenberg')), (1,\n",
       "   ('Estampes, L. 100: 3. Jardins sous la pluie', 'Daniel Barenboim')), (2,\n",
       "   ('Estampes, L. 100: III. Jardins sous la pluie', 'Víkingur Ólafsson')), (3,\n",
       "   ('Estampes, L. 100: Jardins sous La Pluie', 'Martin Jones')), (4,\n",
       "   ('Estampes, L. 100: 3. Jardins sous la pluie', 'Pascal Rogé')), (5,\n",
       "   ('Estampes, L. 100: III. Jardins sous la pluie', 'Matteo Fossi')), (6,\n",
       "   ('Estampes, L. 100: No. 3. Jardins sous la pluie (Gardens in the Rain)',\n",
       "    'Michael Korstick')), (7,\n",
       "   ('Estampes, L. 100: 3. Jardins sous la pluie', 'Claudio Arrau')), (8,\n",
       "   ('Estampes, L. 100: 3. Jardins sous la pluie', 'Jean-Yves Thibaudet')), (9,\n",
       "   ('Estampes, L. 100: III. Jardins sous la pluie', 'Jacopo Salvatori')), (10,\n",
       "   ('Debussy: Estampes, CD 108, L. 100: No. 3, Jardins sous la pluie',\n",
       "    'Samson François')), (11,\n",
       "   ('Debussy: Estampes, CD 108, L. 100: No. 3, Jardins sous la pluie',\n",
       "    'Aldo Ciccolini')), (12,\n",
       "   ('Estampes, L. 100: No. 3, Jardins sous la pluie', 'Dennis Lee')), (13,\n",
       "   ('Debussy : Estampes L.100 – Ⅲ. Jardins Sous La Pluie',\n",
       "    'Relaxing Mode')), (14,\n",
       "   ('Estampes, L. 100: 3. Jardins sous la pluie', 'Lilya Zilberstein'))],\n",
       " ('105', 'Masques'): [(0, ('Masques pour Piano, L. 105', 'Noriko Ogawa')),\n",
       "  (1, ('Masques, L. 105', 'Martin Jones')),\n",
       "  (2, ('Masques, L. 105', 'Matteo Fossi')),\n",
       "  (3, ('Masques, L. 105 (Remastered 2021) [Live]', 'Sergio Fiorentino')),\n",
       "  (4, ('Masques, L.105', 'Jean-Yves Thibaudet')),\n",
       "  (5, ('Masques, L. 105', 'Jacopo Salvatori')),\n",
       "  (6, ('Masques, L. 105', 'Tamás Vásáry')),\n",
       "  (7, ('3 pieces de 1904: 2. Masques, L. 105', 'Roberto Cominati')),\n",
       "  (8, ('Debussy: Masques, CD 110, L. 105', 'Walter Gieseking')),\n",
       "  (9, ('Debussy: Masques, CD 110, L. 105', 'Samson François')),\n",
       "  (10, ('Debussy: Masques, CD 134, L. 105', 'Aldo Ciccolini')),\n",
       "  (11, ('Debussy: Masques, CD 110, L. 105', 'Monique Haas')),\n",
       "  (12, ('Debussy: Masques, CD 110, L. 105', 'Monique Haas')),\n",
       "  (13, ('Debussy: Masques, CD 110, L. 105', 'Samson François')),\n",
       "  (14, ('Masques, L. 105: Masques', 'Nina Tichman')),\n",
       "  (15, ('Masques, L. 105', 'Michael Korstick')),\n",
       "  (16, ('Masques, L. 105', 'Martin Jones')),\n",
       "  (17, ('Masques, L. 105', 'Yvonne Lefébure')),\n",
       "  (18, ('Masques, L. 105', 'Tamás Vásáry')),\n",
       "  (19, ('Masques, L. 105', 'Robert Casadesus')),\n",
       "  (20, ('Masques, L. 105', 'Bennett Lerner')),\n",
       "  (21, ('Masques, L. 105', 'Tamás Vásáry')),\n",
       "  (22, ('Masques, L. 105', 'Lazare Lévy')),\n",
       "  (23, ('Masques, L. 105', 'Tamás Vásáry')),\n",
       "  (24, ('Masques, L 105', 'Martino Tirimo')),\n",
       "  (25, ('Masques, L. 105', 'Peter Frankl')),\n",
       "  (26, ('Masques, L. 105', 'Noël Lee')),\n",
       "  (27, ('Masques, L. 105', 'Jacques Février')),\n",
       "  (28, ('Masques L. 105', 'Krystian Wojno')),\n",
       "  (29, ('Masques, L. 105', 'Elena Tarasova')),\n",
       "  (30, ('Masques, L.105', 'Hans Henkemans')),\n",
       "  (31, ('Masques, L.105', 'Gordon Fergus-Thompson')),\n",
       "  (32, ('Masques, L. 105', 'Gilles Vonsattel')),\n",
       "  (33, ('Masques, L. 105', 'Peter Frankl')),\n",
       "  (34, ('Masques, L. 105', 'Cathy Krier')),\n",
       "  (35, ('Masques, L. 105', 'Ariane Haering')),\n",
       "  (36, ('Masques, L. 105', 'Marius-François Gaillard'))],\n",
       " ('106', \"L'isle joyeuse\"): [(0, (\"L'isle joyeuse, L. 106\", 'Seong-Jin Cho')),\n",
       "  (1, (\"L'Isle joyeuse, L.106\", 'Alexis Weissenberg')),\n",
       "  (2, (\"L' Isle joyeuse, L. 106\", 'Jean-Bernard Pommier')),\n",
       "  (3, (\"L'Isle Joyeuse, L. 106\", 'Pascal Rogé')),\n",
       "  (4, (\"L'Isle joyeuse, L. 106\", 'Zoltán Kocsis')),\n",
       "  (5,\n",
       "   (\"L'isle joyeuse, L. 106 (Remastered 2021) [Live]\", 'Sergio Fiorentino')),\n",
       "  (6, (\"L'Isle Joyeuse, L. 106\", 'Rafał Blechacz')),\n",
       "  (7, (\"L'isle joyeuse, L. 106\", 'Colette Maze')),\n",
       "  (8, (\"Debussy: L'isle joyeuse, CD 109, L. 106\", 'Simon Trpčeski')),\n",
       "  (9, (\"L'Isle joyeuse, L.106\", 'Jean-Yves Thibaudet')),\n",
       "  (10, (\"L'isle joyeuse, L. 106\", 'Cecile Ousset')),\n",
       "  (11, (\"L'Isle joyeuse, L. 106\", 'Van Cliburn')),\n",
       "  (12, (\"L'Isle Joyeuse, L. 106\", 'Vanessa Benelli Mosell')),\n",
       "  (13, (\"L'isle joyeuse, L. 106\", 'Dennis Lee')),\n",
       "  (14, (\"L'isle joyeuse, L. 106\", 'Vladimir Horowitz')),\n",
       "  (15, (\"L'isle joyeuse, L. 106\", 'Kathryn Stott')),\n",
       "  (16, (\"L'isle joyeuse, L. 106\", 'Jean Boguet')),\n",
       "  (17, (\"L'Isle joyeuse, L.106\", 'Vladimir Ashkenazy')),\n",
       "  (18, ('Debussy: L’isle joyeuse, CD 109, L. 106', 'Shani Diluka')),\n",
       "  (19, ('L’Isle Joyeuse, L. 106', 'Maria Luisa Cantos')),\n",
       "  (20, ('L’Isle joyeuse, L. 106', 'Angela Brownridge')),\n",
       "  (21, ('L’Isle Joyeuse, L. 106', 'Yvonne Lefébure')),\n",
       "  (22, ('L’isle joyeuse, L 106', 'Lucy Parham')),\n",
       "  (23, (\"Debussy - L'isle Joyeuse, L. 106\", 'Classically Positive Project')),\n",
       "  (24, (\"Debussy: L'Isle joyeuse, L. 106\", 'Alain Lefèvre')),\n",
       "  (25, (\"Claude Debussy - L'isle joyeuse, L. 106\", 'Loving Melodies Project')),\n",
       "  (26, (\"Debussy: L'isle joyeuse, CD 109, L. 106\", 'Monique Haas')),\n",
       "  (27, (\"Debussy: L'isle joyeuse, CD 109, L. 106\", 'Samson François')),\n",
       "  (28, (\"L'Isle Joyeuse, L. 106: L'Isle Joyeuse\", 'Roberto Cominati')),\n",
       "  (29, (\"Debussy: L'isle joyeuse, CD 109, L. 106\", 'Samson François')),\n",
       "  (30, (\"Debussy: L'isle joyeuse, CD 109, L. 106\", 'Walter Gieseking')),\n",
       "  (31, (\"Debussy: L'Isle joyeuse, CD 109, L. 106\", 'Aldo Ciccolini'))],\n",
       " ('108',\n",
       "  'Morceau de concours'): [(0,\n",
       "   ('Morceau de Concours, L.108', 'Jean-Yves Thibaudet')), (1,\n",
       "   ('Morceau de concours, L. 108, CD 117', 'Jean-Efflam Bavouzet')), (2,\n",
       "   ('Morceau de Concours, L.108', 'Jean-Yves Thibaudet')), (3,\n",
       "   ('Morceau de Concours, L.108', 'Jean-Yves Thibaudet')), (4,\n",
       "   ('Debussy: Morceau de concours, CD 117, L. 108', 'Aldo Ciccolini')), (5,\n",
       "   ('Debussy: Morceau de concours, CD 117, L. 108', 'Aldo Ciccolini')), (6,\n",
       "   ('Morceau de concours, L. 108', 'Christopher Devine')), (7,\n",
       "   ('Morceau de concours, L. 108', 'Martin Jones')), (8,\n",
       "   ('Morceau de concours, L. 108', 'Bennett Lerner')), (9,\n",
       "   ('Morceau de concours, L. 108', 'Philippe Cassard')), (10,\n",
       "   ('Morceau de Concours, L.108', 'Gordon Fergus-Thompson'))],\n",
       " ('110-1',\n",
       "  \"Reflets dans l'eau\"): [(0,\n",
       "   (\"Images I, L. 110: I. Reflets dans l'eau\", 'Seong-Jin Cho')), (1,\n",
       "   (\"Images - Book 1, L. 110: I. Reflets dans l'eau\",\n",
       "    'Arturo Benedetti Michelangeli')), (2,\n",
       "   (\"Images - Book 1, L. 110: 1. Reflets dans l'eau\", 'Pascal Rogé')), (3,\n",
       "   (\"Images - Book 1, L. 110: Reflets dans l'eau\", 'Jean-Joël Barbier')), (4,\n",
       "   (\"Images, Set 1, L. 110: Reflets dans L'eau\", 'Martin Jones')), (5,\n",
       "   (\"Images - Book 1, L. 110: I. Reflets dans l'eau\",\n",
       "    'Arturo Benedetti Michelangeli')), (6,\n",
       "   (\"Images - Book 1, L. 110: 1. Reflets dans l'eau\", 'Pascal Rogé')), (7,\n",
       "   (\"Images - Book 1, L.111: I. Reflets dans l'eau\",\n",
       "    'Arturo Benedetti Michelangeli')), (8,\n",
       "   (\"Images, Book 1, L. 110: No. 1. Reflets dans l'eau\",\n",
       "    'Jean-Efflam Bavouzet')), (9,\n",
       "   (\"Images - Book 1, L. 110: 1. Reflets dans l'eau\", 'Zoltán Kocsis')), (10,\n",
       "   (\"Debussy: Images, Livre I, CD 105, L. 110: No. 1, Reflets dans l'eau\",\n",
       "    'Simon Trpčeski')), (11,\n",
       "   (\"Images - Book 1, L. 110: 1. Reflets dans l'eau\", 'Zoltán Kocsis')), (12,\n",
       "   (\"Images - Book 1, L. 110: I. Reflets dans l'eau\",\n",
       "    'Arturo Benedetti Michelangeli')), (13,\n",
       "   (\"Images, Book 1, L. 110: No. 1, Reflets dans l'eau\", 'Dennis Lee')), (14,\n",
       "   (\"Images, Book 1, L. 110: No. 1, Reflets dans l'eau\",\n",
       "    'Martin Jacoby')), (15,\n",
       "   (\"Images pour piano, Livre I, L. 110: No. 1: Reflets dans l'eau\",\n",
       "    'Kathryn Stott')), (16,\n",
       "   (\"Images - Book 1, L. 110: 1. Reflets dans l'eau\", 'Claudio Arrau')), (17,\n",
       "   (\"Images - Book 1, L. 110: 1. Reflets dans l'eau\",\n",
       "    'Roberto Cominati')), (18,\n",
       "   (\"Images, Première série, L. 110: No. 1, Reflets dans l'eau\",\n",
       "    'Colette Maze')), (19,\n",
       "   (\"Images pour piano, Book I, L. 110, CD 105: I. Reflets dans l'eau\",\n",
       "    'Jean-Efflam Bavouzet')), (20,\n",
       "   (\"Images, Book 1, L. 110: No. 1, Reflets dans l'eau\", 'Jean Boguet')), (21,\n",
       "   (\"Images - Book 1, L. 110: 1. Reflets dans l'eau\",\n",
       "    'Jean-Yves Thibaudet')), (22,\n",
       "   (\"Images - Book 1, L. 110: I. Reflets dans l'eau\",\n",
       "    'Arturo Benedetti Michelangeli')), (23,\n",
       "   (\"Debussy: Images, Livre I, CD 105, L. 110: No. 1, Reflets dans l'eau\",\n",
       "    'Pierre-Laurent Aimard')), (24,\n",
       "   (\"Debussy: Images, Livre I, CD 105, L. 110: No. 1, Reflets dans l'eau\",\n",
       "    'Aldo Ciccolini')), (25,\n",
       "   (\"Images, Book 1, L. 110: No. 1, Reflets dans l'eau\",\n",
       "    'Paul Crossley')), (26,\n",
       "   (\"Images, Book 1, L. 110: No. 1, Reflets dans l'eau\",\n",
       "    'Vincent Larderet')), (27,\n",
       "   (\"Images, Book 1, L. 110: No. 1, Reflets dans l'eau\", 'Jeremy Denk')), (28,\n",
       "   (\"Images, Book 1, L. 110: No. 1, Reflets dans l'eau\",\n",
       "    'Marius-François Gaillard')), (29,\n",
       "   (\"Images, Book 1, L. 110: No. 1, Reflets dans l'eau\",\n",
       "    'Alessandro Taverna')), (30,\n",
       "   (\"Images, Book 1, L. 110: No. 1, Reflets dans l'eau\", 'Ivan Moravec')), (31,\n",
       "   (\"Images - Book 1, L. 110: I. Reflets dans l'eau\",\n",
       "    'Arturo Benedetti Michelangeli')), (32,\n",
       "   (\"Images - Book 1, L. 110: 1. Reflets dans l'eau\", 'Pascal Rogé')), (33,\n",
       "   (\"Images - Book 1, L. 110: I. Reflets dans l'eau\",\n",
       "    'Arturo Benedetti Michelangeli')), (34,\n",
       "   ('Claude Debussy: Images, Book I, L. 110: I. Reflets dans l’eau',\n",
       "    'Manuel Ignacio de Íñigo')), (35,\n",
       "   ('Images L. 110, Book I: Reflets dans l’eau', 'Sergio Tiempo')), (36,\n",
       "   ('Images, 1ère série, L. 110: I. Reflets dans l’eau',\n",
       "    'Stany David Lasry')), (37,\n",
       "   ('Images, Set 1, L. 110: I. Reflets dans l’eau', 'Lucy Parham')), (38,\n",
       "   ('Images, Book No. 1, L. 110: I. Reflets dans l’eau',\n",
       "    'Yvonne Lefébure')), (39,\n",
       "   ('Images, Book 1, L. 110: No. 1, Reflets dans l’eau',\n",
       "    'Janina Fialkowska')), (40,\n",
       "   (\"Reflets dans L'eau, L. 110/1 - Remastered\", 'Philippe Entremont')), (41,\n",
       "   (\"Images, L. 110: I. Reflets dans l'eau\", 'Denis Pascal'))],\n",
       " ('110-2',\n",
       "  'Hommage à Rameau'): [(0,\n",
       "   ('Images I, L. 110: II. Hommage à Rameau', 'Seong-Jin Cho')), (1,\n",
       "   ('Images - Book 1, L. 110: II. Hommage à Rameau',\n",
       "    'Arturo Benedetti Michelangeli')), (2,\n",
       "   ('Images - Book 1, L. 110: II. Hommage à Rameau', 'Víkingur Ólafsson')), (3,\n",
       "   ('Images - Book 1, L. 110: Hommage à Rameau', 'Jean-Joël Barbier')), (4,\n",
       "   ('Images, (Prèmiere Série), L. 110: II. Hommage à Rameau',\n",
       "    'Axel Gillison')), (5,\n",
       "   ('Images - Book 1, L. 110: 2. Hommage à Rameau', 'Pascal Rogé')), (6,\n",
       "   ('Images, Livre I, L. 110: Images, Livre I, L. 110: II. Hommage à Rameau',\n",
       "    'Alain Planès')), (7,\n",
       "   ('Images - Book 1, L. 110: 2. Hommage à Rameau', 'Zoltán Kocsis')), (8,\n",
       "   ('Debussy: Images, Livre I, CD 105, L. 110: No. 2, Hommage à Rameau',\n",
       "    'Simon Trpčeski')), (9,\n",
       "   ('Images - Book 1, L. 110: II. Hommage à Rameau',\n",
       "    'Arturo Benedetti Michelangeli')), (10,\n",
       "   ('Images (Prèmiere Série), L. 110: II. Hommage à Rameau',\n",
       "    'Axel Gillison')), (11,\n",
       "   ('Images - Book 1, L. 110: 2. Hommage à Rameau', 'Claudio Arrau')), (12,\n",
       "   ('Images, Book 1, L. 110: No. 2, Hommage à Rameau (Remastered 2021) [Live]',\n",
       "    'Sergio Fiorentino')), (13,\n",
       "   ('Images - Book 1, L. 110: 2. Hommage à Rameau',\n",
       "    'Jean-Yves Thibaudet')), (14,\n",
       "   ('Images, Book 1, L. 110: No. 2. Hommage a Rameau', 'Martin Jacoby')), (15,\n",
       "   ('Images, Book 1, L. 110: No. 2, Hommage à Rameau', 'Dennis Lee')), (16,\n",
       "   ('Images, Book 1, L. 110: No. 2, Hommage à Rameau', 'Jean Boguet')), (17,\n",
       "   ('Images, Première série, L. 110: No. 2, Hommage à Rameau',\n",
       "    'Colette Maze')), (18,\n",
       "   ('Images - Book 1, L. 110: II. Hommage à Rameau',\n",
       "    'Arturo Benedetti Michelangeli')), (19,\n",
       "   ('Debussy: Images, Livre I, CD 105, L. 110: No. 2, Hommage à Rameau',\n",
       "    'Aldo Ciccolini')), (20,\n",
       "   ('Debussy: Images, Livre I, CD 105, L. 110: No. 2, Hommage à Rameau',\n",
       "    'Pierre-Laurent Aimard')), (21,\n",
       "   ('Images - Book 1, L. 110: 2. Hommage à Rameau', 'Roberto Cominati')), (22,\n",
       "   ('Images, Livre I, L. 110: II. Hommage à Rameau', 'Nelson Goerner')), (23,\n",
       "   ('Images, Book 1, L. 110: No. 2, Hommage à Rameau', 'Ivan Moravec')), (24,\n",
       "   ('Images, L. 110: II. Hommage à Rameau', 'Denis Pascal'))],\n",
       " ('110-3',\n",
       "  'Mouvement'): [(0,\n",
       "   ('Images I, L. 110: III. Mouvement',\n",
       "    'Seong-Jin Cho')), (1, ('Images - Book 1, L. 110: III. Mouvement', 'Arturo Benedetti Michelangeli')), (2,\n",
       "   ('Images - Book 1, L. 110: 3. Mouvement', 'Jean-Yves Thibaudet')), (3,\n",
       "   ('Images - Book 1, L. 110: 3. Mouvement', 'Pascal Rogé')), (4,\n",
       "   ('Images, Book 1, L. 110: No. 3, Mouvement', 'Dennis Lee')), (5,\n",
       "   ('Images - Book 1, L. 110: III. Mouvement',\n",
       "    'Arturo Benedetti Michelangeli')), (6,\n",
       "   ('Images - Book 1, L. 110: 3. Mouvement', 'Zoltán Kocsis')), (7,\n",
       "   ('Debussy: Images, Livre I, CD 105, L. 110: No. 3, Mouvement',\n",
       "    'Simon Trpčeski')), (8,\n",
       "   ('Images, Book 1, L. 110: No. 3. Mouvement', 'Martin Jacoby')), (9,\n",
       "   ('Images, Book 1, L. 110: No. 3, Mouvement (Remastered 2021) [Live]',\n",
       "    'Sergio Fiorentino')), (10,\n",
       "   ('Debussy: Images, Livre I, CD 105, L. 110: No. 3, Mouvement',\n",
       "    'Aldo Ciccolini')), (11,\n",
       "   ('Debussy: Images, Livre I, CD 105, L. 110: No. 3, Mouvement',\n",
       "    'Pierre-Laurent Aimard')), (12,\n",
       "   ('Images - Book 1, L. 110: III. Mouvement',\n",
       "    'Arturo Benedetti Michelangeli')), (13,\n",
       "   ('Images, Book 1, L. 110: III. Mouvement', 'Peter Frankl')), (14,\n",
       "   ('Images - Book 1, L. 110: 3. Mouvement', 'Claudio Arrau')), (15,\n",
       "   ('Images, Book 1, L. 110: No. 3, Mouvement', 'Jean Boguet')), (16,\n",
       "   ('Images, Book 1, L. 110: No. 3, Mouvement', 'Ivan Moravec')), (17,\n",
       "   ('Images, Première série, L. 110: No. 3, Mouvement', 'Colette Maze')), (18,\n",
       "   ('Images - Book 1, L. 110: Debussy : Images - Livre 1, L. 110 : 3. Mouvement',\n",
       "    'Hans Henkemans')), (19,\n",
       "   ('Debussy: Images, Livre I, CD 105, L. 110: No. 3, Mouvement',\n",
       "    'Pierre-Laurent Aimard')), (20,\n",
       "   ('Debussy: Images, Livre I, CD 105, L. 110: No. 3, Mouvement',\n",
       "    'Walter Gieseking')), (21,\n",
       "   ('Debussy: Images, Livre I, CD 105, L. 110: No. 3, Mouvement',\n",
       "    'Monique Haas')), (22,\n",
       "   ('Debussy: Images, Livre I, CD 105, L. 110: No. 3, Mouvement',\n",
       "    'Samson François')), (23,\n",
       "   ('Debussy: Images, Livre I, CD 105, L. 110: No. 3, Mouvement',\n",
       "    'Arturo Benedetti Michelangeli')), (24,\n",
       "   ('Debussy: Images, Livre I, CD 105, L. 110: No. 3, Mouvement',\n",
       "    'Samson François')), (25,\n",
       "   ('Images, L. 110: III. Mouvement', 'Denis Pascal')), (26,\n",
       "   ('Images - Book 1, L. 110: 3. Mouvement', 'Emil Gilels'))],\n",
       " ('113-1',\n",
       "  'Doctor Gradus ad Parnassum'): [(0,\n",
       "   (\"Children's Corner, L. 113: 1. Doctor Gradus ad Parnassum\",\n",
       "    'Alexis Weissenberg')), (1,\n",
       "   (\"Children's Corner, L. 113: I. Doctor Gradus Ad Parnassum\",\n",
       "    'Seong-Jin Cho')), (2,\n",
       "   (\"Children's Corner, L. 113: I. Doctor Gradus ad Parnassum\",\n",
       "    'Lang Lang')), (3,\n",
       "   (\"Children's Corner, L. 113: I. Doctor Gradus ad Parnassum\",\n",
       "    'Peter Schmalfuss')), (4,\n",
       "   (\"Children's Corner, L. 113: 1. Doctor Gradus ad Parnassum\",\n",
       "    'Jacques Février')), (5,\n",
       "   (\"Children's Corner, L. 113: I. Doctor Gradus ad Parnassum\",\n",
       "    'Martin Jones')), (6,\n",
       "   (\"Debussy: Children's Corner, CD 119, L. 113: No. 1, Doctor Gradus ad Parnassum\",\n",
       "    'Monique Haas')), (7,\n",
       "   (\"Children's Corner, L. 113: 1. Doctor Gradus ad Parnassum\",\n",
       "    'Pascal Rogé')), (8,\n",
       "   (\"Debussy: Children's Corner, CD 119, L. 113: No. 1, Doctor Gradus ad Parnassum\",\n",
       "    'Simon Trpčeski')), (9,\n",
       "   (\"Children's Corner, L. 113, CD 119: I. Doctor Gradus ad Parnassum\",\n",
       "    'Jean-Efflam Bavouzet')), (10,\n",
       "   (\"Children's Corner, L. 113: I. Doctor Gradus ad Parnassum\",\n",
       "    'Michael Korstick')), (11,\n",
       "   (\"Children's Corner, L. 113: I. Doctor Gradus ad Parnassum\",\n",
       "    'Arturo Benedetti Michelangeli')), (12,\n",
       "   (\"Debussy: Children's Corner, CD 119a, L. 113: I. Doctor Gradus ad Parnassum\",\n",
       "    'Paul Ji')), (13,\n",
       "   (\"Children's Corner, L. 113: 1. Doctor Gradus ad Parnassum\",\n",
       "    'Nelson Freire')), (14,\n",
       "   (\"Children's Corner, L. 113: I. Doctor Gradus ad Parnassum\",\n",
       "    'Arturo Benedetti Michelangeli')), (15,\n",
       "   (\"Children's Corner, L. 113: 1. Doctor Gradus ad Parnassum\",\n",
       "    'Jacques Février')), (16,\n",
       "   (\"Children's Corner, L. 113: I. Doctor Gradus ad Parnassum\",\n",
       "    'Jean Boguet')), (17,\n",
       "   (\"Children's Corner Suite, L. 113: Doctor Gradus ad Parnassum\",\n",
       "    'Alexis Weissenberg')), (18,\n",
       "   (\"Children's Corner, L. 113: 1. Doctor Gradus ad Parnassum\",\n",
       "    'Vanessa Benelli Mosell'))],\n",
       " ('113-2',\n",
       "  \"Jimbo's Lullaby\"): [(0,\n",
       "   (\"Children's Corner, L. 113: II. Jimbo's Lullaby\",\n",
       "    'Arturo Benedetti Michelangeli')), (1,\n",
       "   (\"Children's Corner, L. 113: II. Jimbo's Lullaby\", 'Seong-Jin Cho')), (2,\n",
       "   (\"Children's Corner, L. 113: II. Jimbo's Lullaby\", 'Peter Schmalfuss')), (3,\n",
       "   (\"Children's Corner, L. 113: 2. Jimbo's Lullaby - Live au Festival de musique de Montreux-Vevey / 1988\",\n",
       "    'Nikita Magaloff')), (4,\n",
       "   (\"Children's Corner, L. 113: 2. Jimbo's Lullaby\", 'Pascal Rogé')), (5,\n",
       "   (\"Children's Corner, L. 113: 2. Jimbo's lullaby\", 'Jacques Février')), (6,\n",
       "   (\"Debussy: Children's Corner, CD 119, L. 113: No. 2, Jimbo's Lullaby\",\n",
       "    'Simon Trpčeski')), (7,\n",
       "   (\"Children's Corner, L. 113: II. Jimbo's Lullaby\", 'Michael Korstick')), (8,\n",
       "   (\"Children's Corner, L. 113: 2. Jimbo's Lullaby\",\n",
       "    'Alexis Weissenberg')), (9,\n",
       "   (\"Children's Corner, L. 113: II. Jimbo's Lullaby\",\n",
       "    'Arturo Benedetti Michelangeli')), (10,\n",
       "   (\"Children's Corner, L. 113: II. Jimbo's Lullaby\",\n",
       "    'Christopher Devine')), (11,\n",
       "   (\"Children's Corner, L. 113: II. Jimbo's Lullaby\",\n",
       "    'Jacopo Salvatori')), (12,\n",
       "   (\"Children's Corner, L. 113: 2. Jimbo's Lullaby\",\n",
       "    'Vanessa Benelli Mosell')), (13,\n",
       "   (\"Children's Corner, L. 113: II. Jimbo's Lullaby\",\n",
       "    'Antonio Pompa-Baldi')), (14,\n",
       "   (\"Children's Corner, L. 113: 2. Jimbo's lullaby\", 'Jacques Février')), (15,\n",
       "   (\"Children's Corner, L. 113: 2. Jimbo's Lullaby\", 'Nelson Freire')), (16,\n",
       "   ('Debussy - Children’s Corner L. 113 II Jimbo’s Lullaby',\n",
       "    'Baby Classical Songs Orchestra')), (17,\n",
       "   (\"Claude Debussy - Children'S Corner L. 113 2nd Jimbo's Lullaby\",\n",
       "    'Loving Melodies Project')), (18,\n",
       "   (\"Debussy: Children's Corner, CD 119a, L. 113: II. Jimbo's Lullaby\",\n",
       "    'Aldo Ciccolini')), (19,\n",
       "   (\"Debussy: Children's Corner, CD 119, L. 113: II. Jimbo's Lullaby\",\n",
       "    'Samson François')), (20,\n",
       "   (\"Debussy: Children's Corner, CD 119, L. 113: II. Jimbo's Lullaby\",\n",
       "    'Samson François')), (21,\n",
       "   (\"Children's Corner, L. 113: II. Jimbo’s Lullaby\",\n",
       "    'Stany David Lasry')), (22,\n",
       "   (\"Debussy: Children's Corner, CD 119, L. 113: No. 2, Jimbo's Lullaby\",\n",
       "    'Samson François')), (23,\n",
       "   (\"Debussy: Children's Corner, CD 119, L. 113: No. 2, Jimbo's Lullaby\",\n",
       "    'Moura Lympany')), (24,\n",
       "   (\"Children's Corner, L. 113: 2. Jimbo's Lullaby\", 'Pascal Rogé')), (25,\n",
       "   (\"Debussy: Children's Corner, CD 119, L. 113: No. 2, Jimbo's Lullaby\",\n",
       "    'Jean-Bernard Pommier')), (26,\n",
       "   (\"Debussy: Children's Corner, CD 119, L. 113: No. 2, Jimbo's Lullaby\",\n",
       "    'Alfred Cortot')), (27,\n",
       "   (\"Debussy: Children's Corner, CD 119, L. 113: No. 2, Jimbo's Lullaby\",\n",
       "    'Monique Haas')), (28,\n",
       "   (\"Debussy: Children's Corner, CD 119, L. 113: No. 2, Jimbo's Lullaby\",\n",
       "    'Walter Gieseking')), (29,\n",
       "   (\"Debussy: Children's Corner, CD 119, L. 113: No. 2, Jimbo's Lullaby\",\n",
       "    'Arturo Benedetti Michelangeli'))],\n",
       " ('113-3',\n",
       "  'Serenade for the Doll'): [(0,\n",
       "   (\"Children's Corner, L. 113: 3. Serenade For The Doll\",\n",
       "    'Alexis Weissenberg')), (1,\n",
       "   (\"Children's Corner, L. 113: III. Serenade for the Doll\",\n",
       "    'Arturo Benedetti Michelangeli')), (2,\n",
       "   (\"Children's Corner, L. 113: III. Serenade for the Doll\",\n",
       "    'Víkingur Ólafsson')), (3,\n",
       "   (\"Children's Corner, L. 113: III. Serenade for the Doll\",\n",
       "    'Seong-Jin Cho')), (4,\n",
       "   (\"Children's Corner, L. 113: III. Serenade for the Doll\",\n",
       "    'Moura Lympany')), (5,\n",
       "   (\"Children's Corner, L. 113: III. Serenade for the Doll\",\n",
       "    'Peter Schmalfuss')), (6,\n",
       "   (\"Children's Corner, L.113: 3. Serenade For The Doll\", 'Dino Ciani')), (7,\n",
       "   (\"Children's Corner, L. 113: 3. Serenade for the Doll - Live au Festival de musique de Montreux-Vevey / 1988\",\n",
       "    'Nikita Magaloff')), (8,\n",
       "   (\"Debussy: Children's Corner, CD 119, L. 113: No. 3, Serenade for the Doll\",\n",
       "    'Simon Trpčeski')), (9,\n",
       "   (\"Debussy: Children's Corner, CD 119, L. 113: No. 3, Serenade for the Doll\",\n",
       "    'Monique Haas')), (10,\n",
       "   (\"Children's Corner, L. 113: 3. Serenade For the Doll\",\n",
       "    'Pascal Rogé')), (11,\n",
       "   (\"Children's Corner, L.113:111. Serenade for the Doll\",\n",
       "    'Suzannah Bee')), (12,\n",
       "   (\"Children's Corner, L. 113: 3. Serenade for the doll\",\n",
       "    'Jacques Février')), (13,\n",
       "   (\"Children's Corner, L. 113, CD 119: III. Serenade for the Doll\",\n",
       "    'Jean-Efflam Bavouzet')), (14,\n",
       "   (\"Children's Corner, L. 113: III. Serenade for the Doll\",\n",
       "    'Arturo Benedetti Michelangeli')), (15,\n",
       "   (\"Debussy: Children's Corner, CD 119, L. 113: No. 3, Serenade for the Doll\",\n",
       "    'Jean-Bernard Pommier')), (16,\n",
       "   (\"Children's Corner, L. 113: III. Serenade for the Doll\",\n",
       "    'Antonio Pompa-Baldi')), (17,\n",
       "   (\"Children's Corner, L. 113: III. Serenade for the Doll\", 'Peter Rösel'))],\n",
       " ('113-4',\n",
       "  'The Snow Is Dancing'): [(0,\n",
       "   (\"Children's Corner, L. 113: IV. The Snow Is Dancing\",\n",
       "    'Arturo Benedetti Michelangeli')), (1,\n",
       "   (\"Children's Corner, L. 113: IV. The Snow Is Dancing\",\n",
       "    'Víkingur Ólafsson')), (2,\n",
       "   (\"Children's Corner, L. 113: IV. The Snow is Dancing\",\n",
       "    'Seong-Jin Cho')), (3,\n",
       "   (\"Children's Corner, L. 113: IV. The Snow is Dancing\",\n",
       "    'Moura Lympany')), (4,\n",
       "   (\"Children's Corner, L. 113: 4. The Snow Is Dancing\",\n",
       "    'Alexis Weissenberg')), (5,\n",
       "   (\"Children's Corner, L. 113: IV. The Snow is Dancing\",\n",
       "    'Peter Schmalfuss')), (6,\n",
       "   (\"Children's Corner, L. 113: 4. The snow is dancing\",\n",
       "    'Jacques Février')), (7,\n",
       "   (\"Children's Corner, L.113: 4. The Snow Is Dancing\", 'Dino Ciani')), (8,\n",
       "   (\"Children's Corner, L. 113: II. The Snow is Dancing\", 'Martin Jones')), (9,\n",
       "   (\"Children's Corner, L. 113: IV. The Snow Is Dancing\",\n",
       "    'Arturo Benedetti Michelangeli')), (10,\n",
       "   (\"Children's Corner, L. 113: 4. The Snow Is Dancing\", 'Pascal Rogé')), (11,\n",
       "   (\"Children's Corner, L. 113: 4. The Snow Is Dancing\", 'Pascal Rogé')), (12,\n",
       "   (\"Children's Corner, L. 113: IV. The Snow Is Dancing\",\n",
       "    'Arturo Benedetti Michelangeli')), (13,\n",
       "   (\"Debussy: Children's Corner, CD 119, L. 113: No. 4, The Snow Is Dancing\",\n",
       "    'Simon Trpčeski')), (14,\n",
       "   (\"Children's Corner, L. 113: IV. The Snow is Dancing\",\n",
       "    'Moura Lympany')), (15,\n",
       "   (\"Children's Corner, L. 113, CD 119: IV. The snow is dancing\",\n",
       "    'Jean-Efflam Bavouzet')), (16,\n",
       "   (\"Children's Corner, L. 113: IV. The Snow is Dancing\",\n",
       "    'Michael Korstick')), (17,\n",
       "   (\"Children's Corner, L. 113: 4. The Snow is dancing\", 'Werner Haas'))],\n",
       " ('113-5',\n",
       "  'The Little Shepherd'): [(0,\n",
       "   (\"Children's Corner, L. 113: 5. The Little Shepherd\",\n",
       "    'Alexis Weissenberg')), (1,\n",
       "   (\"Children's Corner, L. 113: V. The Little Shepherd\",\n",
       "    'Menahem Pressler')), (2,\n",
       "   (\"Children's Corner, L. 113: V. The Little Shepherd\", 'Seong-Jin Cho')), (3,\n",
       "   (\"Children's Corner, L. 113: 5. The Little Shepherd\", 'Nelson Freire')), (4,\n",
       "   (\"Children's Corner, L. 113: V. The Little Shepherd\", 'Axel Gillison')), (5,\n",
       "   (\"Children's Corner, L. 113: 5. The Little Shepherd - Live au Festival de musique de Montreux-Vevey / 1988\",\n",
       "    'Nikita Magaloff')), (6,\n",
       "   (\"Children's Corner, L. 113: 5. The Little Shepherd\", 'Pascal Rogé')), (7,\n",
       "   (\"Children's Corner, L. 113: 5. The little shepherd\",\n",
       "    'Jacques Février')), (8,\n",
       "   (\"Children's Corner, L. 113: V. The Little Shepherd\",\n",
       "    'Arturo Benedetti Michelangeli')), (9,\n",
       "   (\"Children's Corner, L. 113: V. The Little Shepherd\",\n",
       "    'Michael Korstick')), (10,\n",
       "   (\"Children's Corner, L. 113, CD 119: V. The little Shepherd\",\n",
       "    'Jean-Efflam Bavouzet')), (11,\n",
       "   (\"Debussy: Children's Corner, CD 119, L. 113: No. 5, The Little Shepherd\",\n",
       "    'Simon Trpčeski')), (12,\n",
       "   (\"Children's Corner, L. 113: V. The Little Shepherd\",\n",
       "    'Paavali Jumppanen')), (13,\n",
       "   (\"Children's Corner, L. 113: 5. The Little Shepherd\",\n",
       "    'Vanessa Benelli Mosell')), (14,\n",
       "   (\"Children's Corner, L. 113: V. The Little Shepherd\", 'John Paul Jalwan'))],\n",
       " ('113-6',\n",
       "  \"Golliwogg's Cakewalk\"): [(0,\n",
       "   (\"Children's Corner, L. 113: 6. Golliwogg's Cakewalk\",\n",
       "    'Alexis Weissenberg')), (1,\n",
       "   (\"Children's Corner, L. 113: 6. Golliwogg's Cakewalk\",\n",
       "    'Nelson Freire')), (2,\n",
       "   (\"Children's Corner, L. 113: 6. Golliwogg's Cakewalk\", 'Pascal Rogé')), (3,\n",
       "   (\"Children's Corner, L. 113: 6. Golliwogg's cakewalk\",\n",
       "    'Jacques Février')), (4,\n",
       "   (\"Children's Corner, L. 113: VI. Golliwogg's Cakewalk\",\n",
       "    'Arturo Benedetti Michelangeli')), (5,\n",
       "   (\"Childrens Corner, L. 113: No. 6. Golliwogg's Cakewalk\",\n",
       "    'Andrew Wilde')), (6,\n",
       "   (\"Children's Corner, L. 113: VI. Golliwogg's Cakewalk\",\n",
       "    'John Paul Jalwan')), (7,\n",
       "   (\"Debussy - Children’s Corner L. 113 Debussy VI Golliwogg's Cakewalk\",\n",
       "    'Baby Classical Songs Orchestra')), (8,\n",
       "   (\"Golliwogg's Cakewalk, L113\", 'Softcore Express')), (9,\n",
       "   (\"Children's Corner, L. 113: VI. Golliwogg's Cakewalk\",\n",
       "    'Arturo Benedetti Michelangeli')), (10,\n",
       "   (\"Children's Corner, L. 113: VI. Golliwogg's Cakewalk\",\n",
       "    'Arturo Benedetti Michelangeli')), (11,\n",
       "   (\"Children's Corner, L. 113: VI. Golliwogg's Cakewalk\",\n",
       "    'Arturo Benedetti Michelangeli')), (12,\n",
       "   (\"Children's Corner, L. 113: 6. Golliwogg's Cakewalk\", 'Pascal Rogé')), (13,\n",
       "   (\"Children's Corner, L. 113: VI. Golliwogg’s Cakewalk\", 'Lucy Parham'))],\n",
       " ('111-1',\n",
       "  'Cloches à travers les feuilles'): [(0,\n",
       "   ('Images II, L. 111: I. Cloches à travers les feuilles',\n",
       "    'Seong-Jin Cho')), (1,\n",
       "   ('Images - Book 2, L. 111: 1. Cloches à travers les feuilles',\n",
       "    'Pascal Rogé')), (2,\n",
       "   ('Images, Deuxième série, L. 111: No. 1, Cloches à travers les feuilles',\n",
       "    'Claude Helffer')), (3,\n",
       "   ('Images - Book 2, L. 111: 1. Cloches à travers les feuilles',\n",
       "    'Jean-Yves Thibaudet')), (4,\n",
       "   ('Images - Book 2, L. 111: 1. Cloches à travers les feuilles',\n",
       "    'Pascal Rogé')), (5,\n",
       "   ('Images - Book 2, L. 111: 1. Cloches à travers les feuilles',\n",
       "    'Zoltán Kocsis')), (6,\n",
       "   ('Debussy: Images, Livre II, CD 120, L. 111: No. 1, Cloches à travers les feuilles',\n",
       "    'Simon Trpčeski')), (7,\n",
       "   ('Images, Book 2, L. 111: No. 1. Cloches à travers les feuilles',\n",
       "    'Martin Jacoby')), (8,\n",
       "   ('Images, Book 2, L. 111: No. 1, Cloches á travers les feuilles (Remastered 2021) [Live]',\n",
       "    'Sergio Fiorentino')), (9,\n",
       "   ('Images - Book 2, L. 111: I. Cloches à travers les feuilles',\n",
       "    'Arturo Benedetti Michelangeli')), (10,\n",
       "   ('Images, Deuxième série, L. 111: No. 1, Cloches à travers les feuilles',\n",
       "    'Colette Maze')), (11,\n",
       "   ('Images pour Piano, Set 2, L. 111: I. Cloches à travers les feuilles',\n",
       "    'Noriko Ogawa')), (12,\n",
       "   ('Images - Book 2, L. 111: I. Cloches à travers les feuilles',\n",
       "    'Arturo Benedetti Michelangeli')), (13,\n",
       "   ('Images, Book 2, L. 111: No. 1, Cloches à travers les feuilles',\n",
       "    'Jean Boguet')), (14,\n",
       "   ('Debussy: Images, Livre II, CD 120, L. 111: No. 1, Cloches à travers les feuilles',\n",
       "    'Pierre-Laurent Aimard')), (15,\n",
       "   ('Debussy: Images, Livre II, CD 120, L. 111: No. 1, Cloches à travers les feuilles',\n",
       "    'Aldo Ciccolini')), (16,\n",
       "   ('Images, L. 111: I. Cloches à travers les feuilles', 'Winston Choi')), (17,\n",
       "   ('Images, L. 111: IV. Cloches à travers les feuilles',\n",
       "    'Denis Pascal')), (18,\n",
       "   ('Images #2, L 111 - Cloches À Travers Les Feuilles',\n",
       "    'Adagio Quartet')), (19,\n",
       "   ('Images II, L. 111: I. Cloches à travers les feuilles',\n",
       "    'Seong-Jin Cho')), (20,\n",
       "   ('Images, L. 111: No. 1, Cloches a travers les feuilles',\n",
       "    'Sviatoslav Richter')), (21,\n",
       "   ('Images (Deuxième Série), L. 111: Cloches à travers les feuilles',\n",
       "    'Benedetto Boccuzzi')), (22,\n",
       "   ('Images - Book 2, L. 111: I. Cloches à travers les feuilles',\n",
       "    'Arturo Benedetti Michelangeli')), (23,\n",
       "   ('Images - Book 2, L. 111: I. Cloches à travers les feuilles',\n",
       "    'Arturo Benedetti Michelangeli')), (24,\n",
       "   ('Images - Book 2, L. 111: I. Cloches à travers les feuilles',\n",
       "    'Arturo Benedetti Michelangeli')), (25,\n",
       "   ('Images - Book 2, L. 111: 1. Cloches à travers les feuilles',\n",
       "    'Claudio Arrau')), (26,\n",
       "   ('Images - Book 2, L. 111: I. Cloches à travers les feuilles',\n",
       "    'Arturo Benedetti Michelangeli')), (27,\n",
       "   ('Images, 2e série, L. 111: I. Cloches à travers les feuilles',\n",
       "    'Véronique Bonnecaze')), (28,\n",
       "   ('Images - Book 2, L. 111: I. Cloches à travers les feuilles',\n",
       "    'Arturo Benedetti Michelangeli'))],\n",
       " ('111-2',\n",
       "  'Et la lune descend sur le temple qui fût'): [(0,\n",
       "   ('Images II, L. 111: II. Et la lune descend sur le temple qui fut',\n",
       "    'Seong-Jin Cho')), (1,\n",
       "   ('Images - Book 2, L. 111: II. Et la lune descend sur le temple qui fût',\n",
       "    'Arturo Benedetti Michelangeli')), (2,\n",
       "   ('Images, (Deuxième Série), L. 111: II. Et la lune descend sur le temple qui fut',\n",
       "    'Axel Gillison')), (3,\n",
       "   ('Images, Deuxième série, L. 111: No. 2, Et la lune descend sur le temple qui fut',\n",
       "    'Claude Helffer')), (4,\n",
       "   ('Images, Set 2, L. 111: et la Lune descend sur le Temple qui fut',\n",
       "    'Martin Jones')), (5,\n",
       "   ('Images - Book 2, L. 111: 2. Et la lune descend sur le temple qui fût',\n",
       "    'Pascal Rogé')), (6,\n",
       "   ('Images - Book 2, L. 111: 2. Et la lune descend sur le temple qui fût',\n",
       "    'Zoltán Kocsis')), (7,\n",
       "   ('Images, Book 2, L. 111: No. 2. Et la lune descend sur le temple qui fût',\n",
       "    'Martin Jacoby')), (8,\n",
       "   ('Images - Book 2, L. 111: II. Et la lune descend sur le temple qui fût',\n",
       "    'Arturo Benedetti Michelangeli')), (9,\n",
       "   ('Debussy: Images, Livre II, CD 120, L. 111: No. 2, Et la lune descend sur le temple qui fut',\n",
       "    'Simon Trpčeski')), (10,\n",
       "   ('Images, Book 2, L. 111: No. 2, Et la lune descend sur le temple qui fut (Remastered 2021) [Live]',\n",
       "    'Sergio Fiorentino')), (11,\n",
       "   ('Images - Book 2, L. 111: 2. Et la lune descend sur le temple qui fût',\n",
       "    'Roberto Cominati')), (12,\n",
       "   ('Images - Book 2, L. 111: II. Et la lune descend sur le temple qui fût',\n",
       "    'Arturo Benedetti Michelangeli')), (13,\n",
       "   ('Images - Book 2, L. 111: II. Et la lune descend sur le temple qui fût',\n",
       "    'Arturo Benedetti Michelangeli')), (14,\n",
       "   ('Images - Book 2, L. 111: 2. Et la lune descend sur le temple qui fût',\n",
       "    'Jean-Yves Thibaudet')), (15,\n",
       "   ('Images, Deuxième série, L. 111: No. 2, Et la lune descend sur le temple qui fût',\n",
       "    'Colette Maze')), (16,\n",
       "   ('Images, Book 2, L. 111: No. 2, Et la lune descend sur le temple qui fut',\n",
       "    'Ivan Moravec')), (17,\n",
       "   ('Debussy: Images, Livre II, CD 120, L. 111: No. 2, Et la lune descend sur le temple qui fut',\n",
       "    'Pierre-Laurent Aimard')), (18,\n",
       "   ('Images, L. 111: V. Et la lune descend sur le temple qui fut',\n",
       "    'Denis Pascal')), (19,\n",
       "   ('Images, L. 111: II. Et la lune descend sur le temple qui fut',\n",
       "    'Winston Choi')), (20,\n",
       "   ('Images, L. 111: II. Et la lune descend sur le temple qui fut',\n",
       "    'Hal Freedman')), (21,\n",
       "   ('Images (Deuxième Série), L. 111: Et la lune descend sur le temple qui fut',\n",
       "    'Benedetto Boccuzzi'))],\n",
       " ('111-3',\n",
       "  \"Poissons d'or\"): [(0,\n",
       "   (\"Images II, L. 111: III. Poissons d'or\", 'Seong-Jin Cho')), (1,\n",
       "   (\"Images - Book 2, L. 111: 3. Poissons d'or\", 'Pascal Rogé')), (2,\n",
       "   (\"Images, Livre II, L. 111: Images, Livre II, L. 111: II. Poissons d'or\",\n",
       "    'Alain Planès')), (3,\n",
       "   (\"Images, Book 2, L. 111: No. 3. Poissons d'or\", 'Michael Korstick')), (4,\n",
       "   (\"Images - Book 2, L. 111: 3. Poissons d'or\", 'Zoltán Kocsis')), (5,\n",
       "   (\"Debussy: Images, Livre II, CD 120, L. 111: No. 3, Poissons d'or\",\n",
       "    'Simon Trpčeski')), (6,\n",
       "   (\"Images, Book 2, L. 111: No. 3. Poissons d'or\", 'Martin Jacoby')), (7,\n",
       "   (\"Images, Book 2, L. 111: No. 3, Poissons d'or (Remastered 2021) [Live]\",\n",
       "    'Sergio Fiorentino')), (8,\n",
       "   (\"Images - Book 2, L. 111: III. Poissons d'or\",\n",
       "    'Arturo Benedetti Michelangeli')), (9,\n",
       "   (\"Debussy: Images, Livre II, CD 120, L. 111: No. 3, Poissons d'or\",\n",
       "    'Pierre-Laurent Aimard')), (10,\n",
       "   (\"Images, Book 2, L. 111: No. 3, Poissons d'or\", 'Cecile Ousset')), (11,\n",
       "   (\"Images, Deuxième série, L. 111: No. 3, Poissons d'or\",\n",
       "    'Colette Maze')), (12,\n",
       "   (\"Images - Book 2, L. 111: 3. Poissons d'or\", 'Jean-Yves Thibaudet')), (13,\n",
       "   (\"Images - Book 2, L. 111: 3. Poissons d'or\", 'Claudio Arrau')), (14,\n",
       "   (\"Images - Book 2, L. 111: VI. Poissons d'or (Animé)\",\n",
       "    'Arturo Benedetti Michelangeli')), (15,\n",
       "   (\"Images - Book 2, L. 111: III. Poissons d'or\",\n",
       "    'Arturo Benedetti Michelangeli')), (16,\n",
       "   ('Images, 2ème série, L. 111: III. Poissons d’or',\n",
       "    'Stany David Lasry')), (17,\n",
       "   ('Image Series II, L. 111: III. Poissons d’or', 'Alexandra Silocea')), (18,\n",
       "   ('Images, Set 2, L. 111: III. Poissons d’or', 'Lucy Parham')), (19,\n",
       "   ('Images, Book No. 2, L. 111: III. Poissons d’or', 'Yvonne Lefébure')), (20,\n",
       "   (\"Claude Debussy: Images, Set II, L.111. Poissons d'or\",\n",
       "    'Svetozar Ivanov')), (21,\n",
       "   (\"Images, L. 111: III. Poissons d'or\", 'Winston Choi')), (22,\n",
       "   (\"Debussy: Images, Livre II, CD 120, L. 111: No. 3, Poissons d'or\",\n",
       "    'Aldo Ciccolini')), (23,\n",
       "   (\"Debussy: Images, Livre II, CD 120, L. 111: No. 3, Poissons d'or\",\n",
       "    'Arturo Benedetti Michelangeli')), (24,\n",
       "   (\"Debussy: Images, Livre II, CD 120, L. 111: No. 3, Poissons d'or\",\n",
       "    'Pierre-Laurent Aimard')), (25,\n",
       "   (\"Debussy: Images, Livre II, CD 120, L. 111: No. 3, Poissons d'or\",\n",
       "    'Pierre-Laurent Aimard')), (26,\n",
       "   (\"Debussy: Images, Livre II, CD 120, L. 111: No. 3, Poissons d'or\",\n",
       "    'Walter Gieseking')), (27,\n",
       "   (\"Debussy: Images, Livre II, CD 120, L. 111: No. 3, Poissons d'or\",\n",
       "    'Samson François')), (28,\n",
       "   (\"Debussy: Images, Livre II, CD 120, L. 111: No. 3, Poissons d'or\",\n",
       "    'Monique Haas')), (29,\n",
       "   (\"Debussy: Images, Livre II, CD 120, L. 111: No. 3, Poissons d'or\",\n",
       "    'Samson François')), (30,\n",
       "   (\"Debussy: Images, Livre II, CD 120, L. 111: No. 3, Poissons d'or\",\n",
       "    'Alexander Gurning')), (31,\n",
       "   (\"Images, 2è livre, L. 111: Poissons d'or\", 'Dana Ciocarlie')), (32,\n",
       "   (\"Images, L. 111: No. 3, Poissons d'or\", 'Carlo Zecchi')), (33,\n",
       "   (\"Images (Deuxième Série), L. 111: Poissons d'or\",\n",
       "    'Benedetto Boccuzzi')), (34,\n",
       "   (\"Images, 2e série, L. 111: III. Poissons d'or\",\n",
       "    'Véronique Bonnecaze')), (35,\n",
       "   (\"Images, Book 2, L. 111: III. Poissons d'or\", 'Peter Frankl')), (36,\n",
       "   (\"Images - Book 2, L. 111: 3. Poissons d'or\", 'Roberto Cominati')), (37,\n",
       "   (\"Images, Livre II, L. 111: III. Poissons d'or\", 'Juliana Steinbach'))],\n",
       " ('114', 'Le petit nègre'): [(0, ('Le petit nègre, L. 114', 'Werner Haas')),\n",
       "  (1, ('Le petit nègre, L. 114', 'Jacopo Salvatori')),\n",
       "  (2, ('Le petit nègre, L. 114', 'Jean Boguet')),\n",
       "  (3, ('Le petit nègre, L. 114', 'Werner Haas')),\n",
       "  (4, ('Debussy - Le Petit Nègre L. 114', 'Classically Positive Project')),\n",
       "  (5, ('Debussy - Le Petit Nègre L. 114', 'Baby Classical Songs Orchestra')),\n",
       "  (6, ('Claude Debussy - Le petit Nègre L. 114', 'Loving Melodies Project')),\n",
       "  (7, ('Le petit nègre, L.114: Le petit nègre', 'Daniel Ericourt')),\n",
       "  (8, ('Le petit nègre, L.114', 'Jean-Yves Thibaudet')),\n",
       "  (9, ('Le petit nègre, L.114', 'Jean-Yves Thibaudet')),\n",
       "  (10, ('Debussy: Le petit nègre, CD 122, L. 114', 'Aldo Ciccolini')),\n",
       "  (11, ('Debussy: Le petit nègre, CD 122, L. 114', 'Aldo Ciccolini')),\n",
       "  (12, ('Debussy: Le petit nègre, CD 122, L. 114', 'Walter Gieseking')),\n",
       "  (13, ('Debussy: Le petit nègre, CD 122, L. 114', 'Georges Pludermacher')),\n",
       "  (14, ('Debussy: Le petit nègre, CD 122, L. 114', 'Monique Haas')),\n",
       "  (15, ('Le petit nègre, L. 114', 'Alain Planès')),\n",
       "  (16, ('Le petit nègre, L 114', 'Noriko Ogawa')),\n",
       "  (17, ('Le petit nègre (L. 114)', 'Berlin Saxophone Quartet')),\n",
       "  (18, ('Le petit nègre (L. 114)', 'Zoltán Kocsis')),\n",
       "  (19, ('Le petit nègre (L. 114)', 'Zoltán Kocsis')),\n",
       "  (20, ('Le petit nègre, L.114', 'Jean-Yves Thibaudet')),\n",
       "  (21, ('Le petit nègre, L. 114', 'Peter Frankl'))],\n",
       " ('115',\n",
       "  'Hommage à Joseph Haydn'): [(0,\n",
       "   ('Hommage à Joseph Haydn, L. 115', 'Noriko Ogawa')), (1,\n",
       "   ('Hommage à Joseph Haydn, L 115', 'Martino Tirimo')), (2,\n",
       "   ('Hommage À Joseph Haydn, L 115 (MouV.T De Valse Lente) (Debussy)',\n",
       "    'Jean-Pierre Armengaud')), (3,\n",
       "   ('Hommage à Joseph Haydn, L. 115', 'Peter Frankl')), (4,\n",
       "   ('Hommage À Joseph Haydn, L 115', 'David Ezra Okonsar')), (5,\n",
       "   ('Hommage à Joseph Haydn, L. 115 (Encore)', 'Sviatoslav Richter'))],\n",
       " ('117-1',\n",
       "  'Danseuses de Delphes'): [(0,\n",
       "   ('Préludes / Book 1, L. 117: I. Danseuses de Delphes',\n",
       "    'Arturo Benedetti Michelangeli')), (1,\n",
       "   ('Préludes / Book 1, L. 117: 1. Danseuses de Delphes',\n",
       "    'Daniel Barenboim')), (2,\n",
       "   ('Préludes / Book 1, L. 117: I. Danseuses de Delphes',\n",
       "    'Menahem Pressler')), (3,\n",
       "   ('Préludes / Book 1, L. 117: I. Danseuses de Delphes', 'Monique Haas')), (4,\n",
       "   ('Préludes / Book 1, L.117: 1. Danseuses de Delphes', 'Zoltán Kocsis')), (5,\n",
       "   ('Préludes / Book 1, L.117: 1. Danseuses de Delphes',\n",
       "    'Philippe Cassard')), (6,\n",
       "   ('Préludes, Book I, L. 117: I. Danseuses de delphes', 'Axel Gillison')), (7,\n",
       "   ('Préludes / Book 1, L.117: 1. Danseuses de Delphes',\n",
       "    'Jean-Yves Thibaudet')), (8,\n",
       "   ('Preludes, Book I, L. 117: No. 1: Danseuses des delphes',\n",
       "    'Rogerio Tutti')), (9,\n",
       "   ('Préludes / Book 1, L.117: 1. Danseuses de Delphes',\n",
       "    'Pierre-Laurent Aimard')), (10,\n",
       "   ('Préludes / Book 1, L. 117: 1. Danseuses de Delphes', 'Pascal Rogé')), (11,\n",
       "   ('Préludes, Book I, L. 117: I. Danseuses de delphes',\n",
       "    'Axel Gillison')), (12,\n",
       "   ('Préludes / Book 1, L.117: 1. Danseuses de Delphes - Live',\n",
       "    'Krystian Zimerman')), (13,\n",
       "   ('Préludes / Book 1, L.117: 1. Danseuses de Delphes',\n",
       "    'Claudio Arrau')), (14,\n",
       "   ('Préludes / Book 1, L. 117: I. Danseuses de Delphes',\n",
       "    'Arturo Benedetti Michelangeli')), (15,\n",
       "   ('Préludes / Book 1, L.117: 1. Danseuses de Delphes',\n",
       "    'Maurizio Pollini')), (16,\n",
       "   ('Préludes, Book 1, L. 117: No. 1, Danseuses de Delphes',\n",
       "    'Vladimir Ashkenazy')), (17,\n",
       "   ('Préludes, Book I, L. 117: I. Danseuses de delphes',\n",
       "    'Axel Gillison')), (18,\n",
       "   ('Debussy: Préludes, Livre I, CD 125, L. 117: No. 1, Danseuses de Delphes',\n",
       "    'Youri Egorov')), (19,\n",
       "   ('Debussy: Preludes, Book 1, L. 117: I. Danseuses de Delphes',\n",
       "    'Fazıl Say')), (20,\n",
       "   ('Préludes / Book 1, L. 117: I. Danseuses de Delphes',\n",
       "    'Arturo Benedetti Michelangeli')), (21,\n",
       "   ('Préludes / Book 1, L.117: 1. Danseuses de Delphes',\n",
       "    'Zoltán Kocsis')), (22,\n",
       "   ('Préludes / Book 1, L.117: Danseuses de Delphes', 'Jean-Joël Barbier'))],\n",
       " ('117-10',\n",
       "  'La cathédrale engloutie'): [(0,\n",
       "   ('Préludes / Book 1, L. 117: 10. La cathédrale engloutie',\n",
       "    'Pascal Rogé')), (1,\n",
       "   ('Préludes / Book 1, L. 117: 10. La cathédrale engloutie',\n",
       "    'Daniel Barenboim')), (2,\n",
       "   ('Préludes / Book 1, L. 117: X. La cathédrale engloutie',\n",
       "    'Monique Haas')), (3,\n",
       "   ('Préludes / Book 1, L. 117: X. La cathédrale engloutie',\n",
       "    'Menahem Pressler')), (4,\n",
       "   ('Préludes / Book 1, L. 117: No. 10 La cathédrale engloutie',\n",
       "    'Hélène Grimaud')), (5,\n",
       "   ('Préludes / Book 1, L.117: 10. La cathédrale engloutie',\n",
       "    'Philippe Cassard')), (6,\n",
       "   ('Préludes, Book I, L. 117: X. La Cathédrale engloutie (Profondément calme)',\n",
       "    'Noriko Ogawa')), (7,\n",
       "   ('Préludes Book 1, L. 117: III. La Cathedrale Engloutie',\n",
       "    'Martin Jones')), (8,\n",
       "   ('Préludes / Book 1, L.117: 10. La cathédrale engloutie',\n",
       "    'Pierre-Laurent Aimard')), (9,\n",
       "   ('Préludes / Book 1, L. 117: 10. La cathédrale engloutie',\n",
       "    'Pascal Rogé')), (10,\n",
       "   ('Preludes, L. 117, Book I: X. La cathédrale engloutie',\n",
       "    'Francesco Piemontesi')), (11,\n",
       "   ('Préludes Book I, L. 117: X. La Cathédrale engloutie',\n",
       "    'Henrik Måwe')), (12,\n",
       "   ('Préludes / Book 1, L.117: 10. La cathédrale engloutie - Live',\n",
       "    'Krystian Zimerman')), (13,\n",
       "   ('Préludes / Book 1, L.117: 10. La cathédrale engloutie',\n",
       "    'Dino Ciani')), (14,\n",
       "   ('Préludes / Book 1, L. 117: X. La cathédrale engloutie',\n",
       "    'Arturo Benedetti Michelangeli')), (15,\n",
       "   ('Préludes, Book I, L. 117: X. La Cathédrale engloutie',\n",
       "    'Peter Schmalfuss')), (16,\n",
       "   ('Préludes, Book 1, L. 117: No. 10, La cathédrale engloutie',\n",
       "    'Vladimir Ashkenazy')), (17,\n",
       "   ('Préludes / Book 1, L. 117: No. 10 La cathédrale engloutie',\n",
       "    'Hélène Grimaud')), (18,\n",
       "   ('Préludes, Book 1, L. 117: No. 10, La cathédrale engloutie',\n",
       "    'Paul Crossley')), (19,\n",
       "   ('Préludes, Book 1, L. 117 (Excerpts): No. 10, La cathédrale engloutie',\n",
       "    'Jorge Federico Osorio')), (20,\n",
       "   ('Préludes / Book 1, L.117: 10. La cathédrale engloutie',\n",
       "    'Jean-Yves Thibaudet')), (21,\n",
       "   ('Debussy: Préludes / Livre 1, L. 117 - 沈める寺', 'Fujiko Hemming')), (22,\n",
       "   ('Debussy: Preludes, Book 1, L. 117: X. La cathédrale engloutie',\n",
       "    'Fazıl Say')), (23,\n",
       "   ('Préludes / Book 1, L. 117: X. La cathédrale engloutie',\n",
       "    'Arturo Benedetti Michelangeli')), (24,\n",
       "   ('Préludes / Book 1, L.117: 10. La cathédrale engloutie',\n",
       "    'Claudio Arrau')), (25,\n",
       "   ('Préludes / Book 1, L.117: 10. La cathédrale engloutie',\n",
       "    'Maurizio Pollini')), (26,\n",
       "   ('Préludes / Book 1, L.117: 10. La cathédrale engloutie',\n",
       "    'Claudio Arrau')), (27,\n",
       "   ('Préludes / Book 1, L.117: 10. La cathédrale engloutie',\n",
       "    'Nelson Freire')), (28,\n",
       "   ('Préludes / Book 1, L. 117: No. 10 La cathédrale engloutie',\n",
       "    'Hélène Grimaud')), (29,\n",
       "   ('Debussy: Préludes, Livre I, CD 125, L. 117: No. 10, La cathédrale engloutie',\n",
       "    'Youri Egorov'))],\n",
       " ('117-2',\n",
       "  'Voiles'): [(0,\n",
       "   ('Préludes / Book 1, L. 117: II. Voiles', 'Menahem Pressler')), (1,\n",
       "   ('Préludes / Book 1, L. 117: 2. Voiles', 'Pascal Rogé')), (2,\n",
       "   ('Préludes / Book 1, L. 117: 2. Voiles', 'Daniel Barenboim')), (3,\n",
       "   ('Préludes / Book 1, L. 117: II. Voiles', 'Monique Haas')), (4,\n",
       "   ('Préludes / Book 1, L.117: 2. Voiles', 'Philippe Cassard')), (5,\n",
       "   ('Debussy: Preludes, Book 1, L. 117: II. Voiles', 'Fazıl Say')), (6,\n",
       "   ('Préludes / Book 1, L.117: 2. Voiles', 'Pierre-Laurent Aimard')), (7,\n",
       "   ('Préludes / Book 1, L. 117: 2. Voiles', 'Pascal Rogé')), (8,\n",
       "   ('Préludes / Book 1, L. 117: II. Voiles',\n",
       "    'Arturo Benedetti Michelangeli')), (9,\n",
       "   ('Préludes / Book 1, L.117: 2. Voiles - Live', 'Krystian Zimerman')), (10,\n",
       "   ('Préludes / Book 1, L.117: 2. Voiles', 'Jean-Yves Thibaudet')), (11,\n",
       "   ('Préludes, Book 1, L. 117 (Excerpts): No. 2, Voiles',\n",
       "    'Jorge Federico Osorio')), (12,\n",
       "   ('Debussy: Préludes, Livre I, CD 125, L. 117: No. 2, Voiles',\n",
       "    'Youri Egorov')), (13,\n",
       "   ('Préludes / Book 1, L.117: 2. Voiles', 'Claudio Arrau')), (14,\n",
       "   ('Préludes / Book 1, L.117: 2. Voiles', 'Dino Ciani')), (15,\n",
       "   ('Préludes, Book 1, L. 117: No. 2, Voiles', 'Vladimir Ashkenazy')), (16,\n",
       "   ('Debussy: Préludes / Book 1, L. 117: 2. Voiles',\n",
       "    'Arturo Benedetti Michelangeli')), (17,\n",
       "   ('Debussy: Préludes, Livre I, CD 125, L. 117: No. 2, Voiles',\n",
       "    'Walter Gieseking')), (18,\n",
       "   ('Préludes / Book 1, L.117: 2. Voiles', 'Jean-Yves Thibaudet')), (19,\n",
       "   ('Préludes / Book 1, L.117: 2. Voiles', 'Maurizio Pollini')), (20,\n",
       "   ('Préludes / Book 1, L.117: 2. Voiles', 'Nelson Freire')), (21,\n",
       "   ('Préludes, Premier Livre, L. 117: No. 2, Voiles', 'Leonardo Zunica')), (22,\n",
       "   ('Préludes, première livre, L. 117: No. 2, Voiles',\n",
       "    'Christopher Howell')), (23,\n",
       "   ('Debussy: Préludes, Livre I, CD 125, L. 117: No. 2, Voiles',\n",
       "    'Walter Gieseking')), (24,\n",
       "   ('Debussy: Préludes, Livre I, CD 125, L. 117: No. 2, Voiles',\n",
       "    'Samson François')), (25,\n",
       "   ('Debussy: Préludes, Livre I, CD 125, L. 117: No. 2, Voiles',\n",
       "    'Samson François')), (26,\n",
       "   ('Debussy: Préludes, Livre I, CD 125, L. 117: No. 2, Voiles',\n",
       "    'Michel Béroff')), (27,\n",
       "   ('Debussy: Préludes, Livre I, CD 125, L. 117: No. 2, Voiles',\n",
       "    'Alexander Gurning')), (28,\n",
       "   ('Debussy: Préludes, Livre I, CD 125, L. 117: No. 2, Voiles',\n",
       "    'Walter Gieseking')), (29,\n",
       "   ('Debussy: Préludes, Livre I, CD 125, L. 117: No. 2, Voiles',\n",
       "    'Alfred Cortot')), (30,\n",
       "   ('Debussy: Préludes, Livre I, CD 125, L. 117: No. 2, Voiles',\n",
       "    'Monique Haas'))],\n",
       " ('117-3',\n",
       "  'Le vent dans la plaine'): [(0,\n",
       "   ('Préludes / Book 1, L. 117: 3. Le vent dans la plaine',\n",
       "    'Daniel Barenboim')), (1,\n",
       "   ('Préludes / Book 1, L. 117: III. Le vent dans la plaine',\n",
       "    'Monique Haas')), (2,\n",
       "   ('Préludes / Book 1, L.117: 3. Le vent dans la plaine',\n",
       "    'Jean-Yves Thibaudet')), (3,\n",
       "   ('Préludes / Book 1, L.117: 3. Le vent dans la plaine',\n",
       "    'Jacques Février')), (4,\n",
       "   ('Préludes, Book I, L. 117: III. Le vent dans la plaine: Animé',\n",
       "    'Noriko Ogawa')), (5,\n",
       "   ('Préludes / Book 1, L.117: 3. Le vent dans la plaine',\n",
       "    'Pierre-Laurent Aimard')), (6,\n",
       "   ('Préludes / Book 1, L. 117: 3. Le vent dans la plaine',\n",
       "    'Pascal Rogé')), (7,\n",
       "   ('Debussy: Préludes, Livre I, CD 125, L. 117: No. 3, Le vent dans la plaine',\n",
       "    'Youri Egorov')), (8,\n",
       "   ('Préludes / Book 1, L.117: 3. Le vent dans la plaine - Live',\n",
       "    'Krystian Zimerman')), (9,\n",
       "   ('Préludes / Book 1, L. 117: III. Le vent dans la plaine',\n",
       "    'Arturo Benedetti Michelangeli')), (10,\n",
       "   ('Préludes / Book 1, L.117: 3. Le vent dans la plaine',\n",
       "    'Sviatoslav Richter')), (11,\n",
       "   ('Debussy: Preludes, Book 1, L. 117: III. Le vent dans la plaine',\n",
       "    'Fazıl Say')), (12,\n",
       "   ('Préludes, Book 1, L. 117: No. 3, Le vent dans la plaine',\n",
       "    'Vladimir Ashkenazy')), (13,\n",
       "   ('Préludes / Book 1, L.117: 3. Le vent dans la plaine',\n",
       "    'Maurizio Pollini')), (14,\n",
       "   ('Préludes / Book 1, L.117: 3. Le vent dans la plaine',\n",
       "    'Claudio Arrau')), (15,\n",
       "   ('Préludes / Book 1, L.117: 3. Le vent dans la plaine',\n",
       "    'Nelson Freire')), (16,\n",
       "   ('Préludes, première livre, L. 117: No. 3, Le vent dans la plaine',\n",
       "    'Christopher Howell')), (17,\n",
       "   ('Préludes, Premier Livre, L. 117: No. 3, Le vent dans la plaine',\n",
       "    'Leonardo Zunica')), (18,\n",
       "   ('Préludes / Book 1, L.117: Le vent dans la plaine',\n",
       "    'Alexei Lubimov')), (19,\n",
       "   ('Préludes, L. 117: No. 3, Le vent dans la plaine', 'Lori Sims')), (20,\n",
       "   ('Préludes / Book 1, L. 117: III. Le vent dans la plaine',\n",
       "    'Arturo Benedetti Michelangeli'))],\n",
       " ('117-5',\n",
       "  \"Les collines d'Anacapri\"): [(0,\n",
       "   (\"Préludes / Book 1, L. 117: V. Les collines d'Anacapri\",\n",
       "    'Monique Haas')), (1,\n",
       "   (\"Préludes / Book 1, L. 117: V. Les collines d'Anacapri\",\n",
       "    'Arturo Benedetti Michelangeli')), (2,\n",
       "   (\"Préludes / Book 1, L. 117: 5. Les collines d'Anacapri\",\n",
       "    'Daniel Barenboim')), (3,\n",
       "   (\"Préludes / Book 1, L.117: 5. Les collines d'Anacapri\",\n",
       "    'Jacques Février')), (4,\n",
       "   (\"Debussy: Preludes, Book 1, L. 117: V. Les collines d'Anacapri\",\n",
       "    'Fazıl Say')), (5,\n",
       "   (\"Préludes / Book 1, L. 117 - Arr. Dan Golding: Les collines d'Anacapri\",\n",
       "    'Dan Golding')), (6,\n",
       "   (\"Préludes / Book 1, L.117: 5. Les collines d'Anacapri\",\n",
       "    'Pierre-Laurent Aimard')), (7,\n",
       "   (\"Préludes / Book 1, L. 117 - Arr. Dan Golding: Les collines d'Anacapri (Do The Washing)\",\n",
       "    'Dan Golding')), (8,\n",
       "   (\"Préludes / Book 1, L. 117: 5. Les collines d'Anacapri\",\n",
       "    'Pascal Rogé')), (9,\n",
       "   (\"Préludes, Book 1, L. 117 (Excerpts): No. 5, Les collines d'Anacapri\",\n",
       "    'Jorge Federico Osorio')), (10,\n",
       "   (\"Préludes / Book 1, L.117: 5. Les collines d'Anacapri - Live\",\n",
       "    'Krystian Zimerman')), (11,\n",
       "   (\"Préludes / Book 1, L. 117: V. Les collines d'Anacapri\",\n",
       "    'Arturo Benedetti Michelangeli')), (12,\n",
       "   (\"Préludes / Book 1, L.117: 5. Les collines d'Anacapri\",\n",
       "    'Jean-Yves Thibaudet')), (13,\n",
       "   (\"Préludes, Book 1, L. 117: No. 5, Les collines d'Anacapri\",\n",
       "    'Vladimir Ashkenazy')), (14,\n",
       "   (\"Préludes / Book 1, L.117: 5. Les collines d'Anacapri\",\n",
       "    'Maurizio Pollini')), (15,\n",
       "   (\"Préludes / Book 1, L. 117: V. Les collines d'Anacapri\",\n",
       "    'Arturo Benedetti Michelangeli')), (16,\n",
       "   (\"Préludes, Premier Livre, L. 117: No. 5, Les collines d'Anacapri\",\n",
       "    'Leonardo Zunica')), (17,\n",
       "   (\"Préludes, première livre, L. 117: No. 5, Les collines d'Anacapri\",\n",
       "    'Christopher Howell')), (18,\n",
       "   (\"Préludes, Book 1, L. 117: No. 5, Les collines d'Anacapri\",\n",
       "    'Yukio Yokoyama')), (19,\n",
       "   (\"Préludes / Book 1, L.117: 5. Les collines d'Anacapri\",\n",
       "    'Claudio Arrau')), (20,\n",
       "   (\"Préludes / Book 1, L.117: 5. Les collines d'Anacapri\",\n",
       "    'Nelson Freire')), (21,\n",
       "   ('Préludes I, L.117, L.117: Les collines d’Anacapri - Live',\n",
       "    'Liebrecht Vanbeckevoort')), (22,\n",
       "   ('Préludes, Livre I, L. 117: V. (... Les collines d’Anacapri)',\n",
       "    'Stany David Lasry')), (23,\n",
       "   ('Préludes, Book 1, L. 117: V. Les collines d’Anacapri',\n",
       "    'Angela Brownridge')), (24,\n",
       "   ('Préludes, Premier livre, L. 117: No. 5, Les collines d‘Anacapri. Très modéré',\n",
       "    'Julia Bartha')), (25,\n",
       "   (\"Préludes / Book 1, L.117: Les collines d'Anacapri\",\n",
       "    'Jean-Joël Barbier')), (26,\n",
       "   ('Préludes, Book I, L. 117: V. Les collines d´Anacapri: Très Modéré',\n",
       "    'Noriko Ogawa')), (27,\n",
       "   (\"Debussy: Préludes, Livre I, CD 125, L. 117: No. 5, Les collines d'Anacapri\",\n",
       "    'Samson François')), (28,\n",
       "   (\"Debussy: Préludes, Livre I, CD 125, L. 117: No. 5, Les collines d'Anacapri\",\n",
       "    'Youri Egorov')), (29,\n",
       "   (\"Debussy: Préludes, Livre I, CD 125, L. 117: No. 5, Les collines d'Anacapri\",\n",
       "    'Walter Gieseking')), (30,\n",
       "   (\"Debussy: Préludes, Livre I, CD 125, L. 117: No. 5, Les collines d'Anacapri\",\n",
       "    'Michel Béroff'))],\n",
       " ('117-6',\n",
       "  'Des pas sur la neige'): [(0,\n",
       "   ('Préludes / Book 1, L. 117: VI. Des pas sur la neige',\n",
       "    'Arturo Benedetti Michelangeli')), (1,\n",
       "   ('Préludes / Book 1, L. 117: VI. Des pas sur la neige',\n",
       "    'Víkingur Ólafsson')), (2,\n",
       "   ('Préludes / Book 1, L. 117: 6. Des pas sur la neige',\n",
       "    'Daniel Barenboim')), (3,\n",
       "   ('Préludes / Book 1, L. 117: VI. Des pas sur la neige',\n",
       "    'Monique Haas')), (4,\n",
       "   ('Préludes / Book 1, L.117: 6. Des pas sur la neige',\n",
       "    'Philippe Cassard')), (5,\n",
       "   ('Préludes / Book 1, L. 117: 6. Des pas sur la neige',\n",
       "    'Jean-Rodolphe Kars')), (6,\n",
       "   ('Préludes, Book I, L. 117: VI. Des pas sur la neige',\n",
       "    'Axel Gillison')), (7,\n",
       "   ('Préludes, Book 1, L. 117: No. 6, Des pas sur la neige',\n",
       "    'Paavali Jumppanen')), (8,\n",
       "   ('Préludes Book 1, L. 117: I. Des Pas sur La Neige', 'Martin Jones')), (9,\n",
       "   ('Préludes / Book 1, L.117: 6. Des pas sur la neige',\n",
       "    'Pierre-Laurent Aimard')), (10,\n",
       "   ('Préludes / Book 1, L. 117: 6. Des pas sur la neige', 'Pascal Rogé')), (11,\n",
       "   ('Préludes, Book I, L. 117: VI. Des pas sur la neige',\n",
       "    'Axel Gillison')), (12,\n",
       "   ('Préludes, Book 1, L. 117: Preludes, Book 1: No. 6. Des pas sur la neige',\n",
       "    'Larissa Dedova')), (13,\n",
       "   ('Preludes, L. 117, Book I: VI. Des pas sur la neige',\n",
       "    'Francesco Piemontesi')), (14,\n",
       "   ('Préludes Book 1, L. 117: VI. Des pas sur la neige (Footsteps in the Snow)',\n",
       "    'Youri Egorov')), (15,\n",
       "   ('Préludes / Book 1, L. 117: 6. Des pas sur la neige', 'Pascal Rogé')), (16,\n",
       "   ('Debussy: Preludes, Book 1, L. 117: VI. Des pas sur la neige',\n",
       "    'Fazıl Say')), (17,\n",
       "   ('Préludes, Book 1, L. 117: VI. Des pas sur la neige',\n",
       "    'Youri Egorov')), (18,\n",
       "   ('Préludes / Book 1, L.117: 6. Des pas sur la neige - Live',\n",
       "    'Krystian Zimerman')), (19,\n",
       "   ('Préludes / Book 1, L. 117: VI. Des pas sur la neige',\n",
       "    'Arturo Benedetti Michelangeli')), (20,\n",
       "   ('Préludes / Book 1, L.117: 6. Des pas sur la neige',\n",
       "    'Maurizio Pollini')), (21,\n",
       "   ('Préludes / Book 1, L.117: 6. Des pas sur la neige',\n",
       "    'Jean-Yves Thibaudet')), (22,\n",
       "   ('Préludes, Book 1, L. 117: No. 6, Des pas sur la neige',\n",
       "    'Vladimir Ashkenazy')), (23,\n",
       "   ('Préludes / Book 1, L. 117: VI. Des pas sur la neige',\n",
       "    'Arturo Benedetti Michelangeli')), (24,\n",
       "   ('Préludes / Book 1, L.117: 6. Des pas sur la neige', 'Nelson Freire'))],\n",
       " ('117-7',\n",
       "  \"Ce qu'a vu le vent d'ouest\"): [(0,\n",
       "   (\"Préludes / Book 1, L.117: 7. Ce qu'a vu le vent d'ouest\",\n",
       "    'Dino Ciani')), (1,\n",
       "   (\"Préludes / Book 1, L. 117: VII. Ce qu'a vu le vent d'ouest\",\n",
       "    'Monique Haas')), (2,\n",
       "   (\"Préludes / Book 1, L. 117: 7. Ce qu'a vu le vent d'ouest\",\n",
       "    'Daniel Barenboim')), (3,\n",
       "   (\"Préludes Book 1, L. 117: II. Ce qu'a vu Le Vent d'Ouest\",\n",
       "    'Martin Jones')), (4,\n",
       "   (\"Préludes / Book 1, L. 117: 7. Ce qu'a vu le vent d'ouest\",\n",
       "    'Pascal Rogé')), (5,\n",
       "   (\"Préludes / Book 1, L.117: 7. Ce qu'a vu le vent d'ouest\",\n",
       "    'Pierre-Laurent Aimard')), (6,\n",
       "   (\"Préludes / Book 1, L.117: 7. Ce qu'a vu le vent d'ouest - Live\",\n",
       "    'Krystian Zimerman')), (7,\n",
       "   (\"Préludes, Book 1, L. 117 (Excerpts): No. 7, Ce qu'a vu le vent d'ouest\",\n",
       "    'Jorge Federico Osorio')), (8,\n",
       "   (\"Préludes / Book 1, L. 117: VII. Ce qu'a vu le vent d'ouest\",\n",
       "    'Arturo Benedetti Michelangeli')), (9,\n",
       "   (\"Préludes, Book 1, L. 117: No. 7, Ce qu'a vu le vent d'ouest\",\n",
       "    'Vladimir Ashkenazy')), (10,\n",
       "   (\"Préludes / Book 1, L.117: 7. Ce qu'a vu le vent d'ouest\",\n",
       "    'Jean-Yves Thibaudet')), (11,\n",
       "   (\"Debussy: Preludes, Book 1, L. 117: VII. Ce qu'a vu le vent d'ouest\",\n",
       "    'Fazıl Say')), (12,\n",
       "   (\"Preludes, Book 1, L. 117: No. 7, Ce qu'a vu le vent d'ouest\",\n",
       "    'Cecile Ousset')), (13,\n",
       "   (\"Préludes / Book 1, L. 117: VII. Ce qu'a vu le vent d'ouest\",\n",
       "    'Arturo Benedetti Michelangeli')), (14,\n",
       "   ('Préludes I, L.117: Ce qu’a vu le vent d’ouest - Live',\n",
       "    'Liebrecht Vanbeckevoort')), (15,\n",
       "   ('Préludes, Livre I, L. 117: VII. (... Ce qu’a vu le vent d’ouest)',\n",
       "    'Stany David Lasry')), (16,\n",
       "   ('Préludes, Book 1, L. 117: VII. Ce qu’a vu le vent d’Ouest',\n",
       "    'Angela Brownridge')), (17,\n",
       "   ('Préludes, Book 1, L. 117: No. 7, Ce qu’a vu le vent d’ouest',\n",
       "    'Antonio Galera')), (18,\n",
       "   ('Préludes, Premier livre, L. 117: No. 7, Ce qu‘a vu le vent d‘ouest. Animé et tumultueux',\n",
       "    'Julia Bartha')), (19,\n",
       "   (\"Préludes, Livre I, L. 117: VII. Ce qu'a vu le vent d'Ouest\",\n",
       "    'Véronique Bonnecaze')), (20,\n",
       "   (\"Préludes / Book 1, L.117: 7. Ce qu'a vu le vent d'ouest\",\n",
       "    'Jacques Février')), (21,\n",
       "   (\"Preludes, L. 117, Book I: VII. Ce qu'a vu le vent d'ouest\",\n",
       "    'Francesco Piemontesi')), (22,\n",
       "   (\"Préludes / Book 1, L.117: 7. Ce qu'a vu le vent d'ouest\",\n",
       "    'Philippe Cassard')), (23,\n",
       "   (\"Préludes / Book 1, L.117: 7. Ce qu'a vu le vent d'ouest\",\n",
       "    'Hans Henkemans')), (24,\n",
       "   (\"Préludes, Livre 1, L. 117: VII. Ce qu'a vu le vent d'ouest\",\n",
       "    'Romain Herve')), (25,\n",
       "   (\"Préludes, Livre I L.117: VII. Ce qu'a vu le vent d'Ouest\",\n",
       "    'Michel Dalberto')), (26,\n",
       "   (\"Préludes Book 1 L. 117: VII. Ce qu'a vu le vent d'Ouest\",\n",
       "    'Krystian Wojno'))],\n",
       " ('117-9',\n",
       "  'La sérénade interrompue'): [(0,\n",
       "   ('Préludes / Book 1, L. 117: IX. La sérénade interrompue',\n",
       "    'Arturo Benedetti Michelangeli')), (1,\n",
       "   ('Préludes / Book 1, L. 117: 9. La sérénade interrompue',\n",
       "    'Daniel Barenboim')), (2,\n",
       "   ('Préludes / Book 1, L.117: 9. La sérénade interrompue',\n",
       "    'Pierre-Laurent Aimard')), (3,\n",
       "   ('Préludes / Book 1, L. 117: IX. La sérénade interrompue',\n",
       "    'Monique Haas')), (4,\n",
       "   ('Préludes / Book 1, L.117: 9. La sérénade interrompue',\n",
       "    'Maurizio Pollini')), (5,\n",
       "   ('Préludes / Book 1, L.117: 9. La sérénade interrompue',\n",
       "    'Jean-Yves Thibaudet')), (6,\n",
       "   ('Préludes, Book I, L. 117: IX. La sérénade interrompue (Modérément animé)',\n",
       "    'Noriko Ogawa')), (7,\n",
       "   ('Préludes / Book 1, L. 117 - Arr. Dan Golding: La sérénade interrompue',\n",
       "    'Dan Golding')), (8,\n",
       "   ('Préludes / Book 1, L. 117: 9. La sérénade interrompue',\n",
       "    'Pascal Rogé')), (9,\n",
       "   ('Préludes / Book 1, L. 117 - Arr. Dan Golding: La sérénade interrompue (Be Awarded A Flower)',\n",
       "    'Dan Golding')), (10,\n",
       "   ('Préludes / Book 1, L.117: 9. La sérénade interrompue - Live',\n",
       "    'Krystian Zimerman')), (11,\n",
       "   ('Debussy: Preludes, Book 1, L. 117: IX. La sérénade interrompue',\n",
       "    'Fazıl Say')), (12,\n",
       "   ('Préludes / Book 1, L. 117: IX. La sérénade interrompue',\n",
       "    'Arturo Benedetti Michelangeli')), (13,\n",
       "   ('Préludes, Book 1, L. 117: No. 9, La sérénade interrompue',\n",
       "    'Vladimir Ashkenazy')), (14,\n",
       "   ('Préludes Book I, L. 117: IX. La sérénade interrompue',\n",
       "    'John Paul Jalwan'))],\n",
       " ('117-11',\n",
       "  'La danse de Puck'): [(0,\n",
       "   ('Préludes / Book 1, L. 117: 11. La danse de Puck',\n",
       "    'Daniel Barenboim')), (1,\n",
       "   ('Préludes / Book 1, L. 117: XI. La danse de Puck', 'Monique Haas')), (2,\n",
       "   ('Préludes / Book 1, L.117: 11. La danse de Puck', 'Dino Ciani')), (3,\n",
       "   ('Préludes / Book 1, L. 117: 11. La danse de Puck',\n",
       "    'Jean-Rodolphe Kars')), (4,\n",
       "   ('Préludes / Book 1, L. 117: 11. La danse de Puck', 'Pascal Rogé')), (5,\n",
       "   ('Préludes / Book 1, L.117: 11. La danse de Puck',\n",
       "    'Pierre-Laurent Aimard')), (6,\n",
       "   ('Préludes / Book 1, L. 117: XI. La danse de Puck',\n",
       "    'Arturo Benedetti Michelangeli')), (7,\n",
       "   ('Préludes / Book 1, L.117: 11. La danse de Puck', 'Maurizio Pollini')), (8,\n",
       "   ('Préludes / Book 1, L.117: 11. La danse de Puck',\n",
       "    'Jean-Yves Thibaudet')), (9,\n",
       "   ('Préludes / Book 1, L.117: 11. La danse de Puck - Live',\n",
       "    'Krystian Zimerman')), (10,\n",
       "   ('Debussy: Preludes, Book 1, L. 117: XI. La danse de Puck',\n",
       "    'Fazıl Say')), (11,\n",
       "   ('Préludes / Book 1, L. 117: XI. La danse de Puck',\n",
       "    'Arturo Benedetti Michelangeli')), (12,\n",
       "   ('Préludes, Book 1, L. 117: No. 11, La danse de Puck',\n",
       "    'Vladimir Ashkenazy')), (13,\n",
       "   (\"Préludes, Vol. One, L. 117: XI. La danse de Puck (Puck's Dance)\",\n",
       "    'Henry Doskey')), (14,\n",
       "   ('Debussy: Préludes, Livre I, CD 125, L. 117: No. 11, La danse de Puck',\n",
       "    'Aldo Ciccolini')), (15,\n",
       "   ('Debussy: Préludes, Livre I, CD 125, L. 117: No. 11, La danse de Puck',\n",
       "    'Monique Haas')), (16,\n",
       "   ('Préludes / Book 1, L.117: 11. La danse de Puck', 'Claudio Arrau')), (17,\n",
       "   ('Debussy: Préludes, Livre I, CD 125, L. 117: No. 11, La danse de Puck',\n",
       "    'Walter Gieseking')), (18,\n",
       "   ('Debussy: Préludes, Livre I, CD 125, L. 117: No. 11, La danse de Puck',\n",
       "    'Samson François')), (19,\n",
       "   ('Debussy: Préludes, Livre I, CD 125, L. 117: No. 11, La danse de Puck',\n",
       "    'Walter Gieseking')), (20,\n",
       "   ('Debussy: Préludes, Livre I, CD 125, L. 117: No. 11, La danse de Puck',\n",
       "    'Conrad Tao')), (21,\n",
       "   ('Debussy: Préludes, Livre I, CD 125, L. 117: No. 11, La danse de Puck',\n",
       "    'Alfred Cortot')), (22,\n",
       "   ('Préludes / Book 1, L.117: La danse de Puck', 'Alexei Lubimov')), (23,\n",
       "   ('Debussy: Préludes, Livre I, CD 125, L. 117: No. 11, La danse de Puck',\n",
       "    'Walter Gieseking')), (24,\n",
       "   ('Debussy: Préludes, Livre I, CD 125, L. 117: No. 11, La danse de Puck',\n",
       "    'Youri Egorov')), (25,\n",
       "   ('Debussy: Préludes, Livre I, CD 125, L. 117: No. 11, La danse de Puck',\n",
       "    'Samson François')), (26,\n",
       "   ('Debussy: Préludes, Livre I, CD 125, L. 117: No. 11, La danse de Puck',\n",
       "    'Michel Béroff')), (27,\n",
       "   ('Debussy: Préludes, Livre I, CD 125, L. 117: No. 11, La danse de Puck',\n",
       "    'Samson François'))],\n",
       " ('117-12',\n",
       "  'Minstrels'): [(0,\n",
       "   ('Préludes / Book 1, L. 117: XII. Minstrels',\n",
       "    'Arturo Benedetti Michelangeli')), (1,\n",
       "   ('Préludes / Book 1, L. 117: XII. Minstrels', 'Menahem Pressler')), (2,\n",
       "   ('Préludes / Book 1, L. 117: 12. Minstrels', 'Daniel Barenboim')), (3,\n",
       "   ('Préludes / Book 1, L. 117: XII. Minstrels', 'Monique Haas')), (4,\n",
       "   ('Préludes / Book 1, L.117: 12. Minstrels', 'Maurizio Pollini')), (5,\n",
       "   ('Préludes / Book 1, L. 117 - Arr. Dan Golding: Minstrels',\n",
       "    'Dan Golding')), (6,\n",
       "   ('Préludes Book 1, L. 117: IV. Minstrels', 'Martin Jones')), (7,\n",
       "   ('Préludes / Book 1, L. 117 - Arr. Dan Golding: Minstrels (Rake In The Lake)',\n",
       "    'Dan Golding')), (8,\n",
       "   ('Préludes / Book 1, L.117: 12. Minstrels', 'Pierre-Laurent Aimard')), (9,\n",
       "   ('Préludes / Book 1, L. 117: 12. Minstrels', 'Pascal Rogé')), (10,\n",
       "   ('Préludes / Book 1, L.117: 12. Minstrels - Live',\n",
       "    'Krystian Zimerman')), (11,\n",
       "   ('Debussy: Préludes, Livre I, CD 125, L. 117: No. 12, Minstrels',\n",
       "    'Youri Egorov')), (12,\n",
       "   ('Préludes / Book 1, L. 117: XII. Minstrels',\n",
       "    'Arturo Benedetti Michelangeli')), (13,\n",
       "   ('Préludes / Book 1, L.117: 12. Minstrels', 'Jean-Yves Thibaudet')), (14,\n",
       "   ('Debussy: Preludes, Book 1, L. 117: XII. Minstrels', 'Fazıl Say')), (15,\n",
       "   ('Préludes / Book 1, L. 117: XII. Minstrels',\n",
       "    'Arturo Benedetti Michelangeli')), (16,\n",
       "   ('Préludes, Book 1, L. 117: No. 12, Minstrels', 'Vladimir Ashkenazy')), (17,\n",
       "   ('Debussy / Arr Hartmann: Preludes, Book 1, L. 117: XII. Minstrels',\n",
       "    'Yehudi Menuhin'))],\n",
       " ('117-4',\n",
       "  \"Les sons et les parfums tournent dans l'air du soir\"): [(0,\n",
       "   (\"Préludes / Book 1, L. 117: IV. Les sons et les parfums tournent dans l'air du soir\",\n",
       "    'Monique Haas')), (1,\n",
       "   (\"Préludes / Book 1, L. 117: 4. Les sons et les parfums tournent dans l'air du soir\",\n",
       "    'Daniel Barenboim')), (2,\n",
       "   (\"Préludes / Book 1, L.117: 4. Les sons et les parfums tournent dans l'air du soir\",\n",
       "    'Pierre-Laurent Aimard')), (3,\n",
       "   (\"Préludes / Book 1, L.117: 4. Les sons et les parfums tournent dans l'air du soir\",\n",
       "    'Philippe Cassard')), (4,\n",
       "   (\"Préludes, Book I, L. 117: IV. Les sons et les parfums tournent dans l'air du soir\",\n",
       "    'Axel Gillison')), (5,\n",
       "   (\"Préludes / Book 1, L. 117: 4. Les sons et les parfums tournent dans l'air du soir\",\n",
       "    'Pascal Rogé')), (6,\n",
       "   (\"Préludes, Book I, L. 117: IV. Les sons et les parfums tournent dans l'air du soir\",\n",
       "    'Axel Gillison')), (7,\n",
       "   (\"Préludes, Book 1, L. 117: Preludes, Book 1: No. 4. Les sons et les parfums tournent dans l'air du soir\",\n",
       "    'Larissa Dedova')), (8,\n",
       "   (\"Préludes / Book 1, L. 117: 4. Les sons et les parfums tournent dans l'air du soir\",\n",
       "    'Jean-Rodolphe Kars')), (9,\n",
       "   (\"Préludes / Book 1, L. 117: IV. Les sons et les parfums tournent dans l'air du soir\",\n",
       "    'Arturo Benedetti Michelangeli')), (10,\n",
       "   (\"Préludes / Book 1, L.117: 4. Les sons et les parfums tournent dans l'air du soir - Live\",\n",
       "    'Krystian Zimerman')), (11,\n",
       "   (\"Préludes / Book 1, L.117: 4. Les sons et les parfums tournent dans l'air du soir\",\n",
       "    'Jean-Yves Thibaudet')), (12,\n",
       "   (\"Debussy: Preludes, Book 1, L. 117: IV. Les sons et les parfums tournent dans l'air du soir\",\n",
       "    'Fazıl Say')), (13,\n",
       "   (\"Préludes, Book 1, L. 117: No. 4, Les sons et les parfums tournent dans l'air du soir\",\n",
       "    'Vladimir Ashkenazy')), (14,\n",
       "   (\"Préludes, Premier Livre, L. 117: No. 4, Les sons et les parfums tournent dans l'air du soir\",\n",
       "    'Leonardo Zunica')), (15,\n",
       "   (\"Préludes / Book 1, L.117: 4. Les sons et les parfums tournent dans l'air du soir\",\n",
       "    'Claudio Arrau')), (16,\n",
       "   (\"Préludes / Book 1, L.117: 4. Les sons et les parfums tournent dans l'air du soir\",\n",
       "    'Nelson Freire')), (17,\n",
       "   (\"Préludes / Book 1, L.117: 4. Les sons et les parfums tournent dans l'air du soir\",\n",
       "    'Maurizio Pollini')), (18,\n",
       "   (\"Debussy: Préludes, Livre I, CD 125, L. 117: No. 4, Les sons et les parfums tournent dans l'air du soir\",\n",
       "    'Walter Gieseking')), (19,\n",
       "   ('Préludes, Book 1, L. 117: IV. Les sons et les parfums tournent dans l’air du soir',\n",
       "    'Angela Brownridge')), (20,\n",
       "   ('Préludes, Livre I, L. 117: IV. (... Les sons et les parfums tournent dans l’air du soir)',\n",
       "    'Stany David Lasry')), (21,\n",
       "   ('Préludes, Premier livre, L. 117: No. 4, Les sons et les parfums tournent dans l‘air du soir. Modéré',\n",
       "    'Julia Bartha')), (22,\n",
       "   (\"Debussy: Préludes, Book I, L. 117: IV. Les sons et les parfums tournent dans l'air du soir\",\n",
       "    'Alexa Mary')), (23,\n",
       "   (\"Preludes, Book 1, L.117: IV. Les Sons et Les Parfums Tournent Dans l'air Du Soir\",\n",
       "    \"Ronan O'Hora\")), (24,\n",
       "   (\"Préludes / Book 1, L.117: 4. Les sons et les parfums tournent dans l'air du soir\",\n",
       "    'Werner Haas')), (25,\n",
       "   (\"Préludes / Book 1, L.117: 4. Les sons et les parfums tournent dans l'air du soir\",\n",
       "    'Hans Henkemans'))],\n",
       " ('117-8',\n",
       "  'La fille aux cheveux de lin'): [(0,\n",
       "   ('Préludes / Book 1, L. 117: 8. La fille aux cheveux de lin',\n",
       "    'Jean-Rodolphe Kars')), (1,\n",
       "   ('Préludes / Book 1, L. 117: VIII. La fille aux cheveux de lin',\n",
       "    'Arturo Benedetti Michelangeli')), (2,\n",
       "   ('Préludes / Book 1, L. 117: 8. La fille aux cheveux de lin',\n",
       "    'Daniel Barenboim')), (3,\n",
       "   ('Préludes / Book 1, L. 117: VIII. La fille aux cheveux de lin',\n",
       "    'Menahem Pressler')), (4,\n",
       "   ('Préludes / Book 1, L. 117: VIII. La fille aux cheveux de lin',\n",
       "    'Víkingur Ólafsson')), (5,\n",
       "   ('Préludes, Book I, L. 117: VIII. La fille aux cheveux de lin',\n",
       "    'Peter Schmalfuss')), (6,\n",
       "   ('Préludes / Livre 1, L. 117: 8. La fille aux cheveux de lin',\n",
       "    'Philippe Cassard')), (7,\n",
       "   ('Préludes, Book 1, L. 117: VIII. La fille aux cheveux de lin',\n",
       "    'Youri Egorov')), (8,\n",
       "   ('Préludes / Book 1, L. 117: VIII. La fille aux cheveux de lin - 1962 Recording',\n",
       "    'Monique Haas')), (9,\n",
       "   ('Préludes / Book 1, L. 117: VIII. La fille aux cheveux de lin - 1949 Recording',\n",
       "    'Monique Haas')), (10,\n",
       "   ('Préludes Book I, L. 117: VIII. La fille aux cheveux de lin',\n",
       "    'Henrik Måwe')), (11,\n",
       "   ('Préludes, Book I, L. 117: VIII. La fille aux cheveux de lin',\n",
       "    'Axel Gillison')), (12,\n",
       "   ('La Fille Aux Cheveux De Lin, L. 117', 'Ezio Bosso')), (13,\n",
       "   ('Preludes, Book I, L. 117: No. 8: La fille aux cheveux de lin',\n",
       "    'Rogerio Tutti')), (14,\n",
       "   ('Préludes / Book 1, L.117: 8. La fille aux cheveux de lin',\n",
       "    'Pierre-Laurent Aimard')), (15,\n",
       "   ('Debussy: Preludes, Book 1, L. 117: VIII. La fille aux cheveux de lin',\n",
       "    'Fazıl Say')), (16,\n",
       "   ('Preludes, Book 1, L 117 - La Fille Aux Cheveux De Lin',\n",
       "    'Adagio Quartet')), (17,\n",
       "   ('Debussy: Préludes, Livre I, CD 125, L. 117: No. 8, La fille aux cheveux de lin',\n",
       "    'Moura Lympany')), (18,\n",
       "   ('Préludes / Book 1, L.117: 8. La fille aux cheveux de lin - Live',\n",
       "    'Krystian Zimerman')), (19,\n",
       "   ('Préludes, Book 1, L. 117: No. 8, La fille aux cheveux de lin',\n",
       "    'Vladimir Ashkenazy')), (20,\n",
       "   ('Préludes / Book 1, L. 117: 8. La fille aux cheveux de lin',\n",
       "    'Pascal Rogé')), (21,\n",
       "   ('Preludes, L. 117, Book I: VIII. La fille aux cheveux de lin',\n",
       "    'Francesco Piemontesi')), (22,\n",
       "   ('Préludes - Book 1, L.117: VIII. La fille aux cheveux de lin',\n",
       "    'Arturo Benedetti Michelangeli')), (23,\n",
       "   ('Préludes / Book 1, L.117; 8. La fille aux cheveux de lin',\n",
       "    'Nelson Freire')), (24,\n",
       "   ('Préludes, Book 1, L 117: The Girl with the Flaxen Hair - La fille aux cheveux de lin',\n",
       "    'Jaime Weytens')), (25,\n",
       "   ('La fille aux cheveux de lin, L. 117', 'Local Brass Quintet')), (26,\n",
       "   ('Préludes / Book 1, L. 117: VIII. La fille aux cheveux de lin',\n",
       "    'Arturo Benedetti Michelangeli'))],\n",
       " ('121',\n",
       "  'La plus que lente'): [(0,\n",
       "   ('La plus que lente, L. 121', 'Alexis Weissenberg')), (1,\n",
       "   ('La plus que lente, L. 121', 'Menahem Pressler')), (2,\n",
       "   ('La plus que lente, L. 121', 'Daniel Barenboim')), (3,\n",
       "   ('La plus que lente, L. 121', 'Hélène Grimaud')), (4,\n",
       "   ('La plus que lente, L. 121', 'Axel Gillison')), (5,\n",
       "   ('La plus que lente, L. 121', 'Axel Gillison')), (6,\n",
       "   ('La plus que lente, L. 121', 'Nikita Magaloff')), (7,\n",
       "   ('La Plus que Lente, L. 121', 'Martin Jones')), (8,\n",
       "   ('La plus que lente, L. 121', 'Jacopo Salvatori')), (9,\n",
       "   ('Debussy: La plus que lente, CD 128, L. 121', 'Samson François')), (10,\n",
       "   ('La plus que lente, L.121', 'Javier Perianes')), (11,\n",
       "   ('La plus que lente, L. 121', 'Dennis Lee')), (12,\n",
       "   ('Debussy: La plus que lente, L. 121', 'Gina Alice')), (13,\n",
       "   ('Debussy: La plus que lente, CD 128, L. 121',\n",
       "    'Jean-Bernard Pommier')), (14,\n",
       "   ('La plus que lente, L. 121', 'Alexis Weissenberg')), (15,\n",
       "   ('La plus que lente, L.121', 'Jean-Yves Thibaudet')), (16,\n",
       "   ('Debussy: La plus que lente, CD 128, L. 121', 'Samson François')), (17,\n",
       "   ('La plus que lente, L. 121', 'Alexis Weissenberg'))],\n",
       " ('123-1',\n",
       "  'Brouillards'): [(0,\n",
       "   ('Préludes - Book 2, L.123: 1. Brouillards',\n",
       "    'Arturo Benedetti Michelangeli')), (1,\n",
       "   ('Préludes / Book 2, L. 123: I. Brouillards', 'Monique Haas')), (2,\n",
       "   ('Préludes - Book II, L. 123: I. Brouillards', 'Maurizio Pollini')), (3,\n",
       "   ('Préludes - Book 2, L.123: 1. Brouillards', 'Dino Ciani')), (4,\n",
       "   ('Préludes - Book 2, L.123: 1. Brouillards', 'Jacques Février')), (5,\n",
       "   ('Préludes - Book 2, L.123: 1. Brouillards', 'Pierre-Laurent Aimard')), (6,\n",
       "   ('Préludes / Book 2, L. 123: 1. Brouillards',\n",
       "    'Vanessa Benelli Mosell')), (7,\n",
       "   ('Préludes - Book 2, L.123: 1. Brouillards - Live',\n",
       "    'Krystian Zimerman')), (8,\n",
       "   ('Preludes, L. 123, Book II: I. Brouillards', 'Francesco Piemontesi')), (9,\n",
       "   ('Préludes, Book 2, L. 123: No. 1, Brouillards',\n",
       "    'Vladimir Ashkenazy')), (10,\n",
       "   ('Préludes - Book 2, L.123: 1. Brouillards', 'Jean-Yves Thibaudet')), (11,\n",
       "   ('Préludes - Book 2, L.123: 1. Brouillards', 'Jean-Yves Thibaudet')), (12,\n",
       "   ('Debussy: Préludes, Livre II, CD 131, L. 123: No. 1, Brouillards',\n",
       "    'Aldo Ciccolini')), (13,\n",
       "   ('Debussy: Préludes, Livre II, CD 131, L. 123: No. 1, Brouillards',\n",
       "    'Samson François')), (14,\n",
       "   ('Debussy: Préludes, Livre II, CD 131, L. 123: No. 1, Brouillards',\n",
       "    'Walter Gieseking')), (15,\n",
       "   ('Debussy: Préludes, Livre II, CD 131, L. 123: No. 1, Brouillards',\n",
       "    'Samson François')), (16,\n",
       "   ('Debussy: Préludes, Livre II, CD 131, L. 123: No. 1, Brouillards',\n",
       "    'Walter Gieseking')), (17,\n",
       "   ('Debussy: Préludes, Livre II, CD 131, L. 123: No. 1, Brouillards',\n",
       "    'Monique Haas')), (18,\n",
       "   ('Debussy: Préludes, Livre II, CD 131, L. 123: No. 1, Brouillards',\n",
       "    'Youri Egorov')), (19,\n",
       "   ('Debussy: Préludes, Livre II, CD 131, L. 123: No. 1, Brouillards',\n",
       "    'Walter Gieseking')), (20,\n",
       "   ('Debussy: Préludes, Livre II, CD 131, L. 123: No. 1, Brouillards',\n",
       "    'Michel Béroff')), (21,\n",
       "   ('Préludes - Book 2, L.123: 1. Brouillards', 'Claudio Arrau'))],\n",
       " ('123-2',\n",
       "  'Feuilles mortes'): [(0,\n",
       "   ('Préludes / Book 2, L. 123: 2. Feuilles mortes',\n",
       "    'Arturo Benedetti Michelangeli')), (1,\n",
       "   ('Préludes / Book 2, L. 123: II. Feuilles mortes', 'Monique Haas')), (2,\n",
       "   ('Préludes - Book 2, L.123: 2. Feuilles mortes', 'Dino Ciani')), (3,\n",
       "   ('Préludes - Book II, L. 123: II. Feuilles mortes',\n",
       "    'Maurizio Pollini')), (4,\n",
       "   ('Preludes, L. 123, Book II: II. Feuilles mortes',\n",
       "    'Francesco Piemontesi')), (5,\n",
       "   ('Préludes - Book 2, L.123: 2. Feuilles mortes',\n",
       "    'Pierre-Laurent Aimard')), (6,\n",
       "   ('Préludes - Book 2, L.123: 2. Feuilles mortes - Live',\n",
       "    'Krystian Zimerman')), (7,\n",
       "   ('Préludes, Book 2, L. 123: No. 2, Feuilles mortes',\n",
       "    'Vladimir Ashkenazy')), (8,\n",
       "   ('Préludes, Book 2, L. 123 (Excerpts): No. 2, Feuilles mortes',\n",
       "    'Jorge Federico Osorio')), (9,\n",
       "   ('Préludes - Book 2, L.123: 2. Feuilles mortes',\n",
       "    'Jean-Yves Thibaudet')), (10,\n",
       "   ('Préludes - Book 2, L.123: 2. Feuilles mortes',\n",
       "    'Jean-Yves Thibaudet')), (11,\n",
       "   ('Préludes / Book 2, L. 123: 2. Feuilles mortes',\n",
       "    'Vanessa Benelli Mosell')), (12,\n",
       "   ('Préludes - Book 2, L.123: 2. Feuilles mortes', 'Claudio Arrau')), (13,\n",
       "   ('Préludes - Book 2, L.123: 2. Feuilles mortes', 'Claudio Arrau')), (14,\n",
       "   ('Préludes, Deuxième livre, L. 123: Feuilles mortes', 'Ivan Moravec')), (15,\n",
       "   ('Préludes - Book 2, L.123: Feuilles mortes', 'Alexei Lubimov'))],\n",
       " ('123-3',\n",
       "  'La Puerta del Vino'): [(0,\n",
       "   ('Préludes - Book II, L. 123: III. La puerta del vino',\n",
       "    'Maurizio Pollini')), (1,\n",
       "   ('Préludes / Book 2, L. 123: III. La puerta del vino', 'Monique Haas')), (2,\n",
       "   ('Préludes - Book 2, L.123: 3. La puerta del vino',\n",
       "    'Pierre-Laurent Aimard')), (3,\n",
       "   ('Préludes - Book 2, L.123: 3. La puerta del vino - Live',\n",
       "    'Krystian Zimerman')), (4,\n",
       "   ('Préludes, Book 2, L. 123 (Excerpts): No. 3, La puerta del vino',\n",
       "    'Jorge Federico Osorio')), (5,\n",
       "   ('Préludes / Book 2, L. 123: 3. La puerta del vino',\n",
       "    'Arturo Benedetti Michelangeli')), (6,\n",
       "   ('Preludes, L. 123, Book II: III. La Puerta del Vino',\n",
       "    'Francesco Piemontesi')), (7,\n",
       "   ('Préludes - Book 2, L.123: 3. La puerta del vino',\n",
       "    'Jean-Yves Thibaudet')), (8,\n",
       "   ('Préludes - Book 2, L.123: 3. La puerta del vino',\n",
       "    'Jean-Yves Thibaudet')), (9,\n",
       "   ('Préludes / Book 2, L. 123: 3. La puerta del vino',\n",
       "    'Vanessa Benelli Mosell')), (10,\n",
       "   ('Préludes, Book 2, L. 123: No. 3, La puerta del vino',\n",
       "    'Vladimir Ashkenazy')), (11,\n",
       "   ('Préludes - Book 2, L.123: 3. La puerta del vino', 'Claudio Arrau')), (12,\n",
       "   ('Préludes - Book 2, L.123: La puerta del vino', 'Alexei Lubimov')), (13,\n",
       "   ('Préludes, Deuxième livre, L. 123: La puerta del Vino',\n",
       "    'Ivan Moravec')), (14,\n",
       "   ('Préludes, L. 123: No. 3, La puerta del vino', 'Lori Sims')), (15,\n",
       "   ('Préludes / Book 2, L. 123: 3. La puerta del vino',\n",
       "    'Arturo Benedetti Michelangeli')), (16,\n",
       "   ('Préludes - Book 2, L.123: 3. La puerta del vino', 'Dino Ciani'))],\n",
       " ('123-4',\n",
       "  \"Les fées sont d'exquises danseuses\"): [(0,\n",
       "   ('Préludes - Book 2, L.123: 4. \"Les fées sont d\\'exquises danseuses\"',\n",
       "    'Dino Ciani')), (1,\n",
       "   ('Préludes / Book 2, L. 123: IV. \"Les fées sont d\\'exquises danseuses\"',\n",
       "    'Monique Haas')), (2,\n",
       "   (\"Préludes - Book II, L. 123: IV. Les fées sont d'exquises danseuses\",\n",
       "    'Maurizio Pollini')), (3,\n",
       "   ('Préludes - Book 2, L.123: 4. \"Les fées sont d\\'exquises danseuses\"',\n",
       "    'Pierre-Laurent Aimard')), (4,\n",
       "   ('Préludes, Livre 2, L. 123: IV. Les fées sont d’exquises danseuses. Rapide et léger',\n",
       "    'Alexander Melnikov')), (5,\n",
       "   ('Préludes - Book 2, L.123: 4. \"Les fées sont d\\'exquises danseuses\" - Live',\n",
       "    'Krystian Zimerman')), (6,\n",
       "   (\"Preludes, L. 123, Book II: IV. Les fées sont d'exquises danseuses\",\n",
       "    'Francesco Piemontesi')), (7,\n",
       "   ('Préludes - Book 2, L.123: 4. \"Les fées sont d\\'exquises danseuses\"',\n",
       "    'Jean-Yves Thibaudet')), (8,\n",
       "   (\"Préludes / Book 2, L. 123: 4. Les fées sont d'exquises danseuses\",\n",
       "    'Vanessa Benelli Mosell')), (9,\n",
       "   ('Préludes - Book 2, L.123: 4. \"Les fées sont d\\'exquises danseuses\"',\n",
       "    'Jean-Yves Thibaudet')), (10,\n",
       "   (\"Préludes, Book 2, L. 123: No. 4, Les fées sont d'exquises danseuses\",\n",
       "    'Vladimir Ashkenazy')), (11,\n",
       "   (\"Préludes - Book 2, L.123: 4. Les fées sont d'exquises danseuses\",\n",
       "    'Arturo Benedetti Michelangeli')), (12,\n",
       "   ('Préludes, Livre II, L. 123: IV. (... \"Les fées sont d’exquises danseuses\")',\n",
       "    'Stany David Lasry')), (13,\n",
       "   ('Préludes, Book 2, L. 123: IV. “Les Fées sont d’exquises danseuses”',\n",
       "    'Angela Brownridge')), (14,\n",
       "   ('Préludes - Book 2, L.123: 4. \"Les fées sont d\\'exquises danseuses\"',\n",
       "    'Hans Henkemans')), (15,\n",
       "   ('Preludes, Book 2, L. 123: IV. \"Les fées sont d\\'exquises danseuses\"',\n",
       "    'Vladimir Horowitz')), (16,\n",
       "   (\"Préludes / Book 2, L. 123: 4. Les fées sont d'exquises danseuses\",\n",
       "    'Philippe Cassard')), (17,\n",
       "   (\"Préludes (Book 2), L.123: IV. Les fees sont d'exquises danseuses\",\n",
       "    \"Fou Ts'ong\")), (18,\n",
       "   (\"Préludes, Livre 2, L. 123: 4. Les fées sont d'exquises danseuses»\",\n",
       "    'Leonard Pennario')), (19,\n",
       "   (\"Préludes, livre II, L. 123: IV. Les fées sont d'exquises danseuses\",\n",
       "    'Christopher Devine')), (20,\n",
       "   (\"Préludes - Book 2, L.123: 4. Les fées sont d'exquises danseuses\",\n",
       "    'Jacques Février')), (21,\n",
       "   (\"Preludes, Book II, L. 123: IV. Les fées sont d'exquises danseuses\",\n",
       "    'Vladimir Horowitz')), (22,\n",
       "   (\"Préludes, Book 2, L. 123: IV. Les fées sont d'exquises danseuses\",\n",
       "    'Hiroko Sasaki')), (23,\n",
       "   (\"Préludes, 2e Livre, L. 123: IV. Les fées sont d'exquises danseuses\",\n",
       "    'Martin Jones'))],\n",
       " ('123-5',\n",
       "  'Bruyères'): [(0,\n",
       "   ('Préludes / Book 2, L. 123: 5. Bruyères',\n",
       "    'Arturo Benedetti Michelangeli')), (1,\n",
       "   ('Préludes - Book II, L. 123: V. Bruyères', 'Maurizio Pollini')), (2,\n",
       "   ('Préludes - Book 2, L.123: 5. Bruyères', 'Pierre-Laurent Aimard')), (3,\n",
       "   ('Préludes - Book 2, L.123: 5. Bruyères', 'Dino Ciani')), (4,\n",
       "   ('Préludes / Book 2, L. 123: V. Bruyères', 'Monique Haas')), (5,\n",
       "   ('Préludes / Book 2, L. 123: 5. Bruyères - Home Session',\n",
       "    'Víkingur Ólafsson')), (6,\n",
       "   ('Préludes - Book 2, L.123: 5. Bruyères', 'Philippe Cassard')), (7,\n",
       "   ('Preludes, L. 123, Book II: V. Bruyères', 'Francesco Piemontesi')), (8,\n",
       "   ('Préludes / Book 2, L. 123: Bruyères (Menu)', 'Dan Golding')), (9,\n",
       "   ('Préludes, Book 2, L. 123: No. 5, Bruyères', 'Paavali Jumppanen')), (10,\n",
       "   ('Préludes, Book II, L. 123: V. Bruyères', 'Axel Gillison')), (11,\n",
       "   ('Préludes Book 2, L. 123: V. Bruyères', 'Youri Egorov')), (12,\n",
       "   ('Debussy: Préludes, Livre II, CD 131, L. 123: No. 5, Bruyères',\n",
       "    'Youri Egorov')), (13,\n",
       "   ('Préludes - Book 2, L.123: 5. Bruyères - Live', 'Krystian Zimerman')), (14,\n",
       "   ('Préludes - Book 2, L.123: 5. Bruyères', 'Pierre-Laurent Aimard')), (15,\n",
       "   ('Préludes - Book 2, L.123: 5. Bruyères', 'Jean-Yves Thibaudet'))],\n",
       " ('123-6',\n",
       "  'Général Lavine, eccentric'): [(0,\n",
       "   ('Préludes / Book 2, L. 123: VI. \"General Lavine\" - eccentric',\n",
       "    'Monique Haas')), (1,\n",
       "   ('Préludes - Book II, L. 123: VI. General Lavine - eccentric',\n",
       "    'Maurizio Pollini')), (2,\n",
       "   ('Préludes / Book 2, L. 123: 6. General Lavine - eccentric',\n",
       "    'Arturo Benedetti Michelangeli')), (3,\n",
       "   ('Préludes - Book 2, L.123: 6. \"General Lavine\" - eccentric',\n",
       "    'Pierre-Laurent Aimard')), (4,\n",
       "   ('Préludes - Book 2, L.123: 6. \"General Lavine\" - eccentric - Live',\n",
       "    'Krystian Zimerman')), (5,\n",
       "   ('Préludes - Book 2, L.123: 6. \"General Lavine\" - eccentric',\n",
       "    'Jean-Yves Thibaudet')), (6,\n",
       "   ('Préludes / Book 2, L. 123: 6. General Lavine - eccentric',\n",
       "    'Vanessa Benelli Mosell')), (7,\n",
       "   ('Préludes, Book 2, L. 123: No. 6, Général Lavine, eccentric',\n",
       "    'Vladimir Ashkenazy'))],\n",
       " ('123-7',\n",
       "  'La terrasse des audiences du clair de lune'): [(0,\n",
       "   ('Préludes - Book II, L. 123: VII. La terrasse des audiences du clair de lune',\n",
       "    'Maurizio Pollini')), (1,\n",
       "   ('Préludes - Book 2, L.123: 7. La terrasse des audiences du clair de lune',\n",
       "    'Dino Ciani')), (2,\n",
       "   ('Préludes / Book 2, L. 123: VII. La terrasse des audiences du clair de lune',\n",
       "    'Monique Haas')), (3,\n",
       "   ('Préludes - Book 2, L.123: 7. La terrasse des audiences du clair de lune',\n",
       "    'Philippe Cassard')), (4,\n",
       "   ('Préludes - Book 2, L.123: 7. La terrasse des audiences du clair de lune',\n",
       "    'Pierre-Laurent Aimard')), (5,\n",
       "   ('Debussy: Préludes, Livre II, CD 131, L. 123: No. 7, La terrasse des audiences du clair de lune',\n",
       "    'Aldo Ciccolini')), (6,\n",
       "   ('Préludes, Book 2, L. 123 (Excerpts): No. 7, La terrasse des audiences du clair de lune',\n",
       "    'Jorge Federico Osorio')), (7,\n",
       "   ('Préludes - Book 2, L.123: 7. La terrasse des audiences du clair de lune - Live',\n",
       "    'Krystian Zimerman')), (8,\n",
       "   ('Préludes, Book 2, L. 123: No. 7, La terrasse des audiences du clair de lune',\n",
       "    'Vladimir Ashkenazy')), (9,\n",
       "   ('Préludes - Book 2, L.123: 7. La terrasse des audiences du clair de lune',\n",
       "    'Arturo Benedetti Michelangeli')), (10,\n",
       "   ('Préludes - Book 2, L.123: 7. La terrasse des audiences du clair de lune',\n",
       "    'Jean-Yves Thibaudet')), (11,\n",
       "   ('Préludes - Book 2, L.123: 7. La terrasse des audiences du clair de lune',\n",
       "    'Jean-Yves Thibaudet')), (12,\n",
       "   ('Préludes / Book 2, L. 123: 7. La terrasse des audiences du clair de lune',\n",
       "    'Vanessa Benelli Mosell')), (13,\n",
       "   ('Préludes, Book 2, L. 123: La terrasse des audiences du clair de lune',\n",
       "    'Amir Tebenikhin')), (14,\n",
       "   ('Préludes - Book 2, L.123: La terrasse des audiences du clair de lune',\n",
       "    'Alexei Lubimov')), (15,\n",
       "   ('Préludes, L. 123, No. 7, La terrasse des audiences du clair de lune',\n",
       "    'Caio Pagano')), (16,\n",
       "   ('Préludes - Book 2, L.123: 7. La terrasse des audiences du clair de lune',\n",
       "    'Zoltán Kocsis')), (17,\n",
       "   ('Préludes - Book 2, L.123: 7. La terrasse des audiences du clair de lune',\n",
       "    'Arturo Benedetti Michelangeli')), (18,\n",
       "   ('Préludes - Book 2, L.123: 7. La terrasse des audiences du clair de lune',\n",
       "    'Claudio Arrau')), (19,\n",
       "   ('Préludes - Book 2, L.123: 7. La terrasse des audiences du clair de lune',\n",
       "    'Claudio Arrau')), (20,\n",
       "   ('Préludes, 2e Livre, L. 123: VII. La terrasse des audiences du clair de lune',\n",
       "    'Martin Jones')), (21,\n",
       "   ('Préludes (Book II), L. 123: 7. La terrasse des audiences du clair de lune',\n",
       "    'Catherine Collard'))],\n",
       " ('123-8',\n",
       "  'Ondine'): [(0,\n",
       "   ('Préludes - Book 2, L.123: 8. Ondine',\n",
       "    'Arturo Benedetti Michelangeli')), (1,\n",
       "   ('Préludes / Book 2, L. 123: VIII. Ondine', 'Víkingur Ólafsson')), (2,\n",
       "   ('Préludes - Book II, L. 123: VIII. Ondine', 'Maurizio Pollini')), (3,\n",
       "   ('Préludes / Book 2, L. 123: VIII. Ondine', 'Monique Haas')), (4,\n",
       "   ('Préludes, Livre II, L. 123: No. 8, Ondine', 'Claude Helffer')), (5,\n",
       "   ('Préludes - Book 2, L.123: 8. Ondine', 'Pierre-Laurent Aimard')), (6,\n",
       "   ('Préludes - Book 2, L.123: 8. Ondine - Live', 'Krystian Zimerman')), (7,\n",
       "   ('Préludes, Book 2, L. 123: No. 8, Ondine', 'Vladimir Ashkenazy')), (8,\n",
       "   ('Preludes, Book II, L. 123: No. 8, Ondine', 'Arthur Rubinstein')), (9,\n",
       "   ('Préludes - Book 2, L.123: 8. Ondine',\n",
       "    'Arturo Benedetti Michelangeli')), (10,\n",
       "   ('Préludes - Book 2, L.123: 8. Ondine', 'Zoltán Kocsis')), (11,\n",
       "   ('Préludes / Book 2, L. 123: 8. Ondine', 'Jean-Rodolphe Kars')), (12,\n",
       "   ('Préludes - Book 2, L.123: 8. Ondine', 'Jean-Yves Thibaudet')), (13,\n",
       "   ('Préludes / Book 2, L. 123: 8. Ondine', 'Vanessa Benelli Mosell')), (14,\n",
       "   ('Préludes, Book 2, L. 123: No. 8, Ondine', 'Vincent Larderet')), (15,\n",
       "   ('Debussy: Préludes, Livre II, CD 131, L. 123: No. 8, Ondine',\n",
       "    'Walter Gieseking')), (16,\n",
       "   ('Debussy: Préludes, Livre II, CD 131, L. 123: No. 8, Ondine',\n",
       "    'Walter Gieseking')), (17,\n",
       "   ('Debussy: Préludes, Livre II, CD 131, L. 123: No. 8, Ondine',\n",
       "    'Monique Haas')), (18,\n",
       "   ('Debussy: Préludes, Livre II, CD 131, L. 123: No. 8, Ondine',\n",
       "    'Walter Gieseking')), (19,\n",
       "   ('Debussy: Préludes, Livre II, CD 131, L. 123: No. 8, Ondine',\n",
       "    'Aldo Ciccolini')), (20,\n",
       "   ('Debussy: Préludes, Livre II, CD 131, L. 123: No. 8, Ondine',\n",
       "    'Samson François')), (21,\n",
       "   ('Debussy: Préludes, Livre II, CD 131, L. 123: No. 8, Ondine',\n",
       "    'Youri Egorov')), (22,\n",
       "   ('Debussy: Préludes, Livre II, CD 131, L. 123: No. 8, Ondine',\n",
       "    'Samson François')), (23,\n",
       "   ('Debussy: Préludes, Livre II, CD 131, L. 123: No. 8, Ondine',\n",
       "    'Michel Béroff'))],\n",
       " ('123-9',\n",
       "  'Hommage à Samuel Pickwick'): [(0,\n",
       "   ('Préludes, Livre II, L. 123: No. 9, Hommage à Samuel Pickwick esq. P.P.M.P.C.',\n",
       "    'Jérome Granjon'))],\n",
       " ('123-10',\n",
       "  'Canope'): [(0,\n",
       "   ('Préludes - Book 2, L.123: 10. Canope', 'Pierre-Laurent Aimard')), (1,\n",
       "   ('Préludes - Book II, L. 123: X. Canope', 'Maurizio Pollini')), (2,\n",
       "   ('Préludes / Book 2, L. 123: X. Canope', 'Monique Haas')), (3,\n",
       "   ('Préludes / Book 2, L. 123: 10. Canope - Home Session',\n",
       "    'Víkingur Ólafsson')), (4,\n",
       "   ('Préludes - Book 2, L.123: 10. Canope', 'Philippe Cassard')), (5,\n",
       "   ('Préludes, Book 2, L. 123: X. Canope', 'Youri Egorov')), (6,\n",
       "   ('Préludes Book 2, L. 123: II. Canope', 'Martin Jones')), (7,\n",
       "   ('Préludes, Book II, L. 123: X. Canope', 'Axel Gillison')), (8,\n",
       "   ('Préludes - Book 2, L.123: 10. Canope', 'Werner Haas')), (9,\n",
       "   ('Debussy: Préludes, Livre II, CD 131, L. 123: No. 10, Canope',\n",
       "    'Youri Egorov')), (10,\n",
       "   ('Préludes - Book 2, L.123: 10. Canope', 'Dino Ciani')), (11,\n",
       "   ('Préludes - Book 2, L.123: 10. Canope - Live', 'Krystian Zimerman')), (12,\n",
       "   ('Préludes - Book 2, L.123: 10. Canope',\n",
       "    'Arturo Benedetti Michelangeli')), (13,\n",
       "   ('Préludes - Book 2, L.123: 10. Canope', 'Pierre-Laurent Aimard')), (14,\n",
       "   ('Préludes / Book 2, L. 123: 10. Canope', 'Vanessa Benelli Mosell')), (15,\n",
       "   ('Préludes - Book 2, L.123: 10. Canope', 'Jean-Yves Thibaudet')), (16,\n",
       "   ('Préludes, Book 2, L. 123: No. 10, Canope', 'Vladimir Ashkenazy')), (17,\n",
       "   ('Debussy: Préludes, Livre II, CD 131, L. 123: No. 10, Canope',\n",
       "    'Walter Gieseking')), (18,\n",
       "   ('Debussy: Préludes, Livre II, CD 131, L. 123: No. 10, Canope',\n",
       "    'Walter Gieseking')), (19,\n",
       "   ('Debussy: Préludes, Livre II, CD 131, L. 123: No. 10, Canope',\n",
       "    'Arturo Benedetti Michelangeli')), (20,\n",
       "   ('Debussy: Préludes, Livre II, CD 131, L. 123: No. 10, Canope',\n",
       "    'Walter Gieseking')), (21,\n",
       "   ('Debussy: Préludes, Livre II, CD 131, L. 123: No. 10, Canope',\n",
       "    'Samson François'))],\n",
       " ('123-11',\n",
       "  'Les tierces alternées'): [(0,\n",
       "   ('Préludes / Book 2, L. 123: XI. Les tierces alternées',\n",
       "    'Monique Haas')), (1,\n",
       "   ('Préludes - Book 2, L.123: 11. Les tierces alternées', 'Dino Ciani')), (2,\n",
       "   ('Préludes - Book II, L. 123: XI. Les tierces alternées',\n",
       "    'Maurizio Pollini')), (3,\n",
       "   ('Préludes - Book 2, L.123: 11. Les tierces alternées',\n",
       "    'Friedrich Gulda')), (4,\n",
       "   ('Préludes - Book 2, L.123: 11. Les tierces alternées',\n",
       "    'Arturo Benedetti Michelangeli')), (5,\n",
       "   ('Préludes - Book 2, L.123: 11. Les tierces alternées',\n",
       "    'Pierre-Laurent Aimard')), (6,\n",
       "   ('Préludes - Book 2, L.123: 11. Les tierces alternées - Live',\n",
       "    'Krystian Zimerman')), (7,\n",
       "   ('Préludes, Book 2, L. 123: No. 11, Les tierces alternées',\n",
       "    'Vladimir Ashkenazy')), (8,\n",
       "   ('Préludes / Book 2, L. 123: 11. Les tierces alternées',\n",
       "    'Vanessa Benelli Mosell')), (9,\n",
       "   ('Debussy: Préludes, Livre II, CD 131, L. 123: No. 11, Les tierces alternées',\n",
       "    'Youri Egorov')), (10,\n",
       "   ('Préludes - Book 2, L.123: 11. Les tierces alternées',\n",
       "    'Jean-Yves Thibaudet')), (11,\n",
       "   ('Préludes - Book 2, L.123: Les tierces alternées', 'Alexei Lubimov')), (12,\n",
       "   ('Préludes - Book 2, L.123: 11. Les tierces alternées',\n",
       "    'Claudio Arrau')), (13,\n",
       "   ('Préludes - Book 2, L.123: 11. Les tierces alternées',\n",
       "    'Arturo Benedetti Michelangeli')), (14,\n",
       "   ('Préludes, Livre II, L. 123: XI. (... Les tierces alternées)',\n",
       "    'Stany David Lasry'))],\n",
       " ('123-12',\n",
       "  \"Feux d'artifice\"): [(0,\n",
       "   (\"Préludes - Book 2, L.123: 12. Feux d'artifice\", 'Dino Ciani')), (1,\n",
       "   (\"Préludes / Book 2, L. 123: XII. Feux d'artifice - 1949 Recording\",\n",
       "    'Monique Haas')), (2,\n",
       "   (\"Préludes - Book II, L. 123: XII. Feux d'artifice\",\n",
       "    'Maurizio Pollini')), (3,\n",
       "   (\"Préludes / Book 2, L. 123: XII. Feux d'artifice - 1963 Recording\",\n",
       "    'Monique Haas')), (4,\n",
       "   (\"Préludes, Book 2, L .123: XII. Feux d'artifice (Fireworks)\",\n",
       "    'Květa Novotná')), (5,\n",
       "   (\"Préludes, Book 2, L. 123: No. 12, Feux d'artifice\",\n",
       "    'Paavali Jumppanen')), (6,\n",
       "   (\"Préludes Book 2, L. 123: III. Feux d'Artifice\", 'Martin Jones')), (7,\n",
       "   (\"Préludes / Book 2, L. 123 - Arr. Dan Golding: Feux d'artifice\",\n",
       "    'Dan Golding')), (8,\n",
       "   (\"Préludes / Book 2, L. 123 - Arr. Dan Golding: Feux d'artifice (Steal The Beautiful Miniature Golden Bell)\",\n",
       "    'Dan Golding')), (9,\n",
       "   (\"Préludes - Book 2, L.123: 12. Feux d'artifice\",\n",
       "    'Pierre-Laurent Aimard')), (10,\n",
       "   (\"Préludes, Book 2, L. 123 (Excerpts): No. 12, Feux d'artifice\",\n",
       "    'Jorge Federico Osorio')), (11,\n",
       "   (\"Préludes - Book 2, L.123: 12. Feux d'artifice - Live\",\n",
       "    'Krystian Zimerman')), (12,\n",
       "   (\"Préludes - Book 2, L.123: 12. Feux d'artifice\",\n",
       "    'Jean-Yves Thibaudet')), (13,\n",
       "   (\"Préludes / Book 2, L. 123: 12. Feux d'artifice\",\n",
       "    'Vanessa Benelli Mosell')), (14,\n",
       "   (\"Préludes, Book 2, L. 123: No. 12, Feux d'artifice\",\n",
       "    'Vladimir Ashkenazy')), (15,\n",
       "   (\"Préludes / Book 2, L. 123: 12. Feux d'artifice\",\n",
       "    'Arturo Benedetti Michelangeli')), (16,\n",
       "   ('Préludes, Book 2, L. 123: XII. Feux d’artifice',\n",
       "    'Angela Brownridge')), (17,\n",
       "   ('Préludes, Livre II, L. 123: XII. (... Feux d’artifice)',\n",
       "    'Stany David Lasry')), (18,\n",
       "   ('Préludes, Livre 2, L. 123: XII. Feux d’artifice. Modérément animé',\n",
       "    'Alexander Melnikov')), (19,\n",
       "   ('Préludes, Deuxième livre, L. 123: Feux d´Artifice. Modérement animé',\n",
       "    'Ivan Moravec')), (20,\n",
       "   (\"Préludes - Book 2, L.123: Feux d'artifice\", 'Natacha Kudritskaya')), (21,\n",
       "   (\"Debussy: Préludes, Livre II, CD 131, L. 123: No. 12, Feux d'artifice\",\n",
       "    'Michel Béroff')), (22,\n",
       "   (\"Préludes, Book 2, L. 123: Feux d'artifice\", 'Amir Tebenikhin')), (23,\n",
       "   (\"Debussy: Préludes, Livre II, CD 131, L. 123: No. 12, Feux d'artifice\",\n",
       "    'Youri Egorov')), (24,\n",
       "   (\"Debussy: Préludes, Livre II, CD 131, L. 123: No. 12, Feux d'artifice\",\n",
       "    'Walter Gieseking')), (25,\n",
       "   (\"Debussy: Préludes, Livre II, CD 131, L. 123: No. 12, Feux d'artifice\",\n",
       "    'Aldo Ciccolini')), (26,\n",
       "   (\"Debussy: Préludes, Livre II, CD 131, L. 123: No. 12, Feux d'artifice\",\n",
       "    'Samson François')), (27,\n",
       "   (\"Debussy: Préludes, Livre II, CD 131, L. 123: No. 12, Feux d'artifice\",\n",
       "    'Monique Haas')), (28,\n",
       "   (\"Debussy: Préludes, Livre II, CD 131, L. 123: No. 12, Feux d'artifice\",\n",
       "    'Samson François')), (29,\n",
       "   (\"Debussy: Préludes, Livre II, CD 131, L. 123: No. 12, Feux d'artifice\",\n",
       "    'Walter Gieseking')), (30,\n",
       "   (\"Préludes / Book 2, L. 123: 12. Feux d'artifice\", 'Hai-Kyung Suh')), (31,\n",
       "   (\"Debussy: Préludes, Livre II, CD 131, L. 123: No. 12, Feux d'artifice\",\n",
       "    'Walter Gieseking'))],\n",
       " ('la boite a joujoux',\n",
       "  'La boîte à joujoux'): [(0,\n",
       "   (\"Debussy: Children's Corner, CD 119a, L. 113: IV. The Snow Is Dancing\",\n",
       "    'Aldo Ciccolini'))],\n",
       " ('131-1',\n",
       "  \"Pour invoquer Pan, dieu du vent d'été\"): [(0,\n",
       "   (\"6 Épigraphes antiques, L.131: 1. Pour invoquer Pan, dieu du vent d'été\",\n",
       "    'Katia & Marielle Labèque')), (1,\n",
       "   (\"6 Épigraphes antiques, L. 131: No. 1, Pour invoquer Pan , dieu du vent d'ete\",\n",
       "    'Jacopo Salvatori')), (2,\n",
       "   (\"Six épigraphes antiques, L. 131: I. Pour invoquer Pan, dieu du vent d'été\",\n",
       "    'Georges Pludermacher')), (3,\n",
       "   (\"6 Epigraphes antiques, L. 131: I. Pour invoquer pan, dieu du vent d'été\",\n",
       "    'Duo Bilitis'))],\n",
       " ('131-2', 'Pour un tombeau sans nom'): [],\n",
       " ('131-3',\n",
       "  'Pour que la nuit soit propice'): [(0,\n",
       "   ('6 Épigraphes antiques, L.131: 3. Pour que la nuit soit propice',\n",
       "    'Katia & Marielle Labèque')), (1,\n",
       "   ('Six épigraphes antiques, L. 131: III. Pour que la nuit soit propice',\n",
       "    'Georges Pludermacher'))],\n",
       " ('131-4',\n",
       "  'Pour la danseuse aux crotales'): [(0,\n",
       "   ('6 Épigraphes antiques, L.131: 4. Pour la danseuse aux crotales',\n",
       "    'Katia & Marielle Labèque'))],\n",
       " ('131-5',\n",
       "  \"Pour l'Égyptienne\"): [(0,\n",
       "   (\"6 Épigraphes antiques, L.131: 5. Pour l'Egyptienne\",\n",
       "    'Katia & Marielle Labèque')), (1,\n",
       "   ('Six épigraphes antiques, L. 131: No. 5, Pour l’égyptienne',\n",
       "    'Keiko Toyama')), (2,\n",
       "   ('Six Épigraphes antiques, L. 131: V. Pour l’Égyptienne (For the Egyptian)',\n",
       "    'Noriko Ogawa')), (3,\n",
       "   (\"Debussy: 6 Épigraphes antiques, L. 131: V. Pour l'Égyptienne (Très modéré)\",\n",
       "    'Emmanuel Pahud')), (4,\n",
       "   (\"Debussy: 6 Épigraphes antiques, CD 139b, L. 131: No. 5, Pour l'Égyptienne\",\n",
       "    'Aldo Ciccolini')), (5,\n",
       "   (\"Debussy: 6 Épigraphes antiques, CD 139b, L. 131: No. 5, Pour l'Égyptienne\",\n",
       "    'Aldo Ciccolini')), (6,\n",
       "   (\"Six épigraphes antiques, L. 131: V. Pour l'Egyptienne\",\n",
       "    'Georges Pludermacher')), (7,\n",
       "   (\"Six épigraphes antiques, L. 131: V. Pour l'Egyptienne\",\n",
       "    'Martin Jones')), (8,\n",
       "   (\"6 Épigraphes antiques, L. 131: V. Pour l'égyptienne\",\n",
       "    'Christopher Devine'))],\n",
       " ('131-6',\n",
       "  'Pour remercier la pluie au matin'): [(0,\n",
       "   ('6 Épigraphes antiques, L. 131: VI. Pour remercier la pluie au matin',\n",
       "    'Christopher Devine'))],\n",
       " ('132',\n",
       "  'Berceuse heroique'): [(0,\n",
       "   ('Berceuse héroïque, L. 132',\n",
       "    'Zoltán Kocsis')), (1, ('Berceuse héroïque, L. 132a, CD 140a', 'Jean-Efflam Bavouzet')), (2,\n",
       "   ('Berceuse héroïque, L. 132: Berceuse heroique', 'Alfonso Alberti')), (3,\n",
       "   ('Debussy: Berceuse héroïque, CD 140, L. 132', 'Aldo Ciccolini')), (4,\n",
       "   ('Debussy: Berceuse héroïque, CD 140, L. 132', 'Samson François')), (5,\n",
       "   ('Debussy: Berceuse héroïque, CD 140, L. 132', 'Samson François')), (6,\n",
       "   ('Debussy: Berceuse héroïque, CD 140, L. 132', 'Walter Gieseking')), (7,\n",
       "   ('Debussy: Berceuse héroïque, CD 140, L. 132', 'Aldo Ciccolini')), (8,\n",
       "   ('Debussy: Berceuse héroïque, CD 140, L. 132', 'Monique Haas')), (9,\n",
       "   ('Berceuse héroïque, L.132', 'Jacques Février')), (10,\n",
       "   ('Berceuse héroïque, L. 132', 'Christopher Devine')), (11,\n",
       "   ('Berceuse héroïque, L. 132', 'Jan Michiels')), (12,\n",
       "   ('Berceuse Héroïque, L. 132', 'Denis Pascal')), (13,\n",
       "   ('Berceuse héroïque, L.132', 'Jean-Yves Thibaudet')), (14,\n",
       "   ('Berceuse héroïque, L.132', 'Gordon Fergus-Thompson')), (15,\n",
       "   ('Berceuse héroïque, L.132', 'Hans Henkemans')), (16,\n",
       "   ('Berceuse héroïque, L.132', 'Jean-Yves Thibaudet')), (17,\n",
       "   ('Berceuse héroïque, L. 132', 'Zoltán Kocsis')), (18,\n",
       "   ('Berceuse héroïque, L. 132', 'Jean Boguet')), (19,\n",
       "   ('Berceuse Héroique, L 132', 'Jean-Pierre Armengaud')), (20,\n",
       "   ('Berceuse Héroique, L. 132', 'Martin Jones')), (21,\n",
       "   ('Berceuse héroïque, L. 132', 'Anne Le Bozec'))],\n",
       " ('etude retrouvee',\n",
       "  'Étude retrouvée'): [(0, ('Etude retrouvée', 'Jean-Yves Thibaudet')), (1,\n",
       "   ('Étude retrouvée', 'Noriko Ogawa')), (2,\n",
       "   ('Etude retrouvee', 'Jean-Efflam Bavouzet')), (3,\n",
       "   ('Etude retrouvée', 'Jean-Yves Thibaudet')), (4,\n",
       "   ('Debussy: Étude retrouvée', 'Aldo Ciccolini')), (5,\n",
       "   ('Debussy: Étude retrouvée', 'Aldo Ciccolini')), (6,\n",
       "   ('Étude retrouvée', 'Michael Korstick')), (7,\n",
       "   ('Étude retrouvée', 'Elizabeth Sharma')), (8,\n",
       "   ('Étude retrouvée', 'Christopher Devine')), (9,\n",
       "   ('Etude retrouvee', 'Anne Kaasa'))],\n",
       " ('133',\n",
       "  \"Page d'album\"): [(0,\n",
       "   (\"Page d'Album, L. 133, CD 141\", 'Jean-Efflam Bavouzet')), (1,\n",
       "   ('Page d\\'album, L. 133 (Pour l\\'oeuvre du \"Vêtement du Blessé)',\n",
       "    'Zoltán Kocsis')), (2,\n",
       "   ('Page d\\'album, L.133 (Pour l\\'oeuvre du \"Vêtement du Blessé)',\n",
       "    'Jean-Yves Thibaudet')), (3,\n",
       "   (\"Page d'album, L 133\", 'Martino Tirimo')), (4, (\"Page d'album, L. 133\",\n",
       "    'Martin Jones')), (5,\n",
       "   ('Page d\\'album, L.133 (Pour l\\'oeuvre du \"Vêtement du Blessé)',\n",
       "    'Jean-Yves Thibaudet')), (6,\n",
       "   ('Page d\\'album, L. 133 (Pour l\\'oeuvre du \"Vêtement du Blessé)',\n",
       "    'Zoltán Kocsis')), (7,\n",
       "   (\"Page d'album (Piece pour le vêtement du blessé), L.133\",\n",
       "    'Gordon Fergus-Thompson')), (8,\n",
       "   ('Page d\\'album, L. 133 (Pour l\\'oeuvre du \"Vêtement du Blessé)',\n",
       "    'Zoltán Kocsis')), (9,\n",
       "   (\"Page D'album, L. 133: Pièce Pour Le Vêtement Du Blessé\", 'Minoire')), (10,\n",
       "   (\"Page d'album, L. 133\", 'Roger Woodward')), (11,\n",
       "   (\"Pièce pour le Vêtement du blessé (Page d'album), L. 133\", 'Jörg Demus'))],\n",
       " ('136-1',\n",
       "  \"Pour les cinq doigts d'après monsieur Czerny\"): [(0,\n",
       "   ('12 Etudes, L. 136: I. Pour les \"cinq doigts\" (d\\'après Monsieur Czerny)',\n",
       "    'Monique Haas')), (1,\n",
       "   ('12 Etudes, L.136: 1. Pour les \"cinq doigts\" (d\\'après Monsieur Czerny)',\n",
       "    'Maurizio Pollini')), (2,\n",
       "   ('12 Etudes, L.136: 1. Pour les \"cinq doigts\" (d\\'après Monsieur Czerny)',\n",
       "    'Jean-Yves Thibaudet')), (3,\n",
       "   ('12 Etudes, L.136: 1. Pour les \"cinq doigts\" (d\\'après Monsieur Czerny)',\n",
       "    'Mitsuko Uchida')), (4,\n",
       "   (\"Claude Debussy - Études L. 136 - 1. Pour les cinq doigts, d'apres Monsieur Czerny\",\n",
       "    'Thomas Rouzic')), (5,\n",
       "   (\"Étude 1 pour les cinq doigts d'après Monsieur Czerny L.136\",\n",
       "    'Krystian Wojno')), (6,\n",
       "   (\"Études, 1er Livre, L. 136: Pour les 'cinq doigts' d'après Monsieur Czerny\",\n",
       "    'Jan Michiels')), (7,\n",
       "   ('Etudes, L. 136: I. pour les \"Cinq doigts\" d\\'apres Monsieur Czerny',\n",
       "    'Martin Jones')), (8,\n",
       "   (\"Etudes, Livre 1, L. 136: I. Pour les cinq doigts, d'après Monsieur Czerny\",\n",
       "    'Elodie Vignon')), (9,\n",
       "   ('12 Etudes, L.136: 1. Pour les \"cinq doigts\" (d\\'après Monsieur Czerny)',\n",
       "    'Hans Henkemans')), (10,\n",
       "   ('12 Etudes, L.136: 1. Pour les \"cinq doigts\" (d\\'après Monsieur Czerny)',\n",
       "    'Jean-Yves Thibaudet'))],\n",
       " ('136-2',\n",
       "  'Pour les tierces'): [(0,\n",
       "   ('12 Etudes, L. 136: II. Pour les Tierces', 'Monique Haas')), (1,\n",
       "   ('12 Etudes, L.136: 2. Pour les Tierces', 'Jean-Yves Thibaudet')), (2,\n",
       "   ('12 Etudes Book 1, L. 136: II. Pour les tierces', 'Monique Haas')), (3,\n",
       "   ('12 Etudes, L.136: 2. Pour les Tierces', 'Mitsuko Uchida')), (4,\n",
       "   ('Debussy: 12 Études, CD 143, L. 136: No. 2, Pour les tierces',\n",
       "    'Pierre-Laurent Aimard')), (5,\n",
       "   ('Claude Debussy - Études L. 136 - 2. Pour les tierces',\n",
       "    'Thomas Rouzic')), (6,\n",
       "   ('Debussy: 12 Études, L. 136a, Book 1: II. Pour les Tierces',\n",
       "    'Pierre-Laurent Aimard')), (7,\n",
       "   ('12 Etudes, L.136: 2. Pour les Tierces', 'Maurizio Pollini')), (8,\n",
       "   ('Etudes, L. 136: II. Pour les tierces', 'Lucas Wong')), (9,\n",
       "   ('Etudes, L. 136: II. Pour les Tierces', 'Martin Jones')), (10,\n",
       "   ('12 Etudes, L.136: 2. Pour les Tierces', 'Mitsuko Uchida')), (11,\n",
       "   ('12 Etudes, L.136: 2. Pour les Tierces', 'Maurizio Pollini')), (12,\n",
       "   ('Études L. 136: II. Pour les tierces', 'Krystian Wojno')), (13,\n",
       "   ('Debussy: 12 Études, CD 143, L. 136: No. 2, Pour les tierces',\n",
       "    'Aldo Ciccolini')), (14,\n",
       "   ('Debussy: 12 Études, CD 143, L. 136: No. 2, Pour les tierces',\n",
       "    'Walter Gieseking')), (15,\n",
       "   ('Debussy: 12 Études, CD 143, L. 136: No. 2, Pour les tierces',\n",
       "    'Anne Queffélec')), (16,\n",
       "   ('Études, 1er Livre, L.136: Pour les tierces', 'Jan Michiels'))],\n",
       " ('136-3',\n",
       "  'Pour les quartes'): [(0,\n",
       "   ('12 Etudes, L. 136: III. Pour les Quartes', 'Monique Haas')), (1,\n",
       "   ('12 Etudes, L.136: 3. Pour les Quartes', 'Jean-Yves Thibaudet')), (2,\n",
       "   ('12 Etudes, L.136: 3. Pour les Quartes', 'Mitsuko Uchida')), (3,\n",
       "   ('12 Etudes, L.136: 3. Pour les Quartes', 'Werner Haas')), (4,\n",
       "   ('Debussy: 12 Études, CD 143, L. 136: No. 3, Pour les quartes',\n",
       "    'Pierre-Laurent Aimard')), (5,\n",
       "   ('Claude Debussy - Études L. 136 - 3. Pour les quartes',\n",
       "    'Thomas Rouzic')), (6,\n",
       "   ('Etudes, L. 136: III. Pour les quartes', 'Lucas Wong')), (7,\n",
       "   ('Etudes, L. 136: III. Pour les Quartes', 'Martin Jones')), (8,\n",
       "   ('Debussy: 12 Études, L. 136a, Book 1: III. Pour les Quartes',\n",
       "    'Pierre-Laurent Aimard')), (9,\n",
       "   ('12 Etudes, L.136: 3. Pour les Quartes', 'Maurizio Pollini')), (10,\n",
       "   ('Études L. 136: III. Pour les quartes', 'Krystian Wojno')), (11,\n",
       "   ('12 Etudes, L.136: 3. Pour les Quartes', 'Mitsuko Uchida')), (12,\n",
       "   ('12 Etudes, L.136: 3. Pour les Quartes', 'Maurizio Pollini')), (13,\n",
       "   ('Debussy: 12 Études, CD 143, L. 136: No. 3, Pour les quartes',\n",
       "    'Michel Béroff')), (14,\n",
       "   ('Debussy: 12 Études, CD 143, L. 136: No. 3, Pour les quartes',\n",
       "    'Aldo Ciccolini')), (15,\n",
       "   ('Debussy: 12 Études, CD 143, L. 136: No. 3, Pour les quartes',\n",
       "    'Walter Gieseking'))],\n",
       " ('136-4',\n",
       "  'Pour les sixtes'): [(0,\n",
       "   ('12 Etudes, L. 136: IV. Pour les Sixtes', 'Monique Haas')), (1,\n",
       "   ('12 Etudes, L.136: 4. Pour les Sixtes', 'Jean-Yves Thibaudet')), (2,\n",
       "   ('12 Etudes, L. 136: 4. Pour les sixtes', 'HieYon Choi')), (3,\n",
       "   ('12 Etudes, L.136: 4. Pour les Sixtes', 'Mitsuko Uchida')), (4,\n",
       "   ('Debussy: 12 Études, CD 143, L. 136: No. 4, Pour les sixtes',\n",
       "    'Pierre-Laurent Aimard')), (5,\n",
       "   ('12 Etudes, L.136: 4. Pour les Sixtes', 'Jean-Yves Thibaudet')), (6,\n",
       "   ('Claude Debussy - Études L. 136 - 4. Pour les sixtes',\n",
       "    'Thomas Rouzic')), (7,\n",
       "   ('Etudes, L. 136: IV. Pour les Sixtes', 'Martin Jones')), (8,\n",
       "   ('12 Etudes, L.136: 4. Pour les Sixtes', 'Maurizio Pollini')), (9,\n",
       "   ('Debussy: 12 Études, L. 136a, Book 1: IV. Pour les Sixtes',\n",
       "    'Pierre-Laurent Aimard')), (10,\n",
       "   ('Études L. 136: IV. Pour les sixtes', 'Krystian Wojno')), (11,\n",
       "   ('12 Etudes, L.136: 4. Pour les Sixtes', 'Mitsuko Uchida')), (12,\n",
       "   ('12 Etudes, L.136: 4. Pour les Sixtes', 'Maurizio Pollini')), (13,\n",
       "   ('Debussy: 12 Études, CD 143, L. 136: No. 4, Pour les sixtes',\n",
       "    'Aldo Ciccolini')), (14,\n",
       "   ('12 Etudes, L.136: 4. Pour les Sixtes', 'Werner Haas'))],\n",
       " ('136-5',\n",
       "  'Pour les octaves'): [(0,\n",
       "   ('12 Etudes, L.136: 5. Pour les Octaves', 'Maurizio Pollini')), (1,\n",
       "   ('12 Etudes, L. 136: V. Pour les Octaves', 'Monique Haas')), (2,\n",
       "   ('12 Etudes, L.136: 5. Pour les Octaves', 'Mitsuko Uchida')), (3,\n",
       "   ('Debussy: Douze Etudes L.136 - V. Pour Les Octaves', 'Dimanche FR')), (4,\n",
       "   ('Claude Debussy - Études L. 136 - 5. Pour les octaves',\n",
       "    'Thomas Rouzic')), (5,\n",
       "   ('Debussy: 12 Études, L. 136a, Book 1: V. Pour les Octaves',\n",
       "    'Pierre-Laurent Aimard')), (6,\n",
       "   ('12 Etudes, L.136: 5. Pour les Octaves', 'Mitsuko Uchida')), (7,\n",
       "   ('Etudes, L. 136: V. pour les Octaves', 'Martin Jones')), (8,\n",
       "   ('Etudes, L. 136: V. Pour les Octaves', 'Lucas Wong'))],\n",
       " ('136-6',\n",
       "  'Pour les huit doigts'): [(0,\n",
       "   ('12 Etudes, L.136: 6. Pour les huit doigts', 'Maurizio Pollini')), (1,\n",
       "   ('12 Etudes, L. 136: VI. Pour les huit doigts - 1951 Recording',\n",
       "    'Monique Haas')), (2,\n",
       "   ('12 Etudes, L. 136: VI. Pour les huit doigts - 1949 Recording',\n",
       "    'Monique Haas')), (3,\n",
       "   ('12 Etudes, L.136: 6. Pour les huit doigts', 'Mitsuko Uchida')), (4,\n",
       "   ('12 Etudes, L.136: 6. Pour les huit doigts', 'Werner Haas')), (5,\n",
       "   ('12 Etudes, L.136: 6. Pour les huit doigts', 'Mitsuko Uchida')), (6,\n",
       "   ('Debussy: 12 Études, CD 143, L. 136: No. 6, Pour les huit doigts',\n",
       "    'Pierre-Laurent Aimard')), (7,\n",
       "   ('Claude Debussy - Études L. 136 - 6. Pour les huit doigts',\n",
       "    'Thomas Rouzic')), (8,\n",
       "   ('Etudes, L. 136: VI. Pour les huit doigts', 'Lucas Wong')), (9,\n",
       "   ('Etudes, L. 136: VI. pour les huit doigts', 'Martin Jones')), (10,\n",
       "   ('Études L. 136: VI. Pour les huit doigts', 'Krystian Wojno'))],\n",
       " ('136-7',\n",
       "  'Pour les degrés chromatiques'): [(0,\n",
       "   ('12 Etudes, L. 136: VII. Pour les Degrés chromatiques',\n",
       "    'Monique Haas')), (1,\n",
       "   ('12 Etudes, L.136: 7. Pour les Degrés chromatiques',\n",
       "    'Mitsuko Uchida')), (2,\n",
       "   ('Claude Debussy - Études L. 136 - 7. Pour les degrés chromatiques',\n",
       "    'Thomas Rouzic')), (3,\n",
       "   ('Etudes, L. 136: VII. Pour les Degrés chromatiques', 'Martin Jones')), (4,\n",
       "   ('Études L. 136: VII. Pour les degrés chromatiques', 'Krystian Wojno')), (5,\n",
       "   ('12 Etudes, L.136: 7. Pour les Degrés chromatiques',\n",
       "    'Maurizio Pollini')), (6,\n",
       "   ('12 Etudes, L.136: 7. Pour les Degrés chromatiques',\n",
       "    'Maurizio Pollini')), (7,\n",
       "   ('Etudes, L. 136: VII. Pour les degrés chromatiques', 'Lucas Wong')), (8,\n",
       "   ('12 Etudes, L.136: 7. Pour les Degrés chromatiques',\n",
       "    'Jean-Yves Thibaudet')), (9,\n",
       "   ('12 Etudes, L.136: 7. Pour les Degrés chromatiques',\n",
       "    'Maurizio Pollini')), (10,\n",
       "   ('Debussy: 12 Études, L. 136b, Book 2: VII. Pour les degrés chromatiques',\n",
       "    'Pierre-Laurent Aimard')), (11,\n",
       "   ('12 Etudes, L.136: 7. Pour les Degrés chromatiques',\n",
       "    'Jean-Yves Thibaudet')), (12,\n",
       "   ('12 Etudes, L.136: 7. Pour les Degrés chromatiques',\n",
       "    'Mitsuko Uchida')), (13,\n",
       "   ('12 Etudes, L.136: 7. Pour les Degrés chromatiques', 'Momo Kodama')), (14,\n",
       "   ('12 Etudes, L.136: 7. Pour les degrés chromatiques',\n",
       "    'Gordon Fergus-Thompson'))],\n",
       " ('136-8',\n",
       "  'Pour les agréments'): [(0,\n",
       "   ('12 Etudes, L. 136: VIII. Pour les Agréments', 'Monique Haas')), (1,\n",
       "   ('12 Etudes, L.136: 8. Pour les Agréments', 'Jean-Yves Thibaudet')), (2,\n",
       "   ('12 Etudes, L.136: 8. Pour les Agréments', 'Werner Haas')), (3,\n",
       "   ('12 Etudes, L.136: 8. Pour les Agréments', 'Mitsuko Uchida')), (4,\n",
       "   ('Debussy: 12 Études, CD 143, L. 136: No. 8, Pour les agréments',\n",
       "    'Pierre-Laurent Aimard')), (5,\n",
       "   ('Claude Debussy - Études L. 136 - 8. Pour les agréments',\n",
       "    'Thomas Rouzic')), (6,\n",
       "   ('12 Etudes, L.136: 8. Pour les Agréments', 'Maurizio Pollini')), (7,\n",
       "   ('Étude 8 pour les agréments L.136', 'Krystian Wojno')), (8,\n",
       "   ('Debussy: 12 Études, L. 136b, Book 2: VIII. Pour les agréments',\n",
       "    'Pierre-Laurent Aimard')), (9,\n",
       "   ('12 Etudes, L.136: 8. Pour les Agréments', 'Maurizio Pollini')), (10,\n",
       "   ('12 Etudes, L.136: 8. Pour les Agréments', 'Mitsuko Uchida')), (11,\n",
       "   ('Etudes, L. 136: VIII. Pour les Agréments', 'Martin Jones')), (12,\n",
       "   ('12 Etudes, L.136: 8. Pour les Agréments', 'Maurizio Pollini')), (13,\n",
       "   ('12 Etudes, L. 136: 8. Pour les agréments', 'Jacques Février')), (14,\n",
       "   ('Debussy: 12 Études, CD 143, L. 136: No. 8, Pour les agréments',\n",
       "    'Walter Gieseking')), (15,\n",
       "   ('Debussy: 12 Études, CD 143, L. 136: No. 8, Pour les agréments',\n",
       "    'Michel Béroff')), (16,\n",
       "   ('Debussy: 12 Études, CD 143, L. 136: No. 8, Pour les agréments',\n",
       "    'Anne Queffélec')), (17,\n",
       "   ('Debussy: 12 Études, CD 143, L. 136: No. 8, Pour les agréments',\n",
       "    'Aldo Ciccolini')), (18,\n",
       "   ('Debussy: 12 Études, CD 143, L. 136: No. 8, Pour les agréments',\n",
       "    'Samson François'))],\n",
       " ('136-9',\n",
       "  'Pour les notes répétées'): [(0,\n",
       "   ('12 Etudes, L. 136: IX. Pour les Notes répétées', 'Monique Haas')), (1,\n",
       "   ('12 Etudes, L.136: 9. Pour les Notes répétées',\n",
       "    'Jean-Yves Thibaudet')), (2,\n",
       "   ('12 Etudes, L.136: 9. Pour les Notes répétées', 'Mitsuko Uchida')), (3,\n",
       "   ('Debussy: 12 Études, CD 143, L. 136: No. 9, Pour les notes répétées',\n",
       "    'Pierre-Laurent Aimard')), (4,\n",
       "   ('Claude Debussy - Études L. 136 - 9. Pour les notes répétées',\n",
       "    'Thomas Rouzic')), (5,\n",
       "   ('Etudes, L. 136: IX. Pour les notes répétées', 'Lucas Wong')), (6,\n",
       "   ('Etudes, L. 136: IX. Pour les Notes répétées', 'Martin Jones')), (7,\n",
       "   ('12 Etudes, L.136: 9. Pour les Notes répétées', 'Maurizio Pollini')), (8,\n",
       "   ('Études L. 136: IX. Pour les notes répétées', 'Krystian Wojno')), (9,\n",
       "   ('12 Etudes, L.136: 9. Pour les Notes répétées', 'Mitsuko Uchida')), (10,\n",
       "   ('12 Etudes, L.136: 9. Pour les Notes répétées', 'Maurizio Pollini')), (11,\n",
       "   ('12 Etudes, L.136: 9. Pour les Notes répétées', 'Maurizio Pollini')), (12,\n",
       "   ('12 Etudes, L.136: 9. Pour les notes répétées',\n",
       "    'Gordon Fergus-Thompson'))],\n",
       " ('136-10',\n",
       "  'Pour les sonorités opposées'): [(0,\n",
       "   ('12 Etudes, L. 136: X. Pour les Sonorités opposées', 'Monique Haas')), (1,\n",
       "   ('12 Etudes, L.136: 10. Pour les Sonorités opposées',\n",
       "    'Jean-Yves Thibaudet')), (2,\n",
       "   ('12 Etudes, L.136: 10. Pour les Sonorités opposées',\n",
       "    'Mitsuko Uchida')), (3,\n",
       "   ('Claude Debussy - Études L. 136 - 10. Pour les sonorités opposées',\n",
       "    'Thomas Rouzic')), (4,\n",
       "   ('12 Etudes, L.136: 10. Pour les Sonorités opposées',\n",
       "    'Maurizio Pollini')), (5,\n",
       "   ('Étude 10 pour les sonorités opposées L.136', 'Krystian Wojno')), (6,\n",
       "   ('12 Etudes, L.136: 10. Pour les Sonorités opposées',\n",
       "    'Jean-Yves Thibaudet')), (7,\n",
       "   ('12 Etudes, L.136: 10. Pour les Sonorités opposées',\n",
       "    'Mitsuko Uchida')), (8,\n",
       "   ('12 Etudes, L.136: 10. Pour les Sonorités opposées',\n",
       "    'Maurizio Pollini')), (9,\n",
       "   ('Debussy: 12 Études, L. 136b, Book 2: X. Pour les sonorités opposées',\n",
       "    'Pierre-Laurent Aimard')), (10,\n",
       "   ('12 Etudes, L.136: 10. Pour les Sonorités opposées', 'Mitsuko Uchida'))],\n",
       " ('136-11',\n",
       "  'Pour les arpèges composés'): [(0,\n",
       "   ('12 Etudes, L.136: 11. Pour les Arpèges composés', 'Mitsuko Uchida')), (1,\n",
       "   ('12 Etudes, L. 136: XI. Pour les Arpèges composés', 'Monique Haas')), (2,\n",
       "   ('12 Etudes, L.136: 11. Pour les Arpèges composés', 'Werner Haas')), (3,\n",
       "   ('12 Etudes, L.136: 11. Pour les Arpèges composés',\n",
       "    'Jean-Yves Thibaudet')), (4,\n",
       "   ('12 Etudes, L.136: 11. Pour les Arpèges composés', 'Mitsuko Uchida')), (5,\n",
       "   ('Études, L. 136: I. Pour les Arpeges Composes', 'Martin Jones')), (6,\n",
       "   ('Etudes, Livre 2, L. 136: XI. Pour les arpèges composés',\n",
       "    'Elodie Vignon')), (7,\n",
       "   ('Debussy: 12 Études, CD 143, L. 136: No. 11, Pour les arpèges composés',\n",
       "    'Pierre-Laurent Aimard')), (8,\n",
       "   ('12 Etudes, L.136: 11. Pour les Arpèges composés', 'Mitsuko Uchida')), (9,\n",
       "   ('Études, L. 136: No. 11, Pour les arpèges composés',\n",
       "    'Vladimir Horowitz')), (10,\n",
       "   ('Etude No.11 pour les Arpèges Composés, L.136',\n",
       "    'Alexis Weissenberg')), (11,\n",
       "   ('12 Etudes, L. 136: No. 11, Pour les arpèges composés',\n",
       "    'Cecile Ousset')), (12,\n",
       "   ('Études, L. 136, Book 2: No. 11, Pour les arpèges composés',\n",
       "    'Aleck Karis')), (13,\n",
       "   ('Claude Debussy - Études L. 136 - 11. Pour les arpéges composés',\n",
       "    'Thomas Rouzic')), (14,\n",
       "   ('12 Etudes, L.136: 11. Pour les Arpèges composés',\n",
       "    'Maurizio Pollini')), (15,\n",
       "   ('Étude 11 pour les arpèges composés L.136', 'Krystian Wojno')), (16,\n",
       "   ('12 Etudes, L.136: 11. Pour les Arpèges composés', 'Maurizio Pollini'))],\n",
       " ('136-12',\n",
       "  'Pour les accords'): [(0,\n",
       "   ('12 Etudes, L. 136: XII. Pour les Accords', 'Monique Haas')), (1,\n",
       "   ('12 Etudes, L.136: 12. Pour les Accords', 'Jean-Yves Thibaudet')), (2,\n",
       "   ('Études, L. 136: II. Pour les Accords', 'Martin Jones')), (3,\n",
       "   ('12 Etudes, L.136: 12. Pour les Accords', 'Mitsuko Uchida')), (4,\n",
       "   ('Claude Debussy - Études L. 136 - 12. Pour les accords',\n",
       "    'Thomas Rouzic')), (5,\n",
       "   ('Debussy: 12 Études, L. 136b, Book 2: XII. Pour les accords',\n",
       "    'Pierre-Laurent Aimard')), (6,\n",
       "   ('Etudes, L. 136: XII. Pour les accords', 'Lucas Wong')), (7,\n",
       "   ('12 Etudes, L.136: 12. Pour les Accords', 'Maurizio Pollini')), (8,\n",
       "   ('Etudes, L. 136: XII. Pour les Accords', 'Martin Jones')), (9,\n",
       "   ('12 Etudes, L.136: 12. Pour les Accords', 'Maurizio Pollini')), (10,\n",
       "   ('12 Etudes, L.136: 12. Pour les Accords', 'Maurizio Pollini')), (11,\n",
       "   ('Études L. 136: XII. Pour les accords', 'Krystian Wojno')), (12,\n",
       "   ('12 Etudes, L.136: 12. Pour les Accords', 'Mitsuko Uchida')), (13,\n",
       "   ('12 Etudes, L.136: 12. Pour les Accords', 'Maurizio Pollini')), (14,\n",
       "   ('Debussy: 12 Études, CD 143, L. 136: No. 12, Pour les accords',\n",
       "    'Walter Gieseking')), (15,\n",
       "   ('Debussy: 12 Études, CD 143, L. 136: No. 12, Pour les accords',\n",
       "    'Michel Béroff')), (16,\n",
       "   ('Debussy: 12 Études, CD 143, L. 136: No. 12, Pour les accords',\n",
       "    'Samson François')), (17,\n",
       "   ('12 Etudes, L. 136: 12. Pour les accords', 'HieYon Choi'))],\n",
       " ('138', 'Élégie'): [(0, ('Élégie, L. 138', 'Daniel Barenboim')),\n",
       "  (1, ('Élégie, L.138', 'Gordon Fergus-Thompson')),\n",
       "  (2, ('Élégie, L. 138', 'Alexei Lubimov')),\n",
       "  (3, ('Élégie, L. 138, CD 146', 'Jean-Efflam Bavouzet')),\n",
       "  (4, ('Debussy: Élégie, CD 146, L. 138', 'Aldo Ciccolini')),\n",
       "  (5, ('Debussy: Élégie, CD 146, L. 138', 'Aldo Ciccolini')),\n",
       "  (6,\n",
       "   ('Èlégie, L 138 (Lent Et Douloureux) (Debussy)', 'Jean-Pierre Armengaud'))],\n",
       " (\"les soirs illumines par l'ardeur du charbon\",\n",
       "  \"Les Soirs illuminés par l'ardeur du charbon\"): [(0,\n",
       "   (\"Les Soirs illuminés par l'ardeur du charbon\", 'Alain Planès')),\n",
       "  (1, (\"Les soirs illuminés par l'ardeur du charbon\", 'Philippe Cassard')),\n",
       "  (2, (\"Les soirs illuminés par l'ardeur du charbon\", 'Philippe Cassard')),\n",
       "  (3, (\"Les soirs illuminés par l'ardeur du charbon\", 'Philippe Cassard')),\n",
       "  (4, (\"Les soirs illuminés par l'ardeur du charbon, L. 150\", 'Jenny Lin')),\n",
       "  (5, (\"Les soirs illuminés par l'ardeur du charbon\", 'Natacha Kudritskaya')),\n",
       "  (6, (\"Les soirs illuminés par l'ardeur du charbon\", 'Takayuki Ito')),\n",
       "  (7, (\"Les soirs illumines par l'ardeur du charbon\", 'Larissa Dedova')),\n",
       "  (8, (\"Les soirs illuminés par l'ardeur du charbon\", 'François Chaplin')),\n",
       "  (9, (\"Les soirs illumines par l'ardeur du charbon\", 'Michael Lewin')),\n",
       "  (10,\n",
       "   (\"Les soirs illumines par l'ardeur du charbon\", 'Jean-Efflam Bavouzet')),\n",
       "  (11, (\"Les soirs illumines par l'ardeur du charbon\", 'Noriko Ogawa')),\n",
       "  (12, (\"Les soirs illuminés par l'ardeur du charbon\", 'Philippe Cassard')),\n",
       "  (13, (\"Les soirs illuminés par l'ardeur du charbon\", 'Ivo Kaltchev')),\n",
       "  (14, (\"Les soirs illuminés par l'ardeur du charbon\", 'Yu Kosuge')),\n",
       "  (15, (\"Les soirs illuminés par l'ardeur du charbon\", 'Evgeni Koroliov')),\n",
       "  (16, (\"Les soirs illuminés par l'ardeur du charbon\", 'Bennett Lerner')),\n",
       "  (17, (\"Les soirs illuminés par l'ardeur du charbon\", 'Jan Michiels')),\n",
       "  (18, (\"Les soirs illumines par l'ardeur du charbon\", 'Michael Korstick')),\n",
       "  (19,\n",
       "   (\"Debussy: Les soirs illuminés par l'ardeur du charbon, CD 150\",\n",
       "    'Alain Planès')),\n",
       "  (20,\n",
       "   (\"Les soirs illuminés par l'ardeur du charbon, CD 150\", 'Denis Pascal')),\n",
       "  (21,\n",
       "   (\"Les soirs illuminés par l'ardeur du charbon, L. 150\", 'Ralph van Raat'))]}"
      ]
     },
     "execution_count": 6,
     "metadata": {},
     "output_type": "execute_result"
    }
   ],
   "source": [
    "track_titles = {}\n",
    "for key, title in pieces.loc[pieces.key.notna(), ['key', 'title']].itertuples(index=False):\n",
    "    recordings = pieces_data[key]\n",
    "    track_info = [(track['name'], track['artist']) for track in recordings]\n",
    "    track_titles[(key, title)] = list(enumerate(track_info))\n",
    "track_titles"
   ]
  },
  {
   "cell_type": "markdown",
   "metadata": {},
   "source": [
    "#### Exclude wrong search results and store"
   ]
  },
  {
   "cell_type": "code",
   "execution_count": 7,
   "metadata": {},
   "outputs": [],
   "source": [
    "pieces_data['095-1'] = pieces_data['095-1'][:21] + pieces_data['095-1'][23:]\n",
    "with open(RESULT_JSON, \"w\", encoding='utf-8') as f:\n",
    "    json.dump(pieces_data, f)    "
   ]
  },
  {
   "cell_type": "markdown",
   "metadata": {},
   "source": [
    "### Function for computing median \n",
    "returns {leisure->median_dur}"
   ]
  },
  {
   "cell_type": "code",
   "execution_count": 8,
   "metadata": {},
   "outputs": [
    {
     "name": "stdout",
     "output_type": "stream",
     "text": [
      "131-2 duration missing\n",
      "{'009': 124599.5, 'intermede': 256640.0, '066-1': 241860.5, '067': 175913.0, '068': 265426.5, '069': 331529.0, '070': 396014.0, '071': 221450.0, '075-1': 245829.0, '075-2': 249453.0, '075-3': 303454.0, '075-4': 223143.0, '066-2': 213933.0, '082': 406573.0, '087-1': 223646.0, '087-2': 291493.0, '087-3': 242945.0, '095-2': 311086.5, '095-1': 246743.0, '095-3': 233760.0, '099': 294606.5, '100-1': 300173.0, '100-2': 322066.0, '100-3': 226853.0, '105': 283240.0, '106': 355413.0, '108': 54760.0, '110-1': 306487.5, '110-2': 420733.0, '110-3': 207957.0, '113-1': 133640.0, '113-2': 207704.5, '113-3': 165133.0, '113-4': 157740.0, '113-5': 144386.0, '113-6': 175715.0, '111-1': 271569.0, '111-2': 332779.5, '111-3': 246329.5, '114': 97448.0, '115': 141874.0, '117-1': 197746.0, '117-10': 398693.0, '117-2': 233020.0, '117-3': 132120.0, '117-5': 186133.0, '117-6': 257732.0, '117-7': 211000.0, '117-9': 163066.0, '117-11': 167260.0, '117-12': 147076.0, '117-4': 218780.0, '117-8': 151440.0, '121': 258755.0, '123-1': 185686.5, '123-2': 213406.5, '123-3': 204000.0, '123-4': 188113.0, '123-5': 176780.0, '123-6': 155386.5, '123-7': 280969.0, '123-8': 197586.5, '123-9': 154932.0, '123-10': 173946.5, '123-11': 160426.0, '123-12': 267068.5, 'la boite a joujoux': 203906.0, '131-1': 148293.0, '131-2': -1, '131-3': 148613.0, '131-4': 144866.0, '131-5': 198120.0, '131-6': 138386.0, '132': 258239.5, 'etude retrouvee': 272553.0, '133': 68945.0, '136-1': 183000.0, '136-2': 215000.0, '136-3': 311140.0, '136-4': 257000.0, '136-5': 163826.0, '136-6': 93133.0, '136-7': 133000.0, '136-8': 288746.0, '136-9': 192400.0, '136-10': 319000.0, '136-11': 255000.0, '136-12': 296064.5, '138': 133973.0, \"les soirs illumines par l'ardeur du charbon\": 145826.5}\n"
     ]
    }
   ],
   "source": [
    "\n",
    "def compute_median_from_tracks_list(filename):\n",
    "    \n",
    "    # reading from file \n",
    "    pieces_data = json.loads(open(filename, \"r\").read())\n",
    "\n",
    "    # obtaining medians \n",
    "    median_durations = {}\n",
    "    for piece in pieces_data:\n",
    "        durations = [t['duration_ms'] for t in  pieces_data[piece]] \n",
    "        if not durations: \n",
    "            print(piece + \" duration missing\")\n",
    "            median_dur = -1\n",
    "        else: \n",
    "            median_dur = pd.DataFrame(durations).median().values[0]\n",
    "        median_durations[piece] = median_dur\n",
    "    return median_durations\n",
    "\n",
    "print(compute_median_from_tracks_list(RESULT_JSON))\n",
    "    \n",
    "    "
   ]
  },
  {
   "cell_type": "code",
   "execution_count": 4,
   "metadata": {},
   "outputs": [],
   "source": [
    "links = {} # collected from the search 'mozart complete piano'\n",
    "links['say'] = 'spotify:album:16RpGAof6TMerrEaGfG1sL'\n",
    "links['barenboim'] = 'spotify:album:0RLPXICOApN0gXaqutndwJ'\n",
    "links['brautigam'] = 'spotify:album:1oOpxTQAQ7YB8oqOwnnzq5'\n",
    "links['leygraf'] = 'spotify:album:3EL4qbNiOlhOgjVDkTU499'\n",
    "links['gieseking'] = 'spotify:album:3ADG19bG9seOkh5HSTDnwo'\n",
    "#links['van_oort'] = 'spotify:album:0DQAS2R5f4eYIJwns0mxCL' (deviating #movements in K. 331)\n",
    "links['endres'] = 'spotify:album:4lIEN4Ll8PIkgE30KGFyCj'\n",
    "#links['uchida'] = 'spotify:album:7DrgRyCKnviHUTlTyP32wA' (movement numbers not Roman)\n",
    "links['mauser'] = 'spotify:album:5N0Edf6DsZQ56Q19vKqEOg'\n",
    "links['deyanova'] = 'spotify:album:3U8EtwYB2NPnGtlfyFw5z7'\n",
    "links['mamou'] = 'spotify:album:0yAYm26SkzQtil5SZvxkOu'\n",
    "#links['badura-skoda'] = 'spotify:album:6uiVpRRqZQOY3lc6GhkZux' (includes movement numbers IV. and i.)\n",
    "#links['tirimo'] = 'spotify:album:1tTqsxhN5BFD4sSR3xQ8hz' (no movement numbers)\n",
    "kv = ['279','280','281','282','283','284','309','311','310','330','331','332','333','457','533','545','570','576']"
   ]
  },
  {
   "cell_type": "code",
   "execution_count": 5,
   "metadata": {},
   "outputs": [
    {
     "data": {
      "text/plain": [
       "dict_keys(['album_type', 'artists', 'available_markets', 'copyrights', 'external_ids', 'external_urls', 'genres', 'href', 'id', 'images', 'label', 'name', 'popularity', 'release_date', 'release_date_precision', 'total_tracks', 'tracks', 'type', 'uri'])"
      ]
     },
     "execution_count": 5,
     "metadata": {},
     "output_type": "execute_result"
    }
   ],
   "source": [
    "a = sp.album('spotify:album:16RpGAof6TMerrEaGfG1sL')\n",
    "a.keys()"
   ]
  },
  {
   "cell_type": "code",
   "execution_count": 6,
   "metadata": {},
   "outputs": [
    {
     "data": {
      "text/plain": [
       "{'say': 'spotify:album:16RpGAof6TMerrEaGfG1sL',\n",
       " 'barenboim': 'spotify:album:0RLPXICOApN0gXaqutndwJ',\n",
       " 'endres': 'spotify:album:4lIEN4Ll8PIkgE30KGFyCj',\n",
       " 'mauser': 'spotify:album:5N0Edf6DsZQ56Q19vKqEOg',\n",
       " 'deyanova': 'spotify:album:3U8EtwYB2NPnGtlfyFw5z7',\n",
       " 'mamou': 'spotify:album:0yAYm26SkzQtil5SZvxkOu'}"
      ]
     },
     "execution_count": 6,
     "metadata": {},
     "output_type": "execute_result"
    }
   ],
   "source": [
    "selected = {k: v for i, (k, v) in enumerate(links.items()) if i in [0,1,5,6,7,8]}\n",
    "selected"
   ]
  },
  {
   "cell_type": "code",
   "execution_count": 7,
   "metadata": {},
   "outputs": [
    {
     "name": "stdout",
     "output_type": "stream",
     "text": [
      "Fazıl Say - Warner Classics - 2016-09-30\n",
      "Daniel Barenboim - Warner Classics - 2013-08-02\n",
      "Michael Endres - Oehms Classics - 2011-03-01\n",
      "Siegfried Mauser - Celestial Harmonies - 2014-10-24\n",
      "Marta Deyanova - Nimbus Records - 1996\n",
      "Roberte Mamou - Ligia - 2015-10-30\n"
     ]
    }
   ],
   "source": [
    "for name, id in selected.items():\n",
    "    a = sp.album(id)\n",
    "    print(f\"{a['artists'][1]['name']} - {a['label']} - {a['release_date']}\")"
   ]
  },
  {
   "cell_type": "code",
   "execution_count": 8,
   "metadata": {},
   "outputs": [],
   "source": [
    "suffixes = {'I':'-1','II':'-2', 'III':'-3'}\n",
    "data = {('K'+k,r):[] for k in kv for r in ['-1','-2','-3']}\n",
    "ids = {'id': {}}\n",
    "for player,uri in links.items():\n",
    "    tracks = sp.album_tracks(uri)\n",
    "    while tracks:\n",
    "        for t in tracks['items']:\n",
    "            for k in kv:\n",
    "                if re.search(k+'[^a-z]',t['name']):\n",
    "                    try:\n",
    "                        m = re.search(r'\\s(I|II|III)\\.',t['name'])[1]\n",
    "                    except:\n",
    "                        print(player,t['name'])\n",
    "                    key = ('K'+k,suffixes[m])\n",
    "                    data[key].append(t['duration_ms'])\n",
    "                    ids['id'][(f\"K{k}{suffixes[m]}\", player)] = t['id']\n",
    "        tracks = sp.next(tracks)\n",
    "df = pd.DataFrame.from_dict(data,orient='index',columns=links.keys())\n",
    "#df.index = pd.MultiIndex.from_tuples(df.index,names=['K','movement'])\n",
    "df.index = [''.join(i) for i in df.index]"
   ]
  },
  {
   "cell_type": "code",
   "execution_count": 9,
   "metadata": {
    "scrolled": true
   },
   "outputs": [],
   "source": [
    "#features = sp.audio_features(list(track_ids.id.values))"
   ]
  },
  {
   "cell_type": "code",
   "execution_count": 10,
   "metadata": {},
   "outputs": [],
   "source": [
    "track_ids = pd.DataFrame(ids)\n",
    "features = track_ids.id.map(lambda ID: sp.audio_features(ID)[0]['tempo'])"
   ]
  },
  {
   "cell_type": "code",
   "execution_count": null,
   "metadata": {},
   "outputs": [],
   "source": [
    "features.unstack().iloc[:, [0,1,5,6,7,8]].to_csv('spotify_bpm.tsv')"
   ]
  },
  {
   "cell_type": "code",
   "execution_count": null,
   "metadata": {},
   "outputs": [],
   "source": [
    "df = df / 1000"
   ]
  },
  {
   "cell_type": "code",
   "execution_count": null,
   "metadata": {},
   "outputs": [
    {
     "data": {
      "text/html": [
       "<div>\n",
       "<style scoped>\n",
       "    .dataframe tbody tr th:only-of-type {\n",
       "        vertical-align: middle;\n",
       "    }\n",
       "\n",
       "    .dataframe tbody tr th {\n",
       "        vertical-align: top;\n",
       "    }\n",
       "\n",
       "    .dataframe thead th {\n",
       "        text-align: right;\n",
       "    }\n",
       "</style>\n",
       "<table border=\"1\" class=\"dataframe\">\n",
       "  <thead>\n",
       "    <tr style=\"text-align: right;\">\n",
       "      <th></th>\n",
       "      <th>K279-1</th>\n",
       "      <th>K279-2</th>\n",
       "      <th>K279-3</th>\n",
       "      <th>K280-1</th>\n",
       "      <th>K280-2</th>\n",
       "      <th>K280-3</th>\n",
       "      <th>K281-1</th>\n",
       "      <th>K281-2</th>\n",
       "      <th>K281-3</th>\n",
       "      <th>K282-1</th>\n",
       "      <th>K282-2</th>\n",
       "      <th>K282-3</th>\n",
       "      <th>K283-1</th>\n",
       "      <th>K283-2</th>\n",
       "      <th>K283-3</th>\n",
       "      <th>K284-1</th>\n",
       "      <th>K284-2</th>\n",
       "      <th>K284-3</th>\n",
       "      <th>K309-1</th>\n",
       "      <th>K309-2</th>\n",
       "      <th>K309-3</th>\n",
       "      <th>K311-1</th>\n",
       "      <th>K311-2</th>\n",
       "      <th>K311-3</th>\n",
       "      <th>K310-1</th>\n",
       "      <th>K310-2</th>\n",
       "      <th>K310-3</th>\n",
       "      <th>K330-1</th>\n",
       "      <th>K330-2</th>\n",
       "      <th>K330-3</th>\n",
       "      <th>K331-1</th>\n",
       "      <th>K331-2</th>\n",
       "      <th>K331-3</th>\n",
       "      <th>K332-1</th>\n",
       "      <th>K332-2</th>\n",
       "      <th>K332-3</th>\n",
       "      <th>K333-1</th>\n",
       "      <th>K333-2</th>\n",
       "      <th>K333-3</th>\n",
       "      <th>K457-1</th>\n",
       "      <th>K457-2</th>\n",
       "      <th>K457-3</th>\n",
       "      <th>K533-1</th>\n",
       "      <th>K533-2</th>\n",
       "      <th>K533-3</th>\n",
       "      <th>K545-1</th>\n",
       "      <th>K545-2</th>\n",
       "      <th>K545-3</th>\n",
       "      <th>K570-1</th>\n",
       "      <th>K570-2</th>\n",
       "      <th>K570-3</th>\n",
       "      <th>K576-1</th>\n",
       "      <th>K576-2</th>\n",
       "      <th>K576-3</th>\n",
       "    </tr>\n",
       "  </thead>\n",
       "  <tbody>\n",
       "    <tr>\n",
       "      <th>count</th>\n",
       "      <td>9.000000</td>\n",
       "      <td>9.000000</td>\n",
       "      <td>9.000000</td>\n",
       "      <td>9.000000</td>\n",
       "      <td>9.000000</td>\n",
       "      <td>9.000000</td>\n",
       "      <td>9.000000</td>\n",
       "      <td>9.000000</td>\n",
       "      <td>9.000000</td>\n",
       "      <td>9.000000</td>\n",
       "      <td>9.000000</td>\n",
       "      <td>9.000000</td>\n",
       "      <td>9.000000</td>\n",
       "      <td>9.000000</td>\n",
       "      <td>9.000000</td>\n",
       "      <td>9.000000</td>\n",
       "      <td>9.000000</td>\n",
       "      <td>9.000000</td>\n",
       "      <td>9.000000</td>\n",
       "      <td>9.000000</td>\n",
       "      <td>9.000000</td>\n",
       "      <td>9.000000</td>\n",
       "      <td>9.000000</td>\n",
       "      <td>9.000000</td>\n",
       "      <td>9.000000</td>\n",
       "      <td>9.000000</td>\n",
       "      <td>9.000000</td>\n",
       "      <td>9.00000</td>\n",
       "      <td>9.000000</td>\n",
       "      <td>9.000000</td>\n",
       "      <td>9.000000</td>\n",
       "      <td>9.000000</td>\n",
       "      <td>9.000000</td>\n",
       "      <td>9.000000</td>\n",
       "      <td>9.000000</td>\n",
       "      <td>9.000000</td>\n",
       "      <td>9.000000</td>\n",
       "      <td>9.000000</td>\n",
       "      <td>9.000000</td>\n",
       "      <td>9.000000</td>\n",
       "      <td>9.000000</td>\n",
       "      <td>9.000000</td>\n",
       "      <td>9.000000</td>\n",
       "      <td>9.000000</td>\n",
       "      <td>9.000000</td>\n",
       "      <td>9.000000</td>\n",
       "      <td>9.000000</td>\n",
       "      <td>9.0000</td>\n",
       "      <td>9.000000</td>\n",
       "      <td>9.000000</td>\n",
       "      <td>9.000000</td>\n",
       "      <td>9.000000</td>\n",
       "      <td>9.000000</td>\n",
       "      <td>9.000000</td>\n",
       "    </tr>\n",
       "    <tr>\n",
       "      <th>mean</th>\n",
       "      <td>323.900333</td>\n",
       "      <td>375.919556</td>\n",
       "      <td>231.232333</td>\n",
       "      <td>304.825000</td>\n",
       "      <td>371.573000</td>\n",
       "      <td>204.070778</td>\n",
       "      <td>301.687111</td>\n",
       "      <td>335.740444</td>\n",
       "      <td>268.962444</td>\n",
       "      <td>348.347667</td>\n",
       "      <td>196.347778</td>\n",
       "      <td>163.340444</td>\n",
       "      <td>265.084111</td>\n",
       "      <td>335.420333</td>\n",
       "      <td>277.295889</td>\n",
       "      <td>340.278222</td>\n",
       "      <td>278.356667</td>\n",
       "      <td>955.058778</td>\n",
       "      <td>386.208444</td>\n",
       "      <td>377.078111</td>\n",
       "      <td>365.925444</td>\n",
       "      <td>309.904778</td>\n",
       "      <td>344.118111</td>\n",
       "      <td>337.881111</td>\n",
       "      <td>393.490111</td>\n",
       "      <td>546.297333</td>\n",
       "      <td>185.774444</td>\n",
       "      <td>422.44400</td>\n",
       "      <td>390.893000</td>\n",
       "      <td>358.315333</td>\n",
       "      <td>733.158222</td>\n",
       "      <td>350.436778</td>\n",
       "      <td>215.008667</td>\n",
       "      <td>433.098889</td>\n",
       "      <td>285.482667</td>\n",
       "      <td>455.645556</td>\n",
       "      <td>466.556667</td>\n",
       "      <td>514.192444</td>\n",
       "      <td>376.479667</td>\n",
       "      <td>406.587778</td>\n",
       "      <td>451.963889</td>\n",
       "      <td>289.743333</td>\n",
       "      <td>495.368444</td>\n",
       "      <td>609.790778</td>\n",
       "      <td>367.770111</td>\n",
       "      <td>211.001111</td>\n",
       "      <td>333.134444</td>\n",
       "      <td>105.3330</td>\n",
       "      <td>377.522667</td>\n",
       "      <td>483.989222</td>\n",
       "      <td>216.691444</td>\n",
       "      <td>290.857556</td>\n",
       "      <td>321.891667</td>\n",
       "      <td>260.042556</td>\n",
       "    </tr>\n",
       "    <tr>\n",
       "      <th>std</th>\n",
       "      <td>68.759471</td>\n",
       "      <td>104.649948</td>\n",
       "      <td>51.977281</td>\n",
       "      <td>61.355322</td>\n",
       "      <td>106.249829</td>\n",
       "      <td>44.517995</td>\n",
       "      <td>66.823153</td>\n",
       "      <td>81.200070</td>\n",
       "      <td>27.758446</td>\n",
       "      <td>95.377074</td>\n",
       "      <td>82.379816</td>\n",
       "      <td>34.817696</td>\n",
       "      <td>50.496798</td>\n",
       "      <td>70.151007</td>\n",
       "      <td>62.828702</td>\n",
       "      <td>88.926275</td>\n",
       "      <td>53.519133</td>\n",
       "      <td>127.110890</td>\n",
       "      <td>99.194778</td>\n",
       "      <td>44.232440</td>\n",
       "      <td>28.902464</td>\n",
       "      <td>73.809821</td>\n",
       "      <td>30.882755</td>\n",
       "      <td>127.045860</td>\n",
       "      <td>101.387638</td>\n",
       "      <td>85.387552</td>\n",
       "      <td>10.095433</td>\n",
       "      <td>97.26903</td>\n",
       "      <td>79.798608</td>\n",
       "      <td>72.263346</td>\n",
       "      <td>150.799063</td>\n",
       "      <td>52.770283</td>\n",
       "      <td>17.733365</td>\n",
       "      <td>104.768013</td>\n",
       "      <td>33.347504</td>\n",
       "      <td>124.644551</td>\n",
       "      <td>115.744015</td>\n",
       "      <td>108.835705</td>\n",
       "      <td>28.080755</td>\n",
       "      <td>108.602033</td>\n",
       "      <td>41.984264</td>\n",
       "      <td>16.270506</td>\n",
       "      <td>101.204457</td>\n",
       "      <td>147.798038</td>\n",
       "      <td>29.417508</td>\n",
       "      <td>35.454730</td>\n",
       "      <td>43.287811</td>\n",
       "      <td>6.9794</td>\n",
       "      <td>64.793457</td>\n",
       "      <td>79.813447</td>\n",
       "      <td>23.037094</td>\n",
       "      <td>30.099450</td>\n",
       "      <td>25.948377</td>\n",
       "      <td>16.145462</td>\n",
       "    </tr>\n",
       "    <tr>\n",
       "      <th>min</th>\n",
       "      <td>220.466000</td>\n",
       "      <td>210.653000</td>\n",
       "      <td>166.373000</td>\n",
       "      <td>219.293000</td>\n",
       "      <td>217.880000</td>\n",
       "      <td>140.800000</td>\n",
       "      <td>202.040000</td>\n",
       "      <td>219.800000</td>\n",
       "      <td>208.173000</td>\n",
       "      <td>186.733000</td>\n",
       "      <td>1.493000</td>\n",
       "      <td>105.973000</td>\n",
       "      <td>181.893000</td>\n",
       "      <td>221.053000</td>\n",
       "      <td>196.693000</td>\n",
       "      <td>221.826000</td>\n",
       "      <td>200.666000</td>\n",
       "      <td>712.146000</td>\n",
       "      <td>241.306000</td>\n",
       "      <td>314.573000</td>\n",
       "      <td>318.000000</td>\n",
       "      <td>209.000000</td>\n",
       "      <td>292.893000</td>\n",
       "      <td>1.493000</td>\n",
       "      <td>257.000000</td>\n",
       "      <td>409.733000</td>\n",
       "      <td>166.000000</td>\n",
       "      <td>289.45300</td>\n",
       "      <td>228.666000</td>\n",
       "      <td>250.533000</td>\n",
       "      <td>447.213000</td>\n",
       "      <td>253.773000</td>\n",
       "      <td>194.160000</td>\n",
       "      <td>272.853000</td>\n",
       "      <td>236.653000</td>\n",
       "      <td>270.293000</td>\n",
       "      <td>297.680000</td>\n",
       "      <td>346.000000</td>\n",
       "      <td>319.000000</td>\n",
       "      <td>228.453000</td>\n",
       "      <td>367.706000</td>\n",
       "      <td>266.933000</td>\n",
       "      <td>357.253000</td>\n",
       "      <td>420.826000</td>\n",
       "      <td>307.000000</td>\n",
       "      <td>179.586000</td>\n",
       "      <td>255.706000</td>\n",
       "      <td>90.3200</td>\n",
       "      <td>277.453000</td>\n",
       "      <td>330.746000</td>\n",
       "      <td>162.906000</td>\n",
       "      <td>216.706000</td>\n",
       "      <td>291.120000</td>\n",
       "      <td>233.093000</td>\n",
       "    </tr>\n",
       "    <tr>\n",
       "      <th>25%</th>\n",
       "      <td>284.560000</td>\n",
       "      <td>301.826000</td>\n",
       "      <td>196.240000</td>\n",
       "      <td>265.840000</td>\n",
       "      <td>301.000000</td>\n",
       "      <td>179.040000</td>\n",
       "      <td>262.840000</td>\n",
       "      <td>301.160000</td>\n",
       "      <td>257.399000</td>\n",
       "      <td>287.666000</td>\n",
       "      <td>188.000000</td>\n",
       "      <td>139.999000</td>\n",
       "      <td>241.000000</td>\n",
       "      <td>292.666000</td>\n",
       "      <td>235.506000</td>\n",
       "      <td>305.333000</td>\n",
       "      <td>252.346000</td>\n",
       "      <td>904.826000</td>\n",
       "      <td>355.546000</td>\n",
       "      <td>354.666000</td>\n",
       "      <td>348.120000</td>\n",
       "      <td>272.986000</td>\n",
       "      <td>328.506000</td>\n",
       "      <td>364.320000</td>\n",
       "      <td>327.666000</td>\n",
       "      <td>485.506000</td>\n",
       "      <td>180.360000</td>\n",
       "      <td>372.00000</td>\n",
       "      <td>350.000000</td>\n",
       "      <td>315.653000</td>\n",
       "      <td>677.000000</td>\n",
       "      <td>325.080000</td>\n",
       "      <td>204.426000</td>\n",
       "      <td>385.333000</td>\n",
       "      <td>274.320000</td>\n",
       "      <td>403.666000</td>\n",
       "      <td>421.666000</td>\n",
       "      <td>425.000000</td>\n",
       "      <td>366.213000</td>\n",
       "      <td>374.720000</td>\n",
       "      <td>452.826000</td>\n",
       "      <td>280.279000</td>\n",
       "      <td>452.066000</td>\n",
       "      <td>491.000000</td>\n",
       "      <td>363.946000</td>\n",
       "      <td>186.373000</td>\n",
       "      <td>294.640000</td>\n",
       "      <td>103.0400</td>\n",
       "      <td>336.066000</td>\n",
       "      <td>448.666000</td>\n",
       "      <td>213.146000</td>\n",
       "      <td>288.333000</td>\n",
       "      <td>306.440000</td>\n",
       "      <td>244.173000</td>\n",
       "    </tr>\n",
       "    <tr>\n",
       "      <th>50%</th>\n",
       "      <td>301.506000</td>\n",
       "      <td>387.226000</td>\n",
       "      <td>204.759000</td>\n",
       "      <td>283.026000</td>\n",
       "      <td>402.026000</td>\n",
       "      <td>184.826000</td>\n",
       "      <td>278.012000</td>\n",
       "      <td>343.493000</td>\n",
       "      <td>273.653000</td>\n",
       "      <td>369.039000</td>\n",
       "      <td>221.466000</td>\n",
       "      <td>180.000000</td>\n",
       "      <td>247.493000</td>\n",
       "      <td>333.893000</td>\n",
       "      <td>260.026000</td>\n",
       "      <td>314.866000</td>\n",
       "      <td>259.200000</td>\n",
       "      <td>949.320000</td>\n",
       "      <td>362.706000</td>\n",
       "      <td>368.306000</td>\n",
       "      <td>365.426000</td>\n",
       "      <td>277.212000</td>\n",
       "      <td>335.733000</td>\n",
       "      <td>378.826000</td>\n",
       "      <td>376.866000</td>\n",
       "      <td>533.160000</td>\n",
       "      <td>188.333000</td>\n",
       "      <td>380.30600</td>\n",
       "      <td>397.240000</td>\n",
       "      <td>343.760000</td>\n",
       "      <td>774.506000</td>\n",
       "      <td>340.533000</td>\n",
       "      <td>208.399000</td>\n",
       "      <td>427.400000</td>\n",
       "      <td>288.306000</td>\n",
       "      <td>430.293000</td>\n",
       "      <td>445.972000</td>\n",
       "      <td>545.960000</td>\n",
       "      <td>382.106000</td>\n",
       "      <td>387.506000</td>\n",
       "      <td>455.000000</td>\n",
       "      <td>285.520000</td>\n",
       "      <td>475.866000</td>\n",
       "      <td>610.666000</td>\n",
       "      <td>366.240000</td>\n",
       "      <td>192.000000</td>\n",
       "      <td>359.226000</td>\n",
       "      <td>107.4660</td>\n",
       "      <td>356.026000</td>\n",
       "      <td>486.000000</td>\n",
       "      <td>224.666000</td>\n",
       "      <td>297.786000</td>\n",
       "      <td>318.000000</td>\n",
       "      <td>267.600000</td>\n",
       "    </tr>\n",
       "    <tr>\n",
       "      <th>75%</th>\n",
       "      <td>395.840000</td>\n",
       "      <td>453.053000</td>\n",
       "      <td>273.000000</td>\n",
       "      <td>381.000000</td>\n",
       "      <td>455.760000</td>\n",
       "      <td>247.333000</td>\n",
       "      <td>379.000000</td>\n",
       "      <td>385.093000</td>\n",
       "      <td>289.840000</td>\n",
       "      <td>390.826000</td>\n",
       "      <td>236.133000</td>\n",
       "      <td>185.893000</td>\n",
       "      <td>315.000000</td>\n",
       "      <td>407.160000</td>\n",
       "      <td>349.000000</td>\n",
       "      <td>439.200000</td>\n",
       "      <td>328.733000</td>\n",
       "      <td>1019.306000</td>\n",
       "      <td>499.200000</td>\n",
       "      <td>419.000000</td>\n",
       "      <td>378.652000</td>\n",
       "      <td>391.320000</td>\n",
       "      <td>372.000000</td>\n",
       "      <td>380.866000</td>\n",
       "      <td>483.120000</td>\n",
       "      <td>619.000000</td>\n",
       "      <td>192.240000</td>\n",
       "      <td>532.08000</td>\n",
       "      <td>428.973000</td>\n",
       "      <td>410.000000</td>\n",
       "      <td>852.800000</td>\n",
       "      <td>378.666000</td>\n",
       "      <td>225.520000</td>\n",
       "      <td>546.120000</td>\n",
       "      <td>292.000000</td>\n",
       "      <td>599.040000</td>\n",
       "      <td>592.200000</td>\n",
       "      <td>576.039000</td>\n",
       "      <td>396.692000</td>\n",
       "      <td>486.360000</td>\n",
       "      <td>474.346000</td>\n",
       "      <td>299.666000</td>\n",
       "      <td>600.826000</td>\n",
       "      <td>734.800000</td>\n",
       "      <td>382.453000</td>\n",
       "      <td>252.533000</td>\n",
       "      <td>366.120000</td>\n",
       "      <td>108.7720</td>\n",
       "      <td>410.013000</td>\n",
       "      <td>520.440000</td>\n",
       "      <td>232.600000</td>\n",
       "      <td>304.000000</td>\n",
       "      <td>331.933000</td>\n",
       "      <td>269.626000</td>\n",
       "    </tr>\n",
       "    <tr>\n",
       "      <th>max</th>\n",
       "      <td>413.280000</td>\n",
       "      <td>521.000000</td>\n",
       "      <td>310.320000</td>\n",
       "      <td>383.373000</td>\n",
       "      <td>513.666000</td>\n",
       "      <td>268.200000</td>\n",
       "      <td>392.120000</td>\n",
       "      <td>456.120000</td>\n",
       "      <td>296.386000</td>\n",
       "      <td>483.693000</td>\n",
       "      <td>286.999000</td>\n",
       "      <td>206.280000</td>\n",
       "      <td>341.280000</td>\n",
       "      <td>414.000000</td>\n",
       "      <td>368.213000</td>\n",
       "      <td>456.680000</td>\n",
       "      <td>340.786000</td>\n",
       "      <td>1130.973000</td>\n",
       "      <td>503.826000</td>\n",
       "      <td>444.239000</td>\n",
       "      <td>420.986000</td>\n",
       "      <td>425.000000</td>\n",
       "      <td>386.106000</td>\n",
       "      <td>403.360000</td>\n",
       "      <td>529.000000</td>\n",
       "      <td>658.772000</td>\n",
       "      <td>200.506000</td>\n",
       "      <td>563.73300</td>\n",
       "      <td>487.666000</td>\n",
       "      <td>464.306000</td>\n",
       "      <td>870.746000</td>\n",
       "      <td>434.000000</td>\n",
       "      <td>251.280000</td>\n",
       "      <td>550.000000</td>\n",
       "      <td>359.746000</td>\n",
       "      <td>615.173000</td>\n",
       "      <td>608.400000</td>\n",
       "      <td>661.320000</td>\n",
       "      <td>413.000000</td>\n",
       "      <td>557.906000</td>\n",
       "      <td>510.932000</td>\n",
       "      <td>322.413000</td>\n",
       "      <td>625.506000</td>\n",
       "      <td>819.360000</td>\n",
       "      <td>405.333000</td>\n",
       "      <td>264.240000</td>\n",
       "      <td>369.960000</td>\n",
       "      <td>115.2000</td>\n",
       "      <td>476.120000</td>\n",
       "      <td>598.960000</td>\n",
       "      <td>236.493000</td>\n",
       "      <td>325.320000</td>\n",
       "      <td>367.186000</td>\n",
       "      <td>282.240000</td>\n",
       "    </tr>\n",
       "  </tbody>\n",
       "</table>\n",
       "</div>"
      ],
      "text/plain": [
       "           K279-1      K279-2      K279-3      K280-1      K280-2      K280-3  \\\n",
       "count    9.000000    9.000000    9.000000    9.000000    9.000000    9.000000   \n",
       "mean   323.900333  375.919556  231.232333  304.825000  371.573000  204.070778   \n",
       "std     68.759471  104.649948   51.977281   61.355322  106.249829   44.517995   \n",
       "min    220.466000  210.653000  166.373000  219.293000  217.880000  140.800000   \n",
       "25%    284.560000  301.826000  196.240000  265.840000  301.000000  179.040000   \n",
       "50%    301.506000  387.226000  204.759000  283.026000  402.026000  184.826000   \n",
       "75%    395.840000  453.053000  273.000000  381.000000  455.760000  247.333000   \n",
       "max    413.280000  521.000000  310.320000  383.373000  513.666000  268.200000   \n",
       "\n",
       "           K281-1      K281-2      K281-3      K282-1      K282-2      K282-3  \\\n",
       "count    9.000000    9.000000    9.000000    9.000000    9.000000    9.000000   \n",
       "mean   301.687111  335.740444  268.962444  348.347667  196.347778  163.340444   \n",
       "std     66.823153   81.200070   27.758446   95.377074   82.379816   34.817696   \n",
       "min    202.040000  219.800000  208.173000  186.733000    1.493000  105.973000   \n",
       "25%    262.840000  301.160000  257.399000  287.666000  188.000000  139.999000   \n",
       "50%    278.012000  343.493000  273.653000  369.039000  221.466000  180.000000   \n",
       "75%    379.000000  385.093000  289.840000  390.826000  236.133000  185.893000   \n",
       "max    392.120000  456.120000  296.386000  483.693000  286.999000  206.280000   \n",
       "\n",
       "           K283-1      K283-2      K283-3      K284-1      K284-2  \\\n",
       "count    9.000000    9.000000    9.000000    9.000000    9.000000   \n",
       "mean   265.084111  335.420333  277.295889  340.278222  278.356667   \n",
       "std     50.496798   70.151007   62.828702   88.926275   53.519133   \n",
       "min    181.893000  221.053000  196.693000  221.826000  200.666000   \n",
       "25%    241.000000  292.666000  235.506000  305.333000  252.346000   \n",
       "50%    247.493000  333.893000  260.026000  314.866000  259.200000   \n",
       "75%    315.000000  407.160000  349.000000  439.200000  328.733000   \n",
       "max    341.280000  414.000000  368.213000  456.680000  340.786000   \n",
       "\n",
       "            K284-3      K309-1      K309-2      K309-3      K311-1  \\\n",
       "count     9.000000    9.000000    9.000000    9.000000    9.000000   \n",
       "mean    955.058778  386.208444  377.078111  365.925444  309.904778   \n",
       "std     127.110890   99.194778   44.232440   28.902464   73.809821   \n",
       "min     712.146000  241.306000  314.573000  318.000000  209.000000   \n",
       "25%     904.826000  355.546000  354.666000  348.120000  272.986000   \n",
       "50%     949.320000  362.706000  368.306000  365.426000  277.212000   \n",
       "75%    1019.306000  499.200000  419.000000  378.652000  391.320000   \n",
       "max    1130.973000  503.826000  444.239000  420.986000  425.000000   \n",
       "\n",
       "           K311-2      K311-3      K310-1      K310-2      K310-3     K330-1  \\\n",
       "count    9.000000    9.000000    9.000000    9.000000    9.000000    9.00000   \n",
       "mean   344.118111  337.881111  393.490111  546.297333  185.774444  422.44400   \n",
       "std     30.882755  127.045860  101.387638   85.387552   10.095433   97.26903   \n",
       "min    292.893000    1.493000  257.000000  409.733000  166.000000  289.45300   \n",
       "25%    328.506000  364.320000  327.666000  485.506000  180.360000  372.00000   \n",
       "50%    335.733000  378.826000  376.866000  533.160000  188.333000  380.30600   \n",
       "75%    372.000000  380.866000  483.120000  619.000000  192.240000  532.08000   \n",
       "max    386.106000  403.360000  529.000000  658.772000  200.506000  563.73300   \n",
       "\n",
       "           K330-2      K330-3      K331-1      K331-2      K331-3      K332-1  \\\n",
       "count    9.000000    9.000000    9.000000    9.000000    9.000000    9.000000   \n",
       "mean   390.893000  358.315333  733.158222  350.436778  215.008667  433.098889   \n",
       "std     79.798608   72.263346  150.799063   52.770283   17.733365  104.768013   \n",
       "min    228.666000  250.533000  447.213000  253.773000  194.160000  272.853000   \n",
       "25%    350.000000  315.653000  677.000000  325.080000  204.426000  385.333000   \n",
       "50%    397.240000  343.760000  774.506000  340.533000  208.399000  427.400000   \n",
       "75%    428.973000  410.000000  852.800000  378.666000  225.520000  546.120000   \n",
       "max    487.666000  464.306000  870.746000  434.000000  251.280000  550.000000   \n",
       "\n",
       "           K332-2      K332-3      K333-1      K333-2      K333-3      K457-1  \\\n",
       "count    9.000000    9.000000    9.000000    9.000000    9.000000    9.000000   \n",
       "mean   285.482667  455.645556  466.556667  514.192444  376.479667  406.587778   \n",
       "std     33.347504  124.644551  115.744015  108.835705   28.080755  108.602033   \n",
       "min    236.653000  270.293000  297.680000  346.000000  319.000000  228.453000   \n",
       "25%    274.320000  403.666000  421.666000  425.000000  366.213000  374.720000   \n",
       "50%    288.306000  430.293000  445.972000  545.960000  382.106000  387.506000   \n",
       "75%    292.000000  599.040000  592.200000  576.039000  396.692000  486.360000   \n",
       "max    359.746000  615.173000  608.400000  661.320000  413.000000  557.906000   \n",
       "\n",
       "           K457-2      K457-3      K533-1      K533-2      K533-3      K545-1  \\\n",
       "count    9.000000    9.000000    9.000000    9.000000    9.000000    9.000000   \n",
       "mean   451.963889  289.743333  495.368444  609.790778  367.770111  211.001111   \n",
       "std     41.984264   16.270506  101.204457  147.798038   29.417508   35.454730   \n",
       "min    367.706000  266.933000  357.253000  420.826000  307.000000  179.586000   \n",
       "25%    452.826000  280.279000  452.066000  491.000000  363.946000  186.373000   \n",
       "50%    455.000000  285.520000  475.866000  610.666000  366.240000  192.000000   \n",
       "75%    474.346000  299.666000  600.826000  734.800000  382.453000  252.533000   \n",
       "max    510.932000  322.413000  625.506000  819.360000  405.333000  264.240000   \n",
       "\n",
       "           K545-2    K545-3      K570-1      K570-2      K570-3      K576-1  \\\n",
       "count    9.000000    9.0000    9.000000    9.000000    9.000000    9.000000   \n",
       "mean   333.134444  105.3330  377.522667  483.989222  216.691444  290.857556   \n",
       "std     43.287811    6.9794   64.793457   79.813447   23.037094   30.099450   \n",
       "min    255.706000   90.3200  277.453000  330.746000  162.906000  216.706000   \n",
       "25%    294.640000  103.0400  336.066000  448.666000  213.146000  288.333000   \n",
       "50%    359.226000  107.4660  356.026000  486.000000  224.666000  297.786000   \n",
       "75%    366.120000  108.7720  410.013000  520.440000  232.600000  304.000000   \n",
       "max    369.960000  115.2000  476.120000  598.960000  236.493000  325.320000   \n",
       "\n",
       "           K576-2      K576-3  \n",
       "count    9.000000    9.000000  \n",
       "mean   321.891667  260.042556  \n",
       "std     25.948377   16.145462  \n",
       "min    291.120000  233.093000  \n",
       "25%    306.440000  244.173000  \n",
       "50%    318.000000  267.600000  \n",
       "75%    331.933000  269.626000  \n",
       "max    367.186000  282.240000  "
      ]
     },
     "execution_count": 11,
     "metadata": {},
     "output_type": "execute_result"
    }
   ],
   "source": [
    "df.T.describe()"
   ]
  },
  {
   "cell_type": "code",
   "execution_count": null,
   "metadata": {},
   "outputs": [
    {
     "data": {
      "text/html": [
       "<div>\n",
       "<style scoped>\n",
       "    .dataframe tbody tr th:only-of-type {\n",
       "        vertical-align: middle;\n",
       "    }\n",
       "\n",
       "    .dataframe tbody tr th {\n",
       "        vertical-align: top;\n",
       "    }\n",
       "\n",
       "    .dataframe thead th {\n",
       "        text-align: right;\n",
       "    }\n",
       "</style>\n",
       "<table border=\"1\" class=\"dataframe\">\n",
       "  <thead>\n",
       "    <tr style=\"text-align: right;\">\n",
       "      <th></th>\n",
       "      <th>say</th>\n",
       "      <th>barenboim</th>\n",
       "      <th>brautigam</th>\n",
       "      <th>leygraf</th>\n",
       "      <th>gieseking</th>\n",
       "      <th>endres</th>\n",
       "      <th>mauser</th>\n",
       "      <th>deyanova</th>\n",
       "      <th>mamou</th>\n",
       "    </tr>\n",
       "  </thead>\n",
       "  <tbody>\n",
       "    <tr>\n",
       "      <th>count</th>\n",
       "      <td>54.000000</td>\n",
       "      <td>54.000000</td>\n",
       "      <td>54.000000</td>\n",
       "      <td>54.000000</td>\n",
       "      <td>54.00000</td>\n",
       "      <td>54.000000</td>\n",
       "      <td>54.000000</td>\n",
       "      <td>54.000000</td>\n",
       "      <td>54.000000</td>\n",
       "    </tr>\n",
       "    <tr>\n",
       "      <th>mean</th>\n",
       "      <td>404.868315</td>\n",
       "      <td>372.965296</td>\n",
       "      <td>411.140000</td>\n",
       "      <td>278.242389</td>\n",
       "      <td>292.60237</td>\n",
       "      <td>334.416407</td>\n",
       "      <td>371.853833</td>\n",
       "      <td>395.629000</td>\n",
       "      <td>362.868833</td>\n",
       "    </tr>\n",
       "    <tr>\n",
       "      <th>std</th>\n",
       "      <td>165.827070</td>\n",
       "      <td>169.420237</td>\n",
       "      <td>162.787646</td>\n",
       "      <td>110.225199</td>\n",
       "      <td>129.81118</td>\n",
       "      <td>132.334877</td>\n",
       "      <td>166.410524</td>\n",
       "      <td>152.062887</td>\n",
       "      <td>156.131787</td>\n",
       "    </tr>\n",
       "    <tr>\n",
       "      <th>min</th>\n",
       "      <td>90.320000</td>\n",
       "      <td>101.400000</td>\n",
       "      <td>115.200000</td>\n",
       "      <td>103.040000</td>\n",
       "      <td>1.49300</td>\n",
       "      <td>107.826000</td>\n",
       "      <td>108.772000</td>\n",
       "      <td>110.000000</td>\n",
       "      <td>103.973000</td>\n",
       "    </tr>\n",
       "    <tr>\n",
       "      <th>25%</th>\n",
       "      <td>304.603250</td>\n",
       "      <td>264.433250</td>\n",
       "      <td>297.360000</td>\n",
       "      <td>209.413250</td>\n",
       "      <td>228.06300</td>\n",
       "      <td>260.833000</td>\n",
       "      <td>277.412000</td>\n",
       "      <td>292.000000</td>\n",
       "      <td>282.719500</td>\n",
       "    </tr>\n",
       "    <tr>\n",
       "      <th>50%</th>\n",
       "      <td>374.313000</td>\n",
       "      <td>360.966000</td>\n",
       "      <td>383.220000</td>\n",
       "      <td>259.313000</td>\n",
       "      <td>280.01950</td>\n",
       "      <td>305.166500</td>\n",
       "      <td>357.646000</td>\n",
       "      <td>380.086500</td>\n",
       "      <td>339.540000</td>\n",
       "    </tr>\n",
       "    <tr>\n",
       "      <th>75%</th>\n",
       "      <td>463.539500</td>\n",
       "      <td>426.183250</td>\n",
       "      <td>485.550000</td>\n",
       "      <td>325.973250</td>\n",
       "      <td>354.84600</td>\n",
       "      <td>378.619500</td>\n",
       "      <td>413.685500</td>\n",
       "      <td>499.369500</td>\n",
       "      <td>417.500000</td>\n",
       "    </tr>\n",
       "    <tr>\n",
       "      <th>max</th>\n",
       "      <td>1019.306000</td>\n",
       "      <td>1004.866000</td>\n",
       "      <td>949.320000</td>\n",
       "      <td>712.146000</td>\n",
       "      <td>910.53300</td>\n",
       "      <td>904.826000</td>\n",
       "      <td>1097.386000</td>\n",
       "      <td>866.173000</td>\n",
       "      <td>1130.973000</td>\n",
       "    </tr>\n",
       "  </tbody>\n",
       "</table>\n",
       "</div>"
      ],
      "text/plain": [
       "               say    barenboim   brautigam     leygraf  gieseking  \\\n",
       "count    54.000000    54.000000   54.000000   54.000000   54.00000   \n",
       "mean    404.868315   372.965296  411.140000  278.242389  292.60237   \n",
       "std     165.827070   169.420237  162.787646  110.225199  129.81118   \n",
       "min      90.320000   101.400000  115.200000  103.040000    1.49300   \n",
       "25%     304.603250   264.433250  297.360000  209.413250  228.06300   \n",
       "50%     374.313000   360.966000  383.220000  259.313000  280.01950   \n",
       "75%     463.539500   426.183250  485.550000  325.973250  354.84600   \n",
       "max    1019.306000  1004.866000  949.320000  712.146000  910.53300   \n",
       "\n",
       "           endres       mauser    deyanova        mamou  \n",
       "count   54.000000    54.000000   54.000000    54.000000  \n",
       "mean   334.416407   371.853833  395.629000   362.868833  \n",
       "std    132.334877   166.410524  152.062887   156.131787  \n",
       "min    107.826000   108.772000  110.000000   103.973000  \n",
       "25%    260.833000   277.412000  292.000000   282.719500  \n",
       "50%    305.166500   357.646000  380.086500   339.540000  \n",
       "75%    378.619500   413.685500  499.369500   417.500000  \n",
       "max    904.826000  1097.386000  866.173000  1130.973000  "
      ]
     },
     "execution_count": 12,
     "metadata": {},
     "output_type": "execute_result"
    }
   ],
   "source": [
    "df.describe()"
   ]
  },
  {
   "cell_type": "code",
   "execution_count": null,
   "metadata": {},
   "outputs": [
    {
     "data": {
      "text/plain": [
       "358.2873827160494"
      ]
     },
     "execution_count": 13,
     "metadata": {},
     "output_type": "execute_result"
    }
   ],
   "source": [
    "mean_of_means = df.describe().loc['mean'].mean()\n",
    "mean_of_means"
   ]
  },
  {
   "cell_type": "code",
   "execution_count": null,
   "metadata": {},
   "outputs": [
    {
     "data": {
      "text/plain": [
       "47.52578712570362"
      ]
     },
     "execution_count": 14,
     "metadata": {},
     "output_type": "execute_result"
    }
   ],
   "source": [
    "std_of_means = df.describe().loc['mean'].std()\n",
    "std_of_means"
   ]
  },
  {
   "cell_type": "code",
   "execution_count": null,
   "metadata": {},
   "outputs": [
    {
     "data": {
      "text/plain": [
       "say          False\n",
       "barenboim    False\n",
       "brautigam     True\n",
       "leygraf       True\n",
       "gieseking     True\n",
       "endres       False\n",
       "mauser       False\n",
       "deyanova     False\n",
       "mamou        False\n",
       "Name: mean, dtype: bool"
      ]
     },
     "execution_count": 15,
     "metadata": {},
     "output_type": "execute_result"
    }
   ],
   "source": [
    "(df.describe().loc['mean'].T - mean_of_means).abs() > std_of_means"
   ]
  },
  {
   "cell_type": "code",
   "execution_count": null,
   "metadata": {},
   "outputs": [
    {
     "data": {
      "text/html": [
       "<div>\n",
       "<style scoped>\n",
       "    .dataframe tbody tr th:only-of-type {\n",
       "        vertical-align: middle;\n",
       "    }\n",
       "\n",
       "    .dataframe tbody tr th {\n",
       "        vertical-align: top;\n",
       "    }\n",
       "\n",
       "    .dataframe thead th {\n",
       "        text-align: right;\n",
       "    }\n",
       "</style>\n",
       "<table border=\"1\" class=\"dataframe\">\n",
       "  <thead>\n",
       "    <tr style=\"text-align: right;\">\n",
       "      <th></th>\n",
       "      <th>K279-1</th>\n",
       "      <th>K279-2</th>\n",
       "      <th>K279-3</th>\n",
       "      <th>K280-1</th>\n",
       "      <th>K280-2</th>\n",
       "      <th>K280-3</th>\n",
       "      <th>K281-1</th>\n",
       "      <th>K281-2</th>\n",
       "      <th>K281-3</th>\n",
       "      <th>K282-1</th>\n",
       "      <th>K282-2</th>\n",
       "      <th>K282-3</th>\n",
       "      <th>K283-1</th>\n",
       "      <th>K283-2</th>\n",
       "      <th>K283-3</th>\n",
       "      <th>K284-1</th>\n",
       "      <th>K284-2</th>\n",
       "      <th>K284-3</th>\n",
       "      <th>K309-1</th>\n",
       "      <th>K309-2</th>\n",
       "      <th>K309-3</th>\n",
       "      <th>K311-1</th>\n",
       "      <th>K311-2</th>\n",
       "      <th>K311-3</th>\n",
       "      <th>K310-1</th>\n",
       "      <th>K310-2</th>\n",
       "      <th>K310-3</th>\n",
       "      <th>K330-1</th>\n",
       "      <th>K330-2</th>\n",
       "      <th>K330-3</th>\n",
       "      <th>K331-1</th>\n",
       "      <th>K331-2</th>\n",
       "      <th>K331-3</th>\n",
       "      <th>K332-1</th>\n",
       "      <th>K332-2</th>\n",
       "      <th>K332-3</th>\n",
       "      <th>K333-1</th>\n",
       "      <th>K333-2</th>\n",
       "      <th>K333-3</th>\n",
       "      <th>K457-1</th>\n",
       "      <th>K457-2</th>\n",
       "      <th>K457-3</th>\n",
       "      <th>K533-1</th>\n",
       "      <th>K533-2</th>\n",
       "      <th>K533-3</th>\n",
       "      <th>K545-1</th>\n",
       "      <th>K545-2</th>\n",
       "      <th>K545-3</th>\n",
       "      <th>K570-1</th>\n",
       "      <th>K570-2</th>\n",
       "      <th>K570-3</th>\n",
       "      <th>K576-1</th>\n",
       "      <th>K576-2</th>\n",
       "      <th>K576-3</th>\n",
       "    </tr>\n",
       "  </thead>\n",
       "  <tbody>\n",
       "    <tr>\n",
       "      <th>count</th>\n",
       "      <td>6.000000</td>\n",
       "      <td>6.000000</td>\n",
       "      <td>6.000000</td>\n",
       "      <td>6.00000</td>\n",
       "      <td>6.000000</td>\n",
       "      <td>6.000000</td>\n",
       "      <td>6.000000</td>\n",
       "      <td>6.000000</td>\n",
       "      <td>6.000000</td>\n",
       "      <td>6.000000</td>\n",
       "      <td>6.000000</td>\n",
       "      <td>6.000000</td>\n",
       "      <td>6.000000</td>\n",
       "      <td>6.000000</td>\n",
       "      <td>6.000000</td>\n",
       "      <td>6.000000</td>\n",
       "      <td>6.000000</td>\n",
       "      <td>6.000000</td>\n",
       "      <td>6.000000</td>\n",
       "      <td>6.000000</td>\n",
       "      <td>6.000000</td>\n",
       "      <td>6.000000</td>\n",
       "      <td>6.000000</td>\n",
       "      <td>6.000000</td>\n",
       "      <td>6.000000</td>\n",
       "      <td>6.000000</td>\n",
       "      <td>6.000000</td>\n",
       "      <td>6.000000</td>\n",
       "      <td>6.000000</td>\n",
       "      <td>6.000000</td>\n",
       "      <td>6.000000</td>\n",
       "      <td>6.000000</td>\n",
       "      <td>6.000000</td>\n",
       "      <td>6.000000</td>\n",
       "      <td>6.000000</td>\n",
       "      <td>6.000000</td>\n",
       "      <td>6.000000</td>\n",
       "      <td>6.000000</td>\n",
       "      <td>6.000000</td>\n",
       "      <td>6.000000</td>\n",
       "      <td>6.000000</td>\n",
       "      <td>6.000000</td>\n",
       "      <td>6.000000</td>\n",
       "      <td>6.000000</td>\n",
       "      <td>6.000000</td>\n",
       "      <td>6.000000</td>\n",
       "      <td>6.000000</td>\n",
       "      <td>6.000000</td>\n",
       "      <td>6.000000</td>\n",
       "      <td>6.000000</td>\n",
       "      <td>6.000000</td>\n",
       "      <td>6.000000</td>\n",
       "      <td>6.000000</td>\n",
       "      <td>6.000000</td>\n",
       "    </tr>\n",
       "    <tr>\n",
       "      <th>mean</th>\n",
       "      <td>332.799500</td>\n",
       "      <td>402.726167</td>\n",
       "      <td>237.288667</td>\n",
       "      <td>312.66200</td>\n",
       "      <td>402.248500</td>\n",
       "      <td>208.099500</td>\n",
       "      <td>308.479667</td>\n",
       "      <td>352.968500</td>\n",
       "      <td>259.717167</td>\n",
       "      <td>380.168333</td>\n",
       "      <td>228.406167</td>\n",
       "      <td>161.986333</td>\n",
       "      <td>271.135167</td>\n",
       "      <td>342.779500</td>\n",
       "      <td>286.952833</td>\n",
       "      <td>362.270833</td>\n",
       "      <td>298.833000</td>\n",
       "      <td>1003.921667</td>\n",
       "      <td>411.575000</td>\n",
       "      <td>388.801833</td>\n",
       "      <td>368.532833</td>\n",
       "      <td>319.306167</td>\n",
       "      <td>356.026167</td>\n",
       "      <td>378.666167</td>\n",
       "      <td>421.655167</td>\n",
       "      <td>585.763833</td>\n",
       "      <td>185.639500</td>\n",
       "      <td>433.359500</td>\n",
       "      <td>411.693000</td>\n",
       "      <td>366.548667</td>\n",
       "      <td>788.770833</td>\n",
       "      <td>372.424167</td>\n",
       "      <td>208.646333</td>\n",
       "      <td>464.201833</td>\n",
       "      <td>285.324000</td>\n",
       "      <td>484.830667</td>\n",
       "      <td>497.088333</td>\n",
       "      <td>540.862000</td>\n",
       "      <td>375.835167</td>\n",
       "      <td>445.568500</td>\n",
       "      <td>447.334833</td>\n",
       "      <td>292.641833</td>\n",
       "      <td>518.483833</td>\n",
       "      <td>634.395167</td>\n",
       "      <td>362.219667</td>\n",
       "      <td>208.844000</td>\n",
       "      <td>346.957333</td>\n",
       "      <td>103.715167</td>\n",
       "      <td>404.844167</td>\n",
       "      <td>508.561833</td>\n",
       "      <td>221.930667</td>\n",
       "      <td>303.619833</td>\n",
       "      <td>325.728667</td>\n",
       "      <td>259.575000</td>\n",
       "    </tr>\n",
       "    <tr>\n",
       "      <th>std</th>\n",
       "      <td>58.502479</td>\n",
       "      <td>79.106209</td>\n",
       "      <td>40.925495</td>\n",
       "      <td>54.60085</td>\n",
       "      <td>79.797372</td>\n",
       "      <td>37.457023</td>\n",
       "      <td>60.277567</td>\n",
       "      <td>47.772182</td>\n",
       "      <td>29.433897</td>\n",
       "      <td>63.186874</td>\n",
       "      <td>33.554739</td>\n",
       "      <td>28.438450</td>\n",
       "      <td>36.315301</td>\n",
       "      <td>64.522193</td>\n",
       "      <td>56.945136</td>\n",
       "      <td>69.144966</td>\n",
       "      <td>51.612648</td>\n",
       "      <td>103.836254</td>\n",
       "      <td>71.000364</td>\n",
       "      <td>49.299291</td>\n",
       "      <td>35.543225</td>\n",
       "      <td>70.540190</td>\n",
       "      <td>28.088014</td>\n",
       "      <td>14.370736</td>\n",
       "      <td>84.731542</td>\n",
       "      <td>67.192696</td>\n",
       "      <td>12.198812</td>\n",
       "      <td>93.266237</td>\n",
       "      <td>64.153863</td>\n",
       "      <td>59.534984</td>\n",
       "      <td>80.462374</td>\n",
       "      <td>43.109195</td>\n",
       "      <td>12.431374</td>\n",
       "      <td>69.459973</td>\n",
       "      <td>41.699032</td>\n",
       "      <td>96.470047</td>\n",
       "      <td>86.818058</td>\n",
       "      <td>65.193706</td>\n",
       "      <td>32.196473</td>\n",
       "      <td>75.863658</td>\n",
       "      <td>51.878956</td>\n",
       "      <td>19.342672</td>\n",
       "      <td>74.516429</td>\n",
       "      <td>112.421781</td>\n",
       "      <td>32.611373</td>\n",
       "      <td>35.719689</td>\n",
       "      <td>32.493723</td>\n",
       "      <td>7.305157</td>\n",
       "      <td>58.027770</td>\n",
       "      <td>68.998357</td>\n",
       "      <td>12.565781</td>\n",
       "      <td>12.215910</td>\n",
       "      <td>31.493255</td>\n",
       "      <td>12.712009</td>\n",
       "    </tr>\n",
       "    <tr>\n",
       "      <th>min</th>\n",
       "      <td>264.773000</td>\n",
       "      <td>301.826000</td>\n",
       "      <td>196.240000</td>\n",
       "      <td>264.40000</td>\n",
       "      <td>301.000000</td>\n",
       "      <td>178.826000</td>\n",
       "      <td>261.066000</td>\n",
       "      <td>301.160000</td>\n",
       "      <td>208.173000</td>\n",
       "      <td>287.666000</td>\n",
       "      <td>188.000000</td>\n",
       "      <td>127.760000</td>\n",
       "      <td>241.000000</td>\n",
       "      <td>264.012000</td>\n",
       "      <td>235.506000</td>\n",
       "      <td>305.333000</td>\n",
       "      <td>215.840000</td>\n",
       "      <td>866.173000</td>\n",
       "      <td>355.546000</td>\n",
       "      <td>314.573000</td>\n",
       "      <td>318.000000</td>\n",
       "      <td>264.533000</td>\n",
       "      <td>324.253000</td>\n",
       "      <td>360.533000</td>\n",
       "      <td>327.666000</td>\n",
       "      <td>485.506000</td>\n",
       "      <td>166.000000</td>\n",
       "      <td>353.666000</td>\n",
       "      <td>334.000000</td>\n",
       "      <td>303.000000</td>\n",
       "      <td>677.000000</td>\n",
       "      <td>322.000000</td>\n",
       "      <td>194.160000</td>\n",
       "      <td>385.333000</td>\n",
       "      <td>236.653000</td>\n",
       "      <td>403.666000</td>\n",
       "      <td>421.666000</td>\n",
       "      <td>425.000000</td>\n",
       "      <td>319.000000</td>\n",
       "      <td>374.720000</td>\n",
       "      <td>367.706000</td>\n",
       "      <td>266.933000</td>\n",
       "      <td>452.066000</td>\n",
       "      <td>491.000000</td>\n",
       "      <td>307.000000</td>\n",
       "      <td>179.586000</td>\n",
       "      <td>283.666000</td>\n",
       "      <td>90.320000</td>\n",
       "      <td>336.066000</td>\n",
       "      <td>423.826000</td>\n",
       "      <td>201.000000</td>\n",
       "      <td>288.333000</td>\n",
       "      <td>291.120000</td>\n",
       "      <td>243.333000</td>\n",
       "    </tr>\n",
       "    <tr>\n",
       "      <th>25%</th>\n",
       "      <td>296.635500</td>\n",
       "      <td>350.306500</td>\n",
       "      <td>201.939750</td>\n",
       "      <td>275.63625</td>\n",
       "      <td>343.636250</td>\n",
       "      <td>181.806500</td>\n",
       "      <td>266.590000</td>\n",
       "      <td>320.492750</td>\n",
       "      <td>251.349500</td>\n",
       "      <td>362.879250</td>\n",
       "      <td>210.746250</td>\n",
       "      <td>140.832500</td>\n",
       "      <td>244.172750</td>\n",
       "      <td>295.516000</td>\n",
       "      <td>246.986500</td>\n",
       "      <td>312.256000</td>\n",
       "      <td>270.283250</td>\n",
       "      <td>929.836000</td>\n",
       "      <td>357.426000</td>\n",
       "      <td>359.832750</td>\n",
       "      <td>348.856250</td>\n",
       "      <td>274.803000</td>\n",
       "      <td>331.649500</td>\n",
       "      <td>371.635750</td>\n",
       "      <td>349.466250</td>\n",
       "      <td>543.616000</td>\n",
       "      <td>180.182750</td>\n",
       "      <td>373.100000</td>\n",
       "      <td>361.810000</td>\n",
       "      <td>332.510000</td>\n",
       "      <td>728.376500</td>\n",
       "      <td>341.469750</td>\n",
       "      <td>201.026250</td>\n",
       "      <td>421.109750</td>\n",
       "      <td>263.976250</td>\n",
       "      <td>424.473000</td>\n",
       "      <td>439.672750</td>\n",
       "      <td>529.700000</td>\n",
       "      <td>369.159750</td>\n",
       "      <td>382.016000</td>\n",
       "      <td>417.836250</td>\n",
       "      <td>281.589250</td>\n",
       "      <td>473.096250</td>\n",
       "      <td>573.325750</td>\n",
       "      <td>348.356500</td>\n",
       "      <td>182.722750</td>\n",
       "      <td>346.306500</td>\n",
       "      <td>102.043250</td>\n",
       "      <td>359.883000</td>\n",
       "      <td>457.999500</td>\n",
       "      <td>216.026000</td>\n",
       "      <td>298.659500</td>\n",
       "      <td>298.500000</td>\n",
       "      <td>248.466250</td>\n",
       "    </tr>\n",
       "    <tr>\n",
       "      <th>50%</th>\n",
       "      <td>315.173000</td>\n",
       "      <td>401.239000</td>\n",
       "      <td>233.546000</td>\n",
       "      <td>287.01300</td>\n",
       "      <td>409.446000</td>\n",
       "      <td>188.912500</td>\n",
       "      <td>277.926000</td>\n",
       "      <td>344.366000</td>\n",
       "      <td>264.085500</td>\n",
       "      <td>378.999500</td>\n",
       "      <td>226.066000</td>\n",
       "      <td>161.666500</td>\n",
       "      <td>254.259500</td>\n",
       "      <td>336.999500</td>\n",
       "      <td>263.179000</td>\n",
       "      <td>328.613000</td>\n",
       "      <td>325.433000</td>\n",
       "      <td>1012.086000</td>\n",
       "      <td>377.606000</td>\n",
       "      <td>397.166500</td>\n",
       "      <td>372.039000</td>\n",
       "      <td>279.499000</td>\n",
       "      <td>356.540000</td>\n",
       "      <td>378.999500</td>\n",
       "      <td>419.053000</td>\n",
       "      <td>597.733000</td>\n",
       "      <td>188.392500</td>\n",
       "      <td>384.966000</td>\n",
       "      <td>409.253000</td>\n",
       "      <td>346.613000</td>\n",
       "      <td>809.539500</td>\n",
       "      <td>366.033000</td>\n",
       "      <td>206.412500</td>\n",
       "      <td>441.306000</td>\n",
       "      <td>281.606000</td>\n",
       "      <td>432.926000</td>\n",
       "      <td>453.712500</td>\n",
       "      <td>550.480000</td>\n",
       "      <td>380.053000</td>\n",
       "      <td>432.953000</td>\n",
       "      <td>461.846000</td>\n",
       "      <td>292.593000</td>\n",
       "      <td>480.166000</td>\n",
       "      <td>611.833000</td>\n",
       "      <td>372.226000</td>\n",
       "      <td>191.719500</td>\n",
       "      <td>359.552500</td>\n",
       "      <td>105.899500</td>\n",
       "      <td>400.773000</td>\n",
       "      <td>503.220000</td>\n",
       "      <td>225.799000</td>\n",
       "      <td>302.640000</td>\n",
       "      <td>324.966500</td>\n",
       "      <td>264.526000</td>\n",
       "    </tr>\n",
       "    <tr>\n",
       "      <th>75%</th>\n",
       "      <td>379.090000</td>\n",
       "      <td>443.602750</td>\n",
       "      <td>270.333250</td>\n",
       "      <td>358.50000</td>\n",
       "      <td>446.036500</td>\n",
       "      <td>233.749500</td>\n",
       "      <td>353.753000</td>\n",
       "      <td>375.129500</td>\n",
       "      <td>279.782500</td>\n",
       "      <td>390.359500</td>\n",
       "      <td>234.766250</td>\n",
       "      <td>182.499750</td>\n",
       "      <td>301.506500</td>\n",
       "      <td>401.483250</td>\n",
       "      <td>328.333000</td>\n",
       "      <td>417.840000</td>\n",
       "      <td>331.562750</td>\n",
       "      <td>1077.866000</td>\n",
       "      <td>472.526500</td>\n",
       "      <td>423.500000</td>\n",
       "      <td>383.263000</td>\n",
       "      <td>365.426000</td>\n",
       "      <td>381.159000</td>\n",
       "      <td>380.442750</td>\n",
       "      <td>486.429500</td>\n",
       "      <td>636.379750</td>\n",
       "      <td>191.923000</td>\n",
       "      <td>504.002500</td>\n",
       "      <td>465.306000</td>\n",
       "      <td>394.866500</td>\n",
       "      <td>850.743250</td>\n",
       "      <td>401.406000</td>\n",
       "      <td>214.099750</td>\n",
       "      <td>524.992750</td>\n",
       "      <td>291.076500</td>\n",
       "      <td>560.209750</td>\n",
       "      <td>570.962750</td>\n",
       "      <td>570.779250</td>\n",
       "      <td>393.045500</td>\n",
       "      <td>490.619750</td>\n",
       "      <td>474.346000</td>\n",
       "      <td>300.696500</td>\n",
       "      <td>571.736000</td>\n",
       "      <td>704.350000</td>\n",
       "      <td>381.966250</td>\n",
       "      <td>238.666250</td>\n",
       "      <td>365.229500</td>\n",
       "      <td>108.535500</td>\n",
       "      <td>452.003250</td>\n",
       "      <td>560.219250</td>\n",
       "      <td>231.183000</td>\n",
       "      <td>304.750000</td>\n",
       "      <td>348.583000</td>\n",
       "      <td>269.146000</td>\n",
       "    </tr>\n",
       "    <tr>\n",
       "      <th>max</th>\n",
       "      <td>410.826000</td>\n",
       "      <td>521.000000</td>\n",
       "      <td>286.400000</td>\n",
       "      <td>383.37300</td>\n",
       "      <td>513.666000</td>\n",
       "      <td>263.813000</td>\n",
       "      <td>392.120000</td>\n",
       "      <td>430.000000</td>\n",
       "      <td>289.840000</td>\n",
       "      <td>483.693000</td>\n",
       "      <td>286.999000</td>\n",
       "      <td>197.493000</td>\n",
       "      <td>319.226000</td>\n",
       "      <td>414.000000</td>\n",
       "      <td>368.213000</td>\n",
       "      <td>456.680000</td>\n",
       "      <td>340.786000</td>\n",
       "      <td>1130.973000</td>\n",
       "      <td>503.826000</td>\n",
       "      <td>444.239000</td>\n",
       "      <td>420.986000</td>\n",
       "      <td>425.000000</td>\n",
       "      <td>386.106000</td>\n",
       "      <td>403.360000</td>\n",
       "      <td>529.000000</td>\n",
       "      <td>658.772000</td>\n",
       "      <td>200.506000</td>\n",
       "      <td>563.733000</td>\n",
       "      <td>487.666000</td>\n",
       "      <td>464.306000</td>\n",
       "      <td>870.746000</td>\n",
       "      <td>434.000000</td>\n",
       "      <td>229.000000</td>\n",
       "      <td>550.000000</td>\n",
       "      <td>359.746000</td>\n",
       "      <td>615.173000</td>\n",
       "      <td>608.400000</td>\n",
       "      <td>618.893000</td>\n",
       "      <td>413.000000</td>\n",
       "      <td>557.906000</td>\n",
       "      <td>510.932000</td>\n",
       "      <td>322.413000</td>\n",
       "      <td>625.506000</td>\n",
       "      <td>796.026000</td>\n",
       "      <td>396.253000</td>\n",
       "      <td>256.000000</td>\n",
       "      <td>369.960000</td>\n",
       "      <td>110.000000</td>\n",
       "      <td>476.120000</td>\n",
       "      <td>598.960000</td>\n",
       "      <td>233.240000</td>\n",
       "      <td>325.320000</td>\n",
       "      <td>367.186000</td>\n",
       "      <td>271.266000</td>\n",
       "    </tr>\n",
       "  </tbody>\n",
       "</table>\n",
       "</div>"
      ],
      "text/plain": [
       "           K279-1      K279-2      K279-3     K280-1      K280-2      K280-3  \\\n",
       "count    6.000000    6.000000    6.000000    6.00000    6.000000    6.000000   \n",
       "mean   332.799500  402.726167  237.288667  312.66200  402.248500  208.099500   \n",
       "std     58.502479   79.106209   40.925495   54.60085   79.797372   37.457023   \n",
       "min    264.773000  301.826000  196.240000  264.40000  301.000000  178.826000   \n",
       "25%    296.635500  350.306500  201.939750  275.63625  343.636250  181.806500   \n",
       "50%    315.173000  401.239000  233.546000  287.01300  409.446000  188.912500   \n",
       "75%    379.090000  443.602750  270.333250  358.50000  446.036500  233.749500   \n",
       "max    410.826000  521.000000  286.400000  383.37300  513.666000  263.813000   \n",
       "\n",
       "           K281-1      K281-2      K281-3      K282-1      K282-2      K282-3  \\\n",
       "count    6.000000    6.000000    6.000000    6.000000    6.000000    6.000000   \n",
       "mean   308.479667  352.968500  259.717167  380.168333  228.406167  161.986333   \n",
       "std     60.277567   47.772182   29.433897   63.186874   33.554739   28.438450   \n",
       "min    261.066000  301.160000  208.173000  287.666000  188.000000  127.760000   \n",
       "25%    266.590000  320.492750  251.349500  362.879250  210.746250  140.832500   \n",
       "50%    277.926000  344.366000  264.085500  378.999500  226.066000  161.666500   \n",
       "75%    353.753000  375.129500  279.782500  390.359500  234.766250  182.499750   \n",
       "max    392.120000  430.000000  289.840000  483.693000  286.999000  197.493000   \n",
       "\n",
       "           K283-1      K283-2      K283-3      K284-1      K284-2  \\\n",
       "count    6.000000    6.000000    6.000000    6.000000    6.000000   \n",
       "mean   271.135167  342.779500  286.952833  362.270833  298.833000   \n",
       "std     36.315301   64.522193   56.945136   69.144966   51.612648   \n",
       "min    241.000000  264.012000  235.506000  305.333000  215.840000   \n",
       "25%    244.172750  295.516000  246.986500  312.256000  270.283250   \n",
       "50%    254.259500  336.999500  263.179000  328.613000  325.433000   \n",
       "75%    301.506500  401.483250  328.333000  417.840000  331.562750   \n",
       "max    319.226000  414.000000  368.213000  456.680000  340.786000   \n",
       "\n",
       "            K284-3      K309-1      K309-2      K309-3      K311-1  \\\n",
       "count     6.000000    6.000000    6.000000    6.000000    6.000000   \n",
       "mean   1003.921667  411.575000  388.801833  368.532833  319.306167   \n",
       "std     103.836254   71.000364   49.299291   35.543225   70.540190   \n",
       "min     866.173000  355.546000  314.573000  318.000000  264.533000   \n",
       "25%     929.836000  357.426000  359.832750  348.856250  274.803000   \n",
       "50%    1012.086000  377.606000  397.166500  372.039000  279.499000   \n",
       "75%    1077.866000  472.526500  423.500000  383.263000  365.426000   \n",
       "max    1130.973000  503.826000  444.239000  420.986000  425.000000   \n",
       "\n",
       "           K311-2      K311-3      K310-1      K310-2      K310-3      K330-1  \\\n",
       "count    6.000000    6.000000    6.000000    6.000000    6.000000    6.000000   \n",
       "mean   356.026167  378.666167  421.655167  585.763833  185.639500  433.359500   \n",
       "std     28.088014   14.370736   84.731542   67.192696   12.198812   93.266237   \n",
       "min    324.253000  360.533000  327.666000  485.506000  166.000000  353.666000   \n",
       "25%    331.649500  371.635750  349.466250  543.616000  180.182750  373.100000   \n",
       "50%    356.540000  378.999500  419.053000  597.733000  188.392500  384.966000   \n",
       "75%    381.159000  380.442750  486.429500  636.379750  191.923000  504.002500   \n",
       "max    386.106000  403.360000  529.000000  658.772000  200.506000  563.733000   \n",
       "\n",
       "           K330-2      K330-3      K331-1      K331-2      K331-3      K332-1  \\\n",
       "count    6.000000    6.000000    6.000000    6.000000    6.000000    6.000000   \n",
       "mean   411.693000  366.548667  788.770833  372.424167  208.646333  464.201833   \n",
       "std     64.153863   59.534984   80.462374   43.109195   12.431374   69.459973   \n",
       "min    334.000000  303.000000  677.000000  322.000000  194.160000  385.333000   \n",
       "25%    361.810000  332.510000  728.376500  341.469750  201.026250  421.109750   \n",
       "50%    409.253000  346.613000  809.539500  366.033000  206.412500  441.306000   \n",
       "75%    465.306000  394.866500  850.743250  401.406000  214.099750  524.992750   \n",
       "max    487.666000  464.306000  870.746000  434.000000  229.000000  550.000000   \n",
       "\n",
       "           K332-2      K332-3      K333-1      K333-2      K333-3      K457-1  \\\n",
       "count    6.000000    6.000000    6.000000    6.000000    6.000000    6.000000   \n",
       "mean   285.324000  484.830667  497.088333  540.862000  375.835167  445.568500   \n",
       "std     41.699032   96.470047   86.818058   65.193706   32.196473   75.863658   \n",
       "min    236.653000  403.666000  421.666000  425.000000  319.000000  374.720000   \n",
       "25%    263.976250  424.473000  439.672750  529.700000  369.159750  382.016000   \n",
       "50%    281.606000  432.926000  453.712500  550.480000  380.053000  432.953000   \n",
       "75%    291.076500  560.209750  570.962750  570.779250  393.045500  490.619750   \n",
       "max    359.746000  615.173000  608.400000  618.893000  413.000000  557.906000   \n",
       "\n",
       "           K457-2      K457-3      K533-1      K533-2      K533-3      K545-1  \\\n",
       "count    6.000000    6.000000    6.000000    6.000000    6.000000    6.000000   \n",
       "mean   447.334833  292.641833  518.483833  634.395167  362.219667  208.844000   \n",
       "std     51.878956   19.342672   74.516429  112.421781   32.611373   35.719689   \n",
       "min    367.706000  266.933000  452.066000  491.000000  307.000000  179.586000   \n",
       "25%    417.836250  281.589250  473.096250  573.325750  348.356500  182.722750   \n",
       "50%    461.846000  292.593000  480.166000  611.833000  372.226000  191.719500   \n",
       "75%    474.346000  300.696500  571.736000  704.350000  381.966250  238.666250   \n",
       "max    510.932000  322.413000  625.506000  796.026000  396.253000  256.000000   \n",
       "\n",
       "           K545-2      K545-3      K570-1      K570-2      K570-3      K576-1  \\\n",
       "count    6.000000    6.000000    6.000000    6.000000    6.000000    6.000000   \n",
       "mean   346.957333  103.715167  404.844167  508.561833  221.930667  303.619833   \n",
       "std     32.493723    7.305157   58.027770   68.998357   12.565781   12.215910   \n",
       "min    283.666000   90.320000  336.066000  423.826000  201.000000  288.333000   \n",
       "25%    346.306500  102.043250  359.883000  457.999500  216.026000  298.659500   \n",
       "50%    359.552500  105.899500  400.773000  503.220000  225.799000  302.640000   \n",
       "75%    365.229500  108.535500  452.003250  560.219250  231.183000  304.750000   \n",
       "max    369.960000  110.000000  476.120000  598.960000  233.240000  325.320000   \n",
       "\n",
       "           K576-2      K576-3  \n",
       "count    6.000000    6.000000  \n",
       "mean   325.728667  259.575000  \n",
       "std     31.493255   12.712009  \n",
       "min    291.120000  243.333000  \n",
       "25%    298.500000  248.466250  \n",
       "50%    324.966500  264.526000  \n",
       "75%    348.583000  269.146000  \n",
       "max    367.186000  271.266000  "
      ]
     },
     "execution_count": 16,
     "metadata": {},
     "output_type": "execute_result"
    }
   ],
   "source": [
    "df.iloc[:,[0,1,5,6,7,8]].T.describe()"
   ]
  },
  {
   "cell_type": "code",
   "execution_count": null,
   "metadata": {},
   "outputs": [
    {
     "name": "stderr",
     "output_type": "stream",
     "text": [
      "<ipython-input-17-749a49352309>:3: FutureWarning: The frame.append method is deprecated and will be removed from pandas in a future version. Use pandas.concat instead.\n",
      "  comparison.append(pd.Series(df.iloc[:,[0,1,5,6,7,8]].T.apply(hmean),name='hmean'))\n"
     ]
    },
    {
     "data": {
      "text/html": [
       "<div>\n",
       "<style scoped>\n",
       "    .dataframe tbody tr th:only-of-type {\n",
       "        vertical-align: middle;\n",
       "    }\n",
       "\n",
       "    .dataframe tbody tr th {\n",
       "        vertical-align: top;\n",
       "    }\n",
       "\n",
       "    .dataframe thead th {\n",
       "        text-align: right;\n",
       "    }\n",
       "</style>\n",
       "<table border=\"1\" class=\"dataframe\">\n",
       "  <thead>\n",
       "    <tr style=\"text-align: right;\">\n",
       "      <th></th>\n",
       "      <th>K279-1</th>\n",
       "      <th>K279-2</th>\n",
       "      <th>K279-3</th>\n",
       "      <th>K280-1</th>\n",
       "      <th>K280-2</th>\n",
       "      <th>K280-3</th>\n",
       "      <th>K281-1</th>\n",
       "      <th>K281-2</th>\n",
       "      <th>K281-3</th>\n",
       "      <th>K282-1</th>\n",
       "      <th>K282-2</th>\n",
       "      <th>K282-3</th>\n",
       "      <th>K283-1</th>\n",
       "      <th>K283-2</th>\n",
       "      <th>K283-3</th>\n",
       "      <th>K284-1</th>\n",
       "      <th>K284-2</th>\n",
       "      <th>K284-3</th>\n",
       "      <th>K309-1</th>\n",
       "      <th>K309-2</th>\n",
       "      <th>K309-3</th>\n",
       "      <th>K311-1</th>\n",
       "      <th>K311-2</th>\n",
       "      <th>K311-3</th>\n",
       "      <th>K310-1</th>\n",
       "      <th>K310-2</th>\n",
       "      <th>K310-3</th>\n",
       "      <th>K330-1</th>\n",
       "      <th>K330-2</th>\n",
       "      <th>K330-3</th>\n",
       "      <th>K331-1</th>\n",
       "      <th>K331-2</th>\n",
       "      <th>K331-3</th>\n",
       "      <th>K332-1</th>\n",
       "      <th>K332-2</th>\n",
       "      <th>K332-3</th>\n",
       "      <th>K333-1</th>\n",
       "      <th>K333-2</th>\n",
       "      <th>K333-3</th>\n",
       "      <th>K457-1</th>\n",
       "      <th>K457-2</th>\n",
       "      <th>K457-3</th>\n",
       "      <th>K533-1</th>\n",
       "      <th>K533-2</th>\n",
       "      <th>K533-3</th>\n",
       "      <th>K545-1</th>\n",
       "      <th>K545-2</th>\n",
       "      <th>K545-3</th>\n",
       "      <th>K570-1</th>\n",
       "      <th>K570-2</th>\n",
       "      <th>K570-3</th>\n",
       "      <th>K576-1</th>\n",
       "      <th>K576-2</th>\n",
       "      <th>K576-3</th>\n",
       "    </tr>\n",
       "  </thead>\n",
       "  <tbody>\n",
       "    <tr>\n",
       "      <th>mean</th>\n",
       "      <td>332.799500</td>\n",
       "      <td>402.726167</td>\n",
       "      <td>237.288667</td>\n",
       "      <td>312.662000</td>\n",
       "      <td>402.248500</td>\n",
       "      <td>208.099500</td>\n",
       "      <td>308.479667</td>\n",
       "      <td>352.96850</td>\n",
       "      <td>259.717167</td>\n",
       "      <td>380.168333</td>\n",
       "      <td>228.406167</td>\n",
       "      <td>161.986333</td>\n",
       "      <td>271.135167</td>\n",
       "      <td>342.779500</td>\n",
       "      <td>286.952833</td>\n",
       "      <td>362.270833</td>\n",
       "      <td>298.833000</td>\n",
       "      <td>1003.921667</td>\n",
       "      <td>411.575000</td>\n",
       "      <td>388.801833</td>\n",
       "      <td>368.532833</td>\n",
       "      <td>319.306167</td>\n",
       "      <td>356.026167</td>\n",
       "      <td>378.666167</td>\n",
       "      <td>421.655167</td>\n",
       "      <td>585.763833</td>\n",
       "      <td>185.639500</td>\n",
       "      <td>433.359500</td>\n",
       "      <td>411.693000</td>\n",
       "      <td>366.548667</td>\n",
       "      <td>788.770833</td>\n",
       "      <td>372.424167</td>\n",
       "      <td>208.646333</td>\n",
       "      <td>464.201833</td>\n",
       "      <td>285.324000</td>\n",
       "      <td>484.830667</td>\n",
       "      <td>497.088333</td>\n",
       "      <td>540.862000</td>\n",
       "      <td>375.835167</td>\n",
       "      <td>445.568500</td>\n",
       "      <td>447.334833</td>\n",
       "      <td>292.641833</td>\n",
       "      <td>518.483833</td>\n",
       "      <td>634.395167</td>\n",
       "      <td>362.219667</td>\n",
       "      <td>208.844000</td>\n",
       "      <td>346.957333</td>\n",
       "      <td>103.715167</td>\n",
       "      <td>404.844167</td>\n",
       "      <td>508.561833</td>\n",
       "      <td>221.930667</td>\n",
       "      <td>303.619833</td>\n",
       "      <td>325.728667</td>\n",
       "      <td>259.575000</td>\n",
       "    </tr>\n",
       "    <tr>\n",
       "      <th>50%</th>\n",
       "      <td>315.173000</td>\n",
       "      <td>401.239000</td>\n",
       "      <td>233.546000</td>\n",
       "      <td>287.013000</td>\n",
       "      <td>409.446000</td>\n",
       "      <td>188.912500</td>\n",
       "      <td>277.926000</td>\n",
       "      <td>344.36600</td>\n",
       "      <td>264.085500</td>\n",
       "      <td>378.999500</td>\n",
       "      <td>226.066000</td>\n",
       "      <td>161.666500</td>\n",
       "      <td>254.259500</td>\n",
       "      <td>336.999500</td>\n",
       "      <td>263.179000</td>\n",
       "      <td>328.613000</td>\n",
       "      <td>325.433000</td>\n",
       "      <td>1012.086000</td>\n",
       "      <td>377.606000</td>\n",
       "      <td>397.166500</td>\n",
       "      <td>372.039000</td>\n",
       "      <td>279.499000</td>\n",
       "      <td>356.540000</td>\n",
       "      <td>378.999500</td>\n",
       "      <td>419.053000</td>\n",
       "      <td>597.733000</td>\n",
       "      <td>188.392500</td>\n",
       "      <td>384.966000</td>\n",
       "      <td>409.253000</td>\n",
       "      <td>346.613000</td>\n",
       "      <td>809.539500</td>\n",
       "      <td>366.033000</td>\n",
       "      <td>206.412500</td>\n",
       "      <td>441.306000</td>\n",
       "      <td>281.606000</td>\n",
       "      <td>432.926000</td>\n",
       "      <td>453.712500</td>\n",
       "      <td>550.480000</td>\n",
       "      <td>380.053000</td>\n",
       "      <td>432.953000</td>\n",
       "      <td>461.846000</td>\n",
       "      <td>292.593000</td>\n",
       "      <td>480.166000</td>\n",
       "      <td>611.833000</td>\n",
       "      <td>372.226000</td>\n",
       "      <td>191.719500</td>\n",
       "      <td>359.552500</td>\n",
       "      <td>105.899500</td>\n",
       "      <td>400.773000</td>\n",
       "      <td>503.220000</td>\n",
       "      <td>225.799000</td>\n",
       "      <td>302.640000</td>\n",
       "      <td>324.966500</td>\n",
       "      <td>264.526000</td>\n",
       "    </tr>\n",
       "    <tr>\n",
       "      <th>hmean</th>\n",
       "      <td>324.594831</td>\n",
       "      <td>389.888182</td>\n",
       "      <td>231.469976</td>\n",
       "      <td>305.411896</td>\n",
       "      <td>388.746739</td>\n",
       "      <td>203.055542</td>\n",
       "      <td>299.700780</td>\n",
       "      <td>347.87998</td>\n",
       "      <td>256.640763</td>\n",
       "      <td>371.413946</td>\n",
       "      <td>224.585314</td>\n",
       "      <td>157.809910</td>\n",
       "      <td>267.353219</td>\n",
       "      <td>332.609609</td>\n",
       "      <td>278.433403</td>\n",
       "      <td>352.309702</td>\n",
       "      <td>290.222712</td>\n",
       "      <td>994.801060</td>\n",
       "      <td>402.225507</td>\n",
       "      <td>383.303703</td>\n",
       "      <td>365.655529</td>\n",
       "      <td>307.984304</td>\n",
       "      <td>354.174044</td>\n",
       "      <td>378.220372</td>\n",
       "      <td>407.525913</td>\n",
       "      <td>579.013034</td>\n",
       "      <td>184.947176</td>\n",
       "      <td>418.513676</td>\n",
       "      <td>403.326105</td>\n",
       "      <td>359.166288</td>\n",
       "      <td>781.672013</td>\n",
       "      <td>368.361709</td>\n",
       "      <td>208.046237</td>\n",
       "      <td>455.913775</td>\n",
       "      <td>280.670625</td>\n",
       "      <td>470.543072</td>\n",
       "      <td>485.590996</td>\n",
       "      <td>533.544926</td>\n",
       "      <td>373.362341</td>\n",
       "      <td>435.295837</td>\n",
       "      <td>442.024774</td>\n",
       "      <td>291.587813</td>\n",
       "      <td>510.265890</td>\n",
       "      <td>618.199275</td>\n",
       "      <td>359.593618</td>\n",
       "      <td>204.192917</td>\n",
       "      <td>344.048180</td>\n",
       "      <td>103.252076</td>\n",
       "      <td>397.945331</td>\n",
       "      <td>500.807296</td>\n",
       "      <td>221.311911</td>\n",
       "      <td>303.220834</td>\n",
       "      <td>323.202887</td>\n",
       "      <td>259.043897</td>\n",
       "    </tr>\n",
       "  </tbody>\n",
       "</table>\n",
       "</div>"
      ],
      "text/plain": [
       "           K279-1      K279-2      K279-3      K280-1      K280-2      K280-3  \\\n",
       "mean   332.799500  402.726167  237.288667  312.662000  402.248500  208.099500   \n",
       "50%    315.173000  401.239000  233.546000  287.013000  409.446000  188.912500   \n",
       "hmean  324.594831  389.888182  231.469976  305.411896  388.746739  203.055542   \n",
       "\n",
       "           K281-1     K281-2      K281-3      K282-1      K282-2      K282-3  \\\n",
       "mean   308.479667  352.96850  259.717167  380.168333  228.406167  161.986333   \n",
       "50%    277.926000  344.36600  264.085500  378.999500  226.066000  161.666500   \n",
       "hmean  299.700780  347.87998  256.640763  371.413946  224.585314  157.809910   \n",
       "\n",
       "           K283-1      K283-2      K283-3      K284-1      K284-2  \\\n",
       "mean   271.135167  342.779500  286.952833  362.270833  298.833000   \n",
       "50%    254.259500  336.999500  263.179000  328.613000  325.433000   \n",
       "hmean  267.353219  332.609609  278.433403  352.309702  290.222712   \n",
       "\n",
       "            K284-3      K309-1      K309-2      K309-3      K311-1  \\\n",
       "mean   1003.921667  411.575000  388.801833  368.532833  319.306167   \n",
       "50%    1012.086000  377.606000  397.166500  372.039000  279.499000   \n",
       "hmean   994.801060  402.225507  383.303703  365.655529  307.984304   \n",
       "\n",
       "           K311-2      K311-3      K310-1      K310-2      K310-3      K330-1  \\\n",
       "mean   356.026167  378.666167  421.655167  585.763833  185.639500  433.359500   \n",
       "50%    356.540000  378.999500  419.053000  597.733000  188.392500  384.966000   \n",
       "hmean  354.174044  378.220372  407.525913  579.013034  184.947176  418.513676   \n",
       "\n",
       "           K330-2      K330-3      K331-1      K331-2      K331-3      K332-1  \\\n",
       "mean   411.693000  366.548667  788.770833  372.424167  208.646333  464.201833   \n",
       "50%    409.253000  346.613000  809.539500  366.033000  206.412500  441.306000   \n",
       "hmean  403.326105  359.166288  781.672013  368.361709  208.046237  455.913775   \n",
       "\n",
       "           K332-2      K332-3      K333-1      K333-2      K333-3      K457-1  \\\n",
       "mean   285.324000  484.830667  497.088333  540.862000  375.835167  445.568500   \n",
       "50%    281.606000  432.926000  453.712500  550.480000  380.053000  432.953000   \n",
       "hmean  280.670625  470.543072  485.590996  533.544926  373.362341  435.295837   \n",
       "\n",
       "           K457-2      K457-3      K533-1      K533-2      K533-3      K545-1  \\\n",
       "mean   447.334833  292.641833  518.483833  634.395167  362.219667  208.844000   \n",
       "50%    461.846000  292.593000  480.166000  611.833000  372.226000  191.719500   \n",
       "hmean  442.024774  291.587813  510.265890  618.199275  359.593618  204.192917   \n",
       "\n",
       "           K545-2      K545-3      K570-1      K570-2      K570-3      K576-1  \\\n",
       "mean   346.957333  103.715167  404.844167  508.561833  221.930667  303.619833   \n",
       "50%    359.552500  105.899500  400.773000  503.220000  225.799000  302.640000   \n",
       "hmean  344.048180  103.252076  397.945331  500.807296  221.311911  303.220834   \n",
       "\n",
       "           K576-2      K576-3  \n",
       "mean   325.728667  259.575000  \n",
       "50%    324.966500  264.526000  \n",
       "hmean  323.202887  259.043897  "
      ]
     },
     "execution_count": 17,
     "metadata": {},
     "output_type": "execute_result"
    }
   ],
   "source": [
    "from scipy.stats import hmean\n",
    "comparison = df.iloc[:,[0,1,5,6,7,8]].T.describe().loc[['mean','50%']]\n",
    "comparison.append(pd.Series(df.iloc[:,[0,1,5,6,7,8]].T.apply(hmean),name='hmean'))"
   ]
  },
  {
   "cell_type": "markdown",
   "metadata": {},
   "source": [
    "## Store median durations to file"
   ]
  },
  {
   "cell_type": "code",
   "execution_count": null,
   "metadata": {},
   "outputs": [],
   "source": [
    "comparison.T.to_csv('performance_durations.tsv', sep='\\t')"
   ]
  },
  {
   "cell_type": "code",
   "execution_count": null,
   "metadata": {},
   "outputs": [
    {
     "data": {
      "text/html": [
       "        <script type=\"text/javascript\">\n",
       "        window.PlotlyConfig = {MathJaxConfig: 'local'};\n",
       "        if (window.MathJax) {MathJax.Hub.Config({SVG: {font: \"STIX-Web\"}});}\n",
       "        if (typeof require !== 'undefined') {\n",
       "        require.undef(\"plotly\");\n",
       "        requirejs.config({\n",
       "            paths: {\n",
       "                'plotly': ['https://cdn.plot.ly/plotly-latest.min']\n",
       "            }\n",
       "        });\n",
       "        require(['plotly'], function(Plotly) {\n",
       "            window._Plotly = Plotly;\n",
       "        });\n",
       "        }\n",
       "        </script>\n",
       "        "
      ]
     },
     "metadata": {},
     "output_type": "display_data"
    },
    {
     "data": {
      "text/html": [
       "        <script type=\"text/javascript\">\n",
       "        window.PlotlyConfig = {MathJaxConfig: 'local'};\n",
       "        if (window.MathJax) {MathJax.Hub.Config({SVG: {font: \"STIX-Web\"}});}\n",
       "        if (typeof require !== 'undefined') {\n",
       "        require.undef(\"plotly\");\n",
       "        requirejs.config({\n",
       "            paths: {\n",
       "                'plotly': ['https://cdn.plot.ly/plotly-latest.min']\n",
       "            }\n",
       "        });\n",
       "        require(['plotly'], function(Plotly) {\n",
       "            window._Plotly = Plotly;\n",
       "        });\n",
       "        }\n",
       "        </script>\n",
       "        "
      ]
     },
     "metadata": {},
     "output_type": "display_data"
    }
   ],
   "source": [
    "import cufflinks as cf\n",
    "from plotly.offline import init_notebook_mode\n",
    "init_notebook_mode(connected=True)\n",
    "cf.go_offline()"
   ]
  },
  {
   "cell_type": "code",
   "execution_count": null,
   "metadata": {},
   "outputs": [],
   "source": [
    "seconds = df.copy()"
   ]
  },
  {
   "cell_type": "code",
   "execution_count": null,
   "metadata": {},
   "outputs": [
    {
     "data": {
      "application/vnd.plotly.v1+json": {
       "config": {
        "linkText": "Export to plot.ly",
        "plotlyServerURL": "https://plot.ly",
        "showLink": true
       },
       "data": [
        {
         "boxpoints": false,
         "line": {
          "width": 1.3
         },
         "marker": {
          "color": "rgba(255, 153, 51, 1.0)"
         },
         "name": "K279-1",
         "orientation": "v",
         "type": "box",
         "y": [
          395.84,
          264.773,
          413.28,
          220.466,
          284.56,
          301.506,
          295.012,
          410.826,
          328.84
         ]
        },
        {
         "boxpoints": false,
         "line": {
          "width": 1.3
         },
         "marker": {
          "color": "rgba(55, 128, 191, 1.0)"
         },
         "name": "K279-2",
         "orientation": "v",
         "type": "box",
         "y": [
          453.053,
          387.226,
          489.24,
          210.653,
          267.026,
          301.826,
          415.252,
          521,
          338
         ]
        },
        {
         "boxpoints": false,
         "line": {
          "width": 1.3
         },
         "marker": {
          "color": "rgba(50, 171, 96, 1.0)"
         },
         "name": "K279-3",
         "orientation": "v",
         "type": "box",
         "y": [
          286.4,
          196.24,
          310.32,
          166.373,
          180.666,
          262.333,
          204.759,
          273,
          201
         ]
        },
        {
         "boxpoints": false,
         "line": {
          "width": 1.3
         },
         "marker": {
          "color": "rgba(128, 0, 128, 1.0)"
         },
         "name": "K280-1",
         "orientation": "v",
         "type": "box",
         "y": [
          383.373,
          264.4,
          382.32,
          219.293,
          265.84,
          273.173,
          283.026,
          381,
          291
         ]
        },
        {
         "boxpoints": false,
         "line": {
          "width": 1.3
         },
         "marker": {
          "color": "rgba(219, 64, 82, 1.0)"
         },
         "name": "K280-2",
         "orientation": "v",
         "type": "box",
         "y": [
          455.76,
          416.866,
          476.28,
          236.506,
          217.88,
          301,
          402.026,
          513.666,
          324.173
         ]
        },
        {
         "boxpoints": false,
         "line": {
          "width": 1.3
         },
         "marker": {
          "color": "rgba(0, 128, 128, 1.0)"
         },
         "name": "K280-3",
         "orientation": "v",
         "type": "box",
         "y": [
          263.813,
          180.8,
          268.2,
          140.8,
          179.04,
          178.826,
          192.999,
          247.333,
          184.826
         ]
        },
        {
         "boxpoints": false,
         "line": {
          "width": 1.3
         },
         "marker": {
          "color": "rgba(255, 255, 51, 1.0)"
         },
         "name": "K281-1",
         "orientation": "v",
         "type": "box",
         "y": [
          392.12,
          261.066,
          384.12,
          202.04,
          278.146,
          262.84,
          278.012,
          379,
          277.84
         ]
        },
        {
         "boxpoints": false,
         "line": {
          "width": 1.3
         },
         "marker": {
          "color": "rgba(128, 128, 0, 1.0)"
         },
         "name": "K281-2",
         "orientation": "v",
         "type": "box",
         "y": [
          343.493,
          385.093,
          456.12,
          219.8,
          227.933,
          301.16,
          345.239,
          430,
          312.826
         ]
        },
        {
         "boxpoints": false,
         "line": {
          "width": 1.3
         },
         "marker": {
          "color": "rgba(251, 128, 114, 1.0)"
         },
         "name": "K281-3",
         "orientation": "v",
         "type": "box",
         "y": [
          282.786,
          257.399,
          292.32,
          273.653,
          296.386,
          249.333,
          270.772,
          208.173,
          289.84
         ]
        },
        {
         "boxpoints": false,
         "line": {
          "width": 1.3
         },
         "marker": {
          "color": "rgba(128, 177, 211, 1.0)"
         },
         "name": "K282-1",
         "orientation": "v",
         "type": "box",
         "y": [
          388.96,
          483.693,
          434.16,
          186.733,
          233.226,
          287.666,
          369.039,
          390.826,
          360.826
         ]
        },
        {
         "boxpoints": false,
         "line": {
          "width": 1.3
         },
         "marker": {
          "color": "rgba(128, 177, 211, 0.8999999999999999)"
         },
         "name": "K282-2",
         "orientation": "v",
         "type": "box",
         "y": [
          221.466,
          236.133,
          245.16,
          150.04,
          1.493,
          230.666,
          286.999,
          188,
          207.173
         ]
        },
        {
         "boxpoints": false,
         "line": {
          "width": 1.3
         },
         "marker": {
          "color": "rgba(255, 153, 51, 0.8999999999999999)"
         },
         "name": "K282-3",
         "orientation": "v",
         "type": "box",
         "y": [
          197.493,
          127.76,
          206.28,
          105.973,
          185.893,
          183.333,
          139.999,
          180,
          143.333
         ]
        },
        {
         "boxpoints": false,
         "line": {
          "width": 1.3
         },
         "marker": {
          "color": "rgba(55, 128, 191, 0.8999999999999999)"
         },
         "name": "K283-1",
         "orientation": "v",
         "type": "box",
         "y": [
          319.226,
          243.066,
          341.28,
          181.893,
          235.773,
          241,
          261.026,
          315,
          247.493
         ]
        },
        {
         "boxpoints": false,
         "line": {
          "width": 1.3
         },
         "marker": {
          "color": "rgba(50, 171, 96, 0.8999999999999999)"
         },
         "name": "K283-2",
         "orientation": "v",
         "type": "box",
         "y": [
          369.933,
          304.066,
          407.16,
          221.053,
          333.893,
          412,
          264.012,
          414,
          292.666
         ]
        },
        {
         "boxpoints": false,
         "line": {
          "width": 1.3
         },
         "marker": {
          "color": "rgba(128, 0, 128, 0.8999999999999999)"
         },
         "name": "K283-3",
         "orientation": "v",
         "type": "box",
         "y": [
          368.213,
          242.64,
          352.08,
          196.693,
          225.173,
          235.506,
          266.332,
          349,
          260.026
         ]
        },
        {
         "boxpoints": false,
         "line": {
          "width": 1.3
         },
         "marker": {
          "color": "rgba(219, 64, 82, 0.8999999999999999)"
         },
         "name": "K284-1",
         "orientation": "v",
         "type": "box",
         "y": [
          456.68,
          314.866,
          439.2,
          227.853,
          221.826,
          305.333,
          311.386,
          443,
          342.36
         ]
        },
        {
         "boxpoints": false,
         "line": {
          "width": 1.3
         },
         "marker": {
          "color": "rgba(0, 128, 128, 0.8999999999999999)"
         },
         "name": "K284-2",
         "orientation": "v",
         "type": "box",
         "y": [
          322.133,
          328.733,
          259.2,
          252.346,
          200.666,
          215.84,
          340.786,
          253,
          332.506
         ]
        },
        {
         "boxpoints": false,
         "line": {
          "width": 1.3
         },
         "marker": {
          "color": "rgba(255, 255, 51, 0.8999999999999999)"
         },
         "name": "K284-3",
         "orientation": "v",
         "type": "box",
         "y": [
          1019.306,
          1004.866,
          949.32,
          712.146,
          910.533,
          904.826,
          1097.386,
          866.173,
          1130.973
         ]
        },
        {
         "boxpoints": false,
         "line": {
          "width": 1.3
         },
         "marker": {
          "color": "rgba(128, 128, 0, 0.8999999999999999)"
         },
         "name": "K309-1",
         "orientation": "v",
         "type": "box",
         "y": [
          499.2,
          362.706,
          502.2,
          262.92,
          241.306,
          355.666,
          355.546,
          503.826,
          392.506
         ]
        },
        {
         "boxpoints": false,
         "line": {
          "width": 1.3
         },
         "marker": {
          "color": "rgba(251, 128, 114, 0.8999999999999999)"
         },
         "name": "K309-2",
         "orientation": "v",
         "type": "box",
         "y": [
          314.573,
          375.333,
          365.04,
          327.546,
          368.306,
          354.666,
          444.239,
          425,
          419
         ]
        },
        {
         "boxpoints": false,
         "line": {
          "width": 1.3
         },
         "marker": {
          "color": "rgba(251, 128, 114, 0.7999999999999998)"
         },
         "name": "K309-3",
         "orientation": "v",
         "type": "box",
         "y": [
          365.426,
          384.8,
          348.12,
          365.266,
          368.746,
          343.333,
          378.652,
          318,
          420.986
         ]
        },
        {
         "boxpoints": false,
         "line": {
          "width": 1.3
         },
         "marker": {
          "color": "rgba(128, 177, 211, 0.7999999999999998)"
         },
         "name": "K311-1",
         "orientation": "v",
         "type": "box",
         "y": [
          393.306,
          264.533,
          391.32,
          209,
          272.986,
          274,
          277.212,
          425,
          281.786
         ]
        },
        {
         "boxpoints": false,
         "line": {
          "width": 1.3
         },
         "marker": {
          "color": "rgba(255, 153, 51, 0.7999999999999998)"
         },
         "name": "K311-2",
         "orientation": "v",
         "type": "box",
         "y": [
          324.253,
          386.106,
          332.28,
          292.893,
          335.733,
          328.506,
          384.212,
          372,
          341.08
         ]
        },
        {
         "boxpoints": false,
         "line": {
          "width": 1.3
         },
         "marker": {
          "color": "rgba(55, 128, 191, 0.7999999999999998)"
         },
         "name": "K311-3",
         "orientation": "v",
         "type": "box",
         "y": [
          360.533,
          380.866,
          364.32,
          403.12,
          1.493,
          378.826,
          369.239,
          379.173,
          403.36
         ]
        },
        {
         "boxpoints": false,
         "line": {
          "width": 1.3
         },
         "marker": {
          "color": "rgba(50, 171, 96, 0.7999999999999998)"
         },
         "name": "K310-1",
         "orientation": "v",
         "type": "box",
         "y": [
          461.24,
          494.826,
          483.12,
          271.36,
          257,
          340.333,
          327.666,
          529,
          376.866
         ]
        },
        {
         "boxpoints": false,
         "line": {
          "width": 1.3
         },
         "marker": {
          "color": "rgba(128, 0, 128, 0.7999999999999998)"
         },
         "name": "K310-2",
         "orientation": "v",
         "type": "box",
         "y": [
          485.506,
          642.173,
          533.16,
          459.2,
          409.733,
          532.666,
          658.772,
          619,
          576.466
         ]
        },
        {
         "boxpoints": false,
         "line": {
          "width": 1.3
         },
         "marker": {
          "color": "rgba(219, 64, 82, 0.7999999999999998)"
         },
         "name": "K310-3",
         "orientation": "v",
         "type": "box",
         "y": [
          193.08,
          177.466,
          192.24,
          185.533,
          180.36,
          188.333,
          188.452,
          166,
          200.506
         ]
        },
        {
         "boxpoints": false,
         "line": {
          "width": 1.3
         },
         "marker": {
          "color": "rgba(0, 128, 128, 0.7999999999999998)"
         },
         "name": "K330-1",
         "orientation": "v",
         "type": "box",
         "y": [
          563.733,
          376.4,
          532.08,
          289.453,
          380.306,
          353.666,
          393.532,
          540.826,
          372
         ]
        },
        {
         "boxpoints": false,
         "line": {
          "width": 1.3
         },
         "marker": {
          "color": "rgba(255, 255, 51, 0.7999999999999998)"
         },
         "name": "K330-2",
         "orientation": "v",
         "type": "box",
         "y": [
          421.266,
          487.666,
          390.24,
          228.666,
          428.973,
          334,
          479.986,
          350,
          397.24
         ]
        },
        {
         "boxpoints": false,
         "line": {
          "width": 1.3
         },
         "marker": {
          "color": "rgba(128, 128, 0, 0.7999999999999998)"
         },
         "name": "K330-3",
         "orientation": "v",
         "type": "box",
         "y": [
          464.306,
          343.76,
          459.36,
          250.533,
          315.653,
          303,
          349.466,
          410,
          328.76
         ]
        },
        {
         "boxpoints": false,
         "line": {
          "width": 1.3
         },
         "marker": {
          "color": "rgba(128, 128, 0, 0.7)"
         },
         "name": "K331-1",
         "orientation": "v",
         "type": "box",
         "y": [
          852.8,
          844.573,
          864.36,
          554.226,
          447.213,
          774.506,
          870.746,
          713,
          677
         ]
        },
        {
         "boxpoints": false,
         "line": {
          "width": 1.3
         },
         "marker": {
          "color": "rgba(251, 128, 114, 0.7)"
         },
         "name": "K331-2",
         "orientation": "v",
         "type": "box",
         "y": [
          378.666,
          353.4,
          325.08,
          253.773,
          340.533,
          337.493,
          408.986,
          322,
          434
         ]
        },
        {
         "boxpoints": false,
         "line": {
          "width": 1.3
         },
         "marker": {
          "color": "rgba(128, 177, 211, 0.7)"
         },
         "name": "K331-3",
         "orientation": "v",
         "type": "box",
         "y": [
          204.426,
          199.893,
          251.28,
          206.4,
          225.52,
          229,
          208.399,
          216,
          194.16
         ]
        },
        {
         "boxpoints": false,
         "line": {
          "width": 1.3
         },
         "marker": {
          "color": "rgba(255, 153, 51, 0.7)"
         },
         "name": "K332-1",
         "orientation": "v",
         "type": "box",
         "y": [
          548.253,
          427.4,
          546.12,
          293.706,
          272.853,
          385.333,
          455.212,
          550,
          419.013
         ]
        },
        {
         "boxpoints": false,
         "line": {
          "width": 1.3
         },
         "marker": {
          "color": "rgba(55, 128, 191, 0.7)"
         },
         "name": "K332-2",
         "orientation": "v",
         "type": "box",
         "y": [
          236.653,
          274.906,
          274.32,
          293,
          290.08,
          260.333,
          359.746,
          292,
          288.306
         ]
        },
        {
         "boxpoints": false,
         "line": {
          "width": 1.3
         },
         "marker": {
          "color": "rgba(50, 171, 96, 0.7)"
         },
         "name": "K332-3",
         "orientation": "v",
         "type": "box",
         "y": [
          601.76,
          422.533,
          599.04,
          322.493,
          270.293,
          403.666,
          435.559,
          615.173,
          430.293
         ]
        },
        {
         "boxpoints": false,
         "line": {
          "width": 1.3
         },
         "marker": {
          "color": "rgba(128, 0, 128, 0.7)"
         },
         "name": "K333-1",
         "orientation": "v",
         "type": "box",
         "y": [
          608.4,
          437.573,
          592.2,
          326.6,
          297.68,
          421.666,
          445.972,
          607.466,
          461.453
         ]
        },
        {
         "boxpoints": false,
         "line": {
          "width": 1.3
         },
         "marker": {
          "color": "rgba(219, 64, 82, 0.7)"
         },
         "name": "K333-2",
         "orientation": "v",
         "type": "box",
         "y": [
          618.893,
          545.96,
          661.32,
          346,
          375.24,
          425,
          576.039,
          555,
          524.28
         ]
        },
        {
         "boxpoints": false,
         "line": {
          "width": 1.3
         },
         "marker": {
          "color": "rgba(0, 128, 128, 0.7)"
         },
         "name": "K333-3",
         "orientation": "v",
         "type": "box",
         "y": [
          366.213,
          382.106,
          385.2,
          396.8,
          351.306,
          378,
          396.692,
          319,
          413
         ]
        },
        {
         "boxpoints": false,
         "line": {
          "width": 1.3
         },
         "marker": {
          "color": "rgba(255, 255, 51, 0.7)"
         },
         "name": "K457-1",
         "orientation": "v",
         "type": "box",
         "y": [
          557.906,
          494.693,
          486.36,
          271.066,
          228.453,
          387.506,
          380.186,
          478.4,
          374.72
         ]
        },
        {
         "boxpoints": false,
         "line": {
          "width": 1.3
         },
         "marker": {
          "color": "rgba(255, 255, 51, 0.5999999999999999)"
         },
         "name": "K457-2",
         "orientation": "v",
         "type": "box",
         "y": [
          367.706,
          470.866,
          454.32,
          474.346,
          455,
          452.826,
          510.932,
          406.173,
          475.506
         ]
        },
        {
         "boxpoints": false,
         "line": {
          "width": 1.3
         },
         "marker": {
          "color": "rgba(128, 128, 0, 0.5999999999999999)"
         },
         "name": "K457-3",
         "orientation": "v",
         "type": "box",
         "y": [
          322.413,
          301.04,
          278.28,
          291.666,
          281.893,
          299.666,
          280.279,
          266.933,
          285.52
         ]
        },
        {
         "boxpoints": false,
         "line": {
          "width": 1.3
         },
         "marker": {
          "color": "rgba(251, 128, 114, 0.5999999999999999)"
         },
         "name": "K533-1",
         "orientation": "v",
         "type": "box",
         "y": [
          625.506,
          452.066,
          621.36,
          368.8,
          357.253,
          472.173,
          484.466,
          600.826,
          475.866
         ]
        },
        {
         "boxpoints": false,
         "line": {
          "width": 1.3
         },
         "marker": {
          "color": "rgba(128, 177, 211, 0.5999999999999999)"
         },
         "name": "K533-2",
         "orientation": "v",
         "type": "box",
         "y": [
          734.8,
          796.026,
          819.36,
          420.826,
          441.56,
          491,
          560.879,
          613,
          610.666
         ]
        },
        {
         "boxpoints": false,
         "line": {
          "width": 1.3
         },
         "marker": {
          "color": "rgba(255, 153, 51, 0.5999999999999999)"
         },
         "name": "K533-3",
         "orientation": "v",
         "type": "box",
         "y": [
          382.453,
          380.506,
          365.04,
          405.333,
          366.24,
          343.16,
          363.946,
          307,
          396.253
         ]
        },
        {
         "boxpoints": false,
         "line": {
          "width": 1.3
         },
         "marker": {
          "color": "rgba(55, 128, 191, 0.5999999999999999)"
         },
         "name": "K545-1",
         "orientation": "v",
         "type": "box",
         "y": [
          252.533,
          186.373,
          264.24,
          192,
          189.706,
          181.506,
          179.586,
          256,
          197.066
         ]
        },
        {
         "boxpoints": false,
         "line": {
          "width": 1.3
         },
         "marker": {
          "color": "rgba(50, 171, 96, 0.5999999999999999)"
         },
         "name": "K545-2",
         "orientation": "v",
         "type": "box",
         "y": [
          369.96,
          359.226,
          366.12,
          255.706,
          294.64,
          283.666,
          359.879,
          342,
          367.013
         ]
        },
        {
         "boxpoints": false,
         "line": {
          "width": 1.3
         },
         "marker": {
          "color": "rgba(128, 0, 128, 0.5999999999999999)"
         },
         "name": "K545-3",
         "orientation": "v",
         "type": "box",
         "y": [
          90.32,
          101.4,
          115.2,
          103.04,
          107.466,
          107.826,
          108.772,
          110,
          103.973
         ]
        },
        {
         "boxpoints": false,
         "line": {
          "width": 1.3
         },
         "marker": {
          "color": "rgba(219, 64, 82, 0.5999999999999999)"
         },
         "name": "K570-1",
         "orientation": "v",
         "type": "box",
         "y": [
          476.12,
          391.533,
          335.16,
          277.453,
          356.026,
          349.333,
          336.066,
          466,
          410.013
         ]
        },
        {
         "boxpoints": false,
         "line": {
          "width": 1.3
         },
         "marker": {
          "color": "rgba(0, 128, 128, 0.5999999999999999)"
         },
         "name": "K570-2",
         "orientation": "v",
         "type": "box",
         "y": [
          423.826,
          598.96,
          491.04,
          330.746,
          482.746,
          448.666,
          573.479,
          486,
          520.44
         ]
        },
        {
         "boxpoints": false,
         "line": {
          "width": 1.3
         },
         "marker": {
          "color": "rgba(0, 128, 128, 0.49999999999999983)"
         },
         "name": "K570-3",
         "orientation": "v",
         "type": "box",
         "y": [
          213.146,
          232.6,
          219.24,
          162.906,
          236.493,
          224.666,
          226.932,
          201,
          233.24
         ]
        },
        {
         "boxpoints": false,
         "line": {
          "width": 1.3
         },
         "marker": {
          "color": "rgba(255, 255, 51, 0.49999999999999983)"
         },
         "name": "K576-1",
         "orientation": "v",
         "type": "box",
         "y": [
          301.28,
          288.333,
          293.04,
          216.706,
          286.253,
          305,
          297.786,
          304,
          325.32
         ]
        },
        {
         "boxpoints": false,
         "line": {
          "width": 1.3
         },
         "marker": {
          "color": "rgba(128, 128, 0, 0.49999999999999983)"
         },
         "name": "K576-2",
         "orientation": "v",
         "type": "box",
         "y": [
          291.12,
          354.133,
          312.12,
          324.093,
          306.44,
          318,
          367.186,
          292,
          331.933
         ]
        },
        {
         "boxpoints": false,
         "line": {
          "width": 1.3
         },
         "marker": {
          "color": "rgba(251, 128, 114, 0.49999999999999983)"
         },
         "name": "K576-3",
         "orientation": "v",
         "type": "box",
         "y": [
          271.266,
          267.706,
          282.24,
          267.6,
          233.093,
          243.333,
          261.346,
          244.173,
          269.626
         ]
        }
       ],
       "layout": {
        "legend": {
         "bgcolor": "#FFFFFF",
         "font": {
          "color": "#4D5663"
         }
        },
        "paper_bgcolor": "#FFFFFF",
        "plot_bgcolor": "#FFFFFF",
        "template": {
         "data": {
          "bar": [
           {
            "error_x": {
             "color": "#2a3f5f"
            },
            "error_y": {
             "color": "#2a3f5f"
            },
            "marker": {
             "line": {
              "color": "#E5ECF6",
              "width": 0.5
             }
            },
            "type": "bar"
           }
          ],
          "barpolar": [
           {
            "marker": {
             "line": {
              "color": "#E5ECF6",
              "width": 0.5
             }
            },
            "type": "barpolar"
           }
          ],
          "carpet": [
           {
            "aaxis": {
             "endlinecolor": "#2a3f5f",
             "gridcolor": "white",
             "linecolor": "white",
             "minorgridcolor": "white",
             "startlinecolor": "#2a3f5f"
            },
            "baxis": {
             "endlinecolor": "#2a3f5f",
             "gridcolor": "white",
             "linecolor": "white",
             "minorgridcolor": "white",
             "startlinecolor": "#2a3f5f"
            },
            "type": "carpet"
           }
          ],
          "choropleth": [
           {
            "colorbar": {
             "outlinewidth": 0,
             "ticks": ""
            },
            "type": "choropleth"
           }
          ],
          "contour": [
           {
            "colorbar": {
             "outlinewidth": 0,
             "ticks": ""
            },
            "colorscale": [
             [
              0,
              "#0d0887"
             ],
             [
              0.1111111111111111,
              "#46039f"
             ],
             [
              0.2222222222222222,
              "#7201a8"
             ],
             [
              0.3333333333333333,
              "#9c179e"
             ],
             [
              0.4444444444444444,
              "#bd3786"
             ],
             [
              0.5555555555555556,
              "#d8576b"
             ],
             [
              0.6666666666666666,
              "#ed7953"
             ],
             [
              0.7777777777777778,
              "#fb9f3a"
             ],
             [
              0.8888888888888888,
              "#fdca26"
             ],
             [
              1,
              "#f0f921"
             ]
            ],
            "type": "contour"
           }
          ],
          "contourcarpet": [
           {
            "colorbar": {
             "outlinewidth": 0,
             "ticks": ""
            },
            "type": "contourcarpet"
           }
          ],
          "heatmap": [
           {
            "colorbar": {
             "outlinewidth": 0,
             "ticks": ""
            },
            "colorscale": [
             [
              0,
              "#0d0887"
             ],
             [
              0.1111111111111111,
              "#46039f"
             ],
             [
              0.2222222222222222,
              "#7201a8"
             ],
             [
              0.3333333333333333,
              "#9c179e"
             ],
             [
              0.4444444444444444,
              "#bd3786"
             ],
             [
              0.5555555555555556,
              "#d8576b"
             ],
             [
              0.6666666666666666,
              "#ed7953"
             ],
             [
              0.7777777777777778,
              "#fb9f3a"
             ],
             [
              0.8888888888888888,
              "#fdca26"
             ],
             [
              1,
              "#f0f921"
             ]
            ],
            "type": "heatmap"
           }
          ],
          "heatmapgl": [
           {
            "colorbar": {
             "outlinewidth": 0,
             "ticks": ""
            },
            "colorscale": [
             [
              0,
              "#0d0887"
             ],
             [
              0.1111111111111111,
              "#46039f"
             ],
             [
              0.2222222222222222,
              "#7201a8"
             ],
             [
              0.3333333333333333,
              "#9c179e"
             ],
             [
              0.4444444444444444,
              "#bd3786"
             ],
             [
              0.5555555555555556,
              "#d8576b"
             ],
             [
              0.6666666666666666,
              "#ed7953"
             ],
             [
              0.7777777777777778,
              "#fb9f3a"
             ],
             [
              0.8888888888888888,
              "#fdca26"
             ],
             [
              1,
              "#f0f921"
             ]
            ],
            "type": "heatmapgl"
           }
          ],
          "histogram": [
           {
            "marker": {
             "colorbar": {
              "outlinewidth": 0,
              "ticks": ""
             }
            },
            "type": "histogram"
           }
          ],
          "histogram2d": [
           {
            "colorbar": {
             "outlinewidth": 0,
             "ticks": ""
            },
            "colorscale": [
             [
              0,
              "#0d0887"
             ],
             [
              0.1111111111111111,
              "#46039f"
             ],
             [
              0.2222222222222222,
              "#7201a8"
             ],
             [
              0.3333333333333333,
              "#9c179e"
             ],
             [
              0.4444444444444444,
              "#bd3786"
             ],
             [
              0.5555555555555556,
              "#d8576b"
             ],
             [
              0.6666666666666666,
              "#ed7953"
             ],
             [
              0.7777777777777778,
              "#fb9f3a"
             ],
             [
              0.8888888888888888,
              "#fdca26"
             ],
             [
              1,
              "#f0f921"
             ]
            ],
            "type": "histogram2d"
           }
          ],
          "histogram2dcontour": [
           {
            "colorbar": {
             "outlinewidth": 0,
             "ticks": ""
            },
            "colorscale": [
             [
              0,
              "#0d0887"
             ],
             [
              0.1111111111111111,
              "#46039f"
             ],
             [
              0.2222222222222222,
              "#7201a8"
             ],
             [
              0.3333333333333333,
              "#9c179e"
             ],
             [
              0.4444444444444444,
              "#bd3786"
             ],
             [
              0.5555555555555556,
              "#d8576b"
             ],
             [
              0.6666666666666666,
              "#ed7953"
             ],
             [
              0.7777777777777778,
              "#fb9f3a"
             ],
             [
              0.8888888888888888,
              "#fdca26"
             ],
             [
              1,
              "#f0f921"
             ]
            ],
            "type": "histogram2dcontour"
           }
          ],
          "mesh3d": [
           {
            "colorbar": {
             "outlinewidth": 0,
             "ticks": ""
            },
            "type": "mesh3d"
           }
          ],
          "parcoords": [
           {
            "line": {
             "colorbar": {
              "outlinewidth": 0,
              "ticks": ""
             }
            },
            "type": "parcoords"
           }
          ],
          "pie": [
           {
            "automargin": true,
            "type": "pie"
           }
          ],
          "scatter": [
           {
            "marker": {
             "colorbar": {
              "outlinewidth": 0,
              "ticks": ""
             }
            },
            "type": "scatter"
           }
          ],
          "scatter3d": [
           {
            "line": {
             "colorbar": {
              "outlinewidth": 0,
              "ticks": ""
             }
            },
            "marker": {
             "colorbar": {
              "outlinewidth": 0,
              "ticks": ""
             }
            },
            "type": "scatter3d"
           }
          ],
          "scattercarpet": [
           {
            "marker": {
             "colorbar": {
              "outlinewidth": 0,
              "ticks": ""
             }
            },
            "type": "scattercarpet"
           }
          ],
          "scattergeo": [
           {
            "marker": {
             "colorbar": {
              "outlinewidth": 0,
              "ticks": ""
             }
            },
            "type": "scattergeo"
           }
          ],
          "scattergl": [
           {
            "marker": {
             "colorbar": {
              "outlinewidth": 0,
              "ticks": ""
             }
            },
            "type": "scattergl"
           }
          ],
          "scattermapbox": [
           {
            "marker": {
             "colorbar": {
              "outlinewidth": 0,
              "ticks": ""
             }
            },
            "type": "scattermapbox"
           }
          ],
          "scatterpolar": [
           {
            "marker": {
             "colorbar": {
              "outlinewidth": 0,
              "ticks": ""
             }
            },
            "type": "scatterpolar"
           }
          ],
          "scatterpolargl": [
           {
            "marker": {
             "colorbar": {
              "outlinewidth": 0,
              "ticks": ""
             }
            },
            "type": "scatterpolargl"
           }
          ],
          "scatterternary": [
           {
            "marker": {
             "colorbar": {
              "outlinewidth": 0,
              "ticks": ""
             }
            },
            "type": "scatterternary"
           }
          ],
          "surface": [
           {
            "colorbar": {
             "outlinewidth": 0,
             "ticks": ""
            },
            "colorscale": [
             [
              0,
              "#0d0887"
             ],
             [
              0.1111111111111111,
              "#46039f"
             ],
             [
              0.2222222222222222,
              "#7201a8"
             ],
             [
              0.3333333333333333,
              "#9c179e"
             ],
             [
              0.4444444444444444,
              "#bd3786"
             ],
             [
              0.5555555555555556,
              "#d8576b"
             ],
             [
              0.6666666666666666,
              "#ed7953"
             ],
             [
              0.7777777777777778,
              "#fb9f3a"
             ],
             [
              0.8888888888888888,
              "#fdca26"
             ],
             [
              1,
              "#f0f921"
             ]
            ],
            "type": "surface"
           }
          ],
          "table": [
           {
            "cells": {
             "fill": {
              "color": "#EBF0F8"
             },
             "line": {
              "color": "white"
             }
            },
            "header": {
             "fill": {
              "color": "#C8D4E3"
             },
             "line": {
              "color": "white"
             }
            },
            "type": "table"
           }
          ]
         },
         "layout": {
          "annotationdefaults": {
           "arrowcolor": "#2a3f5f",
           "arrowhead": 0,
           "arrowwidth": 1
          },
          "coloraxis": {
           "colorbar": {
            "outlinewidth": 0,
            "ticks": ""
           }
          },
          "colorscale": {
           "diverging": [
            [
             0,
             "#8e0152"
            ],
            [
             0.1,
             "#c51b7d"
            ],
            [
             0.2,
             "#de77ae"
            ],
            [
             0.3,
             "#f1b6da"
            ],
            [
             0.4,
             "#fde0ef"
            ],
            [
             0.5,
             "#f7f7f7"
            ],
            [
             0.6,
             "#e6f5d0"
            ],
            [
             0.7,
             "#b8e186"
            ],
            [
             0.8,
             "#7fbc41"
            ],
            [
             0.9,
             "#4d9221"
            ],
            [
             1,
             "#276419"
            ]
           ],
           "sequential": [
            [
             0,
             "#0d0887"
            ],
            [
             0.1111111111111111,
             "#46039f"
            ],
            [
             0.2222222222222222,
             "#7201a8"
            ],
            [
             0.3333333333333333,
             "#9c179e"
            ],
            [
             0.4444444444444444,
             "#bd3786"
            ],
            [
             0.5555555555555556,
             "#d8576b"
            ],
            [
             0.6666666666666666,
             "#ed7953"
            ],
            [
             0.7777777777777778,
             "#fb9f3a"
            ],
            [
             0.8888888888888888,
             "#fdca26"
            ],
            [
             1,
             "#f0f921"
            ]
           ],
           "sequentialminus": [
            [
             0,
             "#0d0887"
            ],
            [
             0.1111111111111111,
             "#46039f"
            ],
            [
             0.2222222222222222,
             "#7201a8"
            ],
            [
             0.3333333333333333,
             "#9c179e"
            ],
            [
             0.4444444444444444,
             "#bd3786"
            ],
            [
             0.5555555555555556,
             "#d8576b"
            ],
            [
             0.6666666666666666,
             "#ed7953"
            ],
            [
             0.7777777777777778,
             "#fb9f3a"
            ],
            [
             0.8888888888888888,
             "#fdca26"
            ],
            [
             1,
             "#f0f921"
            ]
           ]
          },
          "colorway": [
           "#636efa",
           "#EF553B",
           "#00cc96",
           "#ab63fa",
           "#FFA15A",
           "#19d3f3",
           "#FF6692",
           "#B6E880",
           "#FF97FF",
           "#FECB52"
          ],
          "font": {
           "color": "#2a3f5f"
          },
          "geo": {
           "bgcolor": "white",
           "lakecolor": "white",
           "landcolor": "#E5ECF6",
           "showlakes": true,
           "showland": true,
           "subunitcolor": "white"
          },
          "hoverlabel": {
           "align": "left"
          },
          "hovermode": "closest",
          "mapbox": {
           "style": "light"
          },
          "paper_bgcolor": "white",
          "plot_bgcolor": "#E5ECF6",
          "polar": {
           "angularaxis": {
            "gridcolor": "white",
            "linecolor": "white",
            "ticks": ""
           },
           "bgcolor": "#E5ECF6",
           "radialaxis": {
            "gridcolor": "white",
            "linecolor": "white",
            "ticks": ""
           }
          },
          "scene": {
           "xaxis": {
            "backgroundcolor": "#E5ECF6",
            "gridcolor": "white",
            "gridwidth": 2,
            "linecolor": "white",
            "showbackground": true,
            "ticks": "",
            "zerolinecolor": "white"
           },
           "yaxis": {
            "backgroundcolor": "#E5ECF6",
            "gridcolor": "white",
            "gridwidth": 2,
            "linecolor": "white",
            "showbackground": true,
            "ticks": "",
            "zerolinecolor": "white"
           },
           "zaxis": {
            "backgroundcolor": "#E5ECF6",
            "gridcolor": "white",
            "gridwidth": 2,
            "linecolor": "white",
            "showbackground": true,
            "ticks": "",
            "zerolinecolor": "white"
           }
          },
          "shapedefaults": {
           "line": {
            "color": "#2a3f5f"
           }
          },
          "ternary": {
           "aaxis": {
            "gridcolor": "white",
            "linecolor": "white",
            "ticks": ""
           },
           "baxis": {
            "gridcolor": "white",
            "linecolor": "white",
            "ticks": ""
           },
           "bgcolor": "#E5ECF6",
           "caxis": {
            "gridcolor": "white",
            "linecolor": "white",
            "ticks": ""
           }
          },
          "title": {
           "x": 0.05
          },
          "xaxis": {
           "automargin": true,
           "gridcolor": "white",
           "linecolor": "white",
           "ticks": "",
           "title": {
            "standoff": 15
           },
           "zerolinecolor": "white",
           "zerolinewidth": 2
          },
          "yaxis": {
           "automargin": true,
           "gridcolor": "white",
           "linecolor": "white",
           "ticks": "",
           "title": {
            "standoff": 15
           },
           "zerolinecolor": "white",
           "zerolinewidth": 2
          }
         }
        },
        "title": {
         "font": {
          "color": "#4D5663"
         }
        },
        "xaxis": {
         "gridcolor": "#E1E5ED",
         "showgrid": true,
         "tickfont": {
          "color": "#4D5663"
         },
         "title": {
          "font": {
           "color": "#4D5663"
          },
          "text": ""
         },
         "zerolinecolor": "#E1E5ED"
        },
        "yaxis": {
         "gridcolor": "#E1E5ED",
         "showgrid": true,
         "tickfont": {
          "color": "#4D5663"
         },
         "title": {
          "font": {
           "color": "#4D5663"
          },
          "text": ""
         },
         "zerolinecolor": "#E1E5ED"
        }
       }
      },
      "text/html": [
       "<div>                            <div id=\"a0b20e38-888a-4943-b113-2a48894c660e\" class=\"plotly-graph-div\" style=\"height:525px; width:100%;\"></div>            <script type=\"text/javascript\">                require([\"plotly\"], function(Plotly) {                    window.PLOTLYENV=window.PLOTLYENV || {};\n",
       "                    window.PLOTLYENV.BASE_URL='https://plot.ly';                                    if (document.getElementById(\"a0b20e38-888a-4943-b113-2a48894c660e\")) {                    Plotly.newPlot(                        \"a0b20e38-888a-4943-b113-2a48894c660e\",                        [{\"boxpoints\": false, \"line\": {\"width\": 1.3}, \"marker\": {\"color\": \"rgba(255, 153, 51, 1.0)\"}, \"name\": \"K279-1\", \"orientation\": \"v\", \"type\": \"box\", \"y\": [395.84, 264.773, 413.28, 220.466, 284.56, 301.506, 295.012, 410.826, 328.84]}, {\"boxpoints\": false, \"line\": {\"width\": 1.3}, \"marker\": {\"color\": \"rgba(55, 128, 191, 1.0)\"}, \"name\": \"K279-2\", \"orientation\": \"v\", \"type\": \"box\", \"y\": [453.053, 387.226, 489.24, 210.653, 267.026, 301.826, 415.252, 521.0, 338.0]}, {\"boxpoints\": false, \"line\": {\"width\": 1.3}, \"marker\": {\"color\": \"rgba(50, 171, 96, 1.0)\"}, \"name\": \"K279-3\", \"orientation\": \"v\", \"type\": \"box\", \"y\": [286.4, 196.24, 310.32, 166.373, 180.666, 262.333, 204.759, 273.0, 201.0]}, {\"boxpoints\": false, \"line\": {\"width\": 1.3}, \"marker\": {\"color\": \"rgba(128, 0, 128, 1.0)\"}, \"name\": \"K280-1\", \"orientation\": \"v\", \"type\": \"box\", \"y\": [383.373, 264.4, 382.32, 219.293, 265.84, 273.173, 283.026, 381.0, 291.0]}, {\"boxpoints\": false, \"line\": {\"width\": 1.3}, \"marker\": {\"color\": \"rgba(219, 64, 82, 1.0)\"}, \"name\": \"K280-2\", \"orientation\": \"v\", \"type\": \"box\", \"y\": [455.76, 416.866, 476.28, 236.506, 217.88, 301.0, 402.026, 513.666, 324.173]}, {\"boxpoints\": false, \"line\": {\"width\": 1.3}, \"marker\": {\"color\": \"rgba(0, 128, 128, 1.0)\"}, \"name\": \"K280-3\", \"orientation\": \"v\", \"type\": \"box\", \"y\": [263.813, 180.8, 268.2, 140.8, 179.04, 178.826, 192.999, 247.333, 184.826]}, {\"boxpoints\": false, \"line\": {\"width\": 1.3}, \"marker\": {\"color\": \"rgba(255, 255, 51, 1.0)\"}, \"name\": \"K281-1\", \"orientation\": \"v\", \"type\": \"box\", \"y\": [392.12, 261.066, 384.12, 202.04, 278.146, 262.84, 278.012, 379.0, 277.84]}, {\"boxpoints\": false, \"line\": {\"width\": 1.3}, \"marker\": {\"color\": \"rgba(128, 128, 0, 1.0)\"}, \"name\": \"K281-2\", \"orientation\": \"v\", \"type\": \"box\", \"y\": [343.493, 385.093, 456.12, 219.8, 227.933, 301.16, 345.239, 430.0, 312.826]}, {\"boxpoints\": false, \"line\": {\"width\": 1.3}, \"marker\": {\"color\": \"rgba(251, 128, 114, 1.0)\"}, \"name\": \"K281-3\", \"orientation\": \"v\", \"type\": \"box\", \"y\": [282.786, 257.399, 292.32, 273.653, 296.386, 249.333, 270.772, 208.173, 289.84]}, {\"boxpoints\": false, \"line\": {\"width\": 1.3}, \"marker\": {\"color\": \"rgba(128, 177, 211, 1.0)\"}, \"name\": \"K282-1\", \"orientation\": \"v\", \"type\": \"box\", \"y\": [388.96, 483.693, 434.16, 186.733, 233.226, 287.666, 369.039, 390.826, 360.826]}, {\"boxpoints\": false, \"line\": {\"width\": 1.3}, \"marker\": {\"color\": \"rgba(128, 177, 211, 0.8999999999999999)\"}, \"name\": \"K282-2\", \"orientation\": \"v\", \"type\": \"box\", \"y\": [221.466, 236.133, 245.16, 150.04, 1.493, 230.666, 286.999, 188.0, 207.173]}, {\"boxpoints\": false, \"line\": {\"width\": 1.3}, \"marker\": {\"color\": \"rgba(255, 153, 51, 0.8999999999999999)\"}, \"name\": \"K282-3\", \"orientation\": \"v\", \"type\": \"box\", \"y\": [197.493, 127.76, 206.28, 105.973, 185.893, 183.333, 139.999, 180.0, 143.333]}, {\"boxpoints\": false, \"line\": {\"width\": 1.3}, \"marker\": {\"color\": \"rgba(55, 128, 191, 0.8999999999999999)\"}, \"name\": \"K283-1\", \"orientation\": \"v\", \"type\": \"box\", \"y\": [319.226, 243.066, 341.28, 181.893, 235.773, 241.0, 261.026, 315.0, 247.493]}, {\"boxpoints\": false, \"line\": {\"width\": 1.3}, \"marker\": {\"color\": \"rgba(50, 171, 96, 0.8999999999999999)\"}, \"name\": \"K283-2\", \"orientation\": \"v\", \"type\": \"box\", \"y\": [369.933, 304.066, 407.16, 221.053, 333.893, 412.0, 264.012, 414.0, 292.666]}, {\"boxpoints\": false, \"line\": {\"width\": 1.3}, \"marker\": {\"color\": \"rgba(128, 0, 128, 0.8999999999999999)\"}, \"name\": \"K283-3\", \"orientation\": \"v\", \"type\": \"box\", \"y\": [368.213, 242.64, 352.08, 196.693, 225.173, 235.506, 266.332, 349.0, 260.026]}, {\"boxpoints\": false, \"line\": {\"width\": 1.3}, \"marker\": {\"color\": \"rgba(219, 64, 82, 0.8999999999999999)\"}, \"name\": \"K284-1\", \"orientation\": \"v\", \"type\": \"box\", \"y\": [456.68, 314.866, 439.2, 227.853, 221.826, 305.333, 311.386, 443.0, 342.36]}, {\"boxpoints\": false, \"line\": {\"width\": 1.3}, \"marker\": {\"color\": \"rgba(0, 128, 128, 0.8999999999999999)\"}, \"name\": \"K284-2\", \"orientation\": \"v\", \"type\": \"box\", \"y\": [322.133, 328.733, 259.2, 252.346, 200.666, 215.84, 340.786, 253.0, 332.506]}, {\"boxpoints\": false, \"line\": {\"width\": 1.3}, \"marker\": {\"color\": \"rgba(255, 255, 51, 0.8999999999999999)\"}, \"name\": \"K284-3\", \"orientation\": \"v\", \"type\": \"box\", \"y\": [1019.306, 1004.866, 949.32, 712.146, 910.533, 904.826, 1097.386, 866.173, 1130.973]}, {\"boxpoints\": false, \"line\": {\"width\": 1.3}, \"marker\": {\"color\": \"rgba(128, 128, 0, 0.8999999999999999)\"}, \"name\": \"K309-1\", \"orientation\": \"v\", \"type\": \"box\", \"y\": [499.2, 362.706, 502.2, 262.92, 241.306, 355.666, 355.546, 503.826, 392.506]}, {\"boxpoints\": false, \"line\": {\"width\": 1.3}, \"marker\": {\"color\": \"rgba(251, 128, 114, 0.8999999999999999)\"}, \"name\": \"K309-2\", \"orientation\": \"v\", \"type\": \"box\", \"y\": [314.573, 375.333, 365.04, 327.546, 368.306, 354.666, 444.239, 425.0, 419.0]}, {\"boxpoints\": false, \"line\": {\"width\": 1.3}, \"marker\": {\"color\": \"rgba(251, 128, 114, 0.7999999999999998)\"}, \"name\": \"K309-3\", \"orientation\": \"v\", \"type\": \"box\", \"y\": [365.426, 384.8, 348.12, 365.266, 368.746, 343.333, 378.652, 318.0, 420.986]}, {\"boxpoints\": false, \"line\": {\"width\": 1.3}, \"marker\": {\"color\": \"rgba(128, 177, 211, 0.7999999999999998)\"}, \"name\": \"K311-1\", \"orientation\": \"v\", \"type\": \"box\", \"y\": [393.306, 264.533, 391.32, 209.0, 272.986, 274.0, 277.212, 425.0, 281.786]}, {\"boxpoints\": false, \"line\": {\"width\": 1.3}, \"marker\": {\"color\": \"rgba(255, 153, 51, 0.7999999999999998)\"}, \"name\": \"K311-2\", \"orientation\": \"v\", \"type\": \"box\", \"y\": [324.253, 386.106, 332.28, 292.893, 335.733, 328.506, 384.212, 372.0, 341.08]}, {\"boxpoints\": false, \"line\": {\"width\": 1.3}, \"marker\": {\"color\": \"rgba(55, 128, 191, 0.7999999999999998)\"}, \"name\": \"K311-3\", \"orientation\": \"v\", \"type\": \"box\", \"y\": [360.533, 380.866, 364.32, 403.12, 1.493, 378.826, 369.239, 379.173, 403.36]}, {\"boxpoints\": false, \"line\": {\"width\": 1.3}, \"marker\": {\"color\": \"rgba(50, 171, 96, 0.7999999999999998)\"}, \"name\": \"K310-1\", \"orientation\": \"v\", \"type\": \"box\", \"y\": [461.24, 494.826, 483.12, 271.36, 257.0, 340.333, 327.666, 529.0, 376.866]}, {\"boxpoints\": false, \"line\": {\"width\": 1.3}, \"marker\": {\"color\": \"rgba(128, 0, 128, 0.7999999999999998)\"}, \"name\": \"K310-2\", \"orientation\": \"v\", \"type\": \"box\", \"y\": [485.506, 642.173, 533.16, 459.2, 409.733, 532.666, 658.772, 619.0, 576.466]}, {\"boxpoints\": false, \"line\": {\"width\": 1.3}, \"marker\": {\"color\": \"rgba(219, 64, 82, 0.7999999999999998)\"}, \"name\": \"K310-3\", \"orientation\": \"v\", \"type\": \"box\", \"y\": [193.08, 177.466, 192.24, 185.533, 180.36, 188.333, 188.452, 166.0, 200.506]}, {\"boxpoints\": false, \"line\": {\"width\": 1.3}, \"marker\": {\"color\": \"rgba(0, 128, 128, 0.7999999999999998)\"}, \"name\": \"K330-1\", \"orientation\": \"v\", \"type\": \"box\", \"y\": [563.733, 376.4, 532.08, 289.453, 380.306, 353.666, 393.532, 540.826, 372.0]}, {\"boxpoints\": false, \"line\": {\"width\": 1.3}, \"marker\": {\"color\": \"rgba(255, 255, 51, 0.7999999999999998)\"}, \"name\": \"K330-2\", \"orientation\": \"v\", \"type\": \"box\", \"y\": [421.266, 487.666, 390.24, 228.666, 428.973, 334.0, 479.986, 350.0, 397.24]}, {\"boxpoints\": false, \"line\": {\"width\": 1.3}, \"marker\": {\"color\": \"rgba(128, 128, 0, 0.7999999999999998)\"}, \"name\": \"K330-3\", \"orientation\": \"v\", \"type\": \"box\", \"y\": [464.306, 343.76, 459.36, 250.533, 315.653, 303.0, 349.466, 410.0, 328.76]}, {\"boxpoints\": false, \"line\": {\"width\": 1.3}, \"marker\": {\"color\": \"rgba(128, 128, 0, 0.7)\"}, \"name\": \"K331-1\", \"orientation\": \"v\", \"type\": \"box\", \"y\": [852.8, 844.573, 864.36, 554.226, 447.213, 774.506, 870.746, 713.0, 677.0]}, {\"boxpoints\": false, \"line\": {\"width\": 1.3}, \"marker\": {\"color\": \"rgba(251, 128, 114, 0.7)\"}, \"name\": \"K331-2\", \"orientation\": \"v\", \"type\": \"box\", \"y\": [378.666, 353.4, 325.08, 253.773, 340.533, 337.493, 408.986, 322.0, 434.0]}, {\"boxpoints\": false, \"line\": {\"width\": 1.3}, \"marker\": {\"color\": \"rgba(128, 177, 211, 0.7)\"}, \"name\": \"K331-3\", \"orientation\": \"v\", \"type\": \"box\", \"y\": [204.426, 199.893, 251.28, 206.4, 225.52, 229.0, 208.399, 216.0, 194.16]}, {\"boxpoints\": false, \"line\": {\"width\": 1.3}, \"marker\": {\"color\": \"rgba(255, 153, 51, 0.7)\"}, \"name\": \"K332-1\", \"orientation\": \"v\", \"type\": \"box\", \"y\": [548.253, 427.4, 546.12, 293.706, 272.853, 385.333, 455.212, 550.0, 419.013]}, {\"boxpoints\": false, \"line\": {\"width\": 1.3}, \"marker\": {\"color\": \"rgba(55, 128, 191, 0.7)\"}, \"name\": \"K332-2\", \"orientation\": \"v\", \"type\": \"box\", \"y\": [236.653, 274.906, 274.32, 293.0, 290.08, 260.333, 359.746, 292.0, 288.306]}, {\"boxpoints\": false, \"line\": {\"width\": 1.3}, \"marker\": {\"color\": \"rgba(50, 171, 96, 0.7)\"}, \"name\": \"K332-3\", \"orientation\": \"v\", \"type\": \"box\", \"y\": [601.76, 422.533, 599.04, 322.493, 270.293, 403.666, 435.559, 615.173, 430.293]}, {\"boxpoints\": false, \"line\": {\"width\": 1.3}, \"marker\": {\"color\": \"rgba(128, 0, 128, 0.7)\"}, \"name\": \"K333-1\", \"orientation\": \"v\", \"type\": \"box\", \"y\": [608.4, 437.573, 592.2, 326.6, 297.68, 421.666, 445.972, 607.466, 461.453]}, {\"boxpoints\": false, \"line\": {\"width\": 1.3}, \"marker\": {\"color\": \"rgba(219, 64, 82, 0.7)\"}, \"name\": \"K333-2\", \"orientation\": \"v\", \"type\": \"box\", \"y\": [618.893, 545.96, 661.32, 346.0, 375.24, 425.0, 576.039, 555.0, 524.28]}, {\"boxpoints\": false, \"line\": {\"width\": 1.3}, \"marker\": {\"color\": \"rgba(0, 128, 128, 0.7)\"}, \"name\": \"K333-3\", \"orientation\": \"v\", \"type\": \"box\", \"y\": [366.213, 382.106, 385.2, 396.8, 351.306, 378.0, 396.692, 319.0, 413.0]}, {\"boxpoints\": false, \"line\": {\"width\": 1.3}, \"marker\": {\"color\": \"rgba(255, 255, 51, 0.7)\"}, \"name\": \"K457-1\", \"orientation\": \"v\", \"type\": \"box\", \"y\": [557.906, 494.693, 486.36, 271.066, 228.453, 387.506, 380.186, 478.4, 374.72]}, {\"boxpoints\": false, \"line\": {\"width\": 1.3}, \"marker\": {\"color\": \"rgba(255, 255, 51, 0.5999999999999999)\"}, \"name\": \"K457-2\", \"orientation\": \"v\", \"type\": \"box\", \"y\": [367.706, 470.866, 454.32, 474.346, 455.0, 452.826, 510.932, 406.173, 475.506]}, {\"boxpoints\": false, \"line\": {\"width\": 1.3}, \"marker\": {\"color\": \"rgba(128, 128, 0, 0.5999999999999999)\"}, \"name\": \"K457-3\", \"orientation\": \"v\", \"type\": \"box\", \"y\": [322.413, 301.04, 278.28, 291.666, 281.893, 299.666, 280.279, 266.933, 285.52]}, {\"boxpoints\": false, \"line\": {\"width\": 1.3}, \"marker\": {\"color\": \"rgba(251, 128, 114, 0.5999999999999999)\"}, \"name\": \"K533-1\", \"orientation\": \"v\", \"type\": \"box\", \"y\": [625.506, 452.066, 621.36, 368.8, 357.253, 472.173, 484.466, 600.826, 475.866]}, {\"boxpoints\": false, \"line\": {\"width\": 1.3}, \"marker\": {\"color\": \"rgba(128, 177, 211, 0.5999999999999999)\"}, \"name\": \"K533-2\", \"orientation\": \"v\", \"type\": \"box\", \"y\": [734.8, 796.026, 819.36, 420.826, 441.56, 491.0, 560.879, 613.0, 610.666]}, {\"boxpoints\": false, \"line\": {\"width\": 1.3}, \"marker\": {\"color\": \"rgba(255, 153, 51, 0.5999999999999999)\"}, \"name\": \"K533-3\", \"orientation\": \"v\", \"type\": \"box\", \"y\": [382.453, 380.506, 365.04, 405.333, 366.24, 343.16, 363.946, 307.0, 396.253]}, {\"boxpoints\": false, \"line\": {\"width\": 1.3}, \"marker\": {\"color\": \"rgba(55, 128, 191, 0.5999999999999999)\"}, \"name\": \"K545-1\", \"orientation\": \"v\", \"type\": \"box\", \"y\": [252.533, 186.373, 264.24, 192.0, 189.706, 181.506, 179.586, 256.0, 197.066]}, {\"boxpoints\": false, \"line\": {\"width\": 1.3}, \"marker\": {\"color\": \"rgba(50, 171, 96, 0.5999999999999999)\"}, \"name\": \"K545-2\", \"orientation\": \"v\", \"type\": \"box\", \"y\": [369.96, 359.226, 366.12, 255.706, 294.64, 283.666, 359.879, 342.0, 367.013]}, {\"boxpoints\": false, \"line\": {\"width\": 1.3}, \"marker\": {\"color\": \"rgba(128, 0, 128, 0.5999999999999999)\"}, \"name\": \"K545-3\", \"orientation\": \"v\", \"type\": \"box\", \"y\": [90.32, 101.4, 115.2, 103.04, 107.466, 107.826, 108.772, 110.0, 103.973]}, {\"boxpoints\": false, \"line\": {\"width\": 1.3}, \"marker\": {\"color\": \"rgba(219, 64, 82, 0.5999999999999999)\"}, \"name\": \"K570-1\", \"orientation\": \"v\", \"type\": \"box\", \"y\": [476.12, 391.533, 335.16, 277.453, 356.026, 349.333, 336.066, 466.0, 410.013]}, {\"boxpoints\": false, \"line\": {\"width\": 1.3}, \"marker\": {\"color\": \"rgba(0, 128, 128, 0.5999999999999999)\"}, \"name\": \"K570-2\", \"orientation\": \"v\", \"type\": \"box\", \"y\": [423.826, 598.96, 491.04, 330.746, 482.746, 448.666, 573.479, 486.0, 520.44]}, {\"boxpoints\": false, \"line\": {\"width\": 1.3}, \"marker\": {\"color\": \"rgba(0, 128, 128, 0.49999999999999983)\"}, \"name\": \"K570-3\", \"orientation\": \"v\", \"type\": \"box\", \"y\": [213.146, 232.6, 219.24, 162.906, 236.493, 224.666, 226.932, 201.0, 233.24]}, {\"boxpoints\": false, \"line\": {\"width\": 1.3}, \"marker\": {\"color\": \"rgba(255, 255, 51, 0.49999999999999983)\"}, \"name\": \"K576-1\", \"orientation\": \"v\", \"type\": \"box\", \"y\": [301.28, 288.333, 293.04, 216.706, 286.253, 305.0, 297.786, 304.0, 325.32]}, {\"boxpoints\": false, \"line\": {\"width\": 1.3}, \"marker\": {\"color\": \"rgba(128, 128, 0, 0.49999999999999983)\"}, \"name\": \"K576-2\", \"orientation\": \"v\", \"type\": \"box\", \"y\": [291.12, 354.133, 312.12, 324.093, 306.44, 318.0, 367.186, 292.0, 331.933]}, {\"boxpoints\": false, \"line\": {\"width\": 1.3}, \"marker\": {\"color\": \"rgba(251, 128, 114, 0.49999999999999983)\"}, \"name\": \"K576-3\", \"orientation\": \"v\", \"type\": \"box\", \"y\": [271.266, 267.706, 282.24, 267.6, 233.093, 243.333, 261.346, 244.173, 269.626]}],                        {\"legend\": {\"bgcolor\": \"#FFFFFF\", \"font\": {\"color\": \"#4D5663\"}}, \"paper_bgcolor\": \"#FFFFFF\", \"plot_bgcolor\": \"#FFFFFF\", \"template\": {\"data\": {\"bar\": [{\"error_x\": {\"color\": \"#2a3f5f\"}, \"error_y\": {\"color\": \"#2a3f5f\"}, \"marker\": {\"line\": {\"color\": \"#E5ECF6\", \"width\": 0.5}}, \"type\": \"bar\"}], \"barpolar\": [{\"marker\": {\"line\": {\"color\": \"#E5ECF6\", \"width\": 0.5}}, \"type\": \"barpolar\"}], \"carpet\": [{\"aaxis\": {\"endlinecolor\": \"#2a3f5f\", \"gridcolor\": \"white\", \"linecolor\": \"white\", \"minorgridcolor\": \"white\", \"startlinecolor\": \"#2a3f5f\"}, \"baxis\": {\"endlinecolor\": \"#2a3f5f\", \"gridcolor\": \"white\", \"linecolor\": \"white\", \"minorgridcolor\": \"white\", \"startlinecolor\": \"#2a3f5f\"}, \"type\": \"carpet\"}], \"choropleth\": [{\"colorbar\": {\"outlinewidth\": 0, \"ticks\": \"\"}, \"type\": \"choropleth\"}], \"contour\": [{\"colorbar\": {\"outlinewidth\": 0, \"ticks\": \"\"}, \"colorscale\": [[0.0, \"#0d0887\"], [0.1111111111111111, \"#46039f\"], [0.2222222222222222, \"#7201a8\"], [0.3333333333333333, \"#9c179e\"], [0.4444444444444444, \"#bd3786\"], [0.5555555555555556, \"#d8576b\"], [0.6666666666666666, \"#ed7953\"], [0.7777777777777778, \"#fb9f3a\"], [0.8888888888888888, \"#fdca26\"], [1.0, \"#f0f921\"]], \"type\": \"contour\"}], \"contourcarpet\": [{\"colorbar\": {\"outlinewidth\": 0, \"ticks\": \"\"}, \"type\": \"contourcarpet\"}], \"heatmap\": [{\"colorbar\": {\"outlinewidth\": 0, \"ticks\": \"\"}, \"colorscale\": [[0.0, \"#0d0887\"], [0.1111111111111111, \"#46039f\"], [0.2222222222222222, \"#7201a8\"], [0.3333333333333333, \"#9c179e\"], [0.4444444444444444, \"#bd3786\"], [0.5555555555555556, \"#d8576b\"], [0.6666666666666666, \"#ed7953\"], [0.7777777777777778, \"#fb9f3a\"], [0.8888888888888888, \"#fdca26\"], [1.0, \"#f0f921\"]], \"type\": \"heatmap\"}], \"heatmapgl\": [{\"colorbar\": {\"outlinewidth\": 0, \"ticks\": \"\"}, \"colorscale\": [[0.0, \"#0d0887\"], [0.1111111111111111, \"#46039f\"], [0.2222222222222222, \"#7201a8\"], [0.3333333333333333, \"#9c179e\"], [0.4444444444444444, \"#bd3786\"], [0.5555555555555556, \"#d8576b\"], [0.6666666666666666, \"#ed7953\"], [0.7777777777777778, \"#fb9f3a\"], [0.8888888888888888, \"#fdca26\"], [1.0, \"#f0f921\"]], \"type\": \"heatmapgl\"}], \"histogram\": [{\"marker\": {\"colorbar\": {\"outlinewidth\": 0, \"ticks\": \"\"}}, \"type\": \"histogram\"}], \"histogram2d\": [{\"colorbar\": {\"outlinewidth\": 0, \"ticks\": \"\"}, \"colorscale\": [[0.0, \"#0d0887\"], [0.1111111111111111, \"#46039f\"], [0.2222222222222222, \"#7201a8\"], [0.3333333333333333, \"#9c179e\"], [0.4444444444444444, \"#bd3786\"], [0.5555555555555556, \"#d8576b\"], [0.6666666666666666, \"#ed7953\"], [0.7777777777777778, \"#fb9f3a\"], [0.8888888888888888, \"#fdca26\"], [1.0, \"#f0f921\"]], \"type\": \"histogram2d\"}], \"histogram2dcontour\": [{\"colorbar\": {\"outlinewidth\": 0, \"ticks\": \"\"}, \"colorscale\": [[0.0, \"#0d0887\"], [0.1111111111111111, \"#46039f\"], [0.2222222222222222, \"#7201a8\"], [0.3333333333333333, \"#9c179e\"], [0.4444444444444444, \"#bd3786\"], [0.5555555555555556, \"#d8576b\"], [0.6666666666666666, \"#ed7953\"], [0.7777777777777778, \"#fb9f3a\"], [0.8888888888888888, \"#fdca26\"], [1.0, \"#f0f921\"]], \"type\": \"histogram2dcontour\"}], \"mesh3d\": [{\"colorbar\": {\"outlinewidth\": 0, \"ticks\": \"\"}, \"type\": \"mesh3d\"}], \"parcoords\": [{\"line\": {\"colorbar\": {\"outlinewidth\": 0, \"ticks\": \"\"}}, \"type\": \"parcoords\"}], \"pie\": [{\"automargin\": true, \"type\": \"pie\"}], \"scatter\": [{\"marker\": {\"colorbar\": {\"outlinewidth\": 0, \"ticks\": \"\"}}, \"type\": \"scatter\"}], \"scatter3d\": [{\"line\": {\"colorbar\": {\"outlinewidth\": 0, \"ticks\": \"\"}}, \"marker\": {\"colorbar\": {\"outlinewidth\": 0, \"ticks\": \"\"}}, \"type\": \"scatter3d\"}], \"scattercarpet\": [{\"marker\": {\"colorbar\": {\"outlinewidth\": 0, \"ticks\": \"\"}}, \"type\": \"scattercarpet\"}], \"scattergeo\": [{\"marker\": {\"colorbar\": {\"outlinewidth\": 0, \"ticks\": \"\"}}, \"type\": \"scattergeo\"}], \"scattergl\": [{\"marker\": {\"colorbar\": {\"outlinewidth\": 0, \"ticks\": \"\"}}, \"type\": \"scattergl\"}], \"scattermapbox\": [{\"marker\": {\"colorbar\": {\"outlinewidth\": 0, \"ticks\": \"\"}}, \"type\": \"scattermapbox\"}], \"scatterpolar\": [{\"marker\": {\"colorbar\": {\"outlinewidth\": 0, \"ticks\": \"\"}}, \"type\": \"scatterpolar\"}], \"scatterpolargl\": [{\"marker\": {\"colorbar\": {\"outlinewidth\": 0, \"ticks\": \"\"}}, \"type\": \"scatterpolargl\"}], \"scatterternary\": [{\"marker\": {\"colorbar\": {\"outlinewidth\": 0, \"ticks\": \"\"}}, \"type\": \"scatterternary\"}], \"surface\": [{\"colorbar\": {\"outlinewidth\": 0, \"ticks\": \"\"}, \"colorscale\": [[0.0, \"#0d0887\"], [0.1111111111111111, \"#46039f\"], [0.2222222222222222, \"#7201a8\"], [0.3333333333333333, \"#9c179e\"], [0.4444444444444444, \"#bd3786\"], [0.5555555555555556, \"#d8576b\"], [0.6666666666666666, \"#ed7953\"], [0.7777777777777778, \"#fb9f3a\"], [0.8888888888888888, \"#fdca26\"], [1.0, \"#f0f921\"]], \"type\": \"surface\"}], \"table\": [{\"cells\": {\"fill\": {\"color\": \"#EBF0F8\"}, \"line\": {\"color\": \"white\"}}, \"header\": {\"fill\": {\"color\": \"#C8D4E3\"}, \"line\": {\"color\": \"white\"}}, \"type\": \"table\"}]}, \"layout\": {\"annotationdefaults\": {\"arrowcolor\": \"#2a3f5f\", \"arrowhead\": 0, \"arrowwidth\": 1}, \"coloraxis\": {\"colorbar\": {\"outlinewidth\": 0, \"ticks\": \"\"}}, \"colorscale\": {\"diverging\": [[0, \"#8e0152\"], [0.1, \"#c51b7d\"], [0.2, \"#de77ae\"], [0.3, \"#f1b6da\"], [0.4, \"#fde0ef\"], [0.5, \"#f7f7f7\"], [0.6, \"#e6f5d0\"], [0.7, \"#b8e186\"], [0.8, \"#7fbc41\"], [0.9, \"#4d9221\"], [1, \"#276419\"]], \"sequential\": [[0.0, \"#0d0887\"], [0.1111111111111111, \"#46039f\"], [0.2222222222222222, \"#7201a8\"], [0.3333333333333333, \"#9c179e\"], [0.4444444444444444, \"#bd3786\"], [0.5555555555555556, \"#d8576b\"], [0.6666666666666666, \"#ed7953\"], [0.7777777777777778, \"#fb9f3a\"], [0.8888888888888888, \"#fdca26\"], [1.0, \"#f0f921\"]], \"sequentialminus\": [[0.0, \"#0d0887\"], [0.1111111111111111, \"#46039f\"], [0.2222222222222222, \"#7201a8\"], [0.3333333333333333, \"#9c179e\"], [0.4444444444444444, \"#bd3786\"], [0.5555555555555556, \"#d8576b\"], [0.6666666666666666, \"#ed7953\"], [0.7777777777777778, \"#fb9f3a\"], [0.8888888888888888, \"#fdca26\"], [1.0, \"#f0f921\"]]}, \"colorway\": [\"#636efa\", \"#EF553B\", \"#00cc96\", \"#ab63fa\", \"#FFA15A\", \"#19d3f3\", \"#FF6692\", \"#B6E880\", \"#FF97FF\", \"#FECB52\"], \"font\": {\"color\": \"#2a3f5f\"}, \"geo\": {\"bgcolor\": \"white\", \"lakecolor\": \"white\", \"landcolor\": \"#E5ECF6\", \"showlakes\": true, \"showland\": true, \"subunitcolor\": \"white\"}, \"hoverlabel\": {\"align\": \"left\"}, \"hovermode\": \"closest\", \"mapbox\": {\"style\": \"light\"}, \"paper_bgcolor\": \"white\", \"plot_bgcolor\": \"#E5ECF6\", \"polar\": {\"angularaxis\": {\"gridcolor\": \"white\", \"linecolor\": \"white\", \"ticks\": \"\"}, \"bgcolor\": \"#E5ECF6\", \"radialaxis\": {\"gridcolor\": \"white\", \"linecolor\": \"white\", \"ticks\": \"\"}}, \"scene\": {\"xaxis\": {\"backgroundcolor\": \"#E5ECF6\", \"gridcolor\": \"white\", \"gridwidth\": 2, \"linecolor\": \"white\", \"showbackground\": true, \"ticks\": \"\", \"zerolinecolor\": \"white\"}, \"yaxis\": {\"backgroundcolor\": \"#E5ECF6\", \"gridcolor\": \"white\", \"gridwidth\": 2, \"linecolor\": \"white\", \"showbackground\": true, \"ticks\": \"\", \"zerolinecolor\": \"white\"}, \"zaxis\": {\"backgroundcolor\": \"#E5ECF6\", \"gridcolor\": \"white\", \"gridwidth\": 2, \"linecolor\": \"white\", \"showbackground\": true, \"ticks\": \"\", \"zerolinecolor\": \"white\"}}, \"shapedefaults\": {\"line\": {\"color\": \"#2a3f5f\"}}, \"ternary\": {\"aaxis\": {\"gridcolor\": \"white\", \"linecolor\": \"white\", \"ticks\": \"\"}, \"baxis\": {\"gridcolor\": \"white\", \"linecolor\": \"white\", \"ticks\": \"\"}, \"bgcolor\": \"#E5ECF6\", \"caxis\": {\"gridcolor\": \"white\", \"linecolor\": \"white\", \"ticks\": \"\"}}, \"title\": {\"x\": 0.05}, \"xaxis\": {\"automargin\": true, \"gridcolor\": \"white\", \"linecolor\": \"white\", \"ticks\": \"\", \"title\": {\"standoff\": 15}, \"zerolinecolor\": \"white\", \"zerolinewidth\": 2}, \"yaxis\": {\"automargin\": true, \"gridcolor\": \"white\", \"linecolor\": \"white\", \"ticks\": \"\", \"title\": {\"standoff\": 15}, \"zerolinecolor\": \"white\", \"zerolinewidth\": 2}}}, \"title\": {\"font\": {\"color\": \"#4D5663\"}}, \"xaxis\": {\"gridcolor\": \"#E1E5ED\", \"showgrid\": true, \"tickfont\": {\"color\": \"#4D5663\"}, \"title\": {\"font\": {\"color\": \"#4D5663\"}, \"text\": \"\"}, \"zerolinecolor\": \"#E1E5ED\"}, \"yaxis\": {\"gridcolor\": \"#E1E5ED\", \"showgrid\": true, \"tickfont\": {\"color\": \"#4D5663\"}, \"title\": {\"font\": {\"color\": \"#4D5663\"}, \"text\": \"\"}, \"zerolinecolor\": \"#E1E5ED\"}},                        {\"showLink\": true, \"linkText\": \"Export to plot.ly\", \"plotlyServerURL\": \"https://plot.ly\", \"responsive\": true}                    ).then(function(){\n",
       "                            \n",
       "var gd = document.getElementById('a0b20e38-888a-4943-b113-2a48894c660e');\n",
       "var x = new MutationObserver(function (mutations, observer) {{\n",
       "        var display = window.getComputedStyle(gd).display;\n",
       "        if (!display || display === 'none') {{\n",
       "            console.log([gd, 'removed!']);\n",
       "            Plotly.purge(gd);\n",
       "            observer.disconnect();\n",
       "        }}\n",
       "}});\n",
       "\n",
       "// Listen for the removal of the full notebook cells\n",
       "var notebookContainer = gd.closest('#notebook-container');\n",
       "if (notebookContainer) {{\n",
       "    x.observe(notebookContainer, {childList: true});\n",
       "}}\n",
       "\n",
       "// Listen for the clearing of the current output cell\n",
       "var outputEl = gd.closest('.output');\n",
       "if (outputEl) {{\n",
       "    x.observe(outputEl, {childList: true});\n",
       "}}\n",
       "\n",
       "                        })                };                });            </script>        </div>"
      ]
     },
     "metadata": {},
     "output_type": "display_data"
    }
   ],
   "source": [
    "seconds.T.iplot(kind='box')"
   ]
  },
  {
   "cell_type": "code",
   "execution_count": null,
   "metadata": {},
   "outputs": [
    {
     "data": {
      "application/vnd.plotly.v1+json": {
       "config": {
        "linkText": "Export to plot.ly",
        "plotlyServerURL": "https://plot.ly",
        "showLink": true
       },
       "data": [
        {
         "line": {
          "color": "rgba(255, 153, 51, 1.0)",
          "dash": "solid",
          "shape": "linear",
          "width": 1.3
         },
         "marker": {
          "size": 12,
          "symbol": "circle"
         },
         "mode": "markers",
         "name": "say",
         "text": "",
         "type": "scatter",
         "x": [
          "K279-1",
          "K279-2",
          "K279-3",
          "K280-1",
          "K280-2",
          "K280-3",
          "K281-1",
          "K281-2",
          "K281-3",
          "K282-1",
          "K282-2",
          "K282-3",
          "K283-1",
          "K283-2",
          "K283-3",
          "K284-1",
          "K284-2",
          "K284-3",
          "K309-1",
          "K309-2",
          "K309-3",
          "K311-1",
          "K311-2",
          "K311-3",
          "K310-1",
          "K310-2",
          "K310-3",
          "K330-1",
          "K330-2",
          "K330-3",
          "K331-1",
          "K331-2",
          "K331-3",
          "K332-1",
          "K332-2",
          "K332-3",
          "K333-1",
          "K333-2",
          "K333-3",
          "K457-1",
          "K457-2",
          "K457-3",
          "K533-1",
          "K533-2",
          "K533-3",
          "K545-1",
          "K545-2",
          "K545-3",
          "K570-1",
          "K570-2",
          "K570-3",
          "K576-1",
          "K576-2",
          "K576-3"
         ],
         "y": [
          395.84,
          453.053,
          286.4,
          383.373,
          455.76,
          263.813,
          392.12,
          343.493,
          282.786,
          388.96,
          221.466,
          197.493,
          319.226,
          369.933,
          368.213,
          456.68,
          322.133,
          1019.306,
          499.2,
          314.573,
          365.426,
          393.306,
          324.253,
          360.533,
          461.24,
          485.506,
          193.08,
          563.733,
          421.266,
          464.306,
          852.8,
          378.666,
          204.426,
          548.253,
          236.653,
          601.76,
          608.4,
          618.893,
          366.213,
          557.906,
          367.706,
          322.413,
          625.506,
          734.8,
          382.453,
          252.533,
          369.96,
          90.32,
          476.12,
          423.826,
          213.146,
          301.28,
          291.12,
          271.266
         ]
        },
        {
         "line": {
          "color": "rgba(55, 128, 191, 1.0)",
          "dash": "solid",
          "shape": "linear",
          "width": 1.3
         },
         "marker": {
          "size": 12,
          "symbol": "circle"
         },
         "mode": "markers",
         "name": "barenboim",
         "text": "",
         "type": "scatter",
         "x": [
          "K279-1",
          "K279-2",
          "K279-3",
          "K280-1",
          "K280-2",
          "K280-3",
          "K281-1",
          "K281-2",
          "K281-3",
          "K282-1",
          "K282-2",
          "K282-3",
          "K283-1",
          "K283-2",
          "K283-3",
          "K284-1",
          "K284-2",
          "K284-3",
          "K309-1",
          "K309-2",
          "K309-3",
          "K311-1",
          "K311-2",
          "K311-3",
          "K310-1",
          "K310-2",
          "K310-3",
          "K330-1",
          "K330-2",
          "K330-3",
          "K331-1",
          "K331-2",
          "K331-3",
          "K332-1",
          "K332-2",
          "K332-3",
          "K333-1",
          "K333-2",
          "K333-3",
          "K457-1",
          "K457-2",
          "K457-3",
          "K533-1",
          "K533-2",
          "K533-3",
          "K545-1",
          "K545-2",
          "K545-3",
          "K570-1",
          "K570-2",
          "K570-3",
          "K576-1",
          "K576-2",
          "K576-3"
         ],
         "y": [
          264.773,
          387.226,
          196.24,
          264.4,
          416.866,
          180.8,
          261.066,
          385.093,
          257.399,
          483.693,
          236.133,
          127.76,
          243.066,
          304.066,
          242.64,
          314.866,
          328.733,
          1004.866,
          362.706,
          375.333,
          384.8,
          264.533,
          386.106,
          380.866,
          494.826,
          642.173,
          177.466,
          376.4,
          487.666,
          343.76,
          844.573,
          353.4,
          199.893,
          427.4,
          274.906,
          422.533,
          437.573,
          545.96,
          382.106,
          494.693,
          470.866,
          301.04,
          452.066,
          796.026,
          380.506,
          186.373,
          359.226,
          101.4,
          391.533,
          598.96,
          232.6,
          288.333,
          354.133,
          267.706
         ]
        },
        {
         "line": {
          "color": "rgba(50, 171, 96, 1.0)",
          "dash": "solid",
          "shape": "linear",
          "width": 1.3
         },
         "marker": {
          "size": 12,
          "symbol": "circle"
         },
         "mode": "markers",
         "name": "endres",
         "text": "",
         "type": "scatter",
         "x": [
          "K279-1",
          "K279-2",
          "K279-3",
          "K280-1",
          "K280-2",
          "K280-3",
          "K281-1",
          "K281-2",
          "K281-3",
          "K282-1",
          "K282-2",
          "K282-3",
          "K283-1",
          "K283-2",
          "K283-3",
          "K284-1",
          "K284-2",
          "K284-3",
          "K309-1",
          "K309-2",
          "K309-3",
          "K311-1",
          "K311-2",
          "K311-3",
          "K310-1",
          "K310-2",
          "K310-3",
          "K330-1",
          "K330-2",
          "K330-3",
          "K331-1",
          "K331-2",
          "K331-3",
          "K332-1",
          "K332-2",
          "K332-3",
          "K333-1",
          "K333-2",
          "K333-3",
          "K457-1",
          "K457-2",
          "K457-3",
          "K533-1",
          "K533-2",
          "K533-3",
          "K545-1",
          "K545-2",
          "K545-3",
          "K570-1",
          "K570-2",
          "K570-3",
          "K576-1",
          "K576-2",
          "K576-3"
         ],
         "y": [
          301.506,
          301.826,
          262.333,
          273.173,
          301,
          178.826,
          262.84,
          301.16,
          249.333,
          287.666,
          230.666,
          183.333,
          241,
          412,
          235.506,
          305.333,
          215.84,
          904.826,
          355.666,
          354.666,
          343.333,
          274,
          328.506,
          378.826,
          340.333,
          532.666,
          188.333,
          353.666,
          334,
          303,
          774.506,
          337.493,
          229,
          385.333,
          260.333,
          403.666,
          421.666,
          425,
          378,
          387.506,
          452.826,
          299.666,
          472.173,
          491,
          343.16,
          181.506,
          283.666,
          107.826,
          349.333,
          448.666,
          224.666,
          305,
          318,
          243.333
         ]
        },
        {
         "line": {
          "color": "rgba(128, 0, 128, 1.0)",
          "dash": "solid",
          "shape": "linear",
          "width": 1.3
         },
         "marker": {
          "size": 12,
          "symbol": "circle"
         },
         "mode": "markers",
         "name": "mauser",
         "text": "",
         "type": "scatter",
         "x": [
          "K279-1",
          "K279-2",
          "K279-3",
          "K280-1",
          "K280-2",
          "K280-3",
          "K281-1",
          "K281-2",
          "K281-3",
          "K282-1",
          "K282-2",
          "K282-3",
          "K283-1",
          "K283-2",
          "K283-3",
          "K284-1",
          "K284-2",
          "K284-3",
          "K309-1",
          "K309-2",
          "K309-3",
          "K311-1",
          "K311-2",
          "K311-3",
          "K310-1",
          "K310-2",
          "K310-3",
          "K330-1",
          "K330-2",
          "K330-3",
          "K331-1",
          "K331-2",
          "K331-3",
          "K332-1",
          "K332-2",
          "K332-3",
          "K333-1",
          "K333-2",
          "K333-3",
          "K457-1",
          "K457-2",
          "K457-3",
          "K533-1",
          "K533-2",
          "K533-3",
          "K545-1",
          "K545-2",
          "K545-3",
          "K570-1",
          "K570-2",
          "K570-3",
          "K576-1",
          "K576-2",
          "K576-3"
         ],
         "y": [
          295.012,
          415.252,
          204.759,
          283.026,
          402.026,
          192.999,
          278.012,
          345.239,
          270.772,
          369.039,
          286.999,
          139.999,
          261.026,
          264.012,
          266.332,
          311.386,
          340.786,
          1097.386,
          355.546,
          444.239,
          378.652,
          277.212,
          384.212,
          369.239,
          327.666,
          658.772,
          188.452,
          393.532,
          479.986,
          349.466,
          870.746,
          408.986,
          208.399,
          455.212,
          359.746,
          435.559,
          445.972,
          576.039,
          396.692,
          380.186,
          510.932,
          280.279,
          484.466,
          560.879,
          363.946,
          179.586,
          359.879,
          108.772,
          336.066,
          573.479,
          226.932,
          297.786,
          367.186,
          261.346
         ]
        },
        {
         "line": {
          "color": "rgba(219, 64, 82, 1.0)",
          "dash": "solid",
          "shape": "linear",
          "width": 1.3
         },
         "marker": {
          "size": 12,
          "symbol": "circle"
         },
         "mode": "markers",
         "name": "deyanova",
         "text": "",
         "type": "scatter",
         "x": [
          "K279-1",
          "K279-2",
          "K279-3",
          "K280-1",
          "K280-2",
          "K280-3",
          "K281-1",
          "K281-2",
          "K281-3",
          "K282-1",
          "K282-2",
          "K282-3",
          "K283-1",
          "K283-2",
          "K283-3",
          "K284-1",
          "K284-2",
          "K284-3",
          "K309-1",
          "K309-2",
          "K309-3",
          "K311-1",
          "K311-2",
          "K311-3",
          "K310-1",
          "K310-2",
          "K310-3",
          "K330-1",
          "K330-2",
          "K330-3",
          "K331-1",
          "K331-2",
          "K331-3",
          "K332-1",
          "K332-2",
          "K332-3",
          "K333-1",
          "K333-2",
          "K333-3",
          "K457-1",
          "K457-2",
          "K457-3",
          "K533-1",
          "K533-2",
          "K533-3",
          "K545-1",
          "K545-2",
          "K545-3",
          "K570-1",
          "K570-2",
          "K570-3",
          "K576-1",
          "K576-2",
          "K576-3"
         ],
         "y": [
          410.826,
          521,
          273,
          381,
          513.666,
          247.333,
          379,
          430,
          208.173,
          390.826,
          188,
          180,
          315,
          414,
          349,
          443,
          253,
          866.173,
          503.826,
          425,
          318,
          425,
          372,
          379.173,
          529,
          619,
          166,
          540.826,
          350,
          410,
          713,
          322,
          216,
          550,
          292,
          615.173,
          607.466,
          555,
          319,
          478.4,
          406.173,
          266.933,
          600.826,
          613,
          307,
          256,
          342,
          110,
          466,
          486,
          201,
          304,
          292,
          244.173
         ]
        },
        {
         "line": {
          "color": "rgba(0, 128, 128, 1.0)",
          "dash": "solid",
          "shape": "linear",
          "width": 1.3
         },
         "marker": {
          "size": 12,
          "symbol": "circle"
         },
         "mode": "markers",
         "name": "mamou",
         "text": "",
         "type": "scatter",
         "x": [
          "K279-1",
          "K279-2",
          "K279-3",
          "K280-1",
          "K280-2",
          "K280-3",
          "K281-1",
          "K281-2",
          "K281-3",
          "K282-1",
          "K282-2",
          "K282-3",
          "K283-1",
          "K283-2",
          "K283-3",
          "K284-1",
          "K284-2",
          "K284-3",
          "K309-1",
          "K309-2",
          "K309-3",
          "K311-1",
          "K311-2",
          "K311-3",
          "K310-1",
          "K310-2",
          "K310-3",
          "K330-1",
          "K330-2",
          "K330-3",
          "K331-1",
          "K331-2",
          "K331-3",
          "K332-1",
          "K332-2",
          "K332-3",
          "K333-1",
          "K333-2",
          "K333-3",
          "K457-1",
          "K457-2",
          "K457-3",
          "K533-1",
          "K533-2",
          "K533-3",
          "K545-1",
          "K545-2",
          "K545-3",
          "K570-1",
          "K570-2",
          "K570-3",
          "K576-1",
          "K576-2",
          "K576-3"
         ],
         "y": [
          328.84,
          338,
          201,
          291,
          324.173,
          184.826,
          277.84,
          312.826,
          289.84,
          360.826,
          207.173,
          143.333,
          247.493,
          292.666,
          260.026,
          342.36,
          332.506,
          1130.973,
          392.506,
          419,
          420.986,
          281.786,
          341.08,
          403.36,
          376.866,
          576.466,
          200.506,
          372,
          397.24,
          328.76,
          677,
          434,
          194.16,
          419.013,
          288.306,
          430.293,
          461.453,
          524.28,
          413,
          374.72,
          475.506,
          285.52,
          475.866,
          610.666,
          396.253,
          197.066,
          367.013,
          103.973,
          410.013,
          520.44,
          233.24,
          325.32,
          331.933,
          269.626
         ]
        }
       ],
       "layout": {
        "legend": {
         "bgcolor": "#FFFFFF",
         "font": {
          "color": "#4D5663"
         }
        },
        "paper_bgcolor": "#FFFFFF",
        "plot_bgcolor": "#FFFFFF",
        "template": {
         "data": {
          "bar": [
           {
            "error_x": {
             "color": "#2a3f5f"
            },
            "error_y": {
             "color": "#2a3f5f"
            },
            "marker": {
             "line": {
              "color": "#E5ECF6",
              "width": 0.5
             }
            },
            "type": "bar"
           }
          ],
          "barpolar": [
           {
            "marker": {
             "line": {
              "color": "#E5ECF6",
              "width": 0.5
             }
            },
            "type": "barpolar"
           }
          ],
          "carpet": [
           {
            "aaxis": {
             "endlinecolor": "#2a3f5f",
             "gridcolor": "white",
             "linecolor": "white",
             "minorgridcolor": "white",
             "startlinecolor": "#2a3f5f"
            },
            "baxis": {
             "endlinecolor": "#2a3f5f",
             "gridcolor": "white",
             "linecolor": "white",
             "minorgridcolor": "white",
             "startlinecolor": "#2a3f5f"
            },
            "type": "carpet"
           }
          ],
          "choropleth": [
           {
            "colorbar": {
             "outlinewidth": 0,
             "ticks": ""
            },
            "type": "choropleth"
           }
          ],
          "contour": [
           {
            "colorbar": {
             "outlinewidth": 0,
             "ticks": ""
            },
            "colorscale": [
             [
              0,
              "#0d0887"
             ],
             [
              0.1111111111111111,
              "#46039f"
             ],
             [
              0.2222222222222222,
              "#7201a8"
             ],
             [
              0.3333333333333333,
              "#9c179e"
             ],
             [
              0.4444444444444444,
              "#bd3786"
             ],
             [
              0.5555555555555556,
              "#d8576b"
             ],
             [
              0.6666666666666666,
              "#ed7953"
             ],
             [
              0.7777777777777778,
              "#fb9f3a"
             ],
             [
              0.8888888888888888,
              "#fdca26"
             ],
             [
              1,
              "#f0f921"
             ]
            ],
            "type": "contour"
           }
          ],
          "contourcarpet": [
           {
            "colorbar": {
             "outlinewidth": 0,
             "ticks": ""
            },
            "type": "contourcarpet"
           }
          ],
          "heatmap": [
           {
            "colorbar": {
             "outlinewidth": 0,
             "ticks": ""
            },
            "colorscale": [
             [
              0,
              "#0d0887"
             ],
             [
              0.1111111111111111,
              "#46039f"
             ],
             [
              0.2222222222222222,
              "#7201a8"
             ],
             [
              0.3333333333333333,
              "#9c179e"
             ],
             [
              0.4444444444444444,
              "#bd3786"
             ],
             [
              0.5555555555555556,
              "#d8576b"
             ],
             [
              0.6666666666666666,
              "#ed7953"
             ],
             [
              0.7777777777777778,
              "#fb9f3a"
             ],
             [
              0.8888888888888888,
              "#fdca26"
             ],
             [
              1,
              "#f0f921"
             ]
            ],
            "type": "heatmap"
           }
          ],
          "heatmapgl": [
           {
            "colorbar": {
             "outlinewidth": 0,
             "ticks": ""
            },
            "colorscale": [
             [
              0,
              "#0d0887"
             ],
             [
              0.1111111111111111,
              "#46039f"
             ],
             [
              0.2222222222222222,
              "#7201a8"
             ],
             [
              0.3333333333333333,
              "#9c179e"
             ],
             [
              0.4444444444444444,
              "#bd3786"
             ],
             [
              0.5555555555555556,
              "#d8576b"
             ],
             [
              0.6666666666666666,
              "#ed7953"
             ],
             [
              0.7777777777777778,
              "#fb9f3a"
             ],
             [
              0.8888888888888888,
              "#fdca26"
             ],
             [
              1,
              "#f0f921"
             ]
            ],
            "type": "heatmapgl"
           }
          ],
          "histogram": [
           {
            "marker": {
             "colorbar": {
              "outlinewidth": 0,
              "ticks": ""
             }
            },
            "type": "histogram"
           }
          ],
          "histogram2d": [
           {
            "colorbar": {
             "outlinewidth": 0,
             "ticks": ""
            },
            "colorscale": [
             [
              0,
              "#0d0887"
             ],
             [
              0.1111111111111111,
              "#46039f"
             ],
             [
              0.2222222222222222,
              "#7201a8"
             ],
             [
              0.3333333333333333,
              "#9c179e"
             ],
             [
              0.4444444444444444,
              "#bd3786"
             ],
             [
              0.5555555555555556,
              "#d8576b"
             ],
             [
              0.6666666666666666,
              "#ed7953"
             ],
             [
              0.7777777777777778,
              "#fb9f3a"
             ],
             [
              0.8888888888888888,
              "#fdca26"
             ],
             [
              1,
              "#f0f921"
             ]
            ],
            "type": "histogram2d"
           }
          ],
          "histogram2dcontour": [
           {
            "colorbar": {
             "outlinewidth": 0,
             "ticks": ""
            },
            "colorscale": [
             [
              0,
              "#0d0887"
             ],
             [
              0.1111111111111111,
              "#46039f"
             ],
             [
              0.2222222222222222,
              "#7201a8"
             ],
             [
              0.3333333333333333,
              "#9c179e"
             ],
             [
              0.4444444444444444,
              "#bd3786"
             ],
             [
              0.5555555555555556,
              "#d8576b"
             ],
             [
              0.6666666666666666,
              "#ed7953"
             ],
             [
              0.7777777777777778,
              "#fb9f3a"
             ],
             [
              0.8888888888888888,
              "#fdca26"
             ],
             [
              1,
              "#f0f921"
             ]
            ],
            "type": "histogram2dcontour"
           }
          ],
          "mesh3d": [
           {
            "colorbar": {
             "outlinewidth": 0,
             "ticks": ""
            },
            "type": "mesh3d"
           }
          ],
          "parcoords": [
           {
            "line": {
             "colorbar": {
              "outlinewidth": 0,
              "ticks": ""
             }
            },
            "type": "parcoords"
           }
          ],
          "pie": [
           {
            "automargin": true,
            "type": "pie"
           }
          ],
          "scatter": [
           {
            "marker": {
             "colorbar": {
              "outlinewidth": 0,
              "ticks": ""
             }
            },
            "type": "scatter"
           }
          ],
          "scatter3d": [
           {
            "line": {
             "colorbar": {
              "outlinewidth": 0,
              "ticks": ""
             }
            },
            "marker": {
             "colorbar": {
              "outlinewidth": 0,
              "ticks": ""
             }
            },
            "type": "scatter3d"
           }
          ],
          "scattercarpet": [
           {
            "marker": {
             "colorbar": {
              "outlinewidth": 0,
              "ticks": ""
             }
            },
            "type": "scattercarpet"
           }
          ],
          "scattergeo": [
           {
            "marker": {
             "colorbar": {
              "outlinewidth": 0,
              "ticks": ""
             }
            },
            "type": "scattergeo"
           }
          ],
          "scattergl": [
           {
            "marker": {
             "colorbar": {
              "outlinewidth": 0,
              "ticks": ""
             }
            },
            "type": "scattergl"
           }
          ],
          "scattermapbox": [
           {
            "marker": {
             "colorbar": {
              "outlinewidth": 0,
              "ticks": ""
             }
            },
            "type": "scattermapbox"
           }
          ],
          "scatterpolar": [
           {
            "marker": {
             "colorbar": {
              "outlinewidth": 0,
              "ticks": ""
             }
            },
            "type": "scatterpolar"
           }
          ],
          "scatterpolargl": [
           {
            "marker": {
             "colorbar": {
              "outlinewidth": 0,
              "ticks": ""
             }
            },
            "type": "scatterpolargl"
           }
          ],
          "scatterternary": [
           {
            "marker": {
             "colorbar": {
              "outlinewidth": 0,
              "ticks": ""
             }
            },
            "type": "scatterternary"
           }
          ],
          "surface": [
           {
            "colorbar": {
             "outlinewidth": 0,
             "ticks": ""
            },
            "colorscale": [
             [
              0,
              "#0d0887"
             ],
             [
              0.1111111111111111,
              "#46039f"
             ],
             [
              0.2222222222222222,
              "#7201a8"
             ],
             [
              0.3333333333333333,
              "#9c179e"
             ],
             [
              0.4444444444444444,
              "#bd3786"
             ],
             [
              0.5555555555555556,
              "#d8576b"
             ],
             [
              0.6666666666666666,
              "#ed7953"
             ],
             [
              0.7777777777777778,
              "#fb9f3a"
             ],
             [
              0.8888888888888888,
              "#fdca26"
             ],
             [
              1,
              "#f0f921"
             ]
            ],
            "type": "surface"
           }
          ],
          "table": [
           {
            "cells": {
             "fill": {
              "color": "#EBF0F8"
             },
             "line": {
              "color": "white"
             }
            },
            "header": {
             "fill": {
              "color": "#C8D4E3"
             },
             "line": {
              "color": "white"
             }
            },
            "type": "table"
           }
          ]
         },
         "layout": {
          "annotationdefaults": {
           "arrowcolor": "#2a3f5f",
           "arrowhead": 0,
           "arrowwidth": 1
          },
          "coloraxis": {
           "colorbar": {
            "outlinewidth": 0,
            "ticks": ""
           }
          },
          "colorscale": {
           "diverging": [
            [
             0,
             "#8e0152"
            ],
            [
             0.1,
             "#c51b7d"
            ],
            [
             0.2,
             "#de77ae"
            ],
            [
             0.3,
             "#f1b6da"
            ],
            [
             0.4,
             "#fde0ef"
            ],
            [
             0.5,
             "#f7f7f7"
            ],
            [
             0.6,
             "#e6f5d0"
            ],
            [
             0.7,
             "#b8e186"
            ],
            [
             0.8,
             "#7fbc41"
            ],
            [
             0.9,
             "#4d9221"
            ],
            [
             1,
             "#276419"
            ]
           ],
           "sequential": [
            [
             0,
             "#0d0887"
            ],
            [
             0.1111111111111111,
             "#46039f"
            ],
            [
             0.2222222222222222,
             "#7201a8"
            ],
            [
             0.3333333333333333,
             "#9c179e"
            ],
            [
             0.4444444444444444,
             "#bd3786"
            ],
            [
             0.5555555555555556,
             "#d8576b"
            ],
            [
             0.6666666666666666,
             "#ed7953"
            ],
            [
             0.7777777777777778,
             "#fb9f3a"
            ],
            [
             0.8888888888888888,
             "#fdca26"
            ],
            [
             1,
             "#f0f921"
            ]
           ],
           "sequentialminus": [
            [
             0,
             "#0d0887"
            ],
            [
             0.1111111111111111,
             "#46039f"
            ],
            [
             0.2222222222222222,
             "#7201a8"
            ],
            [
             0.3333333333333333,
             "#9c179e"
            ],
            [
             0.4444444444444444,
             "#bd3786"
            ],
            [
             0.5555555555555556,
             "#d8576b"
            ],
            [
             0.6666666666666666,
             "#ed7953"
            ],
            [
             0.7777777777777778,
             "#fb9f3a"
            ],
            [
             0.8888888888888888,
             "#fdca26"
            ],
            [
             1,
             "#f0f921"
            ]
           ]
          },
          "colorway": [
           "#636efa",
           "#EF553B",
           "#00cc96",
           "#ab63fa",
           "#FFA15A",
           "#19d3f3",
           "#FF6692",
           "#B6E880",
           "#FF97FF",
           "#FECB52"
          ],
          "font": {
           "color": "#2a3f5f"
          },
          "geo": {
           "bgcolor": "white",
           "lakecolor": "white",
           "landcolor": "#E5ECF6",
           "showlakes": true,
           "showland": true,
           "subunitcolor": "white"
          },
          "hoverlabel": {
           "align": "left"
          },
          "hovermode": "closest",
          "mapbox": {
           "style": "light"
          },
          "paper_bgcolor": "white",
          "plot_bgcolor": "#E5ECF6",
          "polar": {
           "angularaxis": {
            "gridcolor": "white",
            "linecolor": "white",
            "ticks": ""
           },
           "bgcolor": "#E5ECF6",
           "radialaxis": {
            "gridcolor": "white",
            "linecolor": "white",
            "ticks": ""
           }
          },
          "scene": {
           "xaxis": {
            "backgroundcolor": "#E5ECF6",
            "gridcolor": "white",
            "gridwidth": 2,
            "linecolor": "white",
            "showbackground": true,
            "ticks": "",
            "zerolinecolor": "white"
           },
           "yaxis": {
            "backgroundcolor": "#E5ECF6",
            "gridcolor": "white",
            "gridwidth": 2,
            "linecolor": "white",
            "showbackground": true,
            "ticks": "",
            "zerolinecolor": "white"
           },
           "zaxis": {
            "backgroundcolor": "#E5ECF6",
            "gridcolor": "white",
            "gridwidth": 2,
            "linecolor": "white",
            "showbackground": true,
            "ticks": "",
            "zerolinecolor": "white"
           }
          },
          "shapedefaults": {
           "line": {
            "color": "#2a3f5f"
           }
          },
          "ternary": {
           "aaxis": {
            "gridcolor": "white",
            "linecolor": "white",
            "ticks": ""
           },
           "baxis": {
            "gridcolor": "white",
            "linecolor": "white",
            "ticks": ""
           },
           "bgcolor": "#E5ECF6",
           "caxis": {
            "gridcolor": "white",
            "linecolor": "white",
            "ticks": ""
           }
          },
          "title": {
           "x": 0.05
          },
          "xaxis": {
           "automargin": true,
           "gridcolor": "white",
           "linecolor": "white",
           "ticks": "",
           "title": {
            "standoff": 15
           },
           "zerolinecolor": "white",
           "zerolinewidth": 2
          },
          "yaxis": {
           "automargin": true,
           "gridcolor": "white",
           "linecolor": "white",
           "ticks": "",
           "title": {
            "standoff": 15
           },
           "zerolinecolor": "white",
           "zerolinewidth": 2
          }
         }
        },
        "title": {
         "font": {
          "color": "#4D5663"
         }
        },
        "xaxis": {
         "gridcolor": "#E1E5ED",
         "showgrid": true,
         "tickfont": {
          "color": "#4D5663"
         },
         "title": {
          "font": {
           "color": "#4D5663"
          },
          "text": ""
         },
         "zerolinecolor": "#E1E5ED"
        },
        "yaxis": {
         "gridcolor": "#E1E5ED",
         "showgrid": true,
         "tickfont": {
          "color": "#4D5663"
         },
         "title": {
          "font": {
           "color": "#4D5663"
          },
          "text": ""
         },
         "zerolinecolor": "#E1E5ED"
        }
       }
      },
      "text/html": [
       "<div>                            <div id=\"91db4602-df96-4322-b59e-2920bc88d394\" class=\"plotly-graph-div\" style=\"height:525px; width:100%;\"></div>            <script type=\"text/javascript\">                require([\"plotly\"], function(Plotly) {                    window.PLOTLYENV=window.PLOTLYENV || {};\n",
       "                    window.PLOTLYENV.BASE_URL='https://plot.ly';                                    if (document.getElementById(\"91db4602-df96-4322-b59e-2920bc88d394\")) {                    Plotly.newPlot(                        \"91db4602-df96-4322-b59e-2920bc88d394\",                        [{\"line\": {\"color\": \"rgba(255, 153, 51, 1.0)\", \"dash\": \"solid\", \"shape\": \"linear\", \"width\": 1.3}, \"marker\": {\"size\": 12, \"symbol\": \"circle\"}, \"mode\": \"markers\", \"name\": \"say\", \"text\": \"\", \"type\": \"scatter\", \"x\": [\"K279-1\", \"K279-2\", \"K279-3\", \"K280-1\", \"K280-2\", \"K280-3\", \"K281-1\", \"K281-2\", \"K281-3\", \"K282-1\", \"K282-2\", \"K282-3\", \"K283-1\", \"K283-2\", \"K283-3\", \"K284-1\", \"K284-2\", \"K284-3\", \"K309-1\", \"K309-2\", \"K309-3\", \"K311-1\", \"K311-2\", \"K311-3\", \"K310-1\", \"K310-2\", \"K310-3\", \"K330-1\", \"K330-2\", \"K330-3\", \"K331-1\", \"K331-2\", \"K331-3\", \"K332-1\", \"K332-2\", \"K332-3\", \"K333-1\", \"K333-2\", \"K333-3\", \"K457-1\", \"K457-2\", \"K457-3\", \"K533-1\", \"K533-2\", \"K533-3\", \"K545-1\", \"K545-2\", \"K545-3\", \"K570-1\", \"K570-2\", \"K570-3\", \"K576-1\", \"K576-2\", \"K576-3\"], \"y\": [395.84, 453.053, 286.4, 383.373, 455.76, 263.813, 392.12, 343.493, 282.786, 388.96, 221.466, 197.493, 319.226, 369.933, 368.213, 456.68, 322.133, 1019.306, 499.2, 314.573, 365.426, 393.306, 324.253, 360.533, 461.24, 485.506, 193.08, 563.733, 421.266, 464.306, 852.8, 378.666, 204.426, 548.253, 236.653, 601.76, 608.4, 618.893, 366.213, 557.906, 367.706, 322.413, 625.506, 734.8, 382.453, 252.533, 369.96, 90.32, 476.12, 423.826, 213.146, 301.28, 291.12, 271.266]}, {\"line\": {\"color\": \"rgba(55, 128, 191, 1.0)\", \"dash\": \"solid\", \"shape\": \"linear\", \"width\": 1.3}, \"marker\": {\"size\": 12, \"symbol\": \"circle\"}, \"mode\": \"markers\", \"name\": \"barenboim\", \"text\": \"\", \"type\": \"scatter\", \"x\": [\"K279-1\", \"K279-2\", \"K279-3\", \"K280-1\", \"K280-2\", \"K280-3\", \"K281-1\", \"K281-2\", \"K281-3\", \"K282-1\", \"K282-2\", \"K282-3\", \"K283-1\", \"K283-2\", \"K283-3\", \"K284-1\", \"K284-2\", \"K284-3\", \"K309-1\", \"K309-2\", \"K309-3\", \"K311-1\", \"K311-2\", \"K311-3\", \"K310-1\", \"K310-2\", \"K310-3\", \"K330-1\", \"K330-2\", \"K330-3\", \"K331-1\", \"K331-2\", \"K331-3\", \"K332-1\", \"K332-2\", \"K332-3\", \"K333-1\", \"K333-2\", \"K333-3\", \"K457-1\", \"K457-2\", \"K457-3\", \"K533-1\", \"K533-2\", \"K533-3\", \"K545-1\", \"K545-2\", \"K545-3\", \"K570-1\", \"K570-2\", \"K570-3\", \"K576-1\", \"K576-2\", \"K576-3\"], \"y\": [264.773, 387.226, 196.24, 264.4, 416.866, 180.8, 261.066, 385.093, 257.399, 483.693, 236.133, 127.76, 243.066, 304.066, 242.64, 314.866, 328.733, 1004.866, 362.706, 375.333, 384.8, 264.533, 386.106, 380.866, 494.826, 642.173, 177.466, 376.4, 487.666, 343.76, 844.573, 353.4, 199.893, 427.4, 274.906, 422.533, 437.573, 545.96, 382.106, 494.693, 470.866, 301.04, 452.066, 796.026, 380.506, 186.373, 359.226, 101.4, 391.533, 598.96, 232.6, 288.333, 354.133, 267.706]}, {\"line\": {\"color\": \"rgba(50, 171, 96, 1.0)\", \"dash\": \"solid\", \"shape\": \"linear\", \"width\": 1.3}, \"marker\": {\"size\": 12, \"symbol\": \"circle\"}, \"mode\": \"markers\", \"name\": \"endres\", \"text\": \"\", \"type\": \"scatter\", \"x\": [\"K279-1\", \"K279-2\", \"K279-3\", \"K280-1\", \"K280-2\", \"K280-3\", \"K281-1\", \"K281-2\", \"K281-3\", \"K282-1\", \"K282-2\", \"K282-3\", \"K283-1\", \"K283-2\", \"K283-3\", \"K284-1\", \"K284-2\", \"K284-3\", \"K309-1\", \"K309-2\", \"K309-3\", \"K311-1\", \"K311-2\", \"K311-3\", \"K310-1\", \"K310-2\", \"K310-3\", \"K330-1\", \"K330-2\", \"K330-3\", \"K331-1\", \"K331-2\", \"K331-3\", \"K332-1\", \"K332-2\", \"K332-3\", \"K333-1\", \"K333-2\", \"K333-3\", \"K457-1\", \"K457-2\", \"K457-3\", \"K533-1\", \"K533-2\", \"K533-3\", \"K545-1\", \"K545-2\", \"K545-3\", \"K570-1\", \"K570-2\", \"K570-3\", \"K576-1\", \"K576-2\", \"K576-3\"], \"y\": [301.506, 301.826, 262.333, 273.173, 301.0, 178.826, 262.84, 301.16, 249.333, 287.666, 230.666, 183.333, 241.0, 412.0, 235.506, 305.333, 215.84, 904.826, 355.666, 354.666, 343.333, 274.0, 328.506, 378.826, 340.333, 532.666, 188.333, 353.666, 334.0, 303.0, 774.506, 337.493, 229.0, 385.333, 260.333, 403.666, 421.666, 425.0, 378.0, 387.506, 452.826, 299.666, 472.173, 491.0, 343.16, 181.506, 283.666, 107.826, 349.333, 448.666, 224.666, 305.0, 318.0, 243.333]}, {\"line\": {\"color\": \"rgba(128, 0, 128, 1.0)\", \"dash\": \"solid\", \"shape\": \"linear\", \"width\": 1.3}, \"marker\": {\"size\": 12, \"symbol\": \"circle\"}, \"mode\": \"markers\", \"name\": \"mauser\", \"text\": \"\", \"type\": \"scatter\", \"x\": [\"K279-1\", \"K279-2\", \"K279-3\", \"K280-1\", \"K280-2\", \"K280-3\", \"K281-1\", \"K281-2\", \"K281-3\", \"K282-1\", \"K282-2\", \"K282-3\", \"K283-1\", \"K283-2\", \"K283-3\", \"K284-1\", \"K284-2\", \"K284-3\", \"K309-1\", \"K309-2\", \"K309-3\", \"K311-1\", \"K311-2\", \"K311-3\", \"K310-1\", \"K310-2\", \"K310-3\", \"K330-1\", \"K330-2\", \"K330-3\", \"K331-1\", \"K331-2\", \"K331-3\", \"K332-1\", \"K332-2\", \"K332-3\", \"K333-1\", \"K333-2\", \"K333-3\", \"K457-1\", \"K457-2\", \"K457-3\", \"K533-1\", \"K533-2\", \"K533-3\", \"K545-1\", \"K545-2\", \"K545-3\", \"K570-1\", \"K570-2\", \"K570-3\", \"K576-1\", \"K576-2\", \"K576-3\"], \"y\": [295.012, 415.252, 204.759, 283.026, 402.026, 192.999, 278.012, 345.239, 270.772, 369.039, 286.999, 139.999, 261.026, 264.012, 266.332, 311.386, 340.786, 1097.386, 355.546, 444.239, 378.652, 277.212, 384.212, 369.239, 327.666, 658.772, 188.452, 393.532, 479.986, 349.466, 870.746, 408.986, 208.399, 455.212, 359.746, 435.559, 445.972, 576.039, 396.692, 380.186, 510.932, 280.279, 484.466, 560.879, 363.946, 179.586, 359.879, 108.772, 336.066, 573.479, 226.932, 297.786, 367.186, 261.346]}, {\"line\": {\"color\": \"rgba(219, 64, 82, 1.0)\", \"dash\": \"solid\", \"shape\": \"linear\", \"width\": 1.3}, \"marker\": {\"size\": 12, \"symbol\": \"circle\"}, \"mode\": \"markers\", \"name\": \"deyanova\", \"text\": \"\", \"type\": \"scatter\", \"x\": [\"K279-1\", \"K279-2\", \"K279-3\", \"K280-1\", \"K280-2\", \"K280-3\", \"K281-1\", \"K281-2\", \"K281-3\", \"K282-1\", \"K282-2\", \"K282-3\", \"K283-1\", \"K283-2\", \"K283-3\", \"K284-1\", \"K284-2\", \"K284-3\", \"K309-1\", \"K309-2\", \"K309-3\", \"K311-1\", \"K311-2\", \"K311-3\", \"K310-1\", \"K310-2\", \"K310-3\", \"K330-1\", \"K330-2\", \"K330-3\", \"K331-1\", \"K331-2\", \"K331-3\", \"K332-1\", \"K332-2\", \"K332-3\", \"K333-1\", \"K333-2\", \"K333-3\", \"K457-1\", \"K457-2\", \"K457-3\", \"K533-1\", \"K533-2\", \"K533-3\", \"K545-1\", \"K545-2\", \"K545-3\", \"K570-1\", \"K570-2\", \"K570-3\", \"K576-1\", \"K576-2\", \"K576-3\"], \"y\": [410.826, 521.0, 273.0, 381.0, 513.666, 247.333, 379.0, 430.0, 208.173, 390.826, 188.0, 180.0, 315.0, 414.0, 349.0, 443.0, 253.0, 866.173, 503.826, 425.0, 318.0, 425.0, 372.0, 379.173, 529.0, 619.0, 166.0, 540.826, 350.0, 410.0, 713.0, 322.0, 216.0, 550.0, 292.0, 615.173, 607.466, 555.0, 319.0, 478.4, 406.173, 266.933, 600.826, 613.0, 307.0, 256.0, 342.0, 110.0, 466.0, 486.0, 201.0, 304.0, 292.0, 244.173]}, {\"line\": {\"color\": \"rgba(0, 128, 128, 1.0)\", \"dash\": \"solid\", \"shape\": \"linear\", \"width\": 1.3}, \"marker\": {\"size\": 12, \"symbol\": \"circle\"}, \"mode\": \"markers\", \"name\": \"mamou\", \"text\": \"\", \"type\": \"scatter\", \"x\": [\"K279-1\", \"K279-2\", \"K279-3\", \"K280-1\", \"K280-2\", \"K280-3\", \"K281-1\", \"K281-2\", \"K281-3\", \"K282-1\", \"K282-2\", \"K282-3\", \"K283-1\", \"K283-2\", \"K283-3\", \"K284-1\", \"K284-2\", \"K284-3\", \"K309-1\", \"K309-2\", \"K309-3\", \"K311-1\", \"K311-2\", \"K311-3\", \"K310-1\", \"K310-2\", \"K310-3\", \"K330-1\", \"K330-2\", \"K330-3\", \"K331-1\", \"K331-2\", \"K331-3\", \"K332-1\", \"K332-2\", \"K332-3\", \"K333-1\", \"K333-2\", \"K333-3\", \"K457-1\", \"K457-2\", \"K457-3\", \"K533-1\", \"K533-2\", \"K533-3\", \"K545-1\", \"K545-2\", \"K545-3\", \"K570-1\", \"K570-2\", \"K570-3\", \"K576-1\", \"K576-2\", \"K576-3\"], \"y\": [328.84, 338.0, 201.0, 291.0, 324.173, 184.826, 277.84, 312.826, 289.84, 360.826, 207.173, 143.333, 247.493, 292.666, 260.026, 342.36, 332.506, 1130.973, 392.506, 419.0, 420.986, 281.786, 341.08, 403.36, 376.866, 576.466, 200.506, 372.0, 397.24, 328.76, 677.0, 434.0, 194.16, 419.013, 288.306, 430.293, 461.453, 524.28, 413.0, 374.72, 475.506, 285.52, 475.866, 610.666, 396.253, 197.066, 367.013, 103.973, 410.013, 520.44, 233.24, 325.32, 331.933, 269.626]}],                        {\"legend\": {\"bgcolor\": \"#FFFFFF\", \"font\": {\"color\": \"#4D5663\"}}, \"paper_bgcolor\": \"#FFFFFF\", \"plot_bgcolor\": \"#FFFFFF\", \"template\": {\"data\": {\"bar\": [{\"error_x\": {\"color\": \"#2a3f5f\"}, \"error_y\": {\"color\": \"#2a3f5f\"}, \"marker\": {\"line\": {\"color\": \"#E5ECF6\", \"width\": 0.5}}, \"type\": \"bar\"}], \"barpolar\": [{\"marker\": {\"line\": {\"color\": \"#E5ECF6\", \"width\": 0.5}}, \"type\": \"barpolar\"}], \"carpet\": [{\"aaxis\": {\"endlinecolor\": \"#2a3f5f\", \"gridcolor\": \"white\", \"linecolor\": \"white\", \"minorgridcolor\": \"white\", \"startlinecolor\": \"#2a3f5f\"}, \"baxis\": {\"endlinecolor\": \"#2a3f5f\", \"gridcolor\": \"white\", \"linecolor\": \"white\", \"minorgridcolor\": \"white\", \"startlinecolor\": \"#2a3f5f\"}, \"type\": \"carpet\"}], \"choropleth\": [{\"colorbar\": {\"outlinewidth\": 0, \"ticks\": \"\"}, \"type\": \"choropleth\"}], \"contour\": [{\"colorbar\": {\"outlinewidth\": 0, \"ticks\": \"\"}, \"colorscale\": [[0.0, \"#0d0887\"], [0.1111111111111111, \"#46039f\"], [0.2222222222222222, \"#7201a8\"], [0.3333333333333333, \"#9c179e\"], [0.4444444444444444, \"#bd3786\"], [0.5555555555555556, \"#d8576b\"], [0.6666666666666666, \"#ed7953\"], [0.7777777777777778, \"#fb9f3a\"], [0.8888888888888888, \"#fdca26\"], [1.0, \"#f0f921\"]], \"type\": \"contour\"}], \"contourcarpet\": [{\"colorbar\": {\"outlinewidth\": 0, \"ticks\": \"\"}, \"type\": \"contourcarpet\"}], \"heatmap\": [{\"colorbar\": {\"outlinewidth\": 0, \"ticks\": \"\"}, \"colorscale\": [[0.0, \"#0d0887\"], [0.1111111111111111, \"#46039f\"], [0.2222222222222222, \"#7201a8\"], [0.3333333333333333, \"#9c179e\"], [0.4444444444444444, \"#bd3786\"], [0.5555555555555556, \"#d8576b\"], [0.6666666666666666, \"#ed7953\"], [0.7777777777777778, \"#fb9f3a\"], [0.8888888888888888, \"#fdca26\"], [1.0, \"#f0f921\"]], \"type\": \"heatmap\"}], \"heatmapgl\": [{\"colorbar\": {\"outlinewidth\": 0, \"ticks\": \"\"}, \"colorscale\": [[0.0, \"#0d0887\"], [0.1111111111111111, \"#46039f\"], [0.2222222222222222, \"#7201a8\"], [0.3333333333333333, \"#9c179e\"], [0.4444444444444444, \"#bd3786\"], [0.5555555555555556, \"#d8576b\"], [0.6666666666666666, \"#ed7953\"], [0.7777777777777778, \"#fb9f3a\"], [0.8888888888888888, \"#fdca26\"], [1.0, \"#f0f921\"]], \"type\": \"heatmapgl\"}], \"histogram\": [{\"marker\": {\"colorbar\": {\"outlinewidth\": 0, \"ticks\": \"\"}}, \"type\": \"histogram\"}], \"histogram2d\": [{\"colorbar\": {\"outlinewidth\": 0, \"ticks\": \"\"}, \"colorscale\": [[0.0, \"#0d0887\"], [0.1111111111111111, \"#46039f\"], [0.2222222222222222, \"#7201a8\"], [0.3333333333333333, \"#9c179e\"], [0.4444444444444444, \"#bd3786\"], [0.5555555555555556, \"#d8576b\"], [0.6666666666666666, \"#ed7953\"], [0.7777777777777778, \"#fb9f3a\"], [0.8888888888888888, \"#fdca26\"], [1.0, \"#f0f921\"]], \"type\": \"histogram2d\"}], \"histogram2dcontour\": [{\"colorbar\": {\"outlinewidth\": 0, \"ticks\": \"\"}, \"colorscale\": [[0.0, \"#0d0887\"], [0.1111111111111111, \"#46039f\"], [0.2222222222222222, \"#7201a8\"], [0.3333333333333333, \"#9c179e\"], [0.4444444444444444, \"#bd3786\"], [0.5555555555555556, \"#d8576b\"], [0.6666666666666666, \"#ed7953\"], [0.7777777777777778, \"#fb9f3a\"], [0.8888888888888888, \"#fdca26\"], [1.0, \"#f0f921\"]], \"type\": \"histogram2dcontour\"}], \"mesh3d\": [{\"colorbar\": {\"outlinewidth\": 0, \"ticks\": \"\"}, \"type\": \"mesh3d\"}], \"parcoords\": [{\"line\": {\"colorbar\": {\"outlinewidth\": 0, \"ticks\": \"\"}}, \"type\": \"parcoords\"}], \"pie\": [{\"automargin\": true, \"type\": \"pie\"}], \"scatter\": [{\"marker\": {\"colorbar\": {\"outlinewidth\": 0, \"ticks\": \"\"}}, \"type\": \"scatter\"}], \"scatter3d\": [{\"line\": {\"colorbar\": {\"outlinewidth\": 0, \"ticks\": \"\"}}, \"marker\": {\"colorbar\": {\"outlinewidth\": 0, \"ticks\": \"\"}}, \"type\": \"scatter3d\"}], \"scattercarpet\": [{\"marker\": {\"colorbar\": {\"outlinewidth\": 0, \"ticks\": \"\"}}, \"type\": \"scattercarpet\"}], \"scattergeo\": [{\"marker\": {\"colorbar\": {\"outlinewidth\": 0, \"ticks\": \"\"}}, \"type\": \"scattergeo\"}], \"scattergl\": [{\"marker\": {\"colorbar\": {\"outlinewidth\": 0, \"ticks\": \"\"}}, \"type\": \"scattergl\"}], \"scattermapbox\": [{\"marker\": {\"colorbar\": {\"outlinewidth\": 0, \"ticks\": \"\"}}, \"type\": \"scattermapbox\"}], \"scatterpolar\": [{\"marker\": {\"colorbar\": {\"outlinewidth\": 0, \"ticks\": \"\"}}, \"type\": \"scatterpolar\"}], \"scatterpolargl\": [{\"marker\": {\"colorbar\": {\"outlinewidth\": 0, \"ticks\": \"\"}}, \"type\": \"scatterpolargl\"}], \"scatterternary\": [{\"marker\": {\"colorbar\": {\"outlinewidth\": 0, \"ticks\": \"\"}}, \"type\": \"scatterternary\"}], \"surface\": [{\"colorbar\": {\"outlinewidth\": 0, \"ticks\": \"\"}, \"colorscale\": [[0.0, \"#0d0887\"], [0.1111111111111111, \"#46039f\"], [0.2222222222222222, \"#7201a8\"], [0.3333333333333333, \"#9c179e\"], [0.4444444444444444, \"#bd3786\"], [0.5555555555555556, \"#d8576b\"], [0.6666666666666666, \"#ed7953\"], [0.7777777777777778, \"#fb9f3a\"], [0.8888888888888888, \"#fdca26\"], [1.0, \"#f0f921\"]], \"type\": \"surface\"}], \"table\": [{\"cells\": {\"fill\": {\"color\": \"#EBF0F8\"}, \"line\": {\"color\": \"white\"}}, \"header\": {\"fill\": {\"color\": \"#C8D4E3\"}, \"line\": {\"color\": \"white\"}}, \"type\": \"table\"}]}, \"layout\": {\"annotationdefaults\": {\"arrowcolor\": \"#2a3f5f\", \"arrowhead\": 0, \"arrowwidth\": 1}, \"coloraxis\": {\"colorbar\": {\"outlinewidth\": 0, \"ticks\": \"\"}}, \"colorscale\": {\"diverging\": [[0, \"#8e0152\"], [0.1, \"#c51b7d\"], [0.2, \"#de77ae\"], [0.3, \"#f1b6da\"], [0.4, \"#fde0ef\"], [0.5, \"#f7f7f7\"], [0.6, \"#e6f5d0\"], [0.7, \"#b8e186\"], [0.8, \"#7fbc41\"], [0.9, \"#4d9221\"], [1, \"#276419\"]], \"sequential\": [[0.0, \"#0d0887\"], [0.1111111111111111, \"#46039f\"], [0.2222222222222222, \"#7201a8\"], [0.3333333333333333, \"#9c179e\"], [0.4444444444444444, \"#bd3786\"], [0.5555555555555556, \"#d8576b\"], [0.6666666666666666, \"#ed7953\"], [0.7777777777777778, \"#fb9f3a\"], [0.8888888888888888, \"#fdca26\"], [1.0, \"#f0f921\"]], \"sequentialminus\": [[0.0, \"#0d0887\"], [0.1111111111111111, \"#46039f\"], [0.2222222222222222, \"#7201a8\"], [0.3333333333333333, \"#9c179e\"], [0.4444444444444444, \"#bd3786\"], [0.5555555555555556, \"#d8576b\"], [0.6666666666666666, \"#ed7953\"], [0.7777777777777778, \"#fb9f3a\"], [0.8888888888888888, \"#fdca26\"], [1.0, \"#f0f921\"]]}, \"colorway\": [\"#636efa\", \"#EF553B\", \"#00cc96\", \"#ab63fa\", \"#FFA15A\", \"#19d3f3\", \"#FF6692\", \"#B6E880\", \"#FF97FF\", \"#FECB52\"], \"font\": {\"color\": \"#2a3f5f\"}, \"geo\": {\"bgcolor\": \"white\", \"lakecolor\": \"white\", \"landcolor\": \"#E5ECF6\", \"showlakes\": true, \"showland\": true, \"subunitcolor\": \"white\"}, \"hoverlabel\": {\"align\": \"left\"}, \"hovermode\": \"closest\", \"mapbox\": {\"style\": \"light\"}, \"paper_bgcolor\": \"white\", \"plot_bgcolor\": \"#E5ECF6\", \"polar\": {\"angularaxis\": {\"gridcolor\": \"white\", \"linecolor\": \"white\", \"ticks\": \"\"}, \"bgcolor\": \"#E5ECF6\", \"radialaxis\": {\"gridcolor\": \"white\", \"linecolor\": \"white\", \"ticks\": \"\"}}, \"scene\": {\"xaxis\": {\"backgroundcolor\": \"#E5ECF6\", \"gridcolor\": \"white\", \"gridwidth\": 2, \"linecolor\": \"white\", \"showbackground\": true, \"ticks\": \"\", \"zerolinecolor\": \"white\"}, \"yaxis\": {\"backgroundcolor\": \"#E5ECF6\", \"gridcolor\": \"white\", \"gridwidth\": 2, \"linecolor\": \"white\", \"showbackground\": true, \"ticks\": \"\", \"zerolinecolor\": \"white\"}, \"zaxis\": {\"backgroundcolor\": \"#E5ECF6\", \"gridcolor\": \"white\", \"gridwidth\": 2, \"linecolor\": \"white\", \"showbackground\": true, \"ticks\": \"\", \"zerolinecolor\": \"white\"}}, \"shapedefaults\": {\"line\": {\"color\": \"#2a3f5f\"}}, \"ternary\": {\"aaxis\": {\"gridcolor\": \"white\", \"linecolor\": \"white\", \"ticks\": \"\"}, \"baxis\": {\"gridcolor\": \"white\", \"linecolor\": \"white\", \"ticks\": \"\"}, \"bgcolor\": \"#E5ECF6\", \"caxis\": {\"gridcolor\": \"white\", \"linecolor\": \"white\", \"ticks\": \"\"}}, \"title\": {\"x\": 0.05}, \"xaxis\": {\"automargin\": true, \"gridcolor\": \"white\", \"linecolor\": \"white\", \"ticks\": \"\", \"title\": {\"standoff\": 15}, \"zerolinecolor\": \"white\", \"zerolinewidth\": 2}, \"yaxis\": {\"automargin\": true, \"gridcolor\": \"white\", \"linecolor\": \"white\", \"ticks\": \"\", \"title\": {\"standoff\": 15}, \"zerolinecolor\": \"white\", \"zerolinewidth\": 2}}}, \"title\": {\"font\": {\"color\": \"#4D5663\"}}, \"xaxis\": {\"gridcolor\": \"#E1E5ED\", \"showgrid\": true, \"tickfont\": {\"color\": \"#4D5663\"}, \"title\": {\"font\": {\"color\": \"#4D5663\"}, \"text\": \"\"}, \"zerolinecolor\": \"#E1E5ED\"}, \"yaxis\": {\"gridcolor\": \"#E1E5ED\", \"showgrid\": true, \"tickfont\": {\"color\": \"#4D5663\"}, \"title\": {\"font\": {\"color\": \"#4D5663\"}, \"text\": \"\"}, \"zerolinecolor\": \"#E1E5ED\"}},                        {\"showLink\": true, \"linkText\": \"Export to plot.ly\", \"plotlyServerURL\": \"https://plot.ly\", \"responsive\": true}                    ).then(function(){\n",
       "                            \n",
       "var gd = document.getElementById('91db4602-df96-4322-b59e-2920bc88d394');\n",
       "var x = new MutationObserver(function (mutations, observer) {{\n",
       "        var display = window.getComputedStyle(gd).display;\n",
       "        if (!display || display === 'none') {{\n",
       "            console.log([gd, 'removed!']);\n",
       "            Plotly.purge(gd);\n",
       "            observer.disconnect();\n",
       "        }}\n",
       "}});\n",
       "\n",
       "// Listen for the removal of the full notebook cells\n",
       "var notebookContainer = gd.closest('#notebook-container');\n",
       "if (notebookContainer) {{\n",
       "    x.observe(notebookContainer, {childList: true});\n",
       "}}\n",
       "\n",
       "// Listen for the clearing of the current output cell\n",
       "var outputEl = gd.closest('.output');\n",
       "if (outputEl) {{\n",
       "    x.observe(outputEl, {childList: true});\n",
       "}}\n",
       "\n",
       "                        })                };                });            </script>        </div>"
      ]
     },
     "metadata": {},
     "output_type": "display_data"
    }
   ],
   "source": [
    "seconds.iloc[:,[0,1,5,6,7,8]].iplot(mode='markers')"
   ]
  },
  {
   "cell_type": "code",
   "execution_count": null,
   "metadata": {},
   "outputs": [
    {
     "data": {
      "application/vnd.plotly.v1+json": {
       "config": {
        "linkText": "Export to plot.ly",
        "plotlyServerURL": "https://plot.ly",
        "showLink": true
       },
       "data": [
        {
         "boxpoints": false,
         "line": {
          "width": 1.3
         },
         "marker": {
          "color": "rgba(255, 153, 51, 1.0)"
         },
         "name": "K279-1",
         "orientation": "v",
         "type": "box",
         "y": [
          395.84,
          264.773,
          301.506,
          295.012,
          410.826,
          328.84
         ]
        },
        {
         "boxpoints": false,
         "line": {
          "width": 1.3
         },
         "marker": {
          "color": "rgba(55, 128, 191, 1.0)"
         },
         "name": "K279-2",
         "orientation": "v",
         "type": "box",
         "y": [
          453.053,
          387.226,
          301.826,
          415.252,
          521,
          338
         ]
        },
        {
         "boxpoints": false,
         "line": {
          "width": 1.3
         },
         "marker": {
          "color": "rgba(50, 171, 96, 1.0)"
         },
         "name": "K279-3",
         "orientation": "v",
         "type": "box",
         "y": [
          286.4,
          196.24,
          262.333,
          204.759,
          273,
          201
         ]
        },
        {
         "boxpoints": false,
         "line": {
          "width": 1.3
         },
         "marker": {
          "color": "rgba(128, 0, 128, 1.0)"
         },
         "name": "K280-1",
         "orientation": "v",
         "type": "box",
         "y": [
          383.373,
          264.4,
          273.173,
          283.026,
          381,
          291
         ]
        },
        {
         "boxpoints": false,
         "line": {
          "width": 1.3
         },
         "marker": {
          "color": "rgba(219, 64, 82, 1.0)"
         },
         "name": "K280-2",
         "orientation": "v",
         "type": "box",
         "y": [
          455.76,
          416.866,
          301,
          402.026,
          513.666,
          324.173
         ]
        },
        {
         "boxpoints": false,
         "line": {
          "width": 1.3
         },
         "marker": {
          "color": "rgba(0, 128, 128, 1.0)"
         },
         "name": "K280-3",
         "orientation": "v",
         "type": "box",
         "y": [
          263.813,
          180.8,
          178.826,
          192.999,
          247.333,
          184.826
         ]
        },
        {
         "boxpoints": false,
         "line": {
          "width": 1.3
         },
         "marker": {
          "color": "rgba(255, 255, 51, 1.0)"
         },
         "name": "K281-1",
         "orientation": "v",
         "type": "box",
         "y": [
          392.12,
          261.066,
          262.84,
          278.012,
          379,
          277.84
         ]
        },
        {
         "boxpoints": false,
         "line": {
          "width": 1.3
         },
         "marker": {
          "color": "rgba(128, 128, 0, 1.0)"
         },
         "name": "K281-2",
         "orientation": "v",
         "type": "box",
         "y": [
          343.493,
          385.093,
          301.16,
          345.239,
          430,
          312.826
         ]
        },
        {
         "boxpoints": false,
         "line": {
          "width": 1.3
         },
         "marker": {
          "color": "rgba(251, 128, 114, 1.0)"
         },
         "name": "K281-3",
         "orientation": "v",
         "type": "box",
         "y": [
          282.786,
          257.399,
          249.333,
          270.772,
          208.173,
          289.84
         ]
        },
        {
         "boxpoints": false,
         "line": {
          "width": 1.3
         },
         "marker": {
          "color": "rgba(128, 177, 211, 1.0)"
         },
         "name": "K282-1",
         "orientation": "v",
         "type": "box",
         "y": [
          388.96,
          483.693,
          287.666,
          369.039,
          390.826,
          360.826
         ]
        },
        {
         "boxpoints": false,
         "line": {
          "width": 1.3
         },
         "marker": {
          "color": "rgba(128, 177, 211, 0.8999999999999999)"
         },
         "name": "K282-2",
         "orientation": "v",
         "type": "box",
         "y": [
          221.466,
          236.133,
          230.666,
          286.999,
          188,
          207.173
         ]
        },
        {
         "boxpoints": false,
         "line": {
          "width": 1.3
         },
         "marker": {
          "color": "rgba(255, 153, 51, 0.8999999999999999)"
         },
         "name": "K282-3",
         "orientation": "v",
         "type": "box",
         "y": [
          197.493,
          127.76,
          183.333,
          139.999,
          180,
          143.333
         ]
        },
        {
         "boxpoints": false,
         "line": {
          "width": 1.3
         },
         "marker": {
          "color": "rgba(55, 128, 191, 0.8999999999999999)"
         },
         "name": "K283-1",
         "orientation": "v",
         "type": "box",
         "y": [
          319.226,
          243.066,
          241,
          261.026,
          315,
          247.493
         ]
        },
        {
         "boxpoints": false,
         "line": {
          "width": 1.3
         },
         "marker": {
          "color": "rgba(50, 171, 96, 0.8999999999999999)"
         },
         "name": "K283-2",
         "orientation": "v",
         "type": "box",
         "y": [
          369.933,
          304.066,
          412,
          264.012,
          414,
          292.666
         ]
        },
        {
         "boxpoints": false,
         "line": {
          "width": 1.3
         },
         "marker": {
          "color": "rgba(128, 0, 128, 0.8999999999999999)"
         },
         "name": "K283-3",
         "orientation": "v",
         "type": "box",
         "y": [
          368.213,
          242.64,
          235.506,
          266.332,
          349,
          260.026
         ]
        },
        {
         "boxpoints": false,
         "line": {
          "width": 1.3
         },
         "marker": {
          "color": "rgba(219, 64, 82, 0.8999999999999999)"
         },
         "name": "K284-1",
         "orientation": "v",
         "type": "box",
         "y": [
          456.68,
          314.866,
          305.333,
          311.386,
          443,
          342.36
         ]
        },
        {
         "boxpoints": false,
         "line": {
          "width": 1.3
         },
         "marker": {
          "color": "rgba(0, 128, 128, 0.8999999999999999)"
         },
         "name": "K284-2",
         "orientation": "v",
         "type": "box",
         "y": [
          322.133,
          328.733,
          215.84,
          340.786,
          253,
          332.506
         ]
        },
        {
         "boxpoints": false,
         "line": {
          "width": 1.3
         },
         "marker": {
          "color": "rgba(255, 255, 51, 0.8999999999999999)"
         },
         "name": "K284-3",
         "orientation": "v",
         "type": "box",
         "y": [
          1019.306,
          1004.866,
          904.826,
          1097.386,
          866.173,
          1130.973
         ]
        },
        {
         "boxpoints": false,
         "line": {
          "width": 1.3
         },
         "marker": {
          "color": "rgba(128, 128, 0, 0.8999999999999999)"
         },
         "name": "K309-1",
         "orientation": "v",
         "type": "box",
         "y": [
          499.2,
          362.706,
          355.666,
          355.546,
          503.826,
          392.506
         ]
        },
        {
         "boxpoints": false,
         "line": {
          "width": 1.3
         },
         "marker": {
          "color": "rgba(251, 128, 114, 0.8999999999999999)"
         },
         "name": "K309-2",
         "orientation": "v",
         "type": "box",
         "y": [
          314.573,
          375.333,
          354.666,
          444.239,
          425,
          419
         ]
        },
        {
         "boxpoints": false,
         "line": {
          "width": 1.3
         },
         "marker": {
          "color": "rgba(251, 128, 114, 0.7999999999999998)"
         },
         "name": "K309-3",
         "orientation": "v",
         "type": "box",
         "y": [
          365.426,
          384.8,
          343.333,
          378.652,
          318,
          420.986
         ]
        },
        {
         "boxpoints": false,
         "line": {
          "width": 1.3
         },
         "marker": {
          "color": "rgba(128, 177, 211, 0.7999999999999998)"
         },
         "name": "K311-1",
         "orientation": "v",
         "type": "box",
         "y": [
          393.306,
          264.533,
          274,
          277.212,
          425,
          281.786
         ]
        },
        {
         "boxpoints": false,
         "line": {
          "width": 1.3
         },
         "marker": {
          "color": "rgba(255, 153, 51, 0.7999999999999998)"
         },
         "name": "K311-2",
         "orientation": "v",
         "type": "box",
         "y": [
          324.253,
          386.106,
          328.506,
          384.212,
          372,
          341.08
         ]
        },
        {
         "boxpoints": false,
         "line": {
          "width": 1.3
         },
         "marker": {
          "color": "rgba(55, 128, 191, 0.7999999999999998)"
         },
         "name": "K311-3",
         "orientation": "v",
         "type": "box",
         "y": [
          360.533,
          380.866,
          378.826,
          369.239,
          379.173,
          403.36
         ]
        },
        {
         "boxpoints": false,
         "line": {
          "width": 1.3
         },
         "marker": {
          "color": "rgba(50, 171, 96, 0.7999999999999998)"
         },
         "name": "K310-1",
         "orientation": "v",
         "type": "box",
         "y": [
          461.24,
          494.826,
          340.333,
          327.666,
          529,
          376.866
         ]
        },
        {
         "boxpoints": false,
         "line": {
          "width": 1.3
         },
         "marker": {
          "color": "rgba(128, 0, 128, 0.7999999999999998)"
         },
         "name": "K310-2",
         "orientation": "v",
         "type": "box",
         "y": [
          485.506,
          642.173,
          532.666,
          658.772,
          619,
          576.466
         ]
        },
        {
         "boxpoints": false,
         "line": {
          "width": 1.3
         },
         "marker": {
          "color": "rgba(219, 64, 82, 0.7999999999999998)"
         },
         "name": "K310-3",
         "orientation": "v",
         "type": "box",
         "y": [
          193.08,
          177.466,
          188.333,
          188.452,
          166,
          200.506
         ]
        },
        {
         "boxpoints": false,
         "line": {
          "width": 1.3
         },
         "marker": {
          "color": "rgba(0, 128, 128, 0.7999999999999998)"
         },
         "name": "K330-1",
         "orientation": "v",
         "type": "box",
         "y": [
          563.733,
          376.4,
          353.666,
          393.532,
          540.826,
          372
         ]
        },
        {
         "boxpoints": false,
         "line": {
          "width": 1.3
         },
         "marker": {
          "color": "rgba(255, 255, 51, 0.7999999999999998)"
         },
         "name": "K330-2",
         "orientation": "v",
         "type": "box",
         "y": [
          421.266,
          487.666,
          334,
          479.986,
          350,
          397.24
         ]
        },
        {
         "boxpoints": false,
         "line": {
          "width": 1.3
         },
         "marker": {
          "color": "rgba(128, 128, 0, 0.7999999999999998)"
         },
         "name": "K330-3",
         "orientation": "v",
         "type": "box",
         "y": [
          464.306,
          343.76,
          303,
          349.466,
          410,
          328.76
         ]
        },
        {
         "boxpoints": false,
         "line": {
          "width": 1.3
         },
         "marker": {
          "color": "rgba(128, 128, 0, 0.7)"
         },
         "name": "K331-1",
         "orientation": "v",
         "type": "box",
         "y": [
          852.8,
          844.573,
          774.506,
          870.746,
          713,
          677
         ]
        },
        {
         "boxpoints": false,
         "line": {
          "width": 1.3
         },
         "marker": {
          "color": "rgba(251, 128, 114, 0.7)"
         },
         "name": "K331-2",
         "orientation": "v",
         "type": "box",
         "y": [
          378.666,
          353.4,
          337.493,
          408.986,
          322,
          434
         ]
        },
        {
         "boxpoints": false,
         "line": {
          "width": 1.3
         },
         "marker": {
          "color": "rgba(128, 177, 211, 0.7)"
         },
         "name": "K331-3",
         "orientation": "v",
         "type": "box",
         "y": [
          204.426,
          199.893,
          229,
          208.399,
          216,
          194.16
         ]
        },
        {
         "boxpoints": false,
         "line": {
          "width": 1.3
         },
         "marker": {
          "color": "rgba(255, 153, 51, 0.7)"
         },
         "name": "K332-1",
         "orientation": "v",
         "type": "box",
         "y": [
          548.253,
          427.4,
          385.333,
          455.212,
          550,
          419.013
         ]
        },
        {
         "boxpoints": false,
         "line": {
          "width": 1.3
         },
         "marker": {
          "color": "rgba(55, 128, 191, 0.7)"
         },
         "name": "K332-2",
         "orientation": "v",
         "type": "box",
         "y": [
          236.653,
          274.906,
          260.333,
          359.746,
          292,
          288.306
         ]
        },
        {
         "boxpoints": false,
         "line": {
          "width": 1.3
         },
         "marker": {
          "color": "rgba(50, 171, 96, 0.7)"
         },
         "name": "K332-3",
         "orientation": "v",
         "type": "box",
         "y": [
          601.76,
          422.533,
          403.666,
          435.559,
          615.173,
          430.293
         ]
        },
        {
         "boxpoints": false,
         "line": {
          "width": 1.3
         },
         "marker": {
          "color": "rgba(128, 0, 128, 0.7)"
         },
         "name": "K333-1",
         "orientation": "v",
         "type": "box",
         "y": [
          608.4,
          437.573,
          421.666,
          445.972,
          607.466,
          461.453
         ]
        },
        {
         "boxpoints": false,
         "line": {
          "width": 1.3
         },
         "marker": {
          "color": "rgba(219, 64, 82, 0.7)"
         },
         "name": "K333-2",
         "orientation": "v",
         "type": "box",
         "y": [
          618.893,
          545.96,
          425,
          576.039,
          555,
          524.28
         ]
        },
        {
         "boxpoints": false,
         "line": {
          "width": 1.3
         },
         "marker": {
          "color": "rgba(0, 128, 128, 0.7)"
         },
         "name": "K333-3",
         "orientation": "v",
         "type": "box",
         "y": [
          366.213,
          382.106,
          378,
          396.692,
          319,
          413
         ]
        },
        {
         "boxpoints": false,
         "line": {
          "width": 1.3
         },
         "marker": {
          "color": "rgba(255, 255, 51, 0.7)"
         },
         "name": "K457-1",
         "orientation": "v",
         "type": "box",
         "y": [
          557.906,
          494.693,
          387.506,
          380.186,
          478.4,
          374.72
         ]
        },
        {
         "boxpoints": false,
         "line": {
          "width": 1.3
         },
         "marker": {
          "color": "rgba(255, 255, 51, 0.5999999999999999)"
         },
         "name": "K457-2",
         "orientation": "v",
         "type": "box",
         "y": [
          367.706,
          470.866,
          452.826,
          510.932,
          406.173,
          475.506
         ]
        },
        {
         "boxpoints": false,
         "line": {
          "width": 1.3
         },
         "marker": {
          "color": "rgba(128, 128, 0, 0.5999999999999999)"
         },
         "name": "K457-3",
         "orientation": "v",
         "type": "box",
         "y": [
          322.413,
          301.04,
          299.666,
          280.279,
          266.933,
          285.52
         ]
        },
        {
         "boxpoints": false,
         "line": {
          "width": 1.3
         },
         "marker": {
          "color": "rgba(251, 128, 114, 0.5999999999999999)"
         },
         "name": "K533-1",
         "orientation": "v",
         "type": "box",
         "y": [
          625.506,
          452.066,
          472.173,
          484.466,
          600.826,
          475.866
         ]
        },
        {
         "boxpoints": false,
         "line": {
          "width": 1.3
         },
         "marker": {
          "color": "rgba(128, 177, 211, 0.5999999999999999)"
         },
         "name": "K533-2",
         "orientation": "v",
         "type": "box",
         "y": [
          734.8,
          796.026,
          491,
          560.879,
          613,
          610.666
         ]
        },
        {
         "boxpoints": false,
         "line": {
          "width": 1.3
         },
         "marker": {
          "color": "rgba(255, 153, 51, 0.5999999999999999)"
         },
         "name": "K533-3",
         "orientation": "v",
         "type": "box",
         "y": [
          382.453,
          380.506,
          343.16,
          363.946,
          307,
          396.253
         ]
        },
        {
         "boxpoints": false,
         "line": {
          "width": 1.3
         },
         "marker": {
          "color": "rgba(55, 128, 191, 0.5999999999999999)"
         },
         "name": "K545-1",
         "orientation": "v",
         "type": "box",
         "y": [
          252.533,
          186.373,
          181.506,
          179.586,
          256,
          197.066
         ]
        },
        {
         "boxpoints": false,
         "line": {
          "width": 1.3
         },
         "marker": {
          "color": "rgba(50, 171, 96, 0.5999999999999999)"
         },
         "name": "K545-2",
         "orientation": "v",
         "type": "box",
         "y": [
          369.96,
          359.226,
          283.666,
          359.879,
          342,
          367.013
         ]
        },
        {
         "boxpoints": false,
         "line": {
          "width": 1.3
         },
         "marker": {
          "color": "rgba(128, 0, 128, 0.5999999999999999)"
         },
         "name": "K545-3",
         "orientation": "v",
         "type": "box",
         "y": [
          90.32,
          101.4,
          107.826,
          108.772,
          110,
          103.973
         ]
        },
        {
         "boxpoints": false,
         "line": {
          "width": 1.3
         },
         "marker": {
          "color": "rgba(219, 64, 82, 0.5999999999999999)"
         },
         "name": "K570-1",
         "orientation": "v",
         "type": "box",
         "y": [
          476.12,
          391.533,
          349.333,
          336.066,
          466,
          410.013
         ]
        },
        {
         "boxpoints": false,
         "line": {
          "width": 1.3
         },
         "marker": {
          "color": "rgba(0, 128, 128, 0.5999999999999999)"
         },
         "name": "K570-2",
         "orientation": "v",
         "type": "box",
         "y": [
          423.826,
          598.96,
          448.666,
          573.479,
          486,
          520.44
         ]
        },
        {
         "boxpoints": false,
         "line": {
          "width": 1.3
         },
         "marker": {
          "color": "rgba(0, 128, 128, 0.49999999999999983)"
         },
         "name": "K570-3",
         "orientation": "v",
         "type": "box",
         "y": [
          213.146,
          232.6,
          224.666,
          226.932,
          201,
          233.24
         ]
        },
        {
         "boxpoints": false,
         "line": {
          "width": 1.3
         },
         "marker": {
          "color": "rgba(255, 255, 51, 0.49999999999999983)"
         },
         "name": "K576-1",
         "orientation": "v",
         "type": "box",
         "y": [
          301.28,
          288.333,
          305,
          297.786,
          304,
          325.32
         ]
        },
        {
         "boxpoints": false,
         "line": {
          "width": 1.3
         },
         "marker": {
          "color": "rgba(128, 128, 0, 0.49999999999999983)"
         },
         "name": "K576-2",
         "orientation": "v",
         "type": "box",
         "y": [
          291.12,
          354.133,
          318,
          367.186,
          292,
          331.933
         ]
        },
        {
         "boxpoints": false,
         "line": {
          "width": 1.3
         },
         "marker": {
          "color": "rgba(251, 128, 114, 0.49999999999999983)"
         },
         "name": "K576-3",
         "orientation": "v",
         "type": "box",
         "y": [
          271.266,
          267.706,
          243.333,
          261.346,
          244.173,
          269.626
         ]
        }
       ],
       "layout": {
        "legend": {
         "bgcolor": "#FFFFFF",
         "font": {
          "color": "#4D5663"
         }
        },
        "paper_bgcolor": "#FFFFFF",
        "plot_bgcolor": "#FFFFFF",
        "template": {
         "data": {
          "bar": [
           {
            "error_x": {
             "color": "#2a3f5f"
            },
            "error_y": {
             "color": "#2a3f5f"
            },
            "marker": {
             "line": {
              "color": "#E5ECF6",
              "width": 0.5
             }
            },
            "type": "bar"
           }
          ],
          "barpolar": [
           {
            "marker": {
             "line": {
              "color": "#E5ECF6",
              "width": 0.5
             }
            },
            "type": "barpolar"
           }
          ],
          "carpet": [
           {
            "aaxis": {
             "endlinecolor": "#2a3f5f",
             "gridcolor": "white",
             "linecolor": "white",
             "minorgridcolor": "white",
             "startlinecolor": "#2a3f5f"
            },
            "baxis": {
             "endlinecolor": "#2a3f5f",
             "gridcolor": "white",
             "linecolor": "white",
             "minorgridcolor": "white",
             "startlinecolor": "#2a3f5f"
            },
            "type": "carpet"
           }
          ],
          "choropleth": [
           {
            "colorbar": {
             "outlinewidth": 0,
             "ticks": ""
            },
            "type": "choropleth"
           }
          ],
          "contour": [
           {
            "colorbar": {
             "outlinewidth": 0,
             "ticks": ""
            },
            "colorscale": [
             [
              0,
              "#0d0887"
             ],
             [
              0.1111111111111111,
              "#46039f"
             ],
             [
              0.2222222222222222,
              "#7201a8"
             ],
             [
              0.3333333333333333,
              "#9c179e"
             ],
             [
              0.4444444444444444,
              "#bd3786"
             ],
             [
              0.5555555555555556,
              "#d8576b"
             ],
             [
              0.6666666666666666,
              "#ed7953"
             ],
             [
              0.7777777777777778,
              "#fb9f3a"
             ],
             [
              0.8888888888888888,
              "#fdca26"
             ],
             [
              1,
              "#f0f921"
             ]
            ],
            "type": "contour"
           }
          ],
          "contourcarpet": [
           {
            "colorbar": {
             "outlinewidth": 0,
             "ticks": ""
            },
            "type": "contourcarpet"
           }
          ],
          "heatmap": [
           {
            "colorbar": {
             "outlinewidth": 0,
             "ticks": ""
            },
            "colorscale": [
             [
              0,
              "#0d0887"
             ],
             [
              0.1111111111111111,
              "#46039f"
             ],
             [
              0.2222222222222222,
              "#7201a8"
             ],
             [
              0.3333333333333333,
              "#9c179e"
             ],
             [
              0.4444444444444444,
              "#bd3786"
             ],
             [
              0.5555555555555556,
              "#d8576b"
             ],
             [
              0.6666666666666666,
              "#ed7953"
             ],
             [
              0.7777777777777778,
              "#fb9f3a"
             ],
             [
              0.8888888888888888,
              "#fdca26"
             ],
             [
              1,
              "#f0f921"
             ]
            ],
            "type": "heatmap"
           }
          ],
          "heatmapgl": [
           {
            "colorbar": {
             "outlinewidth": 0,
             "ticks": ""
            },
            "colorscale": [
             [
              0,
              "#0d0887"
             ],
             [
              0.1111111111111111,
              "#46039f"
             ],
             [
              0.2222222222222222,
              "#7201a8"
             ],
             [
              0.3333333333333333,
              "#9c179e"
             ],
             [
              0.4444444444444444,
              "#bd3786"
             ],
             [
              0.5555555555555556,
              "#d8576b"
             ],
             [
              0.6666666666666666,
              "#ed7953"
             ],
             [
              0.7777777777777778,
              "#fb9f3a"
             ],
             [
              0.8888888888888888,
              "#fdca26"
             ],
             [
              1,
              "#f0f921"
             ]
            ],
            "type": "heatmapgl"
           }
          ],
          "histogram": [
           {
            "marker": {
             "colorbar": {
              "outlinewidth": 0,
              "ticks": ""
             }
            },
            "type": "histogram"
           }
          ],
          "histogram2d": [
           {
            "colorbar": {
             "outlinewidth": 0,
             "ticks": ""
            },
            "colorscale": [
             [
              0,
              "#0d0887"
             ],
             [
              0.1111111111111111,
              "#46039f"
             ],
             [
              0.2222222222222222,
              "#7201a8"
             ],
             [
              0.3333333333333333,
              "#9c179e"
             ],
             [
              0.4444444444444444,
              "#bd3786"
             ],
             [
              0.5555555555555556,
              "#d8576b"
             ],
             [
              0.6666666666666666,
              "#ed7953"
             ],
             [
              0.7777777777777778,
              "#fb9f3a"
             ],
             [
              0.8888888888888888,
              "#fdca26"
             ],
             [
              1,
              "#f0f921"
             ]
            ],
            "type": "histogram2d"
           }
          ],
          "histogram2dcontour": [
           {
            "colorbar": {
             "outlinewidth": 0,
             "ticks": ""
            },
            "colorscale": [
             [
              0,
              "#0d0887"
             ],
             [
              0.1111111111111111,
              "#46039f"
             ],
             [
              0.2222222222222222,
              "#7201a8"
             ],
             [
              0.3333333333333333,
              "#9c179e"
             ],
             [
              0.4444444444444444,
              "#bd3786"
             ],
             [
              0.5555555555555556,
              "#d8576b"
             ],
             [
              0.6666666666666666,
              "#ed7953"
             ],
             [
              0.7777777777777778,
              "#fb9f3a"
             ],
             [
              0.8888888888888888,
              "#fdca26"
             ],
             [
              1,
              "#f0f921"
             ]
            ],
            "type": "histogram2dcontour"
           }
          ],
          "mesh3d": [
           {
            "colorbar": {
             "outlinewidth": 0,
             "ticks": ""
            },
            "type": "mesh3d"
           }
          ],
          "parcoords": [
           {
            "line": {
             "colorbar": {
              "outlinewidth": 0,
              "ticks": ""
             }
            },
            "type": "parcoords"
           }
          ],
          "pie": [
           {
            "automargin": true,
            "type": "pie"
           }
          ],
          "scatter": [
           {
            "marker": {
             "colorbar": {
              "outlinewidth": 0,
              "ticks": ""
             }
            },
            "type": "scatter"
           }
          ],
          "scatter3d": [
           {
            "line": {
             "colorbar": {
              "outlinewidth": 0,
              "ticks": ""
             }
            },
            "marker": {
             "colorbar": {
              "outlinewidth": 0,
              "ticks": ""
             }
            },
            "type": "scatter3d"
           }
          ],
          "scattercarpet": [
           {
            "marker": {
             "colorbar": {
              "outlinewidth": 0,
              "ticks": ""
             }
            },
            "type": "scattercarpet"
           }
          ],
          "scattergeo": [
           {
            "marker": {
             "colorbar": {
              "outlinewidth": 0,
              "ticks": ""
             }
            },
            "type": "scattergeo"
           }
          ],
          "scattergl": [
           {
            "marker": {
             "colorbar": {
              "outlinewidth": 0,
              "ticks": ""
             }
            },
            "type": "scattergl"
           }
          ],
          "scattermapbox": [
           {
            "marker": {
             "colorbar": {
              "outlinewidth": 0,
              "ticks": ""
             }
            },
            "type": "scattermapbox"
           }
          ],
          "scatterpolar": [
           {
            "marker": {
             "colorbar": {
              "outlinewidth": 0,
              "ticks": ""
             }
            },
            "type": "scatterpolar"
           }
          ],
          "scatterpolargl": [
           {
            "marker": {
             "colorbar": {
              "outlinewidth": 0,
              "ticks": ""
             }
            },
            "type": "scatterpolargl"
           }
          ],
          "scatterternary": [
           {
            "marker": {
             "colorbar": {
              "outlinewidth": 0,
              "ticks": ""
             }
            },
            "type": "scatterternary"
           }
          ],
          "surface": [
           {
            "colorbar": {
             "outlinewidth": 0,
             "ticks": ""
            },
            "colorscale": [
             [
              0,
              "#0d0887"
             ],
             [
              0.1111111111111111,
              "#46039f"
             ],
             [
              0.2222222222222222,
              "#7201a8"
             ],
             [
              0.3333333333333333,
              "#9c179e"
             ],
             [
              0.4444444444444444,
              "#bd3786"
             ],
             [
              0.5555555555555556,
              "#d8576b"
             ],
             [
              0.6666666666666666,
              "#ed7953"
             ],
             [
              0.7777777777777778,
              "#fb9f3a"
             ],
             [
              0.8888888888888888,
              "#fdca26"
             ],
             [
              1,
              "#f0f921"
             ]
            ],
            "type": "surface"
           }
          ],
          "table": [
           {
            "cells": {
             "fill": {
              "color": "#EBF0F8"
             },
             "line": {
              "color": "white"
             }
            },
            "header": {
             "fill": {
              "color": "#C8D4E3"
             },
             "line": {
              "color": "white"
             }
            },
            "type": "table"
           }
          ]
         },
         "layout": {
          "annotationdefaults": {
           "arrowcolor": "#2a3f5f",
           "arrowhead": 0,
           "arrowwidth": 1
          },
          "coloraxis": {
           "colorbar": {
            "outlinewidth": 0,
            "ticks": ""
           }
          },
          "colorscale": {
           "diverging": [
            [
             0,
             "#8e0152"
            ],
            [
             0.1,
             "#c51b7d"
            ],
            [
             0.2,
             "#de77ae"
            ],
            [
             0.3,
             "#f1b6da"
            ],
            [
             0.4,
             "#fde0ef"
            ],
            [
             0.5,
             "#f7f7f7"
            ],
            [
             0.6,
             "#e6f5d0"
            ],
            [
             0.7,
             "#b8e186"
            ],
            [
             0.8,
             "#7fbc41"
            ],
            [
             0.9,
             "#4d9221"
            ],
            [
             1,
             "#276419"
            ]
           ],
           "sequential": [
            [
             0,
             "#0d0887"
            ],
            [
             0.1111111111111111,
             "#46039f"
            ],
            [
             0.2222222222222222,
             "#7201a8"
            ],
            [
             0.3333333333333333,
             "#9c179e"
            ],
            [
             0.4444444444444444,
             "#bd3786"
            ],
            [
             0.5555555555555556,
             "#d8576b"
            ],
            [
             0.6666666666666666,
             "#ed7953"
            ],
            [
             0.7777777777777778,
             "#fb9f3a"
            ],
            [
             0.8888888888888888,
             "#fdca26"
            ],
            [
             1,
             "#f0f921"
            ]
           ],
           "sequentialminus": [
            [
             0,
             "#0d0887"
            ],
            [
             0.1111111111111111,
             "#46039f"
            ],
            [
             0.2222222222222222,
             "#7201a8"
            ],
            [
             0.3333333333333333,
             "#9c179e"
            ],
            [
             0.4444444444444444,
             "#bd3786"
            ],
            [
             0.5555555555555556,
             "#d8576b"
            ],
            [
             0.6666666666666666,
             "#ed7953"
            ],
            [
             0.7777777777777778,
             "#fb9f3a"
            ],
            [
             0.8888888888888888,
             "#fdca26"
            ],
            [
             1,
             "#f0f921"
            ]
           ]
          },
          "colorway": [
           "#636efa",
           "#EF553B",
           "#00cc96",
           "#ab63fa",
           "#FFA15A",
           "#19d3f3",
           "#FF6692",
           "#B6E880",
           "#FF97FF",
           "#FECB52"
          ],
          "font": {
           "color": "#2a3f5f"
          },
          "geo": {
           "bgcolor": "white",
           "lakecolor": "white",
           "landcolor": "#E5ECF6",
           "showlakes": true,
           "showland": true,
           "subunitcolor": "white"
          },
          "hoverlabel": {
           "align": "left"
          },
          "hovermode": "closest",
          "mapbox": {
           "style": "light"
          },
          "paper_bgcolor": "white",
          "plot_bgcolor": "#E5ECF6",
          "polar": {
           "angularaxis": {
            "gridcolor": "white",
            "linecolor": "white",
            "ticks": ""
           },
           "bgcolor": "#E5ECF6",
           "radialaxis": {
            "gridcolor": "white",
            "linecolor": "white",
            "ticks": ""
           }
          },
          "scene": {
           "xaxis": {
            "backgroundcolor": "#E5ECF6",
            "gridcolor": "white",
            "gridwidth": 2,
            "linecolor": "white",
            "showbackground": true,
            "ticks": "",
            "zerolinecolor": "white"
           },
           "yaxis": {
            "backgroundcolor": "#E5ECF6",
            "gridcolor": "white",
            "gridwidth": 2,
            "linecolor": "white",
            "showbackground": true,
            "ticks": "",
            "zerolinecolor": "white"
           },
           "zaxis": {
            "backgroundcolor": "#E5ECF6",
            "gridcolor": "white",
            "gridwidth": 2,
            "linecolor": "white",
            "showbackground": true,
            "ticks": "",
            "zerolinecolor": "white"
           }
          },
          "shapedefaults": {
           "line": {
            "color": "#2a3f5f"
           }
          },
          "ternary": {
           "aaxis": {
            "gridcolor": "white",
            "linecolor": "white",
            "ticks": ""
           },
           "baxis": {
            "gridcolor": "white",
            "linecolor": "white",
            "ticks": ""
           },
           "bgcolor": "#E5ECF6",
           "caxis": {
            "gridcolor": "white",
            "linecolor": "white",
            "ticks": ""
           }
          },
          "title": {
           "x": 0.05
          },
          "xaxis": {
           "automargin": true,
           "gridcolor": "white",
           "linecolor": "white",
           "ticks": "",
           "title": {
            "standoff": 15
           },
           "zerolinecolor": "white",
           "zerolinewidth": 2
          },
          "yaxis": {
           "automargin": true,
           "gridcolor": "white",
           "linecolor": "white",
           "ticks": "",
           "title": {
            "standoff": 15
           },
           "zerolinecolor": "white",
           "zerolinewidth": 2
          }
         }
        },
        "title": {
         "font": {
          "color": "#4D5663"
         }
        },
        "xaxis": {
         "gridcolor": "#E1E5ED",
         "showgrid": true,
         "tickfont": {
          "color": "#4D5663"
         },
         "title": {
          "font": {
           "color": "#4D5663"
          },
          "text": ""
         },
         "zerolinecolor": "#E1E5ED"
        },
        "yaxis": {
         "gridcolor": "#E1E5ED",
         "showgrid": true,
         "tickfont": {
          "color": "#4D5663"
         },
         "title": {
          "font": {
           "color": "#4D5663"
          },
          "text": ""
         },
         "zerolinecolor": "#E1E5ED"
        }
       }
      },
      "text/html": [
       "<div>                            <div id=\"52fa7d59-71c0-4121-b6c4-1fce8f61cfd5\" class=\"plotly-graph-div\" style=\"height:525px; width:100%;\"></div>            <script type=\"text/javascript\">                require([\"plotly\"], function(Plotly) {                    window.PLOTLYENV=window.PLOTLYENV || {};\n",
       "                    window.PLOTLYENV.BASE_URL='https://plot.ly';                                    if (document.getElementById(\"52fa7d59-71c0-4121-b6c4-1fce8f61cfd5\")) {                    Plotly.newPlot(                        \"52fa7d59-71c0-4121-b6c4-1fce8f61cfd5\",                        [{\"boxpoints\": false, \"line\": {\"width\": 1.3}, \"marker\": {\"color\": \"rgba(255, 153, 51, 1.0)\"}, \"name\": \"K279-1\", \"orientation\": \"v\", \"type\": \"box\", \"y\": [395.84, 264.773, 301.506, 295.012, 410.826, 328.84]}, {\"boxpoints\": false, \"line\": {\"width\": 1.3}, \"marker\": {\"color\": \"rgba(55, 128, 191, 1.0)\"}, \"name\": \"K279-2\", \"orientation\": \"v\", \"type\": \"box\", \"y\": [453.053, 387.226, 301.826, 415.252, 521.0, 338.0]}, {\"boxpoints\": false, \"line\": {\"width\": 1.3}, \"marker\": {\"color\": \"rgba(50, 171, 96, 1.0)\"}, \"name\": \"K279-3\", \"orientation\": \"v\", \"type\": \"box\", \"y\": [286.4, 196.24, 262.333, 204.759, 273.0, 201.0]}, {\"boxpoints\": false, \"line\": {\"width\": 1.3}, \"marker\": {\"color\": \"rgba(128, 0, 128, 1.0)\"}, \"name\": \"K280-1\", \"orientation\": \"v\", \"type\": \"box\", \"y\": [383.373, 264.4, 273.173, 283.026, 381.0, 291.0]}, {\"boxpoints\": false, \"line\": {\"width\": 1.3}, \"marker\": {\"color\": \"rgba(219, 64, 82, 1.0)\"}, \"name\": \"K280-2\", \"orientation\": \"v\", \"type\": \"box\", \"y\": [455.76, 416.866, 301.0, 402.026, 513.666, 324.173]}, {\"boxpoints\": false, \"line\": {\"width\": 1.3}, \"marker\": {\"color\": \"rgba(0, 128, 128, 1.0)\"}, \"name\": \"K280-3\", \"orientation\": \"v\", \"type\": \"box\", \"y\": [263.813, 180.8, 178.826, 192.999, 247.333, 184.826]}, {\"boxpoints\": false, \"line\": {\"width\": 1.3}, \"marker\": {\"color\": \"rgba(255, 255, 51, 1.0)\"}, \"name\": \"K281-1\", \"orientation\": \"v\", \"type\": \"box\", \"y\": [392.12, 261.066, 262.84, 278.012, 379.0, 277.84]}, {\"boxpoints\": false, \"line\": {\"width\": 1.3}, \"marker\": {\"color\": \"rgba(128, 128, 0, 1.0)\"}, \"name\": \"K281-2\", \"orientation\": \"v\", \"type\": \"box\", \"y\": [343.493, 385.093, 301.16, 345.239, 430.0, 312.826]}, {\"boxpoints\": false, \"line\": {\"width\": 1.3}, \"marker\": {\"color\": \"rgba(251, 128, 114, 1.0)\"}, \"name\": \"K281-3\", \"orientation\": \"v\", \"type\": \"box\", \"y\": [282.786, 257.399, 249.333, 270.772, 208.173, 289.84]}, {\"boxpoints\": false, \"line\": {\"width\": 1.3}, \"marker\": {\"color\": \"rgba(128, 177, 211, 1.0)\"}, \"name\": \"K282-1\", \"orientation\": \"v\", \"type\": \"box\", \"y\": [388.96, 483.693, 287.666, 369.039, 390.826, 360.826]}, {\"boxpoints\": false, \"line\": {\"width\": 1.3}, \"marker\": {\"color\": \"rgba(128, 177, 211, 0.8999999999999999)\"}, \"name\": \"K282-2\", \"orientation\": \"v\", \"type\": \"box\", \"y\": [221.466, 236.133, 230.666, 286.999, 188.0, 207.173]}, {\"boxpoints\": false, \"line\": {\"width\": 1.3}, \"marker\": {\"color\": \"rgba(255, 153, 51, 0.8999999999999999)\"}, \"name\": \"K282-3\", \"orientation\": \"v\", \"type\": \"box\", \"y\": [197.493, 127.76, 183.333, 139.999, 180.0, 143.333]}, {\"boxpoints\": false, \"line\": {\"width\": 1.3}, \"marker\": {\"color\": \"rgba(55, 128, 191, 0.8999999999999999)\"}, \"name\": \"K283-1\", \"orientation\": \"v\", \"type\": \"box\", \"y\": [319.226, 243.066, 241.0, 261.026, 315.0, 247.493]}, {\"boxpoints\": false, \"line\": {\"width\": 1.3}, \"marker\": {\"color\": \"rgba(50, 171, 96, 0.8999999999999999)\"}, \"name\": \"K283-2\", \"orientation\": \"v\", \"type\": \"box\", \"y\": [369.933, 304.066, 412.0, 264.012, 414.0, 292.666]}, {\"boxpoints\": false, \"line\": {\"width\": 1.3}, \"marker\": {\"color\": \"rgba(128, 0, 128, 0.8999999999999999)\"}, \"name\": \"K283-3\", \"orientation\": \"v\", \"type\": \"box\", \"y\": [368.213, 242.64, 235.506, 266.332, 349.0, 260.026]}, {\"boxpoints\": false, \"line\": {\"width\": 1.3}, \"marker\": {\"color\": \"rgba(219, 64, 82, 0.8999999999999999)\"}, \"name\": \"K284-1\", \"orientation\": \"v\", \"type\": \"box\", \"y\": [456.68, 314.866, 305.333, 311.386, 443.0, 342.36]}, {\"boxpoints\": false, \"line\": {\"width\": 1.3}, \"marker\": {\"color\": \"rgba(0, 128, 128, 0.8999999999999999)\"}, \"name\": \"K284-2\", \"orientation\": \"v\", \"type\": \"box\", \"y\": [322.133, 328.733, 215.84, 340.786, 253.0, 332.506]}, {\"boxpoints\": false, \"line\": {\"width\": 1.3}, \"marker\": {\"color\": \"rgba(255, 255, 51, 0.8999999999999999)\"}, \"name\": \"K284-3\", \"orientation\": \"v\", \"type\": \"box\", \"y\": [1019.306, 1004.866, 904.826, 1097.386, 866.173, 1130.973]}, {\"boxpoints\": false, \"line\": {\"width\": 1.3}, \"marker\": {\"color\": \"rgba(128, 128, 0, 0.8999999999999999)\"}, \"name\": \"K309-1\", \"orientation\": \"v\", \"type\": \"box\", \"y\": [499.2, 362.706, 355.666, 355.546, 503.826, 392.506]}, {\"boxpoints\": false, \"line\": {\"width\": 1.3}, \"marker\": {\"color\": \"rgba(251, 128, 114, 0.8999999999999999)\"}, \"name\": \"K309-2\", \"orientation\": \"v\", \"type\": \"box\", \"y\": [314.573, 375.333, 354.666, 444.239, 425.0, 419.0]}, {\"boxpoints\": false, \"line\": {\"width\": 1.3}, \"marker\": {\"color\": \"rgba(251, 128, 114, 0.7999999999999998)\"}, \"name\": \"K309-3\", \"orientation\": \"v\", \"type\": \"box\", \"y\": [365.426, 384.8, 343.333, 378.652, 318.0, 420.986]}, {\"boxpoints\": false, \"line\": {\"width\": 1.3}, \"marker\": {\"color\": \"rgba(128, 177, 211, 0.7999999999999998)\"}, \"name\": \"K311-1\", \"orientation\": \"v\", \"type\": \"box\", \"y\": [393.306, 264.533, 274.0, 277.212, 425.0, 281.786]}, {\"boxpoints\": false, \"line\": {\"width\": 1.3}, \"marker\": {\"color\": \"rgba(255, 153, 51, 0.7999999999999998)\"}, \"name\": \"K311-2\", \"orientation\": \"v\", \"type\": \"box\", \"y\": [324.253, 386.106, 328.506, 384.212, 372.0, 341.08]}, {\"boxpoints\": false, \"line\": {\"width\": 1.3}, \"marker\": {\"color\": \"rgba(55, 128, 191, 0.7999999999999998)\"}, \"name\": \"K311-3\", \"orientation\": \"v\", \"type\": \"box\", \"y\": [360.533, 380.866, 378.826, 369.239, 379.173, 403.36]}, {\"boxpoints\": false, \"line\": {\"width\": 1.3}, \"marker\": {\"color\": \"rgba(50, 171, 96, 0.7999999999999998)\"}, \"name\": \"K310-1\", \"orientation\": \"v\", \"type\": \"box\", \"y\": [461.24, 494.826, 340.333, 327.666, 529.0, 376.866]}, {\"boxpoints\": false, \"line\": {\"width\": 1.3}, \"marker\": {\"color\": \"rgba(128, 0, 128, 0.7999999999999998)\"}, \"name\": \"K310-2\", \"orientation\": \"v\", \"type\": \"box\", \"y\": [485.506, 642.173, 532.666, 658.772, 619.0, 576.466]}, {\"boxpoints\": false, \"line\": {\"width\": 1.3}, \"marker\": {\"color\": \"rgba(219, 64, 82, 0.7999999999999998)\"}, \"name\": \"K310-3\", \"orientation\": \"v\", \"type\": \"box\", \"y\": [193.08, 177.466, 188.333, 188.452, 166.0, 200.506]}, {\"boxpoints\": false, \"line\": {\"width\": 1.3}, \"marker\": {\"color\": \"rgba(0, 128, 128, 0.7999999999999998)\"}, \"name\": \"K330-1\", \"orientation\": \"v\", \"type\": \"box\", \"y\": [563.733, 376.4, 353.666, 393.532, 540.826, 372.0]}, {\"boxpoints\": false, \"line\": {\"width\": 1.3}, \"marker\": {\"color\": \"rgba(255, 255, 51, 0.7999999999999998)\"}, \"name\": \"K330-2\", \"orientation\": \"v\", \"type\": \"box\", \"y\": [421.266, 487.666, 334.0, 479.986, 350.0, 397.24]}, {\"boxpoints\": false, \"line\": {\"width\": 1.3}, \"marker\": {\"color\": \"rgba(128, 128, 0, 0.7999999999999998)\"}, \"name\": \"K330-3\", \"orientation\": \"v\", \"type\": \"box\", \"y\": [464.306, 343.76, 303.0, 349.466, 410.0, 328.76]}, {\"boxpoints\": false, \"line\": {\"width\": 1.3}, \"marker\": {\"color\": \"rgba(128, 128, 0, 0.7)\"}, \"name\": \"K331-1\", \"orientation\": \"v\", \"type\": \"box\", \"y\": [852.8, 844.573, 774.506, 870.746, 713.0, 677.0]}, {\"boxpoints\": false, \"line\": {\"width\": 1.3}, \"marker\": {\"color\": \"rgba(251, 128, 114, 0.7)\"}, \"name\": \"K331-2\", \"orientation\": \"v\", \"type\": \"box\", \"y\": [378.666, 353.4, 337.493, 408.986, 322.0, 434.0]}, {\"boxpoints\": false, \"line\": {\"width\": 1.3}, \"marker\": {\"color\": \"rgba(128, 177, 211, 0.7)\"}, \"name\": \"K331-3\", \"orientation\": \"v\", \"type\": \"box\", \"y\": [204.426, 199.893, 229.0, 208.399, 216.0, 194.16]}, {\"boxpoints\": false, \"line\": {\"width\": 1.3}, \"marker\": {\"color\": \"rgba(255, 153, 51, 0.7)\"}, \"name\": \"K332-1\", \"orientation\": \"v\", \"type\": \"box\", \"y\": [548.253, 427.4, 385.333, 455.212, 550.0, 419.013]}, {\"boxpoints\": false, \"line\": {\"width\": 1.3}, \"marker\": {\"color\": \"rgba(55, 128, 191, 0.7)\"}, \"name\": \"K332-2\", \"orientation\": \"v\", \"type\": \"box\", \"y\": [236.653, 274.906, 260.333, 359.746, 292.0, 288.306]}, {\"boxpoints\": false, \"line\": {\"width\": 1.3}, \"marker\": {\"color\": \"rgba(50, 171, 96, 0.7)\"}, \"name\": \"K332-3\", \"orientation\": \"v\", \"type\": \"box\", \"y\": [601.76, 422.533, 403.666, 435.559, 615.173, 430.293]}, {\"boxpoints\": false, \"line\": {\"width\": 1.3}, \"marker\": {\"color\": \"rgba(128, 0, 128, 0.7)\"}, \"name\": \"K333-1\", \"orientation\": \"v\", \"type\": \"box\", \"y\": [608.4, 437.573, 421.666, 445.972, 607.466, 461.453]}, {\"boxpoints\": false, \"line\": {\"width\": 1.3}, \"marker\": {\"color\": \"rgba(219, 64, 82, 0.7)\"}, \"name\": \"K333-2\", \"orientation\": \"v\", \"type\": \"box\", \"y\": [618.893, 545.96, 425.0, 576.039, 555.0, 524.28]}, {\"boxpoints\": false, \"line\": {\"width\": 1.3}, \"marker\": {\"color\": \"rgba(0, 128, 128, 0.7)\"}, \"name\": \"K333-3\", \"orientation\": \"v\", \"type\": \"box\", \"y\": [366.213, 382.106, 378.0, 396.692, 319.0, 413.0]}, {\"boxpoints\": false, \"line\": {\"width\": 1.3}, \"marker\": {\"color\": \"rgba(255, 255, 51, 0.7)\"}, \"name\": \"K457-1\", \"orientation\": \"v\", \"type\": \"box\", \"y\": [557.906, 494.693, 387.506, 380.186, 478.4, 374.72]}, {\"boxpoints\": false, \"line\": {\"width\": 1.3}, \"marker\": {\"color\": \"rgba(255, 255, 51, 0.5999999999999999)\"}, \"name\": \"K457-2\", \"orientation\": \"v\", \"type\": \"box\", \"y\": [367.706, 470.866, 452.826, 510.932, 406.173, 475.506]}, {\"boxpoints\": false, \"line\": {\"width\": 1.3}, \"marker\": {\"color\": \"rgba(128, 128, 0, 0.5999999999999999)\"}, \"name\": \"K457-3\", \"orientation\": \"v\", \"type\": \"box\", \"y\": [322.413, 301.04, 299.666, 280.279, 266.933, 285.52]}, {\"boxpoints\": false, \"line\": {\"width\": 1.3}, \"marker\": {\"color\": \"rgba(251, 128, 114, 0.5999999999999999)\"}, \"name\": \"K533-1\", \"orientation\": \"v\", \"type\": \"box\", \"y\": [625.506, 452.066, 472.173, 484.466, 600.826, 475.866]}, {\"boxpoints\": false, \"line\": {\"width\": 1.3}, \"marker\": {\"color\": \"rgba(128, 177, 211, 0.5999999999999999)\"}, \"name\": \"K533-2\", \"orientation\": \"v\", \"type\": \"box\", \"y\": [734.8, 796.026, 491.0, 560.879, 613.0, 610.666]}, {\"boxpoints\": false, \"line\": {\"width\": 1.3}, \"marker\": {\"color\": \"rgba(255, 153, 51, 0.5999999999999999)\"}, \"name\": \"K533-3\", \"orientation\": \"v\", \"type\": \"box\", \"y\": [382.453, 380.506, 343.16, 363.946, 307.0, 396.253]}, {\"boxpoints\": false, \"line\": {\"width\": 1.3}, \"marker\": {\"color\": \"rgba(55, 128, 191, 0.5999999999999999)\"}, \"name\": \"K545-1\", \"orientation\": \"v\", \"type\": \"box\", \"y\": [252.533, 186.373, 181.506, 179.586, 256.0, 197.066]}, {\"boxpoints\": false, \"line\": {\"width\": 1.3}, \"marker\": {\"color\": \"rgba(50, 171, 96, 0.5999999999999999)\"}, \"name\": \"K545-2\", \"orientation\": \"v\", \"type\": \"box\", \"y\": [369.96, 359.226, 283.666, 359.879, 342.0, 367.013]}, {\"boxpoints\": false, \"line\": {\"width\": 1.3}, \"marker\": {\"color\": \"rgba(128, 0, 128, 0.5999999999999999)\"}, \"name\": \"K545-3\", \"orientation\": \"v\", \"type\": \"box\", \"y\": [90.32, 101.4, 107.826, 108.772, 110.0, 103.973]}, {\"boxpoints\": false, \"line\": {\"width\": 1.3}, \"marker\": {\"color\": \"rgba(219, 64, 82, 0.5999999999999999)\"}, \"name\": \"K570-1\", \"orientation\": \"v\", \"type\": \"box\", \"y\": [476.12, 391.533, 349.333, 336.066, 466.0, 410.013]}, {\"boxpoints\": false, \"line\": {\"width\": 1.3}, \"marker\": {\"color\": \"rgba(0, 128, 128, 0.5999999999999999)\"}, \"name\": \"K570-2\", \"orientation\": \"v\", \"type\": \"box\", \"y\": [423.826, 598.96, 448.666, 573.479, 486.0, 520.44]}, {\"boxpoints\": false, \"line\": {\"width\": 1.3}, \"marker\": {\"color\": \"rgba(0, 128, 128, 0.49999999999999983)\"}, \"name\": \"K570-3\", \"orientation\": \"v\", \"type\": \"box\", \"y\": [213.146, 232.6, 224.666, 226.932, 201.0, 233.24]}, {\"boxpoints\": false, \"line\": {\"width\": 1.3}, \"marker\": {\"color\": \"rgba(255, 255, 51, 0.49999999999999983)\"}, \"name\": \"K576-1\", \"orientation\": \"v\", \"type\": \"box\", \"y\": [301.28, 288.333, 305.0, 297.786, 304.0, 325.32]}, {\"boxpoints\": false, \"line\": {\"width\": 1.3}, \"marker\": {\"color\": \"rgba(128, 128, 0, 0.49999999999999983)\"}, \"name\": \"K576-2\", \"orientation\": \"v\", \"type\": \"box\", \"y\": [291.12, 354.133, 318.0, 367.186, 292.0, 331.933]}, {\"boxpoints\": false, \"line\": {\"width\": 1.3}, \"marker\": {\"color\": \"rgba(251, 128, 114, 0.49999999999999983)\"}, \"name\": \"K576-3\", \"orientation\": \"v\", \"type\": \"box\", \"y\": [271.266, 267.706, 243.333, 261.346, 244.173, 269.626]}],                        {\"legend\": {\"bgcolor\": \"#FFFFFF\", \"font\": {\"color\": \"#4D5663\"}}, \"paper_bgcolor\": \"#FFFFFF\", \"plot_bgcolor\": \"#FFFFFF\", \"template\": {\"data\": {\"bar\": [{\"error_x\": {\"color\": \"#2a3f5f\"}, \"error_y\": {\"color\": \"#2a3f5f\"}, \"marker\": {\"line\": {\"color\": \"#E5ECF6\", \"width\": 0.5}}, \"type\": \"bar\"}], \"barpolar\": [{\"marker\": {\"line\": {\"color\": \"#E5ECF6\", \"width\": 0.5}}, \"type\": \"barpolar\"}], \"carpet\": [{\"aaxis\": {\"endlinecolor\": \"#2a3f5f\", \"gridcolor\": \"white\", \"linecolor\": \"white\", \"minorgridcolor\": \"white\", \"startlinecolor\": \"#2a3f5f\"}, \"baxis\": {\"endlinecolor\": \"#2a3f5f\", \"gridcolor\": \"white\", \"linecolor\": \"white\", \"minorgridcolor\": \"white\", \"startlinecolor\": \"#2a3f5f\"}, \"type\": \"carpet\"}], \"choropleth\": [{\"colorbar\": {\"outlinewidth\": 0, \"ticks\": \"\"}, \"type\": \"choropleth\"}], \"contour\": [{\"colorbar\": {\"outlinewidth\": 0, \"ticks\": \"\"}, \"colorscale\": [[0.0, \"#0d0887\"], [0.1111111111111111, \"#46039f\"], [0.2222222222222222, \"#7201a8\"], [0.3333333333333333, \"#9c179e\"], [0.4444444444444444, \"#bd3786\"], [0.5555555555555556, \"#d8576b\"], [0.6666666666666666, \"#ed7953\"], [0.7777777777777778, \"#fb9f3a\"], [0.8888888888888888, \"#fdca26\"], [1.0, \"#f0f921\"]], \"type\": \"contour\"}], \"contourcarpet\": [{\"colorbar\": {\"outlinewidth\": 0, \"ticks\": \"\"}, \"type\": \"contourcarpet\"}], \"heatmap\": [{\"colorbar\": {\"outlinewidth\": 0, \"ticks\": \"\"}, \"colorscale\": [[0.0, \"#0d0887\"], [0.1111111111111111, \"#46039f\"], [0.2222222222222222, \"#7201a8\"], [0.3333333333333333, \"#9c179e\"], [0.4444444444444444, \"#bd3786\"], [0.5555555555555556, \"#d8576b\"], [0.6666666666666666, \"#ed7953\"], [0.7777777777777778, \"#fb9f3a\"], [0.8888888888888888, \"#fdca26\"], [1.0, \"#f0f921\"]], \"type\": \"heatmap\"}], \"heatmapgl\": [{\"colorbar\": {\"outlinewidth\": 0, \"ticks\": \"\"}, \"colorscale\": [[0.0, \"#0d0887\"], [0.1111111111111111, \"#46039f\"], [0.2222222222222222, \"#7201a8\"], [0.3333333333333333, \"#9c179e\"], [0.4444444444444444, \"#bd3786\"], [0.5555555555555556, \"#d8576b\"], [0.6666666666666666, \"#ed7953\"], [0.7777777777777778, \"#fb9f3a\"], [0.8888888888888888, \"#fdca26\"], [1.0, \"#f0f921\"]], \"type\": \"heatmapgl\"}], \"histogram\": [{\"marker\": {\"colorbar\": {\"outlinewidth\": 0, \"ticks\": \"\"}}, \"type\": \"histogram\"}], \"histogram2d\": [{\"colorbar\": {\"outlinewidth\": 0, \"ticks\": \"\"}, \"colorscale\": [[0.0, \"#0d0887\"], [0.1111111111111111, \"#46039f\"], [0.2222222222222222, \"#7201a8\"], [0.3333333333333333, \"#9c179e\"], [0.4444444444444444, \"#bd3786\"], [0.5555555555555556, \"#d8576b\"], [0.6666666666666666, \"#ed7953\"], [0.7777777777777778, \"#fb9f3a\"], [0.8888888888888888, \"#fdca26\"], [1.0, \"#f0f921\"]], \"type\": \"histogram2d\"}], \"histogram2dcontour\": [{\"colorbar\": {\"outlinewidth\": 0, \"ticks\": \"\"}, \"colorscale\": [[0.0, \"#0d0887\"], [0.1111111111111111, \"#46039f\"], [0.2222222222222222, \"#7201a8\"], [0.3333333333333333, \"#9c179e\"], [0.4444444444444444, \"#bd3786\"], [0.5555555555555556, \"#d8576b\"], [0.6666666666666666, \"#ed7953\"], [0.7777777777777778, \"#fb9f3a\"], [0.8888888888888888, \"#fdca26\"], [1.0, \"#f0f921\"]], \"type\": \"histogram2dcontour\"}], \"mesh3d\": [{\"colorbar\": {\"outlinewidth\": 0, \"ticks\": \"\"}, \"type\": \"mesh3d\"}], \"parcoords\": [{\"line\": {\"colorbar\": {\"outlinewidth\": 0, \"ticks\": \"\"}}, \"type\": \"parcoords\"}], \"pie\": [{\"automargin\": true, \"type\": \"pie\"}], \"scatter\": [{\"marker\": {\"colorbar\": {\"outlinewidth\": 0, \"ticks\": \"\"}}, \"type\": \"scatter\"}], \"scatter3d\": [{\"line\": {\"colorbar\": {\"outlinewidth\": 0, \"ticks\": \"\"}}, \"marker\": {\"colorbar\": {\"outlinewidth\": 0, \"ticks\": \"\"}}, \"type\": \"scatter3d\"}], \"scattercarpet\": [{\"marker\": {\"colorbar\": {\"outlinewidth\": 0, \"ticks\": \"\"}}, \"type\": \"scattercarpet\"}], \"scattergeo\": [{\"marker\": {\"colorbar\": {\"outlinewidth\": 0, \"ticks\": \"\"}}, \"type\": \"scattergeo\"}], \"scattergl\": [{\"marker\": {\"colorbar\": {\"outlinewidth\": 0, \"ticks\": \"\"}}, \"type\": \"scattergl\"}], \"scattermapbox\": [{\"marker\": {\"colorbar\": {\"outlinewidth\": 0, \"ticks\": \"\"}}, \"type\": \"scattermapbox\"}], \"scatterpolar\": [{\"marker\": {\"colorbar\": {\"outlinewidth\": 0, \"ticks\": \"\"}}, \"type\": \"scatterpolar\"}], \"scatterpolargl\": [{\"marker\": {\"colorbar\": {\"outlinewidth\": 0, \"ticks\": \"\"}}, \"type\": \"scatterpolargl\"}], \"scatterternary\": [{\"marker\": {\"colorbar\": {\"outlinewidth\": 0, \"ticks\": \"\"}}, \"type\": \"scatterternary\"}], \"surface\": [{\"colorbar\": {\"outlinewidth\": 0, \"ticks\": \"\"}, \"colorscale\": [[0.0, \"#0d0887\"], [0.1111111111111111, \"#46039f\"], [0.2222222222222222, \"#7201a8\"], [0.3333333333333333, \"#9c179e\"], [0.4444444444444444, \"#bd3786\"], [0.5555555555555556, \"#d8576b\"], [0.6666666666666666, \"#ed7953\"], [0.7777777777777778, \"#fb9f3a\"], [0.8888888888888888, \"#fdca26\"], [1.0, \"#f0f921\"]], \"type\": \"surface\"}], \"table\": [{\"cells\": {\"fill\": {\"color\": \"#EBF0F8\"}, \"line\": {\"color\": \"white\"}}, \"header\": {\"fill\": {\"color\": \"#C8D4E3\"}, \"line\": {\"color\": \"white\"}}, \"type\": \"table\"}]}, \"layout\": {\"annotationdefaults\": {\"arrowcolor\": \"#2a3f5f\", \"arrowhead\": 0, \"arrowwidth\": 1}, \"coloraxis\": {\"colorbar\": {\"outlinewidth\": 0, \"ticks\": \"\"}}, \"colorscale\": {\"diverging\": [[0, \"#8e0152\"], [0.1, \"#c51b7d\"], [0.2, \"#de77ae\"], [0.3, \"#f1b6da\"], [0.4, \"#fde0ef\"], [0.5, \"#f7f7f7\"], [0.6, \"#e6f5d0\"], [0.7, \"#b8e186\"], [0.8, \"#7fbc41\"], [0.9, \"#4d9221\"], [1, \"#276419\"]], \"sequential\": [[0.0, \"#0d0887\"], [0.1111111111111111, \"#46039f\"], [0.2222222222222222, \"#7201a8\"], [0.3333333333333333, \"#9c179e\"], [0.4444444444444444, \"#bd3786\"], [0.5555555555555556, \"#d8576b\"], [0.6666666666666666, \"#ed7953\"], [0.7777777777777778, \"#fb9f3a\"], [0.8888888888888888, \"#fdca26\"], [1.0, \"#f0f921\"]], \"sequentialminus\": [[0.0, \"#0d0887\"], [0.1111111111111111, \"#46039f\"], [0.2222222222222222, \"#7201a8\"], [0.3333333333333333, \"#9c179e\"], [0.4444444444444444, \"#bd3786\"], [0.5555555555555556, \"#d8576b\"], [0.6666666666666666, \"#ed7953\"], [0.7777777777777778, \"#fb9f3a\"], [0.8888888888888888, \"#fdca26\"], [1.0, \"#f0f921\"]]}, \"colorway\": [\"#636efa\", \"#EF553B\", \"#00cc96\", \"#ab63fa\", \"#FFA15A\", \"#19d3f3\", \"#FF6692\", \"#B6E880\", \"#FF97FF\", \"#FECB52\"], \"font\": {\"color\": \"#2a3f5f\"}, \"geo\": {\"bgcolor\": \"white\", \"lakecolor\": \"white\", \"landcolor\": \"#E5ECF6\", \"showlakes\": true, \"showland\": true, \"subunitcolor\": \"white\"}, \"hoverlabel\": {\"align\": \"left\"}, \"hovermode\": \"closest\", \"mapbox\": {\"style\": \"light\"}, \"paper_bgcolor\": \"white\", \"plot_bgcolor\": \"#E5ECF6\", \"polar\": {\"angularaxis\": {\"gridcolor\": \"white\", \"linecolor\": \"white\", \"ticks\": \"\"}, \"bgcolor\": \"#E5ECF6\", \"radialaxis\": {\"gridcolor\": \"white\", \"linecolor\": \"white\", \"ticks\": \"\"}}, \"scene\": {\"xaxis\": {\"backgroundcolor\": \"#E5ECF6\", \"gridcolor\": \"white\", \"gridwidth\": 2, \"linecolor\": \"white\", \"showbackground\": true, \"ticks\": \"\", \"zerolinecolor\": \"white\"}, \"yaxis\": {\"backgroundcolor\": \"#E5ECF6\", \"gridcolor\": \"white\", \"gridwidth\": 2, \"linecolor\": \"white\", \"showbackground\": true, \"ticks\": \"\", \"zerolinecolor\": \"white\"}, \"zaxis\": {\"backgroundcolor\": \"#E5ECF6\", \"gridcolor\": \"white\", \"gridwidth\": 2, \"linecolor\": \"white\", \"showbackground\": true, \"ticks\": \"\", \"zerolinecolor\": \"white\"}}, \"shapedefaults\": {\"line\": {\"color\": \"#2a3f5f\"}}, \"ternary\": {\"aaxis\": {\"gridcolor\": \"white\", \"linecolor\": \"white\", \"ticks\": \"\"}, \"baxis\": {\"gridcolor\": \"white\", \"linecolor\": \"white\", \"ticks\": \"\"}, \"bgcolor\": \"#E5ECF6\", \"caxis\": {\"gridcolor\": \"white\", \"linecolor\": \"white\", \"ticks\": \"\"}}, \"title\": {\"x\": 0.05}, \"xaxis\": {\"automargin\": true, \"gridcolor\": \"white\", \"linecolor\": \"white\", \"ticks\": \"\", \"title\": {\"standoff\": 15}, \"zerolinecolor\": \"white\", \"zerolinewidth\": 2}, \"yaxis\": {\"automargin\": true, \"gridcolor\": \"white\", \"linecolor\": \"white\", \"ticks\": \"\", \"title\": {\"standoff\": 15}, \"zerolinecolor\": \"white\", \"zerolinewidth\": 2}}}, \"title\": {\"font\": {\"color\": \"#4D5663\"}}, \"xaxis\": {\"gridcolor\": \"#E1E5ED\", \"showgrid\": true, \"tickfont\": {\"color\": \"#4D5663\"}, \"title\": {\"font\": {\"color\": \"#4D5663\"}, \"text\": \"\"}, \"zerolinecolor\": \"#E1E5ED\"}, \"yaxis\": {\"gridcolor\": \"#E1E5ED\", \"showgrid\": true, \"tickfont\": {\"color\": \"#4D5663\"}, \"title\": {\"font\": {\"color\": \"#4D5663\"}, \"text\": \"\"}, \"zerolinecolor\": \"#E1E5ED\"}},                        {\"showLink\": true, \"linkText\": \"Export to plot.ly\", \"plotlyServerURL\": \"https://plot.ly\", \"responsive\": true}                    ).then(function(){\n",
       "                            \n",
       "var gd = document.getElementById('52fa7d59-71c0-4121-b6c4-1fce8f61cfd5');\n",
       "var x = new MutationObserver(function (mutations, observer) {{\n",
       "        var display = window.getComputedStyle(gd).display;\n",
       "        if (!display || display === 'none') {{\n",
       "            console.log([gd, 'removed!']);\n",
       "            Plotly.purge(gd);\n",
       "            observer.disconnect();\n",
       "        }}\n",
       "}});\n",
       "\n",
       "// Listen for the removal of the full notebook cells\n",
       "var notebookContainer = gd.closest('#notebook-container');\n",
       "if (notebookContainer) {{\n",
       "    x.observe(notebookContainer, {childList: true});\n",
       "}}\n",
       "\n",
       "// Listen for the clearing of the current output cell\n",
       "var outputEl = gd.closest('.output');\n",
       "if (outputEl) {{\n",
       "    x.observe(outputEl, {childList: true});\n",
       "}}\n",
       "\n",
       "                        })                };                });            </script>        </div>"
      ]
     },
     "metadata": {},
     "output_type": "display_data"
    }
   ],
   "source": [
    "seconds.iloc[:,[0,1,5,6,7,8]].T.iplot(kind='box')"
   ]
  },
  {
   "cell_type": "code",
   "execution_count": null,
   "metadata": {},
   "outputs": [
    {
     "data": {
      "text/plain": [
       "say          625.506\n",
       "barenboim    452.066\n",
       "endres       472.173\n",
       "mauser       484.466\n",
       "deyanova     600.826\n",
       "mamou        475.866\n",
       "Name: K533-1, dtype: float64"
      ]
     },
     "execution_count": 24,
     "metadata": {},
     "output_type": "execute_result"
    }
   ],
   "source": [
    "df.loc['K533-1'].iloc[[0,1,5,6,7,8]]"
   ]
  },
  {
   "cell_type": "code",
   "execution_count": null,
   "metadata": {},
   "outputs": [
    {
     "data": {
      "text/plain": [
       "id    3YkrwCvnfY7mJrb1QXQRy5\n",
       "Name: (K533-1, gieseking), dtype: object"
      ]
     },
     "execution_count": 25,
     "metadata": {},
     "output_type": "execute_result"
    }
   ],
   "source": [
    "track_ids.loc[('K533-1', 'gieseking')]"
   ]
  },
  {
   "cell_type": "code",
   "execution_count": null,
   "metadata": {},
   "outputs": [
    {
     "data": {
      "text/plain": [
       "K279-1   -13.6670\n",
       "K279-2   -14.0130\n",
       "K279-3   -28.7870\n",
       "K280-1    -3.9870\n",
       "K280-2    -7.4200\n",
       "K280-3    -4.0865\n",
       "K281-1     0.0860\n",
       "K281-2    -0.8730\n",
       "K281-3     9.5675\n",
       "K282-1    -9.9605\n",
       "K282-2    -4.6000\n",
       "K282-3    18.3335\n",
       "K283-1    -6.7665\n",
       "K283-2    -3.1065\n",
       "K283-3    -3.1530\n",
       "K284-1   -13.7470\n",
       "K284-2   -66.2330\n",
       "K284-3   -62.7660\n",
       "K309-1   -14.9000\n",
       "K309-2   -28.8605\n",
       "K309-3    -6.6130\n",
       "K311-1    -2.2870\n",
       "K311-2   -20.8070\n",
       "K311-3    -0.1735\n",
       "K310-1   -42.1870\n",
       "K310-2   -64.5730\n",
       "K310-3    -0.0595\n",
       "K330-1    -4.6600\n",
       "K330-2   -12.0130\n",
       "K330-3    -2.8530\n",
       "K331-1   -35.0335\n",
       "K331-2   -25.5000\n",
       "K331-3     1.9865\n",
       "K332-1   -13.9060\n",
       "K332-2     6.7000\n",
       "K332-3    -2.6330\n",
       "K333-1    -7.7405\n",
       "K333-2    -4.5200\n",
       "K333-3     2.0530\n",
       "K457-1   -45.4470\n",
       "K457-2    -6.8460\n",
       "K457-3    -7.0730\n",
       "K533-1    -4.3000\n",
       "K533-2    -1.1670\n",
       "K533-3    -5.9860\n",
       "K545-1     0.2805\n",
       "K545-2    -0.3265\n",
       "K545-3     1.5665\n",
       "K570-1   -44.7470\n",
       "K570-2   -17.2200\n",
       "K570-3    -1.1330\n",
       "K576-1    -4.8540\n",
       "K576-2    -6.9665\n",
       "K576-3     3.0740\n",
       "dtype: float64"
      ]
     },
     "execution_count": 26,
     "metadata": {},
     "output_type": "execute_result"
    }
   ],
   "source": [
    "median_shift = seconds.T.median() - seconds.iloc[:,[0,1,5,6,7,8]].T.median()\n",
    "median_shift"
   ]
  },
  {
   "cell_type": "code",
   "execution_count": null,
   "metadata": {},
   "outputs": [
    {
     "data": {
      "text/plain": [
       "-11.757481481481486"
      ]
     },
     "execution_count": 27,
     "metadata": {},
     "output_type": "execute_result"
    }
   ],
   "source": [
    "median_shift.mean()"
   ]
  },
  {
   "cell_type": "code",
   "execution_count": null,
   "metadata": {},
   "outputs": [
    {
     "data": {
      "text/plain": [
       "K279-1    -8.899167\n",
       "K279-2   -26.806611\n",
       "K279-3    -6.056333\n",
       "K280-1    -7.837000\n",
       "K280-2   -30.675500\n",
       "K280-3    -4.028722\n",
       "K281-1    -6.792556\n",
       "K281-2   -17.228056\n",
       "K281-3     9.245278\n",
       "K282-1   -31.820667\n",
       "K282-2   -32.058389\n",
       "K282-3     1.354111\n",
       "K283-1    -6.051056\n",
       "K283-2    -7.359167\n",
       "K283-3    -9.656944\n",
       "K284-1   -21.992611\n",
       "K284-2   -20.476333\n",
       "K284-3   -48.862889\n",
       "K309-1   -25.366556\n",
       "K309-2   -11.723722\n",
       "K309-3    -2.607389\n",
       "K311-1    -9.401389\n",
       "K311-2   -11.908056\n",
       "K311-3   -40.785056\n",
       "K310-1   -28.165056\n",
       "K310-2   -39.466500\n",
       "K310-3     0.134944\n",
       "K330-1   -10.915500\n",
       "K330-2   -20.800000\n",
       "K330-3    -8.233333\n",
       "K331-1   -55.612611\n",
       "K331-2   -21.987389\n",
       "K331-3     6.362333\n",
       "K332-1   -31.102944\n",
       "K332-2     0.158667\n",
       "K332-3   -29.185111\n",
       "K333-1   -30.531667\n",
       "K333-2   -26.669556\n",
       "K333-3     0.644500\n",
       "K457-1   -38.980722\n",
       "K457-2     4.629056\n",
       "K457-3    -2.898500\n",
       "K533-1   -23.115389\n",
       "K533-2   -24.604389\n",
       "K533-3     5.550444\n",
       "K545-1     2.157111\n",
       "K545-2   -13.822889\n",
       "K545-3     1.617833\n",
       "K570-1   -27.321500\n",
       "K570-2   -24.572611\n",
       "K570-3    -5.239222\n",
       "K576-1   -12.762278\n",
       "K576-2    -3.837000\n",
       "K576-3     0.467556\n",
       "dtype: float64"
      ]
     },
     "execution_count": 28,
     "metadata": {},
     "output_type": "execute_result"
    }
   ],
   "source": [
    "mean_shift = seconds.T.mean() - seconds.iloc[:,[0,1,5,6,7,8]].T.mean()\n",
    "mean_shift"
   ]
  },
  {
   "cell_type": "code",
   "execution_count": null,
   "metadata": {},
   "outputs": [
    {
     "data": {
      "text/plain": [
       "-15.479564814814816"
      ]
     },
     "execution_count": 29,
     "metadata": {},
     "output_type": "execute_result"
    }
   ],
   "source": [
    "mean_shift.mean()"
   ]
  },
  {
   "cell_type": "code",
   "execution_count": null,
   "metadata": {},
   "outputs": [],
   "source": []
  },
  {
   "cell_type": "code",
   "execution_count": null,
   "metadata": {},
   "outputs": [],
   "source": []
  }
 ],
 "metadata": {
  "kernelspec": {
   "display_name": "Python 3",
   "language": "python",
   "name": "python3"
  },
  "language_info": {
   "codemirror_mode": {
    "name": "ipython",
    "version": 3
   },
   "file_extension": ".py",
   "mimetype": "text/x-python",
   "name": "python",
   "nbconvert_exporter": "python",
   "pygments_lexer": "ipython3",
   "version": "3.8.3"
  }
 },
 "nbformat": 4,
 "nbformat_minor": 4
}
